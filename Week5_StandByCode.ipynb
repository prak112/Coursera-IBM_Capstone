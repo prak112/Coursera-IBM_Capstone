{
 "metadata": {
  "language_info": {
   "codemirror_mode": {
    "name": "ipython",
    "version": 3
   },
   "file_extension": ".py",
   "mimetype": "text/x-python",
   "name": "python",
   "nbconvert_exporter": "python",
   "pygments_lexer": "ipython3",
   "version": 3
  },
  "orig_nbformat": 2
 },
 "nbformat": 4,
 "nbformat_minor": 2,
 "cells": [
  {
   "source": [
    "### 2.4.1 - Tabulate the Popular Venues from each District"
   ],
   "cell_type": "markdown",
   "metadata": {}
  },
  {
   "cell_type": "code",
   "execution_count": null,
   "metadata": {},
   "outputs": [],
   "source": [
    "#Extracting Venues & their respective coordinates (from helsinki_venues) using transposed-ranked venues array (rl_t) for each District into single Dataframe\n",
    "\n",
    "ranked_venues_list = []\n",
    "# Iterate Venue Categories (from transposed-ranked Venues array) by Rank\n",
    "for rank in rl_t:\n",
    "    # Iterate Ranked Categories w.r.t Districts in top10_venues\n",
    "    for vc, d in zip(rank, top10_venues.District):\n",
    "        # Filter empty dataframes\n",
    "        if not (helsinki_venues.loc[(helsinki_venues['District'] == d) & (helsinki_venues['Venue Category'] == vc)]).empty:\n",
    "            # Append extracted Dataframes (from expression) to ranked_venues_list\n",
    "            ranked_venues_list.append(helsinki_venues.loc[(helsinki_venues['District'] == d) & (helsinki_venues['Venue Category'] == vc)]) \n",
    "        else:\n",
    "            pass\n",
    "\n",
    "ranked_venues_df = pd.concat(ranked_venues_list) # Merge (by concatenation) all extracted Dataframes into a single Dataframe\n",
    "ranked_venues_df.reset_index(inplace=True, drop=True)"
   ]
  },
  {
   "source": [
    "### 2.4.2 - Visualize Popular Venues in Helsinki City Map with Rank and Venue Category"
   ],
   "cell_type": "markdown",
   "metadata": {}
  },
  {
   "cell_type": "code",
   "execution_count": null,
   "metadata": {},
   "outputs": [],
   "source": [
    "#Copy of 'Venue Category' values as 'Venue Category_RANK' to assign Rank Number\n",
    "ranked_venues_df['Venue Category_RANK'] = ranked_venues_df['Venue Category'] \n",
    "ranked_venues_df.head()"
   ]
  },
  {
   "cell_type": "code",
   "execution_count": null,
   "metadata": {},
   "outputs": [],
   "source": [
    "#Verify Districts list between top10_venues and ranked_venues_df\n",
    "if (top10_venues.District.unique() == ranked_venues_df.District.unique()).any() is False:\n",
    "    print('Ooops!')\n",
    "else:\n",
    "    print('All good!')\n",
    "#list(ranked_venues_df[ranked_venues_df.District == dist].iloc[:, 6])"
   ]
  },
  {
   "cell_type": "code",
   "execution_count": null,
   "metadata": {},
   "outputs": [],
   "source": [
    "# Extract values specific to 'Venue Category' with 'District' as filter from both dataframes (from ranked_venues_df & top10_venues)\n",
    "\n",
    "ranks = range(1, 11) # Intialize Rank Numbers\n",
    "venue_dists = top10_venues.District.to_list() # List Districts with Venues\n",
    "\n",
    "for dist in venue_dists:\n",
    "    vc_r = top10_venues[top10_venues.District == dist].values[0][1:] # Venue Categories from 'Venue Category_RANK' (top10_venues)\n",
    "    vc = list(ranked_venues_df[ranked_venues_df.District == dist].iloc[:, 6]) # Venue Categories from 'Venue Category' (ranked_venues_df)\n",
    "    \n",
    "    \n",
    "    # Assign Rank Number based on 'Venue Category_RANK' (from top10_venues)\n",
    "    for r, rank in zip(vc_r, ranks): # Iterate Venue Categories and their respective Rank Numbers\n",
    "        for v in vc:\n",
    "            if r == v: # Equate 'Venue Category' with 'Venue Category_RANK' values and assign Rank Number\n",
    "                ranked_venues_df['Venue Category_RANK'].replace(to_replace=v, value=rank, inplace=True) # Replace values in 'Venue Category_RANK' by Rank Number           \n",
    "\n",
    "ranked_venues_df.head()"
   ]
  },
  {
   "source": [
    "#### Investigating assigned Rank Numbers"
   ],
   "cell_type": "markdown",
   "metadata": {}
  },
  {
   "cell_type": "code",
   "execution_count": null,
   "metadata": {},
   "outputs": [],
   "source": [
    "print(f\"Total Null values in Venue Category_RANK: {ranked_venues_df['Venue Category_RANK'].isnull().sum()}\")\n",
    "print(f\"List of Assigned Rank Numbers:\\n{sorted(ranked_venues_df['Venue Category_RANK'].unique())}\")"
   ]
  },
  {
   "cell_type": "code",
   "execution_count": null,
   "metadata": {},
   "outputs": [],
   "source": [
    "top10_venues[top10_venues['District']=='Ullanlinna']"
   ]
  },
  {
   "cell_type": "code",
   "execution_count": null,
   "metadata": {},
   "outputs": [],
   "source": [
    "ranked_venues_df[ranked_venues_df['District']=='Ullanlinna']"
   ]
  },
  {
   "cell_type": "code",
   "execution_count": null,
   "metadata": {},
   "outputs": [],
   "source": [
    "# Districts with Popular Venues (Venues from Top10 Venue Categories for each District)\n",
    "from folium import plugins\n",
    "\n",
    "helsinki_popven_map = folium.Map(location=[latitude, longitude], zoom_start=12) # Initiate Helsinki City Map\n",
    "pop_venues = plugins.MarkerCluster().add_to(helsinki_popven_map) # Initiate Cluster segmentation plugin\n",
    "\n",
    "for dist, venue_cat, rank, lat, long in zip(ranked_venues_df['District'], ranked_venues_df['Venue Category'], ranked_venues_df['Venue Category_RANK'],\n",
    "ranked_venues_df['Venue Latitude'], ranked_venues_df['Venue Longitude']):\n",
    "    label = folium.Popup(f\"{dist}, {venue_cat}, Rank-{rank}\", parse_html=True)\n",
    "    folium.Marker(location=[lat, long],\n",
    "    icon=None,\n",
    "    popup=label).add_to(pop_venues)\n",
    "\n",
    "helsinki_popven_map"
   ]
  },
  {
   "source": [
    "## TO DO: (24 Dec 2020)\n",
    "* Create Dataframe for the Districts with Venues having:\n",
    "    * Venue, Venue Latitude, Venue Longitude & Venue Category (from helsinki_venues)\n",
    "    * Venue Categories (from top10_venues)\n",
    "* Plot Venues in each District\n",
    "* Calculate Cluster centre (centroid = Popularity Centre) for each District from Venue Latitude & Longitude\n",
    "* Plot Popularity Centres on Helsinki City Map"
   ],
   "cell_type": "markdown",
   "metadata": {}
  },
  {
   "cell_type": "code",
   "execution_count": null,
   "metadata": {},
   "outputs": [],
   "source": []
  }
 ]
}