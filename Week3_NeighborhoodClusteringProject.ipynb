{
 "metadata": {
  "language_info": {
   "codemirror_mode": {
    "name": "ipython",
    "version": 3
   },
   "file_extension": ".py",
   "mimetype": "text/x-python",
   "name": "python",
   "nbconvert_exporter": "python",
   "pygments_lexer": "ipython3",
   "version": "3.8.5-final"
  },
  "orig_nbformat": 2,
  "kernelspec": {
   "name": "python3",
   "display_name": "Python 3"
  }
 },
 "nbformat": 4,
 "nbformat_minor": 2,
 "cells": [
  {
   "source": [
    "# PART 1 - Data Extraction  "
   ],
   "cell_type": "markdown",
   "metadata": {}
  },
  {
   "source": [
    "## Import neccessary libraries"
   ],
   "cell_type": "markdown",
   "metadata": {}
  },
  {
   "cell_type": "code",
   "execution_count": 2,
   "metadata": {},
   "outputs": [],
   "source": [
    "import numpy as np\n",
    "import pandas as pd\n",
    "import lxml\n",
    "import lxml.etree"
   ]
  },
  {
   "source": [
    "## Building Dataframe from webpage"
   ],
   "cell_type": "markdown",
   "metadata": {}
  },
  {
   "cell_type": "code",
   "execution_count": 3,
   "metadata": {},
   "outputs": [
    {
     "output_type": "execute_result",
     "data": {
      "text/plain": [
       "  Postal Code           Borough              Neighbourhood\n",
       "0         M1A      Not assigned               Not assigned\n",
       "1         M2A      Not assigned               Not assigned\n",
       "2         M3A        North York                  Parkwoods\n",
       "3         M4A        North York           Victoria Village\n",
       "4         M5A  Downtown Toronto  Regent Park, Harbourfront"
      ],
      "text/html": "<div>\n<style scoped>\n    .dataframe tbody tr th:only-of-type {\n        vertical-align: middle;\n    }\n\n    .dataframe tbody tr th {\n        vertical-align: top;\n    }\n\n    .dataframe thead th {\n        text-align: right;\n    }\n</style>\n<table border=\"1\" class=\"dataframe\">\n  <thead>\n    <tr style=\"text-align: right;\">\n      <th></th>\n      <th>Postal Code</th>\n      <th>Borough</th>\n      <th>Neighbourhood</th>\n    </tr>\n  </thead>\n  <tbody>\n    <tr>\n      <th>0</th>\n      <td>M1A</td>\n      <td>Not assigned</td>\n      <td>Not assigned</td>\n    </tr>\n    <tr>\n      <th>1</th>\n      <td>M2A</td>\n      <td>Not assigned</td>\n      <td>Not assigned</td>\n    </tr>\n    <tr>\n      <th>2</th>\n      <td>M3A</td>\n      <td>North York</td>\n      <td>Parkwoods</td>\n    </tr>\n    <tr>\n      <th>3</th>\n      <td>M4A</td>\n      <td>North York</td>\n      <td>Victoria Village</td>\n    </tr>\n    <tr>\n      <th>4</th>\n      <td>M5A</td>\n      <td>Downtown Toronto</td>\n      <td>Regent Park, Harbourfront</td>\n    </tr>\n  </tbody>\n</table>\n</div>"
     },
     "metadata": {},
     "execution_count": 3
    }
   ],
   "source": [
    "url = 'https://en.wikipedia.org/wiki/List_of_postal_codes_of_Canada:_M'\n",
    "data = pd.read_html(url)\n",
    "df = data[0]\n",
    "df.head()"
   ]
  },
  {
   "source": [
    "## Filtering Dataframe to remove 'Not Assigned' Boroughs"
   ],
   "cell_type": "markdown",
   "metadata": {}
  },
  {
   "cell_type": "code",
   "execution_count": 4,
   "metadata": {},
   "outputs": [
    {
     "output_type": "stream",
     "name": "stdout",
     "text": [
      "Not assigned Boroughs: 0\n"
     ]
    }
   ],
   "source": [
    "filter_df = df.loc[ df['Borough'] != 'Not assigned']\n",
    "print(f\"Not assigned Boroughs: {(filter_df.Borough == 'Not assigned').sum()}\")"
   ]
  },
  {
   "cell_type": "code",
   "execution_count": 5,
   "metadata": {},
   "outputs": [
    {
     "output_type": "stream",
     "name": "stdout",
     "text": [
      "Not assigned Neighbourhoods: 0\n"
     ]
    }
   ],
   "source": [
    "print(f\"Not assigned Neighbourhoods: {(filter_df.Neighbourhood == 'Not assigned').sum()}\")"
   ]
  },
  {
   "cell_type": "code",
   "execution_count": 6,
   "metadata": {},
   "outputs": [
    {
     "output_type": "execute_result",
     "data": {
      "text/plain": [
       "  Postal Code           Borough                                Neighbourhood\n",
       "0         M3A        North York                                    Parkwoods\n",
       "1         M4A        North York                             Victoria Village\n",
       "2         M5A  Downtown Toronto                    Regent Park, Harbourfront\n",
       "3         M6A        North York             Lawrence Manor, Lawrence Heights\n",
       "4         M7A  Downtown Toronto  Queen's Park, Ontario Provincial Government"
      ],
      "text/html": "<div>\n<style scoped>\n    .dataframe tbody tr th:only-of-type {\n        vertical-align: middle;\n    }\n\n    .dataframe tbody tr th {\n        vertical-align: top;\n    }\n\n    .dataframe thead th {\n        text-align: right;\n    }\n</style>\n<table border=\"1\" class=\"dataframe\">\n  <thead>\n    <tr style=\"text-align: right;\">\n      <th></th>\n      <th>Postal Code</th>\n      <th>Borough</th>\n      <th>Neighbourhood</th>\n    </tr>\n  </thead>\n  <tbody>\n    <tr>\n      <th>0</th>\n      <td>M3A</td>\n      <td>North York</td>\n      <td>Parkwoods</td>\n    </tr>\n    <tr>\n      <th>1</th>\n      <td>M4A</td>\n      <td>North York</td>\n      <td>Victoria Village</td>\n    </tr>\n    <tr>\n      <th>2</th>\n      <td>M5A</td>\n      <td>Downtown Toronto</td>\n      <td>Regent Park, Harbourfront</td>\n    </tr>\n    <tr>\n      <th>3</th>\n      <td>M6A</td>\n      <td>North York</td>\n      <td>Lawrence Manor, Lawrence Heights</td>\n    </tr>\n    <tr>\n      <th>4</th>\n      <td>M7A</td>\n      <td>Downtown Toronto</td>\n      <td>Queen's Park, Ontario Provincial Government</td>\n    </tr>\n  </tbody>\n</table>\n</div>"
     },
     "metadata": {},
     "execution_count": 6
    }
   ],
   "source": [
    "filter_df.reset_index(drop=True, inplace=True)\n",
    "filter_df.head()"
   ]
  },
  {
   "cell_type": "code",
   "execution_count": 7,
   "metadata": {},
   "outputs": [
    {
     "output_type": "stream",
     "name": "stdout",
     "text": [
      "Shape of filtered Dataframe: (103, 3)\n"
     ]
    }
   ],
   "source": [
    "print(f\"Shape of filtered Dataframe: {filter_df.shape}\")"
   ]
  },
  {
   "source": [
    "# PART 2 - Geospatial data (Latitudes & Longitudes) Extraction"
   ],
   "cell_type": "markdown",
   "metadata": {}
  },
  {
   "source": [
    "## Import neccessary libraries"
   ],
   "cell_type": "markdown",
   "metadata": {}
  },
  {
   "cell_type": "code",
   "execution_count": 8,
   "metadata": {},
   "outputs": [],
   "source": [
    "#!pip install geocoder --quiet\n",
    "import geocoder\n",
    "from geopy.geocoders import Nominatim"
   ]
  },
  {
   "source": [
    "## Using Postal codes for Latitudes & Longitudes"
   ],
   "cell_type": "markdown",
   "metadata": {}
  },
  {
   "source": [
    "#define empty lists for geospatial values and None values\n",
    "lat = []\n",
    "long = []\n",
    "nones = []\n",
    "\n",
    "#initialize geolocator\n",
    "geolocator = Nominatim(user_agent = 'toronto_zipcodes_M')\n",
    "\n",
    "#loop through filter_df['Postal Code'] values and append to the respective lists\n",
    "for code in filter_df['Postal Code']:\n",
    "    location = geolocator.geocode(code)\n",
    "    if location is None:\n",
    "        nones.append(None)\n",
    "        nones.append(None)\n",
    "    else:\n",
    "        latitude = location.latitude\n",
    "        longitude = location.longitude\n",
    "    lat.append(latitude)\n",
    "    long.append(longitude)\n"
   ],
   "cell_type": "code",
   "metadata": {},
   "execution_count": 9,
   "outputs": []
  },
  {
   "cell_type": "code",
   "execution_count": 10,
   "metadata": {},
   "outputs": [
    {
     "output_type": "stream",
     "name": "stdout",
     "text": [
      "Total non-None values: 103, 103\nTotal None values: 112\n"
     ]
    }
   ],
   "source": [
    "print(f\"Total non-None values: {len(lat)}, {len(long)}\")\n",
    "print(f\"Total None values: {len(nones)}\")"
   ]
  },
  {
   "source": [
    "## Adding Latitudes & Longitudes values in filter_df"
   ],
   "cell_type": "markdown",
   "metadata": {}
  },
  {
   "cell_type": "code",
   "execution_count": 11,
   "metadata": {},
   "outputs": [
    {
     "output_type": "execute_result",
     "data": {
      "text/plain": [
       "  Postal Code           Borough                                Neighbourhood  \\\n",
       "0         M3A        North York                                    Parkwoods   \n",
       "1         M4A        North York                             Victoria Village   \n",
       "2         M5A  Downtown Toronto                    Regent Park, Harbourfront   \n",
       "3         M6A        North York             Lawrence Manor, Lawrence Heights   \n",
       "4         M7A  Downtown Toronto  Queen's Park, Ontario Provincial Government   \n",
       "5         M9A         Etobicoke      Islington Avenue, Humber Valley Village   \n",
       "6         M1B       Scarborough                               Malvern, Rouge   \n",
       "7         M3B        North York                                    Don Mills   \n",
       "8         M4B         East York              Parkview Hill, Woodbine Gardens   \n",
       "9         M5B  Downtown Toronto                     Garden District, Ryerson   \n",
       "\n",
       "    Latitude  Longitude  \n",
       "0  49.484606   8.466197  \n",
       "1  49.484290   8.467000  \n",
       "2  45.440588  28.018025  \n",
       "3  53.794164  -1.752006  \n",
       "4  44.427689  26.171308  \n",
       "5  44.427689  26.171308  \n",
       "6  45.255274 -76.289760  \n",
       "7  45.439301  28.021317  \n",
       "8  45.440569  28.019181  \n",
       "9  45.440820  28.016137  "
      ],
      "text/html": "<div>\n<style scoped>\n    .dataframe tbody tr th:only-of-type {\n        vertical-align: middle;\n    }\n\n    .dataframe tbody tr th {\n        vertical-align: top;\n    }\n\n    .dataframe thead th {\n        text-align: right;\n    }\n</style>\n<table border=\"1\" class=\"dataframe\">\n  <thead>\n    <tr style=\"text-align: right;\">\n      <th></th>\n      <th>Postal Code</th>\n      <th>Borough</th>\n      <th>Neighbourhood</th>\n      <th>Latitude</th>\n      <th>Longitude</th>\n    </tr>\n  </thead>\n  <tbody>\n    <tr>\n      <th>0</th>\n      <td>M3A</td>\n      <td>North York</td>\n      <td>Parkwoods</td>\n      <td>49.484606</td>\n      <td>8.466197</td>\n    </tr>\n    <tr>\n      <th>1</th>\n      <td>M4A</td>\n      <td>North York</td>\n      <td>Victoria Village</td>\n      <td>49.484290</td>\n      <td>8.467000</td>\n    </tr>\n    <tr>\n      <th>2</th>\n      <td>M5A</td>\n      <td>Downtown Toronto</td>\n      <td>Regent Park, Harbourfront</td>\n      <td>45.440588</td>\n      <td>28.018025</td>\n    </tr>\n    <tr>\n      <th>3</th>\n      <td>M6A</td>\n      <td>North York</td>\n      <td>Lawrence Manor, Lawrence Heights</td>\n      <td>53.794164</td>\n      <td>-1.752006</td>\n    </tr>\n    <tr>\n      <th>4</th>\n      <td>M7A</td>\n      <td>Downtown Toronto</td>\n      <td>Queen's Park, Ontario Provincial Government</td>\n      <td>44.427689</td>\n      <td>26.171308</td>\n    </tr>\n    <tr>\n      <th>5</th>\n      <td>M9A</td>\n      <td>Etobicoke</td>\n      <td>Islington Avenue, Humber Valley Village</td>\n      <td>44.427689</td>\n      <td>26.171308</td>\n    </tr>\n    <tr>\n      <th>6</th>\n      <td>M1B</td>\n      <td>Scarborough</td>\n      <td>Malvern, Rouge</td>\n      <td>45.255274</td>\n      <td>-76.289760</td>\n    </tr>\n    <tr>\n      <th>7</th>\n      <td>M3B</td>\n      <td>North York</td>\n      <td>Don Mills</td>\n      <td>45.439301</td>\n      <td>28.021317</td>\n    </tr>\n    <tr>\n      <th>8</th>\n      <td>M4B</td>\n      <td>East York</td>\n      <td>Parkview Hill, Woodbine Gardens</td>\n      <td>45.440569</td>\n      <td>28.019181</td>\n    </tr>\n    <tr>\n      <th>9</th>\n      <td>M5B</td>\n      <td>Downtown Toronto</td>\n      <td>Garden District, Ryerson</td>\n      <td>45.440820</td>\n      <td>28.016137</td>\n    </tr>\n  </tbody>\n</table>\n</div>"
     },
     "metadata": {},
     "execution_count": 11
    }
   ],
   "source": [
    "filter_df['Latitude'] = lat\n",
    "filter_df['Longitude'] = long\n",
    "filter_df.head(10)"
   ]
  },
  {
   "source": [
    "# PART-3 Explore & Cluster Neighbourhoods"
   ],
   "cell_type": "markdown",
   "metadata": {}
  },
  {
   "source": [
    "## PART-3.1 Explore Neighbourhoods in Boroughs ending with 'Toronto'"
   ],
   "cell_type": "markdown",
   "metadata": {}
  },
  {
   "source": [
    "### Import necessary libraries"
   ],
   "cell_type": "markdown",
   "metadata": {}
  },
  {
   "cell_type": "code",
   "execution_count": 12,
   "metadata": {},
   "outputs": [],
   "source": [
    "import re\n",
    "import folium\n",
    "import requests"
   ]
  },
  {
   "source": [
    "### Apply *regex* function to extract Borough names ending with 'Toronto'"
   ],
   "cell_type": "markdown",
   "metadata": {}
  },
  {
   "cell_type": "code",
   "execution_count": 13,
   "metadata": {},
   "outputs": [
    {
     "output_type": "stream",
     "name": "stdout",
     "text": [
      "[['Downtown Toronto'], ['Downtown Toronto'], ['Downtown Toronto'], ['Downtown Toronto'], ['East Toronto'], ['Downtown Toronto'], ['Downtown Toronto'], ['Downtown Toronto'], ['Downtown Toronto'], ['West Toronto'], ['Downtown Toronto'], ['West Toronto'], ['East Toronto'], ['Downtown Toronto'], ['West Toronto'], ['East Toronto'], ['Downtown Toronto'], ['East Toronto'], ['Central Toronto'], ['Central Toronto'], ['Central Toronto'], ['Central Toronto'], ['West Toronto'], ['Central Toronto'], ['Central Toronto'], ['West Toronto'], ['Central Toronto'], ['Downtown Toronto'], ['West Toronto'], ['Central Toronto'], ['Downtown Toronto'], ['Central Toronto'], ['Downtown Toronto'], ['Downtown Toronto'], ['Downtown Toronto'], ['Downtown Toronto'], ['Downtown Toronto'], ['Downtown Toronto'], ['East Toronto']]\n"
     ]
    }
   ],
   "source": [
    "\n",
    "string = filter_df['Borough'].values\n",
    "regex = r\"\\w*\\sToronto\"\n",
    "borough = []\n",
    "none_vals = []\n",
    "for row in string:\n",
    "    val = re.findall(regex, row)\n",
    "    if val == []:\n",
    "        none_vals.append(val)\n",
    "    else:\n",
    "        borough.append(val)\n",
    "\n",
    "print(borough)"
   ]
  },
  {
   "cell_type": "code",
   "execution_count": 14,
   "metadata": {},
   "outputs": [
    {
     "output_type": "stream",
     "name": "stdout",
     "text": [
      "Boroughs chosen for exploring venues:\n ['Central Toronto' 'Downtown Toronto' 'East Toronto' 'West Toronto']\n"
     ]
    }
   ],
   "source": [
    "chosen_boroughs = np.unique(np.array(borough))\n",
    "print('Boroughs chosen for exploring venues:\\n',chosen_boroughs)"
   ]
  },
  {
   "source": [
    "### Subset Dataframe with chosen Boroughs for exploring"
   ],
   "cell_type": "markdown",
   "metadata": {}
  },
  {
   "cell_type": "code",
   "execution_count": 15,
   "metadata": {},
   "outputs": [
    {
     "output_type": "execute_result",
     "data": {
      "text/plain": [
       "  Postal Code           Borough                                Neighbourhood  \\\n",
       "0         M5A  Downtown Toronto                    Regent Park, Harbourfront   \n",
       "1         M7A  Downtown Toronto  Queen's Park, Ontario Provincial Government   \n",
       "2         M5B  Downtown Toronto                     Garden District, Ryerson   \n",
       "3         M5C  Downtown Toronto                               St. James Town   \n",
       "4         M4E      East Toronto                                  The Beaches   \n",
       "5         M5E  Downtown Toronto                                  Berczy Park   \n",
       "6         M5G  Downtown Toronto                           Central Bay Street   \n",
       "7         M6G  Downtown Toronto                                     Christie   \n",
       "8         M5H  Downtown Toronto                     Richmond, Adelaide, King   \n",
       "9         M6H      West Toronto                 Dufferin, Dovercourt Village   \n",
       "\n",
       "    Latitude  Longitude  \n",
       "0  45.440588  28.018025  \n",
       "1  44.427689  26.171308  \n",
       "2  45.440820  28.016137  \n",
       "3  -6.173246  39.207869  \n",
       "4  43.644110 -79.588907  \n",
       "5  43.642106 -79.377445  \n",
       "6  39.749568 -86.040080  \n",
       "7  39.749568 -86.040080  \n",
       "8  43.649901 -79.383718  \n",
       "9  43.649901 -79.383718  "
      ],
      "text/html": "<div>\n<style scoped>\n    .dataframe tbody tr th:only-of-type {\n        vertical-align: middle;\n    }\n\n    .dataframe tbody tr th {\n        vertical-align: top;\n    }\n\n    .dataframe thead th {\n        text-align: right;\n    }\n</style>\n<table border=\"1\" class=\"dataframe\">\n  <thead>\n    <tr style=\"text-align: right;\">\n      <th></th>\n      <th>Postal Code</th>\n      <th>Borough</th>\n      <th>Neighbourhood</th>\n      <th>Latitude</th>\n      <th>Longitude</th>\n    </tr>\n  </thead>\n  <tbody>\n    <tr>\n      <th>0</th>\n      <td>M5A</td>\n      <td>Downtown Toronto</td>\n      <td>Regent Park, Harbourfront</td>\n      <td>45.440588</td>\n      <td>28.018025</td>\n    </tr>\n    <tr>\n      <th>1</th>\n      <td>M7A</td>\n      <td>Downtown Toronto</td>\n      <td>Queen's Park, Ontario Provincial Government</td>\n      <td>44.427689</td>\n      <td>26.171308</td>\n    </tr>\n    <tr>\n      <th>2</th>\n      <td>M5B</td>\n      <td>Downtown Toronto</td>\n      <td>Garden District, Ryerson</td>\n      <td>45.440820</td>\n      <td>28.016137</td>\n    </tr>\n    <tr>\n      <th>3</th>\n      <td>M5C</td>\n      <td>Downtown Toronto</td>\n      <td>St. James Town</td>\n      <td>-6.173246</td>\n      <td>39.207869</td>\n    </tr>\n    <tr>\n      <th>4</th>\n      <td>M4E</td>\n      <td>East Toronto</td>\n      <td>The Beaches</td>\n      <td>43.644110</td>\n      <td>-79.588907</td>\n    </tr>\n    <tr>\n      <th>5</th>\n      <td>M5E</td>\n      <td>Downtown Toronto</td>\n      <td>Berczy Park</td>\n      <td>43.642106</td>\n      <td>-79.377445</td>\n    </tr>\n    <tr>\n      <th>6</th>\n      <td>M5G</td>\n      <td>Downtown Toronto</td>\n      <td>Central Bay Street</td>\n      <td>39.749568</td>\n      <td>-86.040080</td>\n    </tr>\n    <tr>\n      <th>7</th>\n      <td>M6G</td>\n      <td>Downtown Toronto</td>\n      <td>Christie</td>\n      <td>39.749568</td>\n      <td>-86.040080</td>\n    </tr>\n    <tr>\n      <th>8</th>\n      <td>M5H</td>\n      <td>Downtown Toronto</td>\n      <td>Richmond, Adelaide, King</td>\n      <td>43.649901</td>\n      <td>-79.383718</td>\n    </tr>\n    <tr>\n      <th>9</th>\n      <td>M6H</td>\n      <td>West Toronto</td>\n      <td>Dufferin, Dovercourt Village</td>\n      <td>43.649901</td>\n      <td>-79.383718</td>\n    </tr>\n  </tbody>\n</table>\n</div>"
     },
     "metadata": {},
     "execution_count": 15
    }
   ],
   "source": [
    "explore_df = filter_df.loc[filter_df['Borough'].isin(chosen_boroughs)].reset_index(drop=True)\n",
    "explore_df.head(10)"
   ]
  },
  {
   "cell_type": "code",
   "execution_count": 45,
   "metadata": {},
   "outputs": [
    {
     "output_type": "stream",
     "name": "stdout",
     "text": [
      "Total unique Boroughs: 4\nTotal unique Neighborhoods: 39\n"
     ]
    }
   ],
   "source": [
    "print(f\"Total unique Boroughs: {explore_df.Borough.nunique()}\\nTotal unique Neighborhoods: {explore_df.Neighbourhood.nunique()}\")"
   ]
  },
  {
   "source": [
    "### Map chosen Boroughs and their Neighbourhoods in Toronto "
   ],
   "cell_type": "markdown",
   "metadata": {}
  },
  {
   "cell_type": "code",
   "execution_count": 16,
   "metadata": {},
   "outputs": [
    {
     "output_type": "stream",
     "name": "stdout",
     "text": [
      "Coordinates of Toronto are: 43.6534817, -79.3839347\n"
     ]
    }
   ],
   "source": [
    "address = 'Toronto, Ontario, Canada'\n",
    "geolocator = Nominatim(user_agent='Toronto_explorer')\n",
    "location = geolocator.geocode(address)\n",
    "latitude = location.latitude\n",
    "longitude = location.longitude\n",
    "print(f\"Coordinates of Toronto are: {latitude}, {longitude}\")"
   ]
  },
  {
   "cell_type": "code",
   "execution_count": 17,
   "metadata": {},
   "outputs": [
    {
     "output_type": "execute_result",
     "data": {
      "text/plain": [
       "<folium.folium.Map at 0x1fe047858b0>"
      ],
      "text/html": "<div style=\"width:100%;\"><div style=\"position:relative;width:100%;height:0;padding-bottom:60%;\"><span style=\"color:#565656\">Make this Notebook Trusted to load map: File -> Trust Notebook</span><iframe src=\"about:blank\" style=\"position:absolute;width:100%;height:100%;left:0;top:0;border:none !important;\" data-html=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 onload=\"this.contentDocument.open();this.contentDocument.write(atob(this.getAttribute('data-html')));this.contentDocument.close();\" allowfullscreen webkitallowfullscreen mozallowfullscreen></iframe></div></div>"
     },
     "metadata": {},
     "execution_count": 17
    }
   ],
   "source": [
    "toronto_map = folium.Map(location= [latitude, longitude], zoom_start=10)\n",
    "\n",
    "#add Neighbourhood markers on toronto_map\n",
    "for lat, long, bor, hood in zip(explore_df['Latitude'], explore_df['Longitude'],explore_df['Borough'],explore_df['Neighbourhood']):\n",
    "    label = folium.Popup('{}, {}'.format(bor, hood), parse_html=True)\n",
    "    folium.CircleMarker([lat, long],\n",
    "        radius=4,\n",
    "        popup=label,\n",
    "        color='cyan',\n",
    "        fill=True,\n",
    "        fill_color='blue',\n",
    "        fill_opacity=0.6,\n",
    "        parse_html=False).add_to(toronto_map)\n",
    "\n",
    "toronto_map"
   ]
  },
  {
   "source": [
    "## PART-3.2 Build & Analyze nearby venues in Neighbourhoods"
   ],
   "cell_type": "markdown",
   "metadata": {}
  },
  {
   "source": [
    "### Build nearby venues dataframe"
   ],
   "cell_type": "markdown",
   "metadata": {}
  },
  {
   "cell_type": "code",
   "execution_count": 18,
   "metadata": {},
   "outputs": [],
   "source": [
    "#Credentials\n",
    "CLIENT_ID = 'CXC1D1CNWMCS54XHC3M0VLPRLBCPQQMID0OZC04Z0VYTMSAU' \n",
    "CLIENT_SECRET = 'OQRFM1BNLVMREJ3N3VJBAWGKU2ERVDEBC3Q1M2UXHBVNDBN3' \n",
    "VERSION = '20201201' \n",
    "LIMIT = 100"
   ]
  },
  {
   "source": [
    "### Using defined-function from *Neighborhoods-New-York* Lab for exploring Neighborhoods in chosen Boroughs\n",
    "#### * increased radius from 500 to 1000 of function getNearbyVenues, hence the number of Venues could be more"
   ],
   "cell_type": "markdown",
   "metadata": {}
  },
  {
   "cell_type": "code",
   "execution_count": 19,
   "metadata": {},
   "outputs": [],
   "source": [
    "def getNearbyVenues(names, latitudes, longitudes, radius=1000):\n",
    "    \n",
    "    venues_list=[]\n",
    "    for name, lat, long in zip(names, latitudes, longitudes):\n",
    "        print(name)\n",
    "            \n",
    "        # create the API request URL\n",
    "        url = 'https://api.foursquare.com/v2/venues/explore?&client_id={}&client_secret={}&v={}&ll={},{}&radius={}&limit={}'.format(\n",
    "            CLIENT_ID, \n",
    "            CLIENT_SECRET, \n",
    "            VERSION, \n",
    "            lat, \n",
    "            long, \n",
    "            radius, \n",
    "            LIMIT)\n",
    "            \n",
    "        # make the GET request\n",
    "        results = requests.get(url).json()[\"response\"]['groups'][0]['items']\n",
    "        \n",
    "        # return only relevant information for each nearby venue\n",
    "        venues_list.append([(\n",
    "            name, \n",
    "            lat, \n",
    "            long, \n",
    "            v['venue']['name'], \n",
    "            v['venue']['location']['lat'], \n",
    "            v['venue']['location']['lng'],  \n",
    "            v['venue']['categories'][0]['name']) for v in results])\n",
    "\n",
    "    nearby_venues = pd.DataFrame([item for venue_list in venues_list for item in venue_list])\n",
    "    nearby_venues.columns = ['Neighborhood', \n",
    "                  'Neighborhood Latitude', \n",
    "                  'Neighborhood Longitude', \n",
    "                  'Venue', \n",
    "                  'Venue Latitude', \n",
    "                  'Venue Longitude', \n",
    "                  'Venue Category']\n",
    "    \n",
    "    return(nearby_venues)"
   ]
  },
  {
   "cell_type": "code",
   "execution_count": 88,
   "metadata": {},
   "outputs": [
    {
     "output_type": "stream",
     "name": "stdout",
     "text": [
      "Regent Park, Harbourfront\n",
      "Queen's Park, Ontario Provincial Government\n",
      "Garden District, Ryerson\n",
      "St. James Town\n",
      "The Beaches\n",
      "Berczy Park\n",
      "Central Bay Street\n",
      "Christie\n",
      "Richmond, Adelaide, King\n",
      "Dufferin, Dovercourt Village\n",
      "Harbourfront East, Union Station, Toronto Islands\n",
      "Little Portugal, Trinity\n",
      "The Danforth West, Riverdale\n",
      "Toronto Dominion Centre, Design Exchange\n",
      "Brockton, Parkdale Village, Exhibition Place\n",
      "India Bazaar, The Beaches West\n",
      "Commerce Court, Victoria Hotel\n",
      "Studio District\n",
      "Lawrence Park\n",
      "Roselawn\n",
      "Davisville North\n",
      "Forest Hill North & West, Forest Hill Road Park\n",
      "High Park, The Junction South\n",
      "North Toronto West, Lawrence Park\n",
      "The Annex, North Midtown, Yorkville\n",
      "Parkdale, Roncesvalles\n",
      "Davisville\n",
      "University of Toronto, Harbord\n",
      "Runnymede, Swansea\n",
      "Moore Park, Summerhill East\n",
      "Kensington Market, Chinatown, Grange Park\n",
      "Summerhill West, Rathnelly, South Hill, Forest Hill SE, Deer Park\n",
      "CN Tower, King and Spadina, Railway Lands, Harbourfront West, Bathurst Quay, South Niagara, Island airport\n",
      "Rosedale\n",
      "Stn A PO Boxes\n",
      "St. James Town, Cabbagetown\n",
      "First Canadian Place, Underground city\n",
      "Church and Wellesley\n",
      "Business reply mail Processing Centre, South Central Letter Processing Plant Toronto\n"
     ]
    },
    {
     "output_type": "execute_result",
     "data": {
      "text/plain": [
       "                                  Neighborhood  Neighborhood Latitude  \\\n",
       "0                    Regent Park, Harbourfront              45.440588   \n",
       "1                    Regent Park, Harbourfront              45.440588   \n",
       "2                    Regent Park, Harbourfront              45.440588   \n",
       "3                    Regent Park, Harbourfront              45.440588   \n",
       "4  Queen's Park, Ontario Provincial Government              44.427689   \n",
       "5  Queen's Park, Ontario Provincial Government              44.427689   \n",
       "6  Queen's Park, Ontario Provincial Government              44.427689   \n",
       "7  Queen's Park, Ontario Provincial Government              44.427689   \n",
       "8  Queen's Park, Ontario Provincial Government              44.427689   \n",
       "9  Queen's Park, Ontario Provincial Government              44.427689   \n",
       "\n",
       "   Neighborhood Longitude                             Venue  Venue Latitude  \\\n",
       "0               28.018025                              LIDL       45.439468   \n",
       "1               28.018025                            Centru       45.442525   \n",
       "2               28.018025                 Restaurant HAZARD       45.440675   \n",
       "3               28.018025                    Golden Chicken       45.433389   \n",
       "4               26.171308                        Mega Image       44.425392   \n",
       "5               26.171308  Parcul Alexandru Ioan Cuza (IOR)       44.426685   \n",
       "6               26.171308               World Class Romania       44.420916   \n",
       "7               26.171308                 American Ballroom       44.432719   \n",
       "8               26.171308             Restaurant GEDI Titan       44.421173   \n",
       "9               26.171308               Emag Showroom Titan       44.424371   \n",
       "\n",
       "   Venue Longitude              Venue Category  \n",
       "0        28.029159                 Supermarket  \n",
       "1        28.017562                       Plaza  \n",
       "2        28.028740    Mediterranean Restaurant  \n",
       "3        28.025602        Fast Food Restaurant  \n",
       "4        26.165526                 Supermarket  \n",
       "5        26.160164                        Park  \n",
       "6        26.177126        Gym / Fitness Center  \n",
       "7        26.179901  Modern European Restaurant  \n",
       "8        26.170131                  Restaurant  \n",
       "9        26.161510           Electronics Store  "
      ],
      "text/html": "<div>\n<style scoped>\n    .dataframe tbody tr th:only-of-type {\n        vertical-align: middle;\n    }\n\n    .dataframe tbody tr th {\n        vertical-align: top;\n    }\n\n    .dataframe thead th {\n        text-align: right;\n    }\n</style>\n<table border=\"1\" class=\"dataframe\">\n  <thead>\n    <tr style=\"text-align: right;\">\n      <th></th>\n      <th>Neighborhood</th>\n      <th>Neighborhood Latitude</th>\n      <th>Neighborhood Longitude</th>\n      <th>Venue</th>\n      <th>Venue Latitude</th>\n      <th>Venue Longitude</th>\n      <th>Venue Category</th>\n    </tr>\n  </thead>\n  <tbody>\n    <tr>\n      <th>0</th>\n      <td>Regent Park, Harbourfront</td>\n      <td>45.440588</td>\n      <td>28.018025</td>\n      <td>LIDL</td>\n      <td>45.439468</td>\n      <td>28.029159</td>\n      <td>Supermarket</td>\n    </tr>\n    <tr>\n      <th>1</th>\n      <td>Regent Park, Harbourfront</td>\n      <td>45.440588</td>\n      <td>28.018025</td>\n      <td>Centru</td>\n      <td>45.442525</td>\n      <td>28.017562</td>\n      <td>Plaza</td>\n    </tr>\n    <tr>\n      <th>2</th>\n      <td>Regent Park, Harbourfront</td>\n      <td>45.440588</td>\n      <td>28.018025</td>\n      <td>Restaurant HAZARD</td>\n      <td>45.440675</td>\n      <td>28.028740</td>\n      <td>Mediterranean Restaurant</td>\n    </tr>\n    <tr>\n      <th>3</th>\n      <td>Regent Park, Harbourfront</td>\n      <td>45.440588</td>\n      <td>28.018025</td>\n      <td>Golden Chicken</td>\n      <td>45.433389</td>\n      <td>28.025602</td>\n      <td>Fast Food Restaurant</td>\n    </tr>\n    <tr>\n      <th>4</th>\n      <td>Queen's Park, Ontario Provincial Government</td>\n      <td>44.427689</td>\n      <td>26.171308</td>\n      <td>Mega Image</td>\n      <td>44.425392</td>\n      <td>26.165526</td>\n      <td>Supermarket</td>\n    </tr>\n    <tr>\n      <th>5</th>\n      <td>Queen's Park, Ontario Provincial Government</td>\n      <td>44.427689</td>\n      <td>26.171308</td>\n      <td>Parcul Alexandru Ioan Cuza (IOR)</td>\n      <td>44.426685</td>\n      <td>26.160164</td>\n      <td>Park</td>\n    </tr>\n    <tr>\n      <th>6</th>\n      <td>Queen's Park, Ontario Provincial Government</td>\n      <td>44.427689</td>\n      <td>26.171308</td>\n      <td>World Class Romania</td>\n      <td>44.420916</td>\n      <td>26.177126</td>\n      <td>Gym / Fitness Center</td>\n    </tr>\n    <tr>\n      <th>7</th>\n      <td>Queen's Park, Ontario Provincial Government</td>\n      <td>44.427689</td>\n      <td>26.171308</td>\n      <td>American Ballroom</td>\n      <td>44.432719</td>\n      <td>26.179901</td>\n      <td>Modern European Restaurant</td>\n    </tr>\n    <tr>\n      <th>8</th>\n      <td>Queen's Park, Ontario Provincial Government</td>\n      <td>44.427689</td>\n      <td>26.171308</td>\n      <td>Restaurant GEDI Titan</td>\n      <td>44.421173</td>\n      <td>26.170131</td>\n      <td>Restaurant</td>\n    </tr>\n    <tr>\n      <th>9</th>\n      <td>Queen's Park, Ontario Provincial Government</td>\n      <td>44.427689</td>\n      <td>26.171308</td>\n      <td>Emag Showroom Titan</td>\n      <td>44.424371</td>\n      <td>26.161510</td>\n      <td>Electronics Store</td>\n    </tr>\n  </tbody>\n</table>\n</div>"
     },
     "metadata": {},
     "execution_count": 88
    }
   ],
   "source": [
    "toronto_venues = getNearbyVenues(explore_df.Neighbourhood, explore_df.Latitude, explore_df.Longitude)\n",
    "toronto_venues.head(10)"
   ]
  },
  {
   "cell_type": "code",
   "execution_count": 89,
   "metadata": {},
   "outputs": [
    {
     "output_type": "stream",
     "name": "stdout",
     "text": [
      "Total Rows:1972, Total Columns:7\n"
     ]
    },
    {
     "output_type": "execute_result",
     "data": {
      "text/plain": [
       "                                  Neighborhood  Neighborhood Latitude  \\\n",
       "0                    Regent Park, Harbourfront              45.440588   \n",
       "1                    Regent Park, Harbourfront              45.440588   \n",
       "2                    Regent Park, Harbourfront              45.440588   \n",
       "3                    Regent Park, Harbourfront              45.440588   \n",
       "4  Queen's Park, Ontario Provincial Government              44.427689   \n",
       "5  Queen's Park, Ontario Provincial Government              44.427689   \n",
       "6  Queen's Park, Ontario Provincial Government              44.427689   \n",
       "7  Queen's Park, Ontario Provincial Government              44.427689   \n",
       "8  Queen's Park, Ontario Provincial Government              44.427689   \n",
       "9  Queen's Park, Ontario Provincial Government              44.427689   \n",
       "\n",
       "   Neighborhood Longitude                             Venue  Venue Latitude  \\\n",
       "0               28.018025                              LIDL       45.439468   \n",
       "1               28.018025                            Centru       45.442525   \n",
       "2               28.018025                 Restaurant HAZARD       45.440675   \n",
       "3               28.018025                    Golden Chicken       45.433389   \n",
       "4               26.171308                        Mega Image       44.425392   \n",
       "5               26.171308  Parcul Alexandru Ioan Cuza (IOR)       44.426685   \n",
       "6               26.171308               World Class Romania       44.420916   \n",
       "7               26.171308                 American Ballroom       44.432719   \n",
       "8               26.171308             Restaurant GEDI Titan       44.421173   \n",
       "9               26.171308               Emag Showroom Titan       44.424371   \n",
       "\n",
       "   Venue Longitude              Venue Category  \n",
       "0        28.029159                 Supermarket  \n",
       "1        28.017562                       Plaza  \n",
       "2        28.028740    Mediterranean Restaurant  \n",
       "3        28.025602        Fast Food Restaurant  \n",
       "4        26.165526                 Supermarket  \n",
       "5        26.160164                        Park  \n",
       "6        26.177126        Gym / Fitness Center  \n",
       "7        26.179901  Modern European Restaurant  \n",
       "8        26.170131                  Restaurant  \n",
       "9        26.161510           Electronics Store  "
      ],
      "text/html": "<div>\n<style scoped>\n    .dataframe tbody tr th:only-of-type {\n        vertical-align: middle;\n    }\n\n    .dataframe tbody tr th {\n        vertical-align: top;\n    }\n\n    .dataframe thead th {\n        text-align: right;\n    }\n</style>\n<table border=\"1\" class=\"dataframe\">\n  <thead>\n    <tr style=\"text-align: right;\">\n      <th></th>\n      <th>Neighborhood</th>\n      <th>Neighborhood Latitude</th>\n      <th>Neighborhood Longitude</th>\n      <th>Venue</th>\n      <th>Venue Latitude</th>\n      <th>Venue Longitude</th>\n      <th>Venue Category</th>\n    </tr>\n  </thead>\n  <tbody>\n    <tr>\n      <th>0</th>\n      <td>Regent Park, Harbourfront</td>\n      <td>45.440588</td>\n      <td>28.018025</td>\n      <td>LIDL</td>\n      <td>45.439468</td>\n      <td>28.029159</td>\n      <td>Supermarket</td>\n    </tr>\n    <tr>\n      <th>1</th>\n      <td>Regent Park, Harbourfront</td>\n      <td>45.440588</td>\n      <td>28.018025</td>\n      <td>Centru</td>\n      <td>45.442525</td>\n      <td>28.017562</td>\n      <td>Plaza</td>\n    </tr>\n    <tr>\n      <th>2</th>\n      <td>Regent Park, Harbourfront</td>\n      <td>45.440588</td>\n      <td>28.018025</td>\n      <td>Restaurant HAZARD</td>\n      <td>45.440675</td>\n      <td>28.028740</td>\n      <td>Mediterranean Restaurant</td>\n    </tr>\n    <tr>\n      <th>3</th>\n      <td>Regent Park, Harbourfront</td>\n      <td>45.440588</td>\n      <td>28.018025</td>\n      <td>Golden Chicken</td>\n      <td>45.433389</td>\n      <td>28.025602</td>\n      <td>Fast Food Restaurant</td>\n    </tr>\n    <tr>\n      <th>4</th>\n      <td>Queen's Park, Ontario Provincial Government</td>\n      <td>44.427689</td>\n      <td>26.171308</td>\n      <td>Mega Image</td>\n      <td>44.425392</td>\n      <td>26.165526</td>\n      <td>Supermarket</td>\n    </tr>\n    <tr>\n      <th>5</th>\n      <td>Queen's Park, Ontario Provincial Government</td>\n      <td>44.427689</td>\n      <td>26.171308</td>\n      <td>Parcul Alexandru Ioan Cuza (IOR)</td>\n      <td>44.426685</td>\n      <td>26.160164</td>\n      <td>Park</td>\n    </tr>\n    <tr>\n      <th>6</th>\n      <td>Queen's Park, Ontario Provincial Government</td>\n      <td>44.427689</td>\n      <td>26.171308</td>\n      <td>World Class Romania</td>\n      <td>44.420916</td>\n      <td>26.177126</td>\n      <td>Gym / Fitness Center</td>\n    </tr>\n    <tr>\n      <th>7</th>\n      <td>Queen's Park, Ontario Provincial Government</td>\n      <td>44.427689</td>\n      <td>26.171308</td>\n      <td>American Ballroom</td>\n      <td>44.432719</td>\n      <td>26.179901</td>\n      <td>Modern European Restaurant</td>\n    </tr>\n    <tr>\n      <th>8</th>\n      <td>Queen's Park, Ontario Provincial Government</td>\n      <td>44.427689</td>\n      <td>26.171308</td>\n      <td>Restaurant GEDI Titan</td>\n      <td>44.421173</td>\n      <td>26.170131</td>\n      <td>Restaurant</td>\n    </tr>\n    <tr>\n      <th>9</th>\n      <td>Queen's Park, Ontario Provincial Government</td>\n      <td>44.427689</td>\n      <td>26.171308</td>\n      <td>Emag Showroom Titan</td>\n      <td>44.424371</td>\n      <td>26.161510</td>\n      <td>Electronics Store</td>\n    </tr>\n  </tbody>\n</table>\n</div>"
     },
     "metadata": {},
     "execution_count": 89
    }
   ],
   "source": [
    "print(f\"Total Rows:{toronto_venues.shape[0]}, Total Columns:{toronto_venues.shape[1]}\")\n",
    "toronto_venues.head(10)"
   ]
  },
  {
   "cell_type": "code",
   "execution_count": 154,
   "metadata": {},
   "outputs": [
    {
     "output_type": "stream",
     "name": "stdout",
     "text": [
      "Total unique Venue categories: 237\n"
     ]
    }
   ],
   "source": [
    "print(f\"Total unique Venue categories: {toronto_venues['Venue Category'].nunique()}\")"
   ]
  },
  {
   "source": [
    "#### Important Assumption for Analysis:\n",
    "\n",
    "* Based on .nunique method, there are 237 unique venue categories\n",
    "* BUT, one of the Venue Category is _'Neighborhood'_. \n",
    "* THIS makes .groupby('Neighborhood') after onehot-encoding error-prone _(ValueError: Grouper for 'Neighborhood' not 1-dimensional)_\n",
    "* Hence, excluding _'Neighborhood'_ from Venue categories\n",
    "* Assumed Total unique Venue categories = 236"
   ],
   "cell_type": "markdown",
   "metadata": {}
  },
  {
   "cell_type": "code",
   "execution_count": 161,
   "metadata": {},
   "outputs": [
    {
     "output_type": "stream",
     "name": "stdout",
     "text": [
      "Venues with 'Neighborhood' Venue Category:\n\n"
     ]
    },
    {
     "output_type": "execute_result",
     "data": {
      "text/plain": [
       "                                          Neighborhood  Neighborhood Latitude  \\\n",
       "46                            Garden District, Ryerson              45.440820   \n",
       "73                                         Berczy Park              43.642106   \n",
       "205                           Richmond, Adelaide, King              43.649901   \n",
       "305                       Dufferin, Dovercourt Village              43.649901   \n",
       "394  Harbourfront East, Union Station, Toronto Islands              43.639259   \n",
       "\n",
       "     Neighborhood Longitude                     Venue  Venue Latitude  \\\n",
       "46                28.016137  Piața Energiei - General       45.440053   \n",
       "73               -79.377445              Harbourfront       43.639526   \n",
       "205              -79.383718          Downtown Toronto       43.653232   \n",
       "305              -79.383718          Downtown Toronto       43.653232   \n",
       "394              -79.382840              Harbourfront       43.639526   \n",
       "\n",
       "     Venue Longitude Venue Category  \n",
       "46         28.021103   Neighborhood  \n",
       "73        -79.380688   Neighborhood  \n",
       "205       -79.385296   Neighborhood  \n",
       "305       -79.385296   Neighborhood  \n",
       "394       -79.380688   Neighborhood  "
      ],
      "text/html": "<div>\n<style scoped>\n    .dataframe tbody tr th:only-of-type {\n        vertical-align: middle;\n    }\n\n    .dataframe tbody tr th {\n        vertical-align: top;\n    }\n\n    .dataframe thead th {\n        text-align: right;\n    }\n</style>\n<table border=\"1\" class=\"dataframe\">\n  <thead>\n    <tr style=\"text-align: right;\">\n      <th></th>\n      <th>Neighborhood</th>\n      <th>Neighborhood Latitude</th>\n      <th>Neighborhood Longitude</th>\n      <th>Venue</th>\n      <th>Venue Latitude</th>\n      <th>Venue Longitude</th>\n      <th>Venue Category</th>\n    </tr>\n  </thead>\n  <tbody>\n    <tr>\n      <th>46</th>\n      <td>Garden District, Ryerson</td>\n      <td>45.440820</td>\n      <td>28.016137</td>\n      <td>Piața Energiei - General</td>\n      <td>45.440053</td>\n      <td>28.021103</td>\n      <td>Neighborhood</td>\n    </tr>\n    <tr>\n      <th>73</th>\n      <td>Berczy Park</td>\n      <td>43.642106</td>\n      <td>-79.377445</td>\n      <td>Harbourfront</td>\n      <td>43.639526</td>\n      <td>-79.380688</td>\n      <td>Neighborhood</td>\n    </tr>\n    <tr>\n      <th>205</th>\n      <td>Richmond, Adelaide, King</td>\n      <td>43.649901</td>\n      <td>-79.383718</td>\n      <td>Downtown Toronto</td>\n      <td>43.653232</td>\n      <td>-79.385296</td>\n      <td>Neighborhood</td>\n    </tr>\n    <tr>\n      <th>305</th>\n      <td>Dufferin, Dovercourt Village</td>\n      <td>43.649901</td>\n      <td>-79.383718</td>\n      <td>Downtown Toronto</td>\n      <td>43.653232</td>\n      <td>-79.385296</td>\n      <td>Neighborhood</td>\n    </tr>\n    <tr>\n      <th>394</th>\n      <td>Harbourfront East, Union Station, Toronto Islands</td>\n      <td>43.639259</td>\n      <td>-79.382840</td>\n      <td>Harbourfront</td>\n      <td>43.639526</td>\n      <td>-79.380688</td>\n      <td>Neighborhood</td>\n    </tr>\n  </tbody>\n</table>\n</div>"
     },
     "metadata": {},
     "execution_count": 161
    }
   ],
   "source": [
    "print(\"Venues with 'Neighborhood' Venue Category:\\n\")\n",
    "toronto_venues.loc[toronto_venues['Venue Category'] == 'Neighborhood']\n"
   ]
  },
  {
   "source": [
    "### Analyze nearby venues dataframe"
   ],
   "cell_type": "markdown",
   "metadata": {}
  },
  {
   "source": [
    "#### one-hot encode Venue Category for statistics by Neighbourhood"
   ],
   "cell_type": "markdown",
   "metadata": {}
  },
  {
   "cell_type": "code",
   "execution_count": 116,
   "metadata": {},
   "outputs": [
    {
     "output_type": "execute_result",
     "data": {
      "text/plain": [
       "   Airport  Airport Food Court  Airport Lounge  American Restaurant  \\\n",
       "0        0                   0               0                    0   \n",
       "1        0                   0               0                    0   \n",
       "2        0                   0               0                    0   \n",
       "3        0                   0               0                    0   \n",
       "4        0                   0               0                    0   \n",
       "\n",
       "   Antique Shop  Aquarium  Argentinian Restaurant  Art Gallery  Art Museum  \\\n",
       "0             0         0                       0            0           0   \n",
       "1             0         0                       0            0           0   \n",
       "2             0         0                       0            0           0   \n",
       "3             0         0                       0            0           0   \n",
       "4             0         0                       0            0           0   \n",
       "\n",
       "   Arts & Crafts Store  ...  University  Vegetarian / Vegan Restaurant  \\\n",
       "0                    0  ...           0                              0   \n",
       "1                    0  ...           0                              0   \n",
       "2                    0  ...           0                              0   \n",
       "3                    0  ...           0                              0   \n",
       "4                    0  ...           0                              0   \n",
       "\n",
       "   Venezuelan Restaurant  Veterinarian  Video Store  Vietnamese Restaurant  \\\n",
       "0                      0             0            0                      0   \n",
       "1                      0             0            0                      0   \n",
       "2                      0             0            0                      0   \n",
       "3                      0             0            0                      0   \n",
       "4                      0             0            0                      0   \n",
       "\n",
       "   Wine Shop  Wings Joint  Xinjiang Restaurant  Yoga Studio  \n",
       "0          0            0                    0            0  \n",
       "1          0            0                    0            0  \n",
       "2          0            0                    0            0  \n",
       "3          0            0                    0            0  \n",
       "4          0            0                    0            0  \n",
       "\n",
       "[5 rows x 237 columns]"
      ],
      "text/html": "<div>\n<style scoped>\n    .dataframe tbody tr th:only-of-type {\n        vertical-align: middle;\n    }\n\n    .dataframe tbody tr th {\n        vertical-align: top;\n    }\n\n    .dataframe thead th {\n        text-align: right;\n    }\n</style>\n<table border=\"1\" class=\"dataframe\">\n  <thead>\n    <tr style=\"text-align: right;\">\n      <th></th>\n      <th>Airport</th>\n      <th>Airport Food Court</th>\n      <th>Airport Lounge</th>\n      <th>American Restaurant</th>\n      <th>Antique Shop</th>\n      <th>Aquarium</th>\n      <th>Argentinian Restaurant</th>\n      <th>Art Gallery</th>\n      <th>Art Museum</th>\n      <th>Arts &amp; Crafts Store</th>\n      <th>...</th>\n      <th>University</th>\n      <th>Vegetarian / Vegan Restaurant</th>\n      <th>Venezuelan Restaurant</th>\n      <th>Veterinarian</th>\n      <th>Video Store</th>\n      <th>Vietnamese Restaurant</th>\n      <th>Wine Shop</th>\n      <th>Wings Joint</th>\n      <th>Xinjiang Restaurant</th>\n      <th>Yoga Studio</th>\n    </tr>\n  </thead>\n  <tbody>\n    <tr>\n      <th>0</th>\n      <td>0</td>\n      <td>0</td>\n      <td>0</td>\n      <td>0</td>\n      <td>0</td>\n      <td>0</td>\n      <td>0</td>\n      <td>0</td>\n      <td>0</td>\n      <td>0</td>\n      <td>...</td>\n      <td>0</td>\n      <td>0</td>\n      <td>0</td>\n      <td>0</td>\n      <td>0</td>\n      <td>0</td>\n      <td>0</td>\n      <td>0</td>\n      <td>0</td>\n      <td>0</td>\n    </tr>\n    <tr>\n      <th>1</th>\n      <td>0</td>\n      <td>0</td>\n      <td>0</td>\n      <td>0</td>\n      <td>0</td>\n      <td>0</td>\n      <td>0</td>\n      <td>0</td>\n      <td>0</td>\n      <td>0</td>\n      <td>...</td>\n      <td>0</td>\n      <td>0</td>\n      <td>0</td>\n      <td>0</td>\n      <td>0</td>\n      <td>0</td>\n      <td>0</td>\n      <td>0</td>\n      <td>0</td>\n      <td>0</td>\n    </tr>\n    <tr>\n      <th>2</th>\n      <td>0</td>\n      <td>0</td>\n      <td>0</td>\n      <td>0</td>\n      <td>0</td>\n      <td>0</td>\n      <td>0</td>\n      <td>0</td>\n      <td>0</td>\n      <td>0</td>\n      <td>...</td>\n      <td>0</td>\n      <td>0</td>\n      <td>0</td>\n      <td>0</td>\n      <td>0</td>\n      <td>0</td>\n      <td>0</td>\n      <td>0</td>\n      <td>0</td>\n      <td>0</td>\n    </tr>\n    <tr>\n      <th>3</th>\n      <td>0</td>\n      <td>0</td>\n      <td>0</td>\n      <td>0</td>\n      <td>0</td>\n      <td>0</td>\n      <td>0</td>\n      <td>0</td>\n      <td>0</td>\n      <td>0</td>\n      <td>...</td>\n      <td>0</td>\n      <td>0</td>\n      <td>0</td>\n      <td>0</td>\n      <td>0</td>\n      <td>0</td>\n      <td>0</td>\n      <td>0</td>\n      <td>0</td>\n      <td>0</td>\n    </tr>\n    <tr>\n      <th>4</th>\n      <td>0</td>\n      <td>0</td>\n      <td>0</td>\n      <td>0</td>\n      <td>0</td>\n      <td>0</td>\n      <td>0</td>\n      <td>0</td>\n      <td>0</td>\n      <td>0</td>\n      <td>...</td>\n      <td>0</td>\n      <td>0</td>\n      <td>0</td>\n      <td>0</td>\n      <td>0</td>\n      <td>0</td>\n      <td>0</td>\n      <td>0</td>\n      <td>0</td>\n      <td>0</td>\n    </tr>\n  </tbody>\n</table>\n<p>5 rows × 237 columns</p>\n</div>"
     },
     "metadata": {},
     "execution_count": 116
    }
   ],
   "source": [
    "encode_df = pd.get_dummies(toronto_venues[['Venue Category']], prefix='', prefix_sep='')\n",
    "encode_df.head()"
   ]
  },
  {
   "cell_type": "code",
   "execution_count": 167,
   "metadata": {},
   "outputs": [],
   "source": [
    "encode_df.drop('Neighborhood', axis=1, inplace=True)"
   ]
  },
  {
   "cell_type": "code",
   "execution_count": 168,
   "metadata": {},
   "outputs": [
    {
     "output_type": "execute_result",
     "data": {
      "text/plain": [
       "                                  Neighborhood  Airport  Airport Food Court  \\\n",
       "0                    Regent Park, Harbourfront        0                   0   \n",
       "1                    Regent Park, Harbourfront        0                   0   \n",
       "2                    Regent Park, Harbourfront        0                   0   \n",
       "3                    Regent Park, Harbourfront        0                   0   \n",
       "4  Queen's Park, Ontario Provincial Government        0                   0   \n",
       "\n",
       "   Airport Lounge  American Restaurant  Antique Shop  Aquarium  \\\n",
       "0               0                    0             0         0   \n",
       "1               0                    0             0         0   \n",
       "2               0                    0             0         0   \n",
       "3               0                    0             0         0   \n",
       "4               0                    0             0         0   \n",
       "\n",
       "   Argentinian Restaurant  Art Gallery  Art Museum  ...  University  \\\n",
       "0                       0            0           0  ...           0   \n",
       "1                       0            0           0  ...           0   \n",
       "2                       0            0           0  ...           0   \n",
       "3                       0            0           0  ...           0   \n",
       "4                       0            0           0  ...           0   \n",
       "\n",
       "   Vegetarian / Vegan Restaurant  Venezuelan Restaurant  Veterinarian  \\\n",
       "0                              0                      0             0   \n",
       "1                              0                      0             0   \n",
       "2                              0                      0             0   \n",
       "3                              0                      0             0   \n",
       "4                              0                      0             0   \n",
       "\n",
       "   Video Store  Vietnamese Restaurant  Wine Shop  Wings Joint  \\\n",
       "0            0                      0          0            0   \n",
       "1            0                      0          0            0   \n",
       "2            0                      0          0            0   \n",
       "3            0                      0          0            0   \n",
       "4            0                      0          0            0   \n",
       "\n",
       "   Xinjiang Restaurant  Yoga Studio  \n",
       "0                    0            0  \n",
       "1                    0            0  \n",
       "2                    0            0  \n",
       "3                    0            0  \n",
       "4                    0            0  \n",
       "\n",
       "[5 rows x 237 columns]"
      ],
      "text/html": "<div>\n<style scoped>\n    .dataframe tbody tr th:only-of-type {\n        vertical-align: middle;\n    }\n\n    .dataframe tbody tr th {\n        vertical-align: top;\n    }\n\n    .dataframe thead th {\n        text-align: right;\n    }\n</style>\n<table border=\"1\" class=\"dataframe\">\n  <thead>\n    <tr style=\"text-align: right;\">\n      <th></th>\n      <th>Neighborhood</th>\n      <th>Airport</th>\n      <th>Airport Food Court</th>\n      <th>Airport Lounge</th>\n      <th>American Restaurant</th>\n      <th>Antique Shop</th>\n      <th>Aquarium</th>\n      <th>Argentinian Restaurant</th>\n      <th>Art Gallery</th>\n      <th>Art Museum</th>\n      <th>...</th>\n      <th>University</th>\n      <th>Vegetarian / Vegan Restaurant</th>\n      <th>Venezuelan Restaurant</th>\n      <th>Veterinarian</th>\n      <th>Video Store</th>\n      <th>Vietnamese Restaurant</th>\n      <th>Wine Shop</th>\n      <th>Wings Joint</th>\n      <th>Xinjiang Restaurant</th>\n      <th>Yoga Studio</th>\n    </tr>\n  </thead>\n  <tbody>\n    <tr>\n      <th>0</th>\n      <td>Regent Park, Harbourfront</td>\n      <td>0</td>\n      <td>0</td>\n      <td>0</td>\n      <td>0</td>\n      <td>0</td>\n      <td>0</td>\n      <td>0</td>\n      <td>0</td>\n      <td>0</td>\n      <td>...</td>\n      <td>0</td>\n      <td>0</td>\n      <td>0</td>\n      <td>0</td>\n      <td>0</td>\n      <td>0</td>\n      <td>0</td>\n      <td>0</td>\n      <td>0</td>\n      <td>0</td>\n    </tr>\n    <tr>\n      <th>1</th>\n      <td>Regent Park, Harbourfront</td>\n      <td>0</td>\n      <td>0</td>\n      <td>0</td>\n      <td>0</td>\n      <td>0</td>\n      <td>0</td>\n      <td>0</td>\n      <td>0</td>\n      <td>0</td>\n      <td>...</td>\n      <td>0</td>\n      <td>0</td>\n      <td>0</td>\n      <td>0</td>\n      <td>0</td>\n      <td>0</td>\n      <td>0</td>\n      <td>0</td>\n      <td>0</td>\n      <td>0</td>\n    </tr>\n    <tr>\n      <th>2</th>\n      <td>Regent Park, Harbourfront</td>\n      <td>0</td>\n      <td>0</td>\n      <td>0</td>\n      <td>0</td>\n      <td>0</td>\n      <td>0</td>\n      <td>0</td>\n      <td>0</td>\n      <td>0</td>\n      <td>...</td>\n      <td>0</td>\n      <td>0</td>\n      <td>0</td>\n      <td>0</td>\n      <td>0</td>\n      <td>0</td>\n      <td>0</td>\n      <td>0</td>\n      <td>0</td>\n      <td>0</td>\n    </tr>\n    <tr>\n      <th>3</th>\n      <td>Regent Park, Harbourfront</td>\n      <td>0</td>\n      <td>0</td>\n      <td>0</td>\n      <td>0</td>\n      <td>0</td>\n      <td>0</td>\n      <td>0</td>\n      <td>0</td>\n      <td>0</td>\n      <td>...</td>\n      <td>0</td>\n      <td>0</td>\n      <td>0</td>\n      <td>0</td>\n      <td>0</td>\n      <td>0</td>\n      <td>0</td>\n      <td>0</td>\n      <td>0</td>\n      <td>0</td>\n    </tr>\n    <tr>\n      <th>4</th>\n      <td>Queen's Park, Ontario Provincial Government</td>\n      <td>0</td>\n      <td>0</td>\n      <td>0</td>\n      <td>0</td>\n      <td>0</td>\n      <td>0</td>\n      <td>0</td>\n      <td>0</td>\n      <td>0</td>\n      <td>...</td>\n      <td>0</td>\n      <td>0</td>\n      <td>0</td>\n      <td>0</td>\n      <td>0</td>\n      <td>0</td>\n      <td>0</td>\n      <td>0</td>\n      <td>0</td>\n      <td>0</td>\n    </tr>\n  </tbody>\n</table>\n<p>5 rows × 237 columns</p>\n</div>"
     },
     "metadata": {},
     "execution_count": 168
    }
   ],
   "source": [
    "encode_df['Neighborhood'] = toronto_venues[['Neighborhood']]\n",
    "\n",
    "#move Neighborhood column to the '0' position\n",
    "fixed_columns = ['Neighborhood'] + list(encode_df.columns[encode_df.columns!='Neighborhood'])\n",
    "encode_df = encode_df[fixed_columns]\n",
    "encode_df.head()"
   ]
  },
  {
   "cell_type": "code",
   "execution_count": 169,
   "metadata": {},
   "outputs": [
    {
     "output_type": "execute_result",
     "data": {
      "text/plain": [
       "(1972, 237)"
      ]
     },
     "metadata": {},
     "execution_count": 169
    }
   ],
   "source": [
    "encode_df.shape"
   ]
  },
  {
   "cell_type": "code",
   "execution_count": 171,
   "metadata": {},
   "outputs": [
    {
     "output_type": "execute_result",
     "data": {
      "text/plain": [
       "                                         Neighborhood   Airport  \\\n",
       "0                                         Berczy Park  0.000000   \n",
       "1        Brockton, Parkdale Village, Exhibition Place  0.000000   \n",
       "2   Business reply mail Processing Centre, South C...  0.000000   \n",
       "3   CN Tower, King and Spadina, Railway Lands, Har...  0.000000   \n",
       "4                                  Central Bay Street  0.000000   \n",
       "5                                            Christie  0.000000   \n",
       "6                                Church and Wellesley  0.000000   \n",
       "7                      Commerce Court, Victoria Hotel  0.000000   \n",
       "8                                          Davisville  0.000000   \n",
       "9                                    Davisville North  0.000000   \n",
       "10                       Dufferin, Dovercourt Village  0.000000   \n",
       "11             First Canadian Place, Underground city  0.000000   \n",
       "12    Forest Hill North & West, Forest Hill Road Park  0.000000   \n",
       "13                           Garden District, Ryerson  0.000000   \n",
       "14  Harbourfront East, Union Station, Toronto Islands  0.000000   \n",
       "15                      High Park, The Junction South  0.000000   \n",
       "16                     India Bazaar, The Beaches West  0.000000   \n",
       "17          Kensington Market, Chinatown, Grange Park  0.000000   \n",
       "18                                      Lawrence Park  0.000000   \n",
       "19                           Little Portugal, Trinity  0.045455   \n",
       "20                        Moore Park, Summerhill East  0.000000   \n",
       "21                  North Toronto West, Lawrence Park  0.000000   \n",
       "22                             Parkdale, Roncesvalles  0.000000   \n",
       "23        Queen's Park, Ontario Provincial Government  0.000000   \n",
       "24                          Regent Park, Harbourfront  0.000000   \n",
       "25                           Richmond, Adelaide, King  0.000000   \n",
       "26                                           Rosedale  0.000000   \n",
       "27                                           Roselawn  0.000000   \n",
       "28                                 Runnymede, Swansea  0.000000   \n",
       "29                                     St. James Town  0.000000   \n",
       "30                        St. James Town, Cabbagetown  0.000000   \n",
       "31                                     Stn A PO Boxes  0.000000   \n",
       "32                                    Studio District  0.000000   \n",
       "33  Summerhill West, Rathnelly, South Hill, Forest...  0.000000   \n",
       "34                The Annex, North Midtown, Yorkville  0.000000   \n",
       "35                                        The Beaches  0.000000   \n",
       "36                       The Danforth West, Riverdale  0.000000   \n",
       "37           Toronto Dominion Centre, Design Exchange  0.000000   \n",
       "38                     University of Toronto, Harbord  0.000000   \n",
       "\n",
       "    Airport Food Court  Airport Lounge  American Restaurant  Antique Shop  \\\n",
       "0             0.000000        0.000000             0.010000      0.000000   \n",
       "1             0.000000        0.000000             0.017241      0.000000   \n",
       "2             0.000000        0.000000             0.017544      0.000000   \n",
       "3             0.000000        0.000000             0.000000      0.000000   \n",
       "4             0.000000        0.000000             0.000000      0.000000   \n",
       "5             0.000000        0.000000             0.000000      0.000000   \n",
       "6             0.000000        0.000000             0.017544      0.000000   \n",
       "7             0.000000        0.000000             0.000000      0.000000   \n",
       "8             0.000000        0.000000             0.000000      0.000000   \n",
       "9             0.000000        0.000000             0.000000      0.000000   \n",
       "10            0.000000        0.000000             0.020000      0.000000   \n",
       "11            0.000000        0.000000             0.017544      0.000000   \n",
       "12            0.000000        0.000000             0.000000      0.000000   \n",
       "13            0.000000        0.000000             0.000000      0.000000   \n",
       "14            0.000000        0.000000             0.000000      0.000000   \n",
       "15            0.000000        0.000000             0.000000      0.020619   \n",
       "16            0.000000        0.000000             0.000000      0.000000   \n",
       "17            0.000000        0.000000             0.000000      0.000000   \n",
       "18            0.000000        0.000000             0.000000      0.000000   \n",
       "19            0.045455        0.045455             0.000000      0.000000   \n",
       "20            0.000000        0.000000             0.000000      0.000000   \n",
       "21            0.000000        0.000000             0.000000      0.000000   \n",
       "22            0.000000        0.000000             0.000000      0.000000   \n",
       "23            0.000000        0.000000             0.000000      0.000000   \n",
       "24            0.000000        0.000000             0.000000      0.000000   \n",
       "25            0.000000        0.000000             0.020000      0.000000   \n",
       "26            0.000000        0.000000             0.000000      0.000000   \n",
       "27            0.000000        0.000000             0.000000      0.000000   \n",
       "28            0.000000        0.000000             0.000000      0.000000   \n",
       "29            0.000000        0.000000             0.000000      0.000000   \n",
       "30            0.000000        0.000000             0.017544      0.000000   \n",
       "31            0.000000        0.000000             0.000000      0.000000   \n",
       "32            0.000000        0.000000             0.000000      0.000000   \n",
       "33            0.000000        0.000000             0.000000      0.000000   \n",
       "34            0.000000        0.000000             0.000000      0.000000   \n",
       "35            0.000000        0.000000             0.000000      0.000000   \n",
       "36            0.000000        0.000000             0.000000      0.000000   \n",
       "37            0.000000        0.000000             0.000000      0.000000   \n",
       "38            0.000000        0.000000             0.000000      0.000000   \n",
       "\n",
       "    Aquarium  Argentinian Restaurant  Art Gallery  Art Museum  ...  \\\n",
       "0       0.02                    0.00     0.020000        0.00  ...   \n",
       "1       0.00                    0.00     0.017241        0.00  ...   \n",
       "2       0.00                    0.00     0.000000        0.00  ...   \n",
       "3       0.02                    0.00     0.010000        0.00  ...   \n",
       "4       0.00                    0.00     0.000000        0.00  ...   \n",
       "5       0.00                    0.00     0.000000        0.00  ...   \n",
       "6       0.00                    0.00     0.000000        0.00  ...   \n",
       "7       0.00                    0.00     0.000000        0.00  ...   \n",
       "8       0.00                    0.00     0.000000        0.00  ...   \n",
       "9       0.00                    0.00     0.000000        0.00  ...   \n",
       "10      0.00                    0.00     0.010000        0.01  ...   \n",
       "11      0.00                    0.00     0.000000        0.00  ...   \n",
       "12      0.00                    0.00     0.000000        0.00  ...   \n",
       "13      0.00                    0.00     0.000000        0.00  ...   \n",
       "14      0.02                    0.00     0.020000        0.00  ...   \n",
       "15      0.00                    0.00     0.010309        0.00  ...   \n",
       "16      0.00                    0.00     0.000000        0.00  ...   \n",
       "17      0.00                    0.00     0.000000        0.00  ...   \n",
       "18      0.00                    0.00     0.000000        0.00  ...   \n",
       "19      0.00                    0.00     0.000000        0.00  ...   \n",
       "20      0.00                    0.00     0.000000        0.00  ...   \n",
       "21      0.00                    0.00     0.000000        0.00  ...   \n",
       "22      0.00                    0.00     0.000000        0.00  ...   \n",
       "23      0.00                    0.00     0.000000        0.00  ...   \n",
       "24      0.00                    0.00     0.000000        0.00  ...   \n",
       "25      0.00                    0.00     0.010000        0.01  ...   \n",
       "26      0.00                    0.00     0.000000        0.00  ...   \n",
       "27      0.00                    0.00     0.000000        0.00  ...   \n",
       "28      0.00                    0.00     0.000000        0.00  ...   \n",
       "29      0.00                    0.00     0.000000        0.00  ...   \n",
       "30      0.00                    0.00     0.000000        0.00  ...   \n",
       "31      0.00                    0.00     0.000000        0.00  ...   \n",
       "32      0.00                    0.02     0.000000        0.00  ...   \n",
       "33      0.00                    0.00     0.000000        0.00  ...   \n",
       "34      0.00                    0.00     0.000000        0.00  ...   \n",
       "35      0.00                    0.00     0.000000        0.00  ...   \n",
       "36      0.00                    0.00     0.000000        0.00  ...   \n",
       "37      0.00                    0.00     0.000000        0.00  ...   \n",
       "38      0.00                    0.00     0.000000        0.00  ...   \n",
       "\n",
       "    University  Vegetarian / Vegan Restaurant  Venezuelan Restaurant  \\\n",
       "0         0.00                       0.020000               0.000000   \n",
       "1         0.00                       0.000000               0.000000   \n",
       "2         0.00                       0.000000               0.000000   \n",
       "3         0.00                       0.010000               0.000000   \n",
       "4         0.00                       0.000000               0.000000   \n",
       "5         0.00                       0.000000               0.000000   \n",
       "6         0.00                       0.000000               0.000000   \n",
       "7         0.00                       0.000000               0.000000   \n",
       "8         0.00                       0.000000               0.000000   \n",
       "9         0.00                       0.000000               0.000000   \n",
       "10        0.01                       0.010000               0.000000   \n",
       "11        0.00                       0.000000               0.000000   \n",
       "12        0.00                       0.000000               0.000000   \n",
       "13        0.00                       0.000000               0.000000   \n",
       "14        0.00                       0.010000               0.000000   \n",
       "15        0.00                       0.000000               0.000000   \n",
       "16        0.00                       0.000000               0.000000   \n",
       "17        0.00                       0.014493               0.000000   \n",
       "18        0.00                       0.000000               0.000000   \n",
       "19        0.00                       0.000000               0.045455   \n",
       "20        0.00                       0.014493               0.000000   \n",
       "21        0.00                       0.000000               0.000000   \n",
       "22        0.00                       0.000000               0.000000   \n",
       "23        0.00                       0.000000               0.000000   \n",
       "24        0.00                       0.000000               0.000000   \n",
       "25        0.01                       0.010000               0.000000   \n",
       "26        0.00                       0.000000               0.000000   \n",
       "27        0.00                       0.000000               0.000000   \n",
       "28        0.00                       0.014493               0.000000   \n",
       "29        0.00                       0.000000               0.000000   \n",
       "30        0.00                       0.000000               0.000000   \n",
       "31        0.00                       0.000000               0.000000   \n",
       "32        0.00                       0.000000               0.000000   \n",
       "33        0.00                       0.014493               0.000000   \n",
       "34        0.00                       0.000000               0.000000   \n",
       "35        0.00                       0.000000               0.000000   \n",
       "36        0.00                       0.000000               0.000000   \n",
       "37        0.00                       0.000000               0.000000   \n",
       "38        0.00                       0.041667               0.000000   \n",
       "\n",
       "    Veterinarian  Video Store  Vietnamese Restaurant  Wine Shop  Wings Joint  \\\n",
       "0           0.00     0.000000               0.000000       0.00     0.000000   \n",
       "1           0.00     0.000000               0.000000       0.00     0.000000   \n",
       "2           0.00     0.000000               0.017544       0.00     0.000000   \n",
       "3           0.00     0.000000               0.000000       0.00     0.000000   \n",
       "4           0.00     0.071429               0.000000       0.00     0.000000   \n",
       "5           0.00     0.071429               0.000000       0.00     0.000000   \n",
       "6           0.00     0.000000               0.017544       0.00     0.000000   \n",
       "7           0.00     0.000000               0.000000       0.00     0.000000   \n",
       "8           0.00     0.000000               0.000000       0.00     0.000000   \n",
       "9           0.00     0.000000               0.000000       0.00     0.000000   \n",
       "10          0.00     0.000000               0.000000       0.00     0.000000   \n",
       "11          0.00     0.000000               0.017544       0.00     0.000000   \n",
       "12          0.00     0.000000               0.000000       0.00     0.000000   \n",
       "13          0.00     0.000000               0.000000       0.00     0.000000   \n",
       "14          0.00     0.000000               0.000000       0.00     0.000000   \n",
       "15          0.00     0.000000               0.010309       0.00     0.000000   \n",
       "16          0.00     0.000000               0.000000       0.00     0.000000   \n",
       "17          0.00     0.000000               0.000000       0.00     0.000000   \n",
       "18          0.00     0.000000               0.022472       0.00     0.011236   \n",
       "19          0.00     0.000000               0.000000       0.00     0.000000   \n",
       "20          0.00     0.000000               0.000000       0.00     0.000000   \n",
       "21          0.00     0.000000               0.000000       0.00     0.000000   \n",
       "22          0.00     0.000000               0.000000       0.00     0.000000   \n",
       "23          0.00     0.000000               0.000000       0.00     0.000000   \n",
       "24          0.00     0.000000               0.000000       0.00     0.000000   \n",
       "25          0.00     0.000000               0.000000       0.00     0.000000   \n",
       "26          0.00     0.000000               0.022222       0.00     0.000000   \n",
       "27          0.00     0.000000               0.022472       0.00     0.011236   \n",
       "28          0.00     0.000000               0.000000       0.00     0.000000   \n",
       "29          0.00     0.000000               0.000000       0.00     0.000000   \n",
       "30          0.00     0.000000               0.017544       0.00     0.000000   \n",
       "31          0.00     0.000000               0.022222       0.00     0.000000   \n",
       "32          0.01     0.000000               0.000000       0.01     0.000000   \n",
       "33          0.00     0.000000               0.000000       0.00     0.000000   \n",
       "34          0.00     0.000000               0.000000       0.00     0.000000   \n",
       "35          0.00     0.000000               0.000000       0.00     0.000000   \n",
       "36          0.00     0.000000               0.000000       0.00     0.000000   \n",
       "37          0.00     0.000000               0.000000       0.00     0.000000   \n",
       "38          0.00     0.000000               0.000000       0.00     0.000000   \n",
       "\n",
       "    Xinjiang Restaurant  Yoga Studio  \n",
       "0              0.000000     0.000000  \n",
       "1              0.000000     0.000000  \n",
       "2              0.000000     0.000000  \n",
       "3              0.000000     0.030000  \n",
       "4              0.000000     0.000000  \n",
       "5              0.000000     0.000000  \n",
       "6              0.000000     0.000000  \n",
       "7              0.000000     0.000000  \n",
       "8              0.000000     0.000000  \n",
       "9              0.000000     0.000000  \n",
       "10             0.000000     0.010000  \n",
       "11             0.000000     0.000000  \n",
       "12             0.000000     0.000000  \n",
       "13             0.000000     0.000000  \n",
       "14             0.000000     0.010000  \n",
       "15             0.000000     0.010309  \n",
       "16             0.000000     0.000000  \n",
       "17             0.000000     0.000000  \n",
       "18             0.000000     0.000000  \n",
       "19             0.000000     0.000000  \n",
       "20             0.000000     0.000000  \n",
       "21             0.000000     0.000000  \n",
       "22             0.000000     0.000000  \n",
       "23             0.000000     0.000000  \n",
       "24             0.000000     0.000000  \n",
       "25             0.000000     0.010000  \n",
       "26             0.022222     0.000000  \n",
       "27             0.000000     0.000000  \n",
       "28             0.000000     0.000000  \n",
       "29             0.000000     0.000000  \n",
       "30             0.000000     0.000000  \n",
       "31             0.022222     0.000000  \n",
       "32             0.000000     0.000000  \n",
       "33             0.000000     0.000000  \n",
       "34             0.000000     0.000000  \n",
       "35             0.000000     0.000000  \n",
       "36             0.000000     0.000000  \n",
       "37             0.000000     0.000000  \n",
       "38             0.000000     0.000000  \n",
       "\n",
       "[39 rows x 237 columns]"
      ],
      "text/html": "<div>\n<style scoped>\n    .dataframe tbody tr th:only-of-type {\n        vertical-align: middle;\n    }\n\n    .dataframe tbody tr th {\n        vertical-align: top;\n    }\n\n    .dataframe thead th {\n        text-align: right;\n    }\n</style>\n<table border=\"1\" class=\"dataframe\">\n  <thead>\n    <tr style=\"text-align: right;\">\n      <th></th>\n      <th>Neighborhood</th>\n      <th>Airport</th>\n      <th>Airport Food Court</th>\n      <th>Airport Lounge</th>\n      <th>American Restaurant</th>\n      <th>Antique Shop</th>\n      <th>Aquarium</th>\n      <th>Argentinian Restaurant</th>\n      <th>Art Gallery</th>\n      <th>Art Museum</th>\n      <th>...</th>\n      <th>University</th>\n      <th>Vegetarian / Vegan Restaurant</th>\n      <th>Venezuelan Restaurant</th>\n      <th>Veterinarian</th>\n      <th>Video Store</th>\n      <th>Vietnamese Restaurant</th>\n      <th>Wine Shop</th>\n      <th>Wings Joint</th>\n      <th>Xinjiang Restaurant</th>\n      <th>Yoga Studio</th>\n    </tr>\n  </thead>\n  <tbody>\n    <tr>\n      <th>0</th>\n      <td>Berczy Park</td>\n      <td>0.000000</td>\n      <td>0.000000</td>\n      <td>0.000000</td>\n      <td>0.010000</td>\n      <td>0.000000</td>\n      <td>0.02</td>\n      <td>0.00</td>\n      <td>0.020000</td>\n      <td>0.00</td>\n      <td>...</td>\n      <td>0.00</td>\n      <td>0.020000</td>\n      <td>0.000000</td>\n      <td>0.00</td>\n      <td>0.000000</td>\n      <td>0.000000</td>\n      <td>0.00</td>\n      <td>0.000000</td>\n      <td>0.000000</td>\n      <td>0.000000</td>\n    </tr>\n    <tr>\n      <th>1</th>\n      <td>Brockton, Parkdale Village, Exhibition Place</td>\n      <td>0.000000</td>\n      <td>0.000000</td>\n      <td>0.000000</td>\n      <td>0.017241</td>\n      <td>0.000000</td>\n      <td>0.00</td>\n      <td>0.00</td>\n      <td>0.017241</td>\n      <td>0.00</td>\n      <td>...</td>\n      <td>0.00</td>\n      <td>0.000000</td>\n      <td>0.000000</td>\n      <td>0.00</td>\n      <td>0.000000</td>\n      <td>0.000000</td>\n      <td>0.00</td>\n      <td>0.000000</td>\n      <td>0.000000</td>\n      <td>0.000000</td>\n    </tr>\n    <tr>\n      <th>2</th>\n      <td>Business reply mail Processing Centre, South C...</td>\n      <td>0.000000</td>\n      <td>0.000000</td>\n      <td>0.000000</td>\n      <td>0.017544</td>\n      <td>0.000000</td>\n      <td>0.00</td>\n      <td>0.00</td>\n      <td>0.000000</td>\n      <td>0.00</td>\n      <td>...</td>\n      <td>0.00</td>\n      <td>0.000000</td>\n      <td>0.000000</td>\n      <td>0.00</td>\n      <td>0.000000</td>\n      <td>0.017544</td>\n      <td>0.00</td>\n      <td>0.000000</td>\n      <td>0.000000</td>\n      <td>0.000000</td>\n    </tr>\n    <tr>\n      <th>3</th>\n      <td>CN Tower, King and Spadina, Railway Lands, Har...</td>\n      <td>0.000000</td>\n      <td>0.000000</td>\n      <td>0.000000</td>\n      <td>0.000000</td>\n      <td>0.000000</td>\n      <td>0.02</td>\n      <td>0.00</td>\n      <td>0.010000</td>\n      <td>0.00</td>\n      <td>...</td>\n      <td>0.00</td>\n      <td>0.010000</td>\n      <td>0.000000</td>\n      <td>0.00</td>\n      <td>0.000000</td>\n      <td>0.000000</td>\n      <td>0.00</td>\n      <td>0.000000</td>\n      <td>0.000000</td>\n      <td>0.030000</td>\n    </tr>\n    <tr>\n      <th>4</th>\n      <td>Central Bay Street</td>\n      <td>0.000000</td>\n      <td>0.000000</td>\n      <td>0.000000</td>\n      <td>0.000000</td>\n      <td>0.000000</td>\n      <td>0.00</td>\n      <td>0.00</td>\n      <td>0.000000</td>\n      <td>0.00</td>\n      <td>...</td>\n      <td>0.00</td>\n      <td>0.000000</td>\n      <td>0.000000</td>\n      <td>0.00</td>\n      <td>0.071429</td>\n      <td>0.000000</td>\n      <td>0.00</td>\n      <td>0.000000</td>\n      <td>0.000000</td>\n      <td>0.000000</td>\n    </tr>\n    <tr>\n      <th>5</th>\n      <td>Christie</td>\n      <td>0.000000</td>\n      <td>0.000000</td>\n      <td>0.000000</td>\n      <td>0.000000</td>\n      <td>0.000000</td>\n      <td>0.00</td>\n      <td>0.00</td>\n      <td>0.000000</td>\n      <td>0.00</td>\n      <td>...</td>\n      <td>0.00</td>\n      <td>0.000000</td>\n      <td>0.000000</td>\n      <td>0.00</td>\n      <td>0.071429</td>\n      <td>0.000000</td>\n      <td>0.00</td>\n      <td>0.000000</td>\n      <td>0.000000</td>\n      <td>0.000000</td>\n    </tr>\n    <tr>\n      <th>6</th>\n      <td>Church and Wellesley</td>\n      <td>0.000000</td>\n      <td>0.000000</td>\n      <td>0.000000</td>\n      <td>0.017544</td>\n      <td>0.000000</td>\n      <td>0.00</td>\n      <td>0.00</td>\n      <td>0.000000</td>\n      <td>0.00</td>\n      <td>...</td>\n      <td>0.00</td>\n      <td>0.000000</td>\n      <td>0.000000</td>\n      <td>0.00</td>\n      <td>0.000000</td>\n      <td>0.017544</td>\n      <td>0.00</td>\n      <td>0.000000</td>\n      <td>0.000000</td>\n      <td>0.000000</td>\n    </tr>\n    <tr>\n      <th>7</th>\n      <td>Commerce Court, Victoria Hotel</td>\n      <td>0.000000</td>\n      <td>0.000000</td>\n      <td>0.000000</td>\n      <td>0.000000</td>\n      <td>0.000000</td>\n      <td>0.00</td>\n      <td>0.00</td>\n      <td>0.000000</td>\n      <td>0.00</td>\n      <td>...</td>\n      <td>0.00</td>\n      <td>0.000000</td>\n      <td>0.000000</td>\n      <td>0.00</td>\n      <td>0.000000</td>\n      <td>0.000000</td>\n      <td>0.00</td>\n      <td>0.000000</td>\n      <td>0.000000</td>\n      <td>0.000000</td>\n    </tr>\n    <tr>\n      <th>8</th>\n      <td>Davisville</td>\n      <td>0.000000</td>\n      <td>0.000000</td>\n      <td>0.000000</td>\n      <td>0.000000</td>\n      <td>0.000000</td>\n      <td>0.00</td>\n      <td>0.00</td>\n      <td>0.000000</td>\n      <td>0.00</td>\n      <td>...</td>\n      <td>0.00</td>\n      <td>0.000000</td>\n      <td>0.000000</td>\n      <td>0.00</td>\n      <td>0.000000</td>\n      <td>0.000000</td>\n      <td>0.00</td>\n      <td>0.000000</td>\n      <td>0.000000</td>\n      <td>0.000000</td>\n    </tr>\n    <tr>\n      <th>9</th>\n      <td>Davisville North</td>\n      <td>0.000000</td>\n      <td>0.000000</td>\n      <td>0.000000</td>\n      <td>0.000000</td>\n      <td>0.000000</td>\n      <td>0.00</td>\n      <td>0.00</td>\n      <td>0.000000</td>\n      <td>0.00</td>\n      <td>...</td>\n      <td>0.00</td>\n      <td>0.000000</td>\n      <td>0.000000</td>\n      <td>0.00</td>\n      <td>0.000000</td>\n      <td>0.000000</td>\n      <td>0.00</td>\n      <td>0.000000</td>\n      <td>0.000000</td>\n      <td>0.000000</td>\n    </tr>\n    <tr>\n      <th>10</th>\n      <td>Dufferin, Dovercourt Village</td>\n      <td>0.000000</td>\n      <td>0.000000</td>\n      <td>0.000000</td>\n      <td>0.020000</td>\n      <td>0.000000</td>\n      <td>0.00</td>\n      <td>0.00</td>\n      <td>0.010000</td>\n      <td>0.01</td>\n      <td>...</td>\n      <td>0.01</td>\n      <td>0.010000</td>\n      <td>0.000000</td>\n      <td>0.00</td>\n      <td>0.000000</td>\n      <td>0.000000</td>\n      <td>0.00</td>\n      <td>0.000000</td>\n      <td>0.000000</td>\n      <td>0.010000</td>\n    </tr>\n    <tr>\n      <th>11</th>\n      <td>First Canadian Place, Underground city</td>\n      <td>0.000000</td>\n      <td>0.000000</td>\n      <td>0.000000</td>\n      <td>0.017544</td>\n      <td>0.000000</td>\n      <td>0.00</td>\n      <td>0.00</td>\n      <td>0.000000</td>\n      <td>0.00</td>\n      <td>...</td>\n      <td>0.00</td>\n      <td>0.000000</td>\n      <td>0.000000</td>\n      <td>0.00</td>\n      <td>0.000000</td>\n      <td>0.017544</td>\n      <td>0.00</td>\n      <td>0.000000</td>\n      <td>0.000000</td>\n      <td>0.000000</td>\n    </tr>\n    <tr>\n      <th>12</th>\n      <td>Forest Hill North &amp; West, Forest Hill Road Park</td>\n      <td>0.000000</td>\n      <td>0.000000</td>\n      <td>0.000000</td>\n      <td>0.000000</td>\n      <td>0.000000</td>\n      <td>0.00</td>\n      <td>0.00</td>\n      <td>0.000000</td>\n      <td>0.00</td>\n      <td>...</td>\n      <td>0.00</td>\n      <td>0.000000</td>\n      <td>0.000000</td>\n      <td>0.00</td>\n      <td>0.000000</td>\n      <td>0.000000</td>\n      <td>0.00</td>\n      <td>0.000000</td>\n      <td>0.000000</td>\n      <td>0.000000</td>\n    </tr>\n    <tr>\n      <th>13</th>\n      <td>Garden District, Ryerson</td>\n      <td>0.000000</td>\n      <td>0.000000</td>\n      <td>0.000000</td>\n      <td>0.000000</td>\n      <td>0.000000</td>\n      <td>0.00</td>\n      <td>0.00</td>\n      <td>0.000000</td>\n      <td>0.00</td>\n      <td>...</td>\n      <td>0.00</td>\n      <td>0.000000</td>\n      <td>0.000000</td>\n      <td>0.00</td>\n      <td>0.000000</td>\n      <td>0.000000</td>\n      <td>0.00</td>\n      <td>0.000000</td>\n      <td>0.000000</td>\n      <td>0.000000</td>\n    </tr>\n    <tr>\n      <th>14</th>\n      <td>Harbourfront East, Union Station, Toronto Islands</td>\n      <td>0.000000</td>\n      <td>0.000000</td>\n      <td>0.000000</td>\n      <td>0.000000</td>\n      <td>0.000000</td>\n      <td>0.02</td>\n      <td>0.00</td>\n      <td>0.020000</td>\n      <td>0.00</td>\n      <td>...</td>\n      <td>0.00</td>\n      <td>0.010000</td>\n      <td>0.000000</td>\n      <td>0.00</td>\n      <td>0.000000</td>\n      <td>0.000000</td>\n      <td>0.00</td>\n      <td>0.000000</td>\n      <td>0.000000</td>\n      <td>0.010000</td>\n    </tr>\n    <tr>\n      <th>15</th>\n      <td>High Park, The Junction South</td>\n      <td>0.000000</td>\n      <td>0.000000</td>\n      <td>0.000000</td>\n      <td>0.000000</td>\n      <td>0.020619</td>\n      <td>0.00</td>\n      <td>0.00</td>\n      <td>0.010309</td>\n      <td>0.00</td>\n      <td>...</td>\n      <td>0.00</td>\n      <td>0.000000</td>\n      <td>0.000000</td>\n      <td>0.00</td>\n      <td>0.000000</td>\n      <td>0.010309</td>\n      <td>0.00</td>\n      <td>0.000000</td>\n      <td>0.000000</td>\n      <td>0.010309</td>\n    </tr>\n    <tr>\n      <th>16</th>\n      <td>India Bazaar, The Beaches West</td>\n      <td>0.000000</td>\n      <td>0.000000</td>\n      <td>0.000000</td>\n      <td>0.000000</td>\n      <td>0.000000</td>\n      <td>0.00</td>\n      <td>0.00</td>\n      <td>0.000000</td>\n      <td>0.00</td>\n      <td>...</td>\n      <td>0.00</td>\n      <td>0.000000</td>\n      <td>0.000000</td>\n      <td>0.00</td>\n      <td>0.000000</td>\n      <td>0.000000</td>\n      <td>0.00</td>\n      <td>0.000000</td>\n      <td>0.000000</td>\n      <td>0.000000</td>\n    </tr>\n    <tr>\n      <th>17</th>\n      <td>Kensington Market, Chinatown, Grange Park</td>\n      <td>0.000000</td>\n      <td>0.000000</td>\n      <td>0.000000</td>\n      <td>0.000000</td>\n      <td>0.000000</td>\n      <td>0.00</td>\n      <td>0.00</td>\n      <td>0.000000</td>\n      <td>0.00</td>\n      <td>...</td>\n      <td>0.00</td>\n      <td>0.014493</td>\n      <td>0.000000</td>\n      <td>0.00</td>\n      <td>0.000000</td>\n      <td>0.000000</td>\n      <td>0.00</td>\n      <td>0.000000</td>\n      <td>0.000000</td>\n      <td>0.000000</td>\n    </tr>\n    <tr>\n      <th>18</th>\n      <td>Lawrence Park</td>\n      <td>0.000000</td>\n      <td>0.000000</td>\n      <td>0.000000</td>\n      <td>0.000000</td>\n      <td>0.000000</td>\n      <td>0.00</td>\n      <td>0.00</td>\n      <td>0.000000</td>\n      <td>0.00</td>\n      <td>...</td>\n      <td>0.00</td>\n      <td>0.000000</td>\n      <td>0.000000</td>\n      <td>0.00</td>\n      <td>0.000000</td>\n      <td>0.022472</td>\n      <td>0.00</td>\n      <td>0.011236</td>\n      <td>0.000000</td>\n      <td>0.000000</td>\n    </tr>\n    <tr>\n      <th>19</th>\n      <td>Little Portugal, Trinity</td>\n      <td>0.045455</td>\n      <td>0.045455</td>\n      <td>0.045455</td>\n      <td>0.000000</td>\n      <td>0.000000</td>\n      <td>0.00</td>\n      <td>0.00</td>\n      <td>0.000000</td>\n      <td>0.00</td>\n      <td>...</td>\n      <td>0.00</td>\n      <td>0.000000</td>\n      <td>0.045455</td>\n      <td>0.00</td>\n      <td>0.000000</td>\n      <td>0.000000</td>\n      <td>0.00</td>\n      <td>0.000000</td>\n      <td>0.000000</td>\n      <td>0.000000</td>\n    </tr>\n    <tr>\n      <th>20</th>\n      <td>Moore Park, Summerhill East</td>\n      <td>0.000000</td>\n      <td>0.000000</td>\n      <td>0.000000</td>\n      <td>0.000000</td>\n      <td>0.000000</td>\n      <td>0.00</td>\n      <td>0.00</td>\n      <td>0.000000</td>\n      <td>0.00</td>\n      <td>...</td>\n      <td>0.00</td>\n      <td>0.014493</td>\n      <td>0.000000</td>\n      <td>0.00</td>\n      <td>0.000000</td>\n      <td>0.000000</td>\n      <td>0.00</td>\n      <td>0.000000</td>\n      <td>0.000000</td>\n      <td>0.000000</td>\n    </tr>\n    <tr>\n      <th>21</th>\n      <td>North Toronto West, Lawrence Park</td>\n      <td>0.000000</td>\n      <td>0.000000</td>\n      <td>0.000000</td>\n      <td>0.000000</td>\n      <td>0.000000</td>\n      <td>0.00</td>\n      <td>0.00</td>\n      <td>0.000000</td>\n      <td>0.00</td>\n      <td>...</td>\n      <td>0.00</td>\n      <td>0.000000</td>\n      <td>0.000000</td>\n      <td>0.00</td>\n      <td>0.000000</td>\n      <td>0.000000</td>\n      <td>0.00</td>\n      <td>0.000000</td>\n      <td>0.000000</td>\n      <td>0.000000</td>\n    </tr>\n    <tr>\n      <th>22</th>\n      <td>Parkdale, Roncesvalles</td>\n      <td>0.000000</td>\n      <td>0.000000</td>\n      <td>0.000000</td>\n      <td>0.000000</td>\n      <td>0.000000</td>\n      <td>0.00</td>\n      <td>0.00</td>\n      <td>0.000000</td>\n      <td>0.00</td>\n      <td>...</td>\n      <td>0.00</td>\n      <td>0.000000</td>\n      <td>0.000000</td>\n      <td>0.00</td>\n      <td>0.000000</td>\n      <td>0.000000</td>\n      <td>0.00</td>\n      <td>0.000000</td>\n      <td>0.000000</td>\n      <td>0.000000</td>\n    </tr>\n    <tr>\n      <th>23</th>\n      <td>Queen's Park, Ontario Provincial Government</td>\n      <td>0.000000</td>\n      <td>0.000000</td>\n      <td>0.000000</td>\n      <td>0.000000</td>\n      <td>0.000000</td>\n      <td>0.00</td>\n      <td>0.00</td>\n      <td>0.000000</td>\n      <td>0.00</td>\n      <td>...</td>\n      <td>0.00</td>\n      <td>0.000000</td>\n      <td>0.000000</td>\n      <td>0.00</td>\n      <td>0.000000</td>\n      <td>0.000000</td>\n      <td>0.00</td>\n      <td>0.000000</td>\n      <td>0.000000</td>\n      <td>0.000000</td>\n    </tr>\n    <tr>\n      <th>24</th>\n      <td>Regent Park, Harbourfront</td>\n      <td>0.000000</td>\n      <td>0.000000</td>\n      <td>0.000000</td>\n      <td>0.000000</td>\n      <td>0.000000</td>\n      <td>0.00</td>\n      <td>0.00</td>\n      <td>0.000000</td>\n      <td>0.00</td>\n      <td>...</td>\n      <td>0.00</td>\n      <td>0.000000</td>\n      <td>0.000000</td>\n      <td>0.00</td>\n      <td>0.000000</td>\n      <td>0.000000</td>\n      <td>0.00</td>\n      <td>0.000000</td>\n      <td>0.000000</td>\n      <td>0.000000</td>\n    </tr>\n    <tr>\n      <th>25</th>\n      <td>Richmond, Adelaide, King</td>\n      <td>0.000000</td>\n      <td>0.000000</td>\n      <td>0.000000</td>\n      <td>0.020000</td>\n      <td>0.000000</td>\n      <td>0.00</td>\n      <td>0.00</td>\n      <td>0.010000</td>\n      <td>0.01</td>\n      <td>...</td>\n      <td>0.01</td>\n      <td>0.010000</td>\n      <td>0.000000</td>\n      <td>0.00</td>\n      <td>0.000000</td>\n      <td>0.000000</td>\n      <td>0.00</td>\n      <td>0.000000</td>\n      <td>0.000000</td>\n      <td>0.010000</td>\n    </tr>\n    <tr>\n      <th>26</th>\n      <td>Rosedale</td>\n      <td>0.000000</td>\n      <td>0.000000</td>\n      <td>0.000000</td>\n      <td>0.000000</td>\n      <td>0.000000</td>\n      <td>0.00</td>\n      <td>0.00</td>\n      <td>0.000000</td>\n      <td>0.00</td>\n      <td>...</td>\n      <td>0.00</td>\n      <td>0.000000</td>\n      <td>0.000000</td>\n      <td>0.00</td>\n      <td>0.000000</td>\n      <td>0.022222</td>\n      <td>0.00</td>\n      <td>0.000000</td>\n      <td>0.022222</td>\n      <td>0.000000</td>\n    </tr>\n    <tr>\n      <th>27</th>\n      <td>Roselawn</td>\n      <td>0.000000</td>\n      <td>0.000000</td>\n      <td>0.000000</td>\n      <td>0.000000</td>\n      <td>0.000000</td>\n      <td>0.00</td>\n      <td>0.00</td>\n      <td>0.000000</td>\n      <td>0.00</td>\n      <td>...</td>\n      <td>0.00</td>\n      <td>0.000000</td>\n      <td>0.000000</td>\n      <td>0.00</td>\n      <td>0.000000</td>\n      <td>0.022472</td>\n      <td>0.00</td>\n      <td>0.011236</td>\n      <td>0.000000</td>\n      <td>0.000000</td>\n    </tr>\n    <tr>\n      <th>28</th>\n      <td>Runnymede, Swansea</td>\n      <td>0.000000</td>\n      <td>0.000000</td>\n      <td>0.000000</td>\n      <td>0.000000</td>\n      <td>0.000000</td>\n      <td>0.00</td>\n      <td>0.00</td>\n      <td>0.000000</td>\n      <td>0.00</td>\n      <td>...</td>\n      <td>0.00</td>\n      <td>0.014493</td>\n      <td>0.000000</td>\n      <td>0.00</td>\n      <td>0.000000</td>\n      <td>0.000000</td>\n      <td>0.00</td>\n      <td>0.000000</td>\n      <td>0.000000</td>\n      <td>0.000000</td>\n    </tr>\n    <tr>\n      <th>29</th>\n      <td>St. James Town</td>\n      <td>0.000000</td>\n      <td>0.000000</td>\n      <td>0.000000</td>\n      <td>0.000000</td>\n      <td>0.000000</td>\n      <td>0.00</td>\n      <td>0.00</td>\n      <td>0.000000</td>\n      <td>0.00</td>\n      <td>...</td>\n      <td>0.00</td>\n      <td>0.000000</td>\n      <td>0.000000</td>\n      <td>0.00</td>\n      <td>0.000000</td>\n      <td>0.000000</td>\n      <td>0.00</td>\n      <td>0.000000</td>\n      <td>0.000000</td>\n      <td>0.000000</td>\n    </tr>\n    <tr>\n      <th>30</th>\n      <td>St. James Town, Cabbagetown</td>\n      <td>0.000000</td>\n      <td>0.000000</td>\n      <td>0.000000</td>\n      <td>0.017544</td>\n      <td>0.000000</td>\n      <td>0.00</td>\n      <td>0.00</td>\n      <td>0.000000</td>\n      <td>0.00</td>\n      <td>...</td>\n      <td>0.00</td>\n      <td>0.000000</td>\n      <td>0.000000</td>\n      <td>0.00</td>\n      <td>0.000000</td>\n      <td>0.017544</td>\n      <td>0.00</td>\n      <td>0.000000</td>\n      <td>0.000000</td>\n      <td>0.000000</td>\n    </tr>\n    <tr>\n      <th>31</th>\n      <td>Stn A PO Boxes</td>\n      <td>0.000000</td>\n      <td>0.000000</td>\n      <td>0.000000</td>\n      <td>0.000000</td>\n      <td>0.000000</td>\n      <td>0.00</td>\n      <td>0.00</td>\n      <td>0.000000</td>\n      <td>0.00</td>\n      <td>...</td>\n      <td>0.00</td>\n      <td>0.000000</td>\n      <td>0.000000</td>\n      <td>0.00</td>\n      <td>0.000000</td>\n      <td>0.022222</td>\n      <td>0.00</td>\n      <td>0.000000</td>\n      <td>0.022222</td>\n      <td>0.000000</td>\n    </tr>\n    <tr>\n      <th>32</th>\n      <td>Studio District</td>\n      <td>0.000000</td>\n      <td>0.000000</td>\n      <td>0.000000</td>\n      <td>0.000000</td>\n      <td>0.000000</td>\n      <td>0.00</td>\n      <td>0.02</td>\n      <td>0.000000</td>\n      <td>0.00</td>\n      <td>...</td>\n      <td>0.00</td>\n      <td>0.000000</td>\n      <td>0.000000</td>\n      <td>0.01</td>\n      <td>0.000000</td>\n      <td>0.000000</td>\n      <td>0.01</td>\n      <td>0.000000</td>\n      <td>0.000000</td>\n      <td>0.000000</td>\n    </tr>\n    <tr>\n      <th>33</th>\n      <td>Summerhill West, Rathnelly, South Hill, Forest...</td>\n      <td>0.000000</td>\n      <td>0.000000</td>\n      <td>0.000000</td>\n      <td>0.000000</td>\n      <td>0.000000</td>\n      <td>0.00</td>\n      <td>0.00</td>\n      <td>0.000000</td>\n      <td>0.00</td>\n      <td>...</td>\n      <td>0.00</td>\n      <td>0.014493</td>\n      <td>0.000000</td>\n      <td>0.00</td>\n      <td>0.000000</td>\n      <td>0.000000</td>\n      <td>0.00</td>\n      <td>0.000000</td>\n      <td>0.000000</td>\n      <td>0.000000</td>\n    </tr>\n    <tr>\n      <th>34</th>\n      <td>The Annex, North Midtown, Yorkville</td>\n      <td>0.000000</td>\n      <td>0.000000</td>\n      <td>0.000000</td>\n      <td>0.000000</td>\n      <td>0.000000</td>\n      <td>0.00</td>\n      <td>0.00</td>\n      <td>0.000000</td>\n      <td>0.00</td>\n      <td>...</td>\n      <td>0.00</td>\n      <td>0.000000</td>\n      <td>0.000000</td>\n      <td>0.00</td>\n      <td>0.000000</td>\n      <td>0.000000</td>\n      <td>0.00</td>\n      <td>0.000000</td>\n      <td>0.000000</td>\n      <td>0.000000</td>\n    </tr>\n    <tr>\n      <th>35</th>\n      <td>The Beaches</td>\n      <td>0.000000</td>\n      <td>0.000000</td>\n      <td>0.000000</td>\n      <td>0.000000</td>\n      <td>0.000000</td>\n      <td>0.00</td>\n      <td>0.00</td>\n      <td>0.000000</td>\n      <td>0.00</td>\n      <td>...</td>\n      <td>0.00</td>\n      <td>0.000000</td>\n      <td>0.000000</td>\n      <td>0.00</td>\n      <td>0.000000</td>\n      <td>0.000000</td>\n      <td>0.00</td>\n      <td>0.000000</td>\n      <td>0.000000</td>\n      <td>0.000000</td>\n    </tr>\n    <tr>\n      <th>36</th>\n      <td>The Danforth West, Riverdale</td>\n      <td>0.000000</td>\n      <td>0.000000</td>\n      <td>0.000000</td>\n      <td>0.000000</td>\n      <td>0.000000</td>\n      <td>0.00</td>\n      <td>0.00</td>\n      <td>0.000000</td>\n      <td>0.00</td>\n      <td>...</td>\n      <td>0.00</td>\n      <td>0.000000</td>\n      <td>0.000000</td>\n      <td>0.00</td>\n      <td>0.000000</td>\n      <td>0.000000</td>\n      <td>0.00</td>\n      <td>0.000000</td>\n      <td>0.000000</td>\n      <td>0.000000</td>\n    </tr>\n    <tr>\n      <th>37</th>\n      <td>Toronto Dominion Centre, Design Exchange</td>\n      <td>0.000000</td>\n      <td>0.000000</td>\n      <td>0.000000</td>\n      <td>0.000000</td>\n      <td>0.000000</td>\n      <td>0.00</td>\n      <td>0.00</td>\n      <td>0.000000</td>\n      <td>0.00</td>\n      <td>...</td>\n      <td>0.00</td>\n      <td>0.000000</td>\n      <td>0.000000</td>\n      <td>0.00</td>\n      <td>0.000000</td>\n      <td>0.000000</td>\n      <td>0.00</td>\n      <td>0.000000</td>\n      <td>0.000000</td>\n      <td>0.000000</td>\n    </tr>\n    <tr>\n      <th>38</th>\n      <td>University of Toronto, Harbord</td>\n      <td>0.000000</td>\n      <td>0.000000</td>\n      <td>0.000000</td>\n      <td>0.000000</td>\n      <td>0.000000</td>\n      <td>0.00</td>\n      <td>0.00</td>\n      <td>0.000000</td>\n      <td>0.00</td>\n      <td>...</td>\n      <td>0.00</td>\n      <td>0.041667</td>\n      <td>0.000000</td>\n      <td>0.00</td>\n      <td>0.000000</td>\n      <td>0.000000</td>\n      <td>0.00</td>\n      <td>0.000000</td>\n      <td>0.000000</td>\n      <td>0.000000</td>\n    </tr>\n  </tbody>\n</table>\n<p>39 rows × 237 columns</p>\n</div>"
     },
     "metadata": {},
     "execution_count": 171
    }
   ],
   "source": [
    "toronto_grouped = encode_df.groupby('Neighborhood').mean().reset_index()\n",
    "toronto_grouped"
   ]
  },
  {
   "source": [
    "### Extract Top 10 venues from each Neighborhood"
   ],
   "cell_type": "markdown",
   "metadata": {}
  },
  {
   "cell_type": "code",
   "execution_count": null,
   "metadata": {},
   "outputs": [],
   "source": []
  },
  {
   "cell_type": "code",
   "execution_count": null,
   "metadata": {},
   "outputs": [],
   "source": []
  }
 ]
}