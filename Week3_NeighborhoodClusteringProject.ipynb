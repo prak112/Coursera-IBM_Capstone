{
 "metadata": {
  "language_info": {
   "codemirror_mode": {
    "name": "ipython",
    "version": 3
   },
   "file_extension": ".py",
   "mimetype": "text/x-python",
   "name": "python",
   "nbconvert_exporter": "python",
   "pygments_lexer": "ipython3",
   "version": "3.8.5-final"
  },
  "orig_nbformat": 2,
  "kernelspec": {
   "name": "python3",
   "display_name": "Python 3"
  }
 },
 "nbformat": 4,
 "nbformat_minor": 2,
 "cells": [
  {
   "source": [
    "# PART 1 - Data Extraction  "
   ],
   "cell_type": "markdown",
   "metadata": {}
  },
  {
   "source": [
    "## Import neccessary libraries"
   ],
   "cell_type": "markdown",
   "metadata": {}
  },
  {
   "cell_type": "code",
   "execution_count": 32,
   "metadata": {},
   "outputs": [],
   "source": [
    "import numpy as np\n",
    "import pandas as pd\n",
    "import lxml\n",
    "import lxml.etree"
   ]
  },
  {
   "source": [
    "## Building Dataframe from webpage"
   ],
   "cell_type": "markdown",
   "metadata": {}
  },
  {
   "cell_type": "code",
   "execution_count": 33,
   "metadata": {},
   "outputs": [
    {
     "output_type": "execute_result",
     "data": {
      "text/plain": [
       "  Postal Code           Borough              Neighbourhood\n",
       "0         M1A      Not assigned               Not assigned\n",
       "1         M2A      Not assigned               Not assigned\n",
       "2         M3A        North York                  Parkwoods\n",
       "3         M4A        North York           Victoria Village\n",
       "4         M5A  Downtown Toronto  Regent Park, Harbourfront"
      ],
      "text/html": "<div>\n<style scoped>\n    .dataframe tbody tr th:only-of-type {\n        vertical-align: middle;\n    }\n\n    .dataframe tbody tr th {\n        vertical-align: top;\n    }\n\n    .dataframe thead th {\n        text-align: right;\n    }\n</style>\n<table border=\"1\" class=\"dataframe\">\n  <thead>\n    <tr style=\"text-align: right;\">\n      <th></th>\n      <th>Postal Code</th>\n      <th>Borough</th>\n      <th>Neighbourhood</th>\n    </tr>\n  </thead>\n  <tbody>\n    <tr>\n      <th>0</th>\n      <td>M1A</td>\n      <td>Not assigned</td>\n      <td>Not assigned</td>\n    </tr>\n    <tr>\n      <th>1</th>\n      <td>M2A</td>\n      <td>Not assigned</td>\n      <td>Not assigned</td>\n    </tr>\n    <tr>\n      <th>2</th>\n      <td>M3A</td>\n      <td>North York</td>\n      <td>Parkwoods</td>\n    </tr>\n    <tr>\n      <th>3</th>\n      <td>M4A</td>\n      <td>North York</td>\n      <td>Victoria Village</td>\n    </tr>\n    <tr>\n      <th>4</th>\n      <td>M5A</td>\n      <td>Downtown Toronto</td>\n      <td>Regent Park, Harbourfront</td>\n    </tr>\n  </tbody>\n</table>\n</div>"
     },
     "metadata": {},
     "execution_count": 33
    }
   ],
   "source": [
    "url = 'https://en.wikipedia.org/wiki/List_of_postal_codes_of_Canada:_M'\n",
    "data = pd.read_html(url)\n",
    "df = data[0]\n",
    "df.head()"
   ]
  },
  {
   "source": [
    "## Filtering Dataframe to remove 'Not Assigned' Boroughs"
   ],
   "cell_type": "markdown",
   "metadata": {}
  },
  {
   "cell_type": "code",
   "execution_count": 34,
   "metadata": {},
   "outputs": [
    {
     "output_type": "stream",
     "name": "stdout",
     "text": [
      "Not assigned Boroughs: 0\n"
     ]
    }
   ],
   "source": [
    "filter_df = df.loc[ df['Borough'] != 'Not assigned']\n",
    "print(f\"Not assigned Boroughs: {(filter_df.Borough == 'Not assigned').sum()}\")"
   ]
  },
  {
   "cell_type": "code",
   "execution_count": 35,
   "metadata": {},
   "outputs": [
    {
     "output_type": "stream",
     "name": "stdout",
     "text": [
      "Not assigned Neighbourhoods: 0\n"
     ]
    }
   ],
   "source": [
    "print(f\"Not assigned Neighbourhoods: {(filter_df.Neighbourhood == 'Not assigned').sum()}\")"
   ]
  },
  {
   "cell_type": "code",
   "execution_count": 36,
   "metadata": {},
   "outputs": [
    {
     "output_type": "execute_result",
     "data": {
      "text/plain": [
       "  Postal Code           Borough                                Neighbourhood\n",
       "0         M3A        North York                                    Parkwoods\n",
       "1         M4A        North York                             Victoria Village\n",
       "2         M5A  Downtown Toronto                    Regent Park, Harbourfront\n",
       "3         M6A        North York             Lawrence Manor, Lawrence Heights\n",
       "4         M7A  Downtown Toronto  Queen's Park, Ontario Provincial Government"
      ],
      "text/html": "<div>\n<style scoped>\n    .dataframe tbody tr th:only-of-type {\n        vertical-align: middle;\n    }\n\n    .dataframe tbody tr th {\n        vertical-align: top;\n    }\n\n    .dataframe thead th {\n        text-align: right;\n    }\n</style>\n<table border=\"1\" class=\"dataframe\">\n  <thead>\n    <tr style=\"text-align: right;\">\n      <th></th>\n      <th>Postal Code</th>\n      <th>Borough</th>\n      <th>Neighbourhood</th>\n    </tr>\n  </thead>\n  <tbody>\n    <tr>\n      <th>0</th>\n      <td>M3A</td>\n      <td>North York</td>\n      <td>Parkwoods</td>\n    </tr>\n    <tr>\n      <th>1</th>\n      <td>M4A</td>\n      <td>North York</td>\n      <td>Victoria Village</td>\n    </tr>\n    <tr>\n      <th>2</th>\n      <td>M5A</td>\n      <td>Downtown Toronto</td>\n      <td>Regent Park, Harbourfront</td>\n    </tr>\n    <tr>\n      <th>3</th>\n      <td>M6A</td>\n      <td>North York</td>\n      <td>Lawrence Manor, Lawrence Heights</td>\n    </tr>\n    <tr>\n      <th>4</th>\n      <td>M7A</td>\n      <td>Downtown Toronto</td>\n      <td>Queen's Park, Ontario Provincial Government</td>\n    </tr>\n  </tbody>\n</table>\n</div>"
     },
     "metadata": {},
     "execution_count": 36
    }
   ],
   "source": [
    "filter_df.reset_index(drop=True, inplace=True)\n",
    "filter_df.head()"
   ]
  },
  {
   "cell_type": "code",
   "execution_count": 37,
   "metadata": {},
   "outputs": [
    {
     "output_type": "stream",
     "name": "stdout",
     "text": [
      "Shape of filtered Dataframe: (103, 3)\n"
     ]
    }
   ],
   "source": [
    "print(f\"Shape of filtered Dataframe: {filter_df.shape}\")"
   ]
  },
  {
   "source": [
    "# PART 2 - Geospatial data (Latitudes & Longitudes) Extraction"
   ],
   "cell_type": "markdown",
   "metadata": {}
  },
  {
   "source": [
    "## Import neccessary libraries"
   ],
   "cell_type": "markdown",
   "metadata": {}
  },
  {
   "cell_type": "code",
   "execution_count": 38,
   "metadata": {},
   "outputs": [],
   "source": [
    "#!pip install geocoder --quiet\n",
    "import geocoder\n",
    "from geopy.geocoders import Nominatim"
   ]
  },
  {
   "source": [
    "## Using Postal codes for Latitudes & Longitudes"
   ],
   "cell_type": "markdown",
   "metadata": {}
  },
  {
   "source": [
    "#define empty lists for geospatial values and None values\n",
    "lat = []\n",
    "long = []\n",
    "nones = []\n",
    "\n",
    "#initialize geolocator\n",
    "geolocator = Nominatim(user_agent = 'toronto_zipcodes_M')\n",
    "\n",
    "#loop through filter_df['Postal Code'] values and append to the respective lists\n",
    "for code in filter_df['Postal Code']:\n",
    "    location = geolocator.geocode(code)\n",
    "    if location is None:\n",
    "        nones.append(None)\n",
    "        nones.append(None)\n",
    "    else:\n",
    "        latitude = location.latitude\n",
    "        longitude = location.longitude\n",
    "    lat.append(latitude)\n",
    "    long.append(longitude)\n"
   ],
   "cell_type": "code",
   "metadata": {},
   "execution_count": 39,
   "outputs": []
  },
  {
   "cell_type": "code",
   "execution_count": 40,
   "metadata": {},
   "outputs": [
    {
     "output_type": "stream",
     "name": "stdout",
     "text": [
      "Total non-None values: 103, 103\nTotal None values: 112\n"
     ]
    }
   ],
   "source": [
    "print(f\"Total non-None values: {len(lat)}, {len(long)}\")\n",
    "print(f\"Total None values: {len(nones)}\")"
   ]
  },
  {
   "source": [
    "## Adding Latitudes & Longitudes values in filter_df"
   ],
   "cell_type": "markdown",
   "metadata": {}
  },
  {
   "cell_type": "code",
   "execution_count": 41,
   "metadata": {},
   "outputs": [
    {
     "output_type": "execute_result",
     "data": {
      "text/plain": [
       "  Postal Code           Borough                                Neighbourhood  \\\n",
       "0         M3A        North York                                    Parkwoods   \n",
       "1         M4A        North York                             Victoria Village   \n",
       "2         M5A  Downtown Toronto                    Regent Park, Harbourfront   \n",
       "3         M6A        North York             Lawrence Manor, Lawrence Heights   \n",
       "4         M7A  Downtown Toronto  Queen's Park, Ontario Provincial Government   \n",
       "5         M9A         Etobicoke      Islington Avenue, Humber Valley Village   \n",
       "6         M1B       Scarborough                               Malvern, Rouge   \n",
       "7         M3B        North York                                    Don Mills   \n",
       "8         M4B         East York              Parkview Hill, Woodbine Gardens   \n",
       "9         M5B  Downtown Toronto                     Garden District, Ryerson   \n",
       "\n",
       "    Latitude  Longitude  \n",
       "0  49.484606   8.466197  \n",
       "1  49.484290   8.467000  \n",
       "2  45.440588  28.018025  \n",
       "3  53.794164  -1.752006  \n",
       "4  44.427689  26.171308  \n",
       "5  44.427689  26.171308  \n",
       "6  45.255274 -76.289760  \n",
       "7  45.439301  28.021317  \n",
       "8  45.440569  28.019181  \n",
       "9  45.440820  28.016137  "
      ],
      "text/html": "<div>\n<style scoped>\n    .dataframe tbody tr th:only-of-type {\n        vertical-align: middle;\n    }\n\n    .dataframe tbody tr th {\n        vertical-align: top;\n    }\n\n    .dataframe thead th {\n        text-align: right;\n    }\n</style>\n<table border=\"1\" class=\"dataframe\">\n  <thead>\n    <tr style=\"text-align: right;\">\n      <th></th>\n      <th>Postal Code</th>\n      <th>Borough</th>\n      <th>Neighbourhood</th>\n      <th>Latitude</th>\n      <th>Longitude</th>\n    </tr>\n  </thead>\n  <tbody>\n    <tr>\n      <th>0</th>\n      <td>M3A</td>\n      <td>North York</td>\n      <td>Parkwoods</td>\n      <td>49.484606</td>\n      <td>8.466197</td>\n    </tr>\n    <tr>\n      <th>1</th>\n      <td>M4A</td>\n      <td>North York</td>\n      <td>Victoria Village</td>\n      <td>49.484290</td>\n      <td>8.467000</td>\n    </tr>\n    <tr>\n      <th>2</th>\n      <td>M5A</td>\n      <td>Downtown Toronto</td>\n      <td>Regent Park, Harbourfront</td>\n      <td>45.440588</td>\n      <td>28.018025</td>\n    </tr>\n    <tr>\n      <th>3</th>\n      <td>M6A</td>\n      <td>North York</td>\n      <td>Lawrence Manor, Lawrence Heights</td>\n      <td>53.794164</td>\n      <td>-1.752006</td>\n    </tr>\n    <tr>\n      <th>4</th>\n      <td>M7A</td>\n      <td>Downtown Toronto</td>\n      <td>Queen's Park, Ontario Provincial Government</td>\n      <td>44.427689</td>\n      <td>26.171308</td>\n    </tr>\n    <tr>\n      <th>5</th>\n      <td>M9A</td>\n      <td>Etobicoke</td>\n      <td>Islington Avenue, Humber Valley Village</td>\n      <td>44.427689</td>\n      <td>26.171308</td>\n    </tr>\n    <tr>\n      <th>6</th>\n      <td>M1B</td>\n      <td>Scarborough</td>\n      <td>Malvern, Rouge</td>\n      <td>45.255274</td>\n      <td>-76.289760</td>\n    </tr>\n    <tr>\n      <th>7</th>\n      <td>M3B</td>\n      <td>North York</td>\n      <td>Don Mills</td>\n      <td>45.439301</td>\n      <td>28.021317</td>\n    </tr>\n    <tr>\n      <th>8</th>\n      <td>M4B</td>\n      <td>East York</td>\n      <td>Parkview Hill, Woodbine Gardens</td>\n      <td>45.440569</td>\n      <td>28.019181</td>\n    </tr>\n    <tr>\n      <th>9</th>\n      <td>M5B</td>\n      <td>Downtown Toronto</td>\n      <td>Garden District, Ryerson</td>\n      <td>45.440820</td>\n      <td>28.016137</td>\n    </tr>\n  </tbody>\n</table>\n</div>"
     },
     "metadata": {},
     "execution_count": 41
    }
   ],
   "source": [
    "filter_df['Latitude'] = lat\n",
    "filter_df['Longitude'] = long\n",
    "filter_df.head(10)"
   ]
  },
  {
   "source": [
    "# PART-3 Explore & Cluster Neighbourhoods"
   ],
   "cell_type": "markdown",
   "metadata": {}
  },
  {
   "source": [
    "## PART-3.1 Exploring nearby venues in Boroughs ending with 'Toronto'"
   ],
   "cell_type": "markdown",
   "metadata": {}
  },
  {
   "source": [
    "### Import necessary libraries"
   ],
   "cell_type": "markdown",
   "metadata": {}
  },
  {
   "cell_type": "code",
   "execution_count": 106,
   "metadata": {},
   "outputs": [],
   "source": [
    "import re\n",
    "import folium\n",
    "import requests"
   ]
  },
  {
   "source": [
    "### Apply *regex* function to extract Borough names ending with 'Toronto'"
   ],
   "cell_type": "markdown",
   "metadata": {}
  },
  {
   "cell_type": "code",
   "execution_count": 68,
   "metadata": {},
   "outputs": [
    {
     "output_type": "stream",
     "name": "stdout",
     "text": [
      "[['Downtown Toronto'], ['Downtown Toronto'], ['Downtown Toronto'], ['Downtown Toronto'], ['East Toronto'], ['Downtown Toronto'], ['Downtown Toronto'], ['Downtown Toronto'], ['Downtown Toronto'], ['West Toronto'], ['Downtown Toronto'], ['West Toronto'], ['East Toronto'], ['Downtown Toronto'], ['West Toronto'], ['East Toronto'], ['Downtown Toronto'], ['East Toronto'], ['Central Toronto'], ['Central Toronto'], ['Central Toronto'], ['Central Toronto'], ['West Toronto'], ['Central Toronto'], ['Central Toronto'], ['West Toronto'], ['Central Toronto'], ['Downtown Toronto'], ['West Toronto'], ['Central Toronto'], ['Downtown Toronto'], ['Central Toronto'], ['Downtown Toronto'], ['Downtown Toronto'], ['Downtown Toronto'], ['Downtown Toronto'], ['Downtown Toronto'], ['Downtown Toronto'], ['East Toronto']]\n"
     ]
    }
   ],
   "source": [
    "\n",
    "string = filter_df['Borough'].values\n",
    "regex = r\"\\w*\\sToronto\"\n",
    "borough = []\n",
    "none_vals = []\n",
    "for row in string:\n",
    "    val = re.findall(regex, row)\n",
    "    if val == []:\n",
    "        none_vals.append(val)\n",
    "    else:\n",
    "        borough.append(val)\n",
    "\n",
    "print(borough)"
   ]
  },
  {
   "cell_type": "code",
   "execution_count": 79,
   "metadata": {},
   "outputs": [
    {
     "output_type": "stream",
     "name": "stdout",
     "text": [
      "Boroughs chosen for exploring venues:\n ['Central Toronto' 'Downtown Toronto' 'East Toronto' 'West Toronto']\n"
     ]
    }
   ],
   "source": [
    "chosen_boroughs = np.unique(np.array(borough))\n",
    "print('Boroughs chosen for exploring venues:\\n',chosen_boroughs)"
   ]
  },
  {
   "source": [
    "### Subset Dataframe with chosen Boroughs for exploring"
   ],
   "cell_type": "markdown",
   "metadata": {}
  },
  {
   "cell_type": "code",
   "execution_count": 84,
   "metadata": {},
   "outputs": [
    {
     "output_type": "execute_result",
     "data": {
      "text/plain": [
       "  Postal Code           Borough                                Neighbourhood  \\\n",
       "0         M5A  Downtown Toronto                    Regent Park, Harbourfront   \n",
       "1         M7A  Downtown Toronto  Queen's Park, Ontario Provincial Government   \n",
       "2         M5B  Downtown Toronto                     Garden District, Ryerson   \n",
       "3         M5C  Downtown Toronto                               St. James Town   \n",
       "4         M4E      East Toronto                                  The Beaches   \n",
       "5         M5E  Downtown Toronto                                  Berczy Park   \n",
       "6         M5G  Downtown Toronto                           Central Bay Street   \n",
       "7         M6G  Downtown Toronto                                     Christie   \n",
       "8         M5H  Downtown Toronto                     Richmond, Adelaide, King   \n",
       "9         M6H      West Toronto                 Dufferin, Dovercourt Village   \n",
       "\n",
       "    Latitude  Longitude  \n",
       "0  45.440588  28.018025  \n",
       "1  44.427689  26.171308  \n",
       "2  45.440820  28.016137  \n",
       "3  -6.173246  39.207869  \n",
       "4  43.644110 -79.588907  \n",
       "5  43.642106 -79.377445  \n",
       "6  39.749568 -86.040080  \n",
       "7  39.749568 -86.040080  \n",
       "8  43.649901 -79.383718  \n",
       "9  43.649901 -79.383718  "
      ],
      "text/html": "<div>\n<style scoped>\n    .dataframe tbody tr th:only-of-type {\n        vertical-align: middle;\n    }\n\n    .dataframe tbody tr th {\n        vertical-align: top;\n    }\n\n    .dataframe thead th {\n        text-align: right;\n    }\n</style>\n<table border=\"1\" class=\"dataframe\">\n  <thead>\n    <tr style=\"text-align: right;\">\n      <th></th>\n      <th>Postal Code</th>\n      <th>Borough</th>\n      <th>Neighbourhood</th>\n      <th>Latitude</th>\n      <th>Longitude</th>\n    </tr>\n  </thead>\n  <tbody>\n    <tr>\n      <th>0</th>\n      <td>M5A</td>\n      <td>Downtown Toronto</td>\n      <td>Regent Park, Harbourfront</td>\n      <td>45.440588</td>\n      <td>28.018025</td>\n    </tr>\n    <tr>\n      <th>1</th>\n      <td>M7A</td>\n      <td>Downtown Toronto</td>\n      <td>Queen's Park, Ontario Provincial Government</td>\n      <td>44.427689</td>\n      <td>26.171308</td>\n    </tr>\n    <tr>\n      <th>2</th>\n      <td>M5B</td>\n      <td>Downtown Toronto</td>\n      <td>Garden District, Ryerson</td>\n      <td>45.440820</td>\n      <td>28.016137</td>\n    </tr>\n    <tr>\n      <th>3</th>\n      <td>M5C</td>\n      <td>Downtown Toronto</td>\n      <td>St. James Town</td>\n      <td>-6.173246</td>\n      <td>39.207869</td>\n    </tr>\n    <tr>\n      <th>4</th>\n      <td>M4E</td>\n      <td>East Toronto</td>\n      <td>The Beaches</td>\n      <td>43.644110</td>\n      <td>-79.588907</td>\n    </tr>\n    <tr>\n      <th>5</th>\n      <td>M5E</td>\n      <td>Downtown Toronto</td>\n      <td>Berczy Park</td>\n      <td>43.642106</td>\n      <td>-79.377445</td>\n    </tr>\n    <tr>\n      <th>6</th>\n      <td>M5G</td>\n      <td>Downtown Toronto</td>\n      <td>Central Bay Street</td>\n      <td>39.749568</td>\n      <td>-86.040080</td>\n    </tr>\n    <tr>\n      <th>7</th>\n      <td>M6G</td>\n      <td>Downtown Toronto</td>\n      <td>Christie</td>\n      <td>39.749568</td>\n      <td>-86.040080</td>\n    </tr>\n    <tr>\n      <th>8</th>\n      <td>M5H</td>\n      <td>Downtown Toronto</td>\n      <td>Richmond, Adelaide, King</td>\n      <td>43.649901</td>\n      <td>-79.383718</td>\n    </tr>\n    <tr>\n      <th>9</th>\n      <td>M6H</td>\n      <td>West Toronto</td>\n      <td>Dufferin, Dovercourt Village</td>\n      <td>43.649901</td>\n      <td>-79.383718</td>\n    </tr>\n  </tbody>\n</table>\n</div>"
     },
     "metadata": {},
     "execution_count": 84
    }
   ],
   "source": [
    "explore_df = filter_df.loc[filter_df['Borough'].isin(chosen_boroughs)].reset_index(drop=True)\n",
    "explore_df.head(10)"
   ]
  },
  {
   "source": [
    "### Map chosen Boroughs and their Neighbourhoods in Toronto "
   ],
   "cell_type": "markdown",
   "metadata": {}
  },
  {
   "cell_type": "code",
   "execution_count": 86,
   "metadata": {},
   "outputs": [
    {
     "output_type": "stream",
     "name": "stdout",
     "text": [
      "Coordinates of Toronto are: 43.6534817,-79.3839347\n"
     ]
    }
   ],
   "source": [
    "address = 'Toronto, Ontario, Canada'\n",
    "geolocator = Nominatim(user_agent='Toronto_explorer')\n",
    "location = geolocator.geocode(address)\n",
    "latitude = location.latitude\n",
    "longitude = location.longitude\n",
    "print(f\"Coordinates of Toronto are: {latitude}, {longitude}\")"
   ]
  },
  {
   "cell_type": "code",
   "execution_count": 95,
   "metadata": {},
   "outputs": [
    {
     "output_type": "execute_result",
     "data": {
      "text/plain": [
       "<folium.folium.Map at 0x1e3196c6880>"
      ],
      "text/html": "<div style=\"width:100%;\"><div style=\"position:relative;width:100%;height:0;padding-bottom:60%;\"><span style=\"color:#565656\">Make this Notebook Trusted to load map: File -> Trust Notebook</span><iframe src=\"about:blank\" style=\"position:absolute;width:100%;height:100%;left:0;top:0;border:none !important;\" data-html=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 onload=\"this.contentDocument.open();this.contentDocument.write(atob(this.getAttribute('data-html')));this.contentDocument.close();\" allowfullscreen webkitallowfullscreen mozallowfullscreen></iframe></div></div>"
     },
     "metadata": {},
     "execution_count": 95
    }
   ],
   "source": [
    "toronto_map = folium.Map(location= [latitude, longitude], zoom_start=10)\n",
    "\n",
    "#add Neighbourhood markers on toronto_map\n",
    "for lat, long, bor, hood in zip(explore_df['Latitude'], explore_df['Longitude'],explore_df['Borough'],explore_df['Neighbourhood']):\n",
    "    label = folium.Popup('{}, {}'.format(bor, hood), parse_html=True)\n",
    "    folium.CircleMarker([lat, long],\n",
    "        radius=4,\n",
    "        popup=label,\n",
    "        color='cyan',\n",
    "        fill=True,\n",
    "        fill_color='blue',\n",
    "        fill_opacity=0.6,\n",
    "        parse_html=False).add_to(toronto_map)\n",
    "\n",
    "toronto_map"
   ]
  },
  {
   "source": [
    "## Explore venues in Neighbourhoods"
   ],
   "cell_type": "markdown",
   "metadata": {}
  },
  {
   "cell_type": "code",
   "execution_count": 102,
   "metadata": {},
   "outputs": [],
   "source": [
    "#Credentials\n",
    "CLIENT_ID = 'CXC1D1CNWMCS54XHC3M0VLPRLBCPQQMID0OZC04Z0VYTMSAU' \n",
    "CLIENT_SECRET = 'OQRFM1BNLVMREJ3N3VJBAWGKU2ERVDEBC3Q1M2UXHBVNDBN3' \n",
    "VERSION = '20201201' \n",
    "LIMIT = 100"
   ]
  },
  {
   "source": [
    "### Using defined-function from *Neighborhoods-New-York* Lab for exploring Neighborhoods in chosen Boroughs"
   ],
   "cell_type": "markdown",
   "metadata": {}
  },
  {
   "cell_type": "code",
   "execution_count": 109,
   "metadata": {},
   "outputs": [],
   "source": [
    "def getNearbyVenues(names, latitudes, longitudes, radius=1000):\n",
    "    \n",
    "    venues_list=[]\n",
    "    for name, lat, long in zip(names, latitudes, longitudes):\n",
    "        print(name)\n",
    "            \n",
    "        # create the API request URL\n",
    "        url = 'https://api.foursquare.com/v2/venues/explore?&client_id={}&client_secret={}&v={}&ll={},{}&radius={}&limit={}'.format(\n",
    "            CLIENT_ID, \n",
    "            CLIENT_SECRET, \n",
    "            VERSION, \n",
    "            lat, \n",
    "            long, \n",
    "            radius, \n",
    "            LIMIT)\n",
    "            \n",
    "        # make the GET request\n",
    "        results = requests.get(url).json()[\"response\"]['groups'][0]['items']\n",
    "        \n",
    "        # return only relevant information for each nearby venue\n",
    "        venues_list.append([(\n",
    "            name, \n",
    "            lat, \n",
    "            long, \n",
    "            v['venue']['name'], \n",
    "            v['venue']['location']['lat'], \n",
    "            v['venue']['location']['lng'],  \n",
    "            v['venue']['categories'][0]['name']) for v in results])\n",
    "\n",
    "    nearby_venues = pd.DataFrame([item for venue_list in venues_list for item in venue_list])\n",
    "    nearby_venues.columns = ['Neighborhood', \n",
    "                  'Neighborhood Latitude', \n",
    "                  'Neighborhood Longitude', \n",
    "                  'Venue', \n",
    "                  'Venue Latitude', \n",
    "                  'Venue Longitude', \n",
    "                  'Venue Category']\n",
    "    \n",
    "    return(nearby_venues)"
   ]
  },
  {
   "cell_type": "code",
   "execution_count": 110,
   "metadata": {},
   "outputs": [
    {
     "output_type": "stream",
     "name": "stdout",
     "text": [
      "Regent Park, Harbourfront\n",
      "Queen's Park, Ontario Provincial Government\n",
      "Garden District, Ryerson\n",
      "St. James Town\n",
      "The Beaches\n",
      "Berczy Park\n",
      "Central Bay Street\n",
      "Christie\n",
      "Richmond, Adelaide, King\n",
      "Dufferin, Dovercourt Village\n",
      "Harbourfront East, Union Station, Toronto Islands\n",
      "Little Portugal, Trinity\n",
      "The Danforth West, Riverdale\n",
      "Toronto Dominion Centre, Design Exchange\n",
      "Brockton, Parkdale Village, Exhibition Place\n",
      "India Bazaar, The Beaches West\n",
      "Commerce Court, Victoria Hotel\n",
      "Studio District\n",
      "Lawrence Park\n",
      "Roselawn\n",
      "Davisville North\n",
      "Forest Hill North & West, Forest Hill Road Park\n",
      "High Park, The Junction South\n",
      "North Toronto West, Lawrence Park\n",
      "The Annex, North Midtown, Yorkville\n",
      "Parkdale, Roncesvalles\n",
      "Davisville\n",
      "University of Toronto, Harbord\n",
      "Runnymede, Swansea\n",
      "Moore Park, Summerhill East\n",
      "Kensington Market, Chinatown, Grange Park\n",
      "Summerhill West, Rathnelly, South Hill, Forest Hill SE, Deer Park\n",
      "CN Tower, King and Spadina, Railway Lands, Harbourfront West, Bathurst Quay, South Niagara, Island airport\n",
      "Rosedale\n",
      "Stn A PO Boxes\n",
      "St. James Town, Cabbagetown\n",
      "First Canadian Place, Underground city\n",
      "Church and Wellesley\n",
      "Business reply mail Processing Centre, South Central Letter Processing Plant Toronto\n"
     ]
    },
    {
     "output_type": "execute_result",
     "data": {
      "text/plain": [
       "                                  Neighborhood  Neighborhood Latitude  \\\n",
       "0                    Regent Park, Harbourfront              45.440588   \n",
       "1                    Regent Park, Harbourfront              45.440588   \n",
       "2                    Regent Park, Harbourfront              45.440588   \n",
       "3                    Regent Park, Harbourfront              45.440588   \n",
       "4  Queen's Park, Ontario Provincial Government              44.427689   \n",
       "5  Queen's Park, Ontario Provincial Government              44.427689   \n",
       "6  Queen's Park, Ontario Provincial Government              44.427689   \n",
       "7  Queen's Park, Ontario Provincial Government              44.427689   \n",
       "8  Queen's Park, Ontario Provincial Government              44.427689   \n",
       "9  Queen's Park, Ontario Provincial Government              44.427689   \n",
       "\n",
       "   Neighborhood Longitude                             Venue  Venue Latitude  \\\n",
       "0               28.018025                              LIDL       45.439468   \n",
       "1               28.018025                            Centru       45.442525   \n",
       "2               28.018025                 Restaurant HAZARD       45.440675   \n",
       "3               28.018025                    Golden Chicken       45.433389   \n",
       "4               26.171308                        Mega Image       44.425392   \n",
       "5               26.171308  Parcul Alexandru Ioan Cuza (IOR)       44.426685   \n",
       "6               26.171308               World Class Romania       44.420916   \n",
       "7               26.171308                 American Ballroom       44.432719   \n",
       "8               26.171308             Restaurant GEDI Titan       44.421173   \n",
       "9               26.171308               Emag Showroom Titan       44.424371   \n",
       "\n",
       "   Venue Longitude              Venue Category  \n",
       "0        28.029159                 Supermarket  \n",
       "1        28.017562                       Plaza  \n",
       "2        28.028740    Mediterranean Restaurant  \n",
       "3        28.025602        Fast Food Restaurant  \n",
       "4        26.165526                 Supermarket  \n",
       "5        26.160164                        Park  \n",
       "6        26.177126        Gym / Fitness Center  \n",
       "7        26.179901  Modern European Restaurant  \n",
       "8        26.170131                  Restaurant  \n",
       "9        26.161510           Electronics Store  "
      ],
      "text/html": "<div>\n<style scoped>\n    .dataframe tbody tr th:only-of-type {\n        vertical-align: middle;\n    }\n\n    .dataframe tbody tr th {\n        vertical-align: top;\n    }\n\n    .dataframe thead th {\n        text-align: right;\n    }\n</style>\n<table border=\"1\" class=\"dataframe\">\n  <thead>\n    <tr style=\"text-align: right;\">\n      <th></th>\n      <th>Neighborhood</th>\n      <th>Neighborhood Latitude</th>\n      <th>Neighborhood Longitude</th>\n      <th>Venue</th>\n      <th>Venue Latitude</th>\n      <th>Venue Longitude</th>\n      <th>Venue Category</th>\n    </tr>\n  </thead>\n  <tbody>\n    <tr>\n      <th>0</th>\n      <td>Regent Park, Harbourfront</td>\n      <td>45.440588</td>\n      <td>28.018025</td>\n      <td>LIDL</td>\n      <td>45.439468</td>\n      <td>28.029159</td>\n      <td>Supermarket</td>\n    </tr>\n    <tr>\n      <th>1</th>\n      <td>Regent Park, Harbourfront</td>\n      <td>45.440588</td>\n      <td>28.018025</td>\n      <td>Centru</td>\n      <td>45.442525</td>\n      <td>28.017562</td>\n      <td>Plaza</td>\n    </tr>\n    <tr>\n      <th>2</th>\n      <td>Regent Park, Harbourfront</td>\n      <td>45.440588</td>\n      <td>28.018025</td>\n      <td>Restaurant HAZARD</td>\n      <td>45.440675</td>\n      <td>28.028740</td>\n      <td>Mediterranean Restaurant</td>\n    </tr>\n    <tr>\n      <th>3</th>\n      <td>Regent Park, Harbourfront</td>\n      <td>45.440588</td>\n      <td>28.018025</td>\n      <td>Golden Chicken</td>\n      <td>45.433389</td>\n      <td>28.025602</td>\n      <td>Fast Food Restaurant</td>\n    </tr>\n    <tr>\n      <th>4</th>\n      <td>Queen's Park, Ontario Provincial Government</td>\n      <td>44.427689</td>\n      <td>26.171308</td>\n      <td>Mega Image</td>\n      <td>44.425392</td>\n      <td>26.165526</td>\n      <td>Supermarket</td>\n    </tr>\n    <tr>\n      <th>5</th>\n      <td>Queen's Park, Ontario Provincial Government</td>\n      <td>44.427689</td>\n      <td>26.171308</td>\n      <td>Parcul Alexandru Ioan Cuza (IOR)</td>\n      <td>44.426685</td>\n      <td>26.160164</td>\n      <td>Park</td>\n    </tr>\n    <tr>\n      <th>6</th>\n      <td>Queen's Park, Ontario Provincial Government</td>\n      <td>44.427689</td>\n      <td>26.171308</td>\n      <td>World Class Romania</td>\n      <td>44.420916</td>\n      <td>26.177126</td>\n      <td>Gym / Fitness Center</td>\n    </tr>\n    <tr>\n      <th>7</th>\n      <td>Queen's Park, Ontario Provincial Government</td>\n      <td>44.427689</td>\n      <td>26.171308</td>\n      <td>American Ballroom</td>\n      <td>44.432719</td>\n      <td>26.179901</td>\n      <td>Modern European Restaurant</td>\n    </tr>\n    <tr>\n      <th>8</th>\n      <td>Queen's Park, Ontario Provincial Government</td>\n      <td>44.427689</td>\n      <td>26.171308</td>\n      <td>Restaurant GEDI Titan</td>\n      <td>44.421173</td>\n      <td>26.170131</td>\n      <td>Restaurant</td>\n    </tr>\n    <tr>\n      <th>9</th>\n      <td>Queen's Park, Ontario Provincial Government</td>\n      <td>44.427689</td>\n      <td>26.171308</td>\n      <td>Emag Showroom Titan</td>\n      <td>44.424371</td>\n      <td>26.161510</td>\n      <td>Electronics Store</td>\n    </tr>\n  </tbody>\n</table>\n</div>"
     },
     "metadata": {},
     "execution_count": 110
    }
   ],
   "source": [
    "toronto_venues = getNearbyVenues(explore_df.Neighbourhood, explore_df.Latitude, explore_df.Longitude)\n",
    "toronto_venues.head(10)"
   ]
  },
  {
   "cell_type": "code",
   "execution_count": null,
   "metadata": {},
   "outputs": [],
   "source": []
  }
 ]
}