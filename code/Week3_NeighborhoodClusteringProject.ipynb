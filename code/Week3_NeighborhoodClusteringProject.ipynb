{
 "metadata": {
  "language_info": {
   "codemirror_mode": {
    "name": "ipython",
    "version": 3
   },
   "file_extension": ".py",
   "mimetype": "text/x-python",
   "name": "python",
   "nbconvert_exporter": "python",
   "pygments_lexer": "ipython3",
   "version": "3.8.5"
  },
  "orig_nbformat": 2,
  "kernelspec": {
   "name": "python385jvsc74a57bd0c6e04f7a5ac130eeb20013286f1255cff64e2a49ad6e6267f06a989cb4e99f9c",
   "display_name": "Python 3.8.5 64-bit ('py3x-tf2x': conda)"
  }
 },
 "nbformat": 4,
 "nbformat_minor": 2,
 "cells": [
  {
   "source": [
    "--------\n",
    "--------\n",
    "# *Title, Description/Problem Statement of Project*\n",
    "--------\n",
    "--------"
   ],
   "cell_type": "markdown",
   "metadata": {}
  },
  {
   "source": [
    "# PART 1 - Data Extraction  "
   ],
   "cell_type": "markdown",
   "metadata": {}
  },
  {
   "source": [
    "## Import neccessary libraries"
   ],
   "cell_type": "markdown",
   "metadata": {}
  },
  {
   "cell_type": "code",
   "execution_count": 1,
   "metadata": {},
   "outputs": [],
   "source": [
    "import numpy as np\n",
    "import pandas as pd\n",
    "import lxml\n",
    "import lxml.etree"
   ]
  },
  {
   "source": [
    "## Building Dataframe from webpage"
   ],
   "cell_type": "markdown",
   "metadata": {}
  },
  {
   "cell_type": "code",
   "execution_count": 2,
   "metadata": {},
   "outputs": [
    {
     "output_type": "execute_result",
     "data": {
      "text/plain": [
       "  Postal Code           Borough              Neighbourhood\n",
       "0         M1A      Not assigned               Not assigned\n",
       "1         M2A      Not assigned               Not assigned\n",
       "2         M3A        North York                  Parkwoods\n",
       "3         M4A        North York           Victoria Village\n",
       "4         M5A  Downtown Toronto  Regent Park, Harbourfront"
      ],
      "text/html": "<div>\n<style scoped>\n    .dataframe tbody tr th:only-of-type {\n        vertical-align: middle;\n    }\n\n    .dataframe tbody tr th {\n        vertical-align: top;\n    }\n\n    .dataframe thead th {\n        text-align: right;\n    }\n</style>\n<table border=\"1\" class=\"dataframe\">\n  <thead>\n    <tr style=\"text-align: right;\">\n      <th></th>\n      <th>Postal Code</th>\n      <th>Borough</th>\n      <th>Neighbourhood</th>\n    </tr>\n  </thead>\n  <tbody>\n    <tr>\n      <th>0</th>\n      <td>M1A</td>\n      <td>Not assigned</td>\n      <td>Not assigned</td>\n    </tr>\n    <tr>\n      <th>1</th>\n      <td>M2A</td>\n      <td>Not assigned</td>\n      <td>Not assigned</td>\n    </tr>\n    <tr>\n      <th>2</th>\n      <td>M3A</td>\n      <td>North York</td>\n      <td>Parkwoods</td>\n    </tr>\n    <tr>\n      <th>3</th>\n      <td>M4A</td>\n      <td>North York</td>\n      <td>Victoria Village</td>\n    </tr>\n    <tr>\n      <th>4</th>\n      <td>M5A</td>\n      <td>Downtown Toronto</td>\n      <td>Regent Park, Harbourfront</td>\n    </tr>\n  </tbody>\n</table>\n</div>"
     },
     "metadata": {},
     "execution_count": 2
    }
   ],
   "source": [
    "url = 'https://en.wikipedia.org/wiki/List_of_postal_codes_of_Canada:_M'\n",
    "data = pd.read_html(url)\n",
    "df = data[0]\n",
    "df.head()"
   ]
  },
  {
   "source": [
    "## Filtering Dataframe to remove 'Not Assigned' Boroughs"
   ],
   "cell_type": "markdown",
   "metadata": {}
  },
  {
   "cell_type": "code",
   "execution_count": 3,
   "metadata": {},
   "outputs": [
    {
     "output_type": "stream",
     "name": "stdout",
     "text": [
      "Not assigned Boroughs: 0\n"
     ]
    }
   ],
   "source": [
    "filter_df = df.loc[ df['Borough'] != 'Not assigned']\n",
    "print(f\"Not assigned Boroughs: {(filter_df.Borough == 'Not assigned').sum()}\")"
   ]
  },
  {
   "cell_type": "code",
   "execution_count": 4,
   "metadata": {},
   "outputs": [
    {
     "output_type": "stream",
     "name": "stdout",
     "text": [
      "Not assigned Neighbourhoods: 0\n"
     ]
    }
   ],
   "source": [
    "print(f\"Not assigned Neighbourhoods: {(filter_df.Neighbourhood == 'Not assigned').sum()}\")"
   ]
  },
  {
   "cell_type": "code",
   "execution_count": 5,
   "metadata": {},
   "outputs": [
    {
     "output_type": "execute_result",
     "data": {
      "text/plain": [
       "  Postal Code           Borough                                Neighbourhood\n",
       "0         M3A        North York                                    Parkwoods\n",
       "1         M4A        North York                             Victoria Village\n",
       "2         M5A  Downtown Toronto                    Regent Park, Harbourfront\n",
       "3         M6A        North York             Lawrence Manor, Lawrence Heights\n",
       "4         M7A  Downtown Toronto  Queen's Park, Ontario Provincial Government"
      ],
      "text/html": "<div>\n<style scoped>\n    .dataframe tbody tr th:only-of-type {\n        vertical-align: middle;\n    }\n\n    .dataframe tbody tr th {\n        vertical-align: top;\n    }\n\n    .dataframe thead th {\n        text-align: right;\n    }\n</style>\n<table border=\"1\" class=\"dataframe\">\n  <thead>\n    <tr style=\"text-align: right;\">\n      <th></th>\n      <th>Postal Code</th>\n      <th>Borough</th>\n      <th>Neighbourhood</th>\n    </tr>\n  </thead>\n  <tbody>\n    <tr>\n      <th>0</th>\n      <td>M3A</td>\n      <td>North York</td>\n      <td>Parkwoods</td>\n    </tr>\n    <tr>\n      <th>1</th>\n      <td>M4A</td>\n      <td>North York</td>\n      <td>Victoria Village</td>\n    </tr>\n    <tr>\n      <th>2</th>\n      <td>M5A</td>\n      <td>Downtown Toronto</td>\n      <td>Regent Park, Harbourfront</td>\n    </tr>\n    <tr>\n      <th>3</th>\n      <td>M6A</td>\n      <td>North York</td>\n      <td>Lawrence Manor, Lawrence Heights</td>\n    </tr>\n    <tr>\n      <th>4</th>\n      <td>M7A</td>\n      <td>Downtown Toronto</td>\n      <td>Queen's Park, Ontario Provincial Government</td>\n    </tr>\n  </tbody>\n</table>\n</div>"
     },
     "metadata": {},
     "execution_count": 5
    }
   ],
   "source": [
    "filter_df.reset_index(drop=True, inplace=True)\n",
    "filter_df.head()"
   ]
  },
  {
   "cell_type": "code",
   "execution_count": 6,
   "metadata": {},
   "outputs": [
    {
     "output_type": "stream",
     "name": "stdout",
     "text": [
      "Shape of filtered Dataframe: (103, 3)\n"
     ]
    }
   ],
   "source": [
    "print(f\"Shape of filtered Dataframe: {filter_df.shape}\")"
   ]
  },
  {
   "source": [
    "--------\n",
    "--------\n",
    "# Save *filter_df* as pickle file - *venues.pkl*\n",
    "# PART 2 to PART 3.2 in file - *selectBoroughs.py*\n",
    "--------\n",
    "--------"
   ],
   "cell_type": "markdown",
   "metadata": {}
  },
  {
   "source": [
    "# PART 2 - Geospatial data (Latitudes & Longitudes) Extraction"
   ],
   "cell_type": "markdown",
   "metadata": {}
  },
  {
   "source": [
    "## Import neccessary libraries"
   ],
   "cell_type": "markdown",
   "metadata": {}
  },
  {
   "cell_type": "code",
   "execution_count": 7,
   "metadata": {},
   "outputs": [],
   "source": [
    "#!pip install geocoder --quiet\n",
    "import geocoder\n",
    "from geopy.geocoders import Nominatim"
   ]
  },
  {
   "source": [
    "## Using Postal codes for Latitudes & Longitudes"
   ],
   "cell_type": "markdown",
   "metadata": {}
  },
  {
   "source": [
    "#define empty lists for geospatial values and None values\n",
    "lat = []\n",
    "long = []\n",
    "nones = []\n",
    "\n",
    "#initialize geolocator\n",
    "geolocator = Nominatim(user_agent = 'toronto_zipcodes_M')\n",
    "\n",
    "#loop through filter_df['Postal Code'] values and append to the respective lists\n",
    "for code in filter_df['Postal Code']:\n",
    "    location = geolocator.geocode(code)\n",
    "    if location is None:\n",
    "        nones.append(None)\n",
    "        nones.append(None)\n",
    "    else:\n",
    "        latitude = location.latitude\n",
    "        longitude = location.longitude\n",
    "    lat.append(latitude)\n",
    "    long.append(longitude)\n"
   ],
   "cell_type": "code",
   "metadata": {},
   "execution_count": 8,
   "outputs": []
  },
  {
   "cell_type": "code",
   "execution_count": 9,
   "metadata": {},
   "outputs": [
    {
     "output_type": "stream",
     "name": "stdout",
     "text": [
      "Total non-None values: 103, 103\nTotal None values: 118\n"
     ]
    }
   ],
   "source": [
    "print(f\"Total non-None values: {len(lat)}, {len(long)}\")\n",
    "print(f\"Total None values: {len(nones)}\")"
   ]
  },
  {
   "source": [
    "## Adding Latitudes & Longitudes values in filter_df"
   ],
   "cell_type": "markdown",
   "metadata": {}
  },
  {
   "cell_type": "code",
   "execution_count": 10,
   "metadata": {},
   "outputs": [
    {
     "output_type": "execute_result",
     "data": {
      "text/plain": [
       "  Postal Code           Borough                                Neighbourhood  \\\n",
       "0         M3A        North York                                    Parkwoods   \n",
       "1         M4A        North York                             Victoria Village   \n",
       "2         M5A  Downtown Toronto                    Regent Park, Harbourfront   \n",
       "3         M6A        North York             Lawrence Manor, Lawrence Heights   \n",
       "4         M7A  Downtown Toronto  Queen's Park, Ontario Provincial Government   \n",
       "\n",
       "    Latitude  Longitude  \n",
       "0 -12.198334 -76.962310  \n",
       "1  49.484290   8.467000  \n",
       "2  45.440588  28.018025  \n",
       "3  53.794164  -1.752006  \n",
       "4  44.428198  26.165951  "
      ],
      "text/html": "<div>\n<style scoped>\n    .dataframe tbody tr th:only-of-type {\n        vertical-align: middle;\n    }\n\n    .dataframe tbody tr th {\n        vertical-align: top;\n    }\n\n    .dataframe thead th {\n        text-align: right;\n    }\n</style>\n<table border=\"1\" class=\"dataframe\">\n  <thead>\n    <tr style=\"text-align: right;\">\n      <th></th>\n      <th>Postal Code</th>\n      <th>Borough</th>\n      <th>Neighbourhood</th>\n      <th>Latitude</th>\n      <th>Longitude</th>\n    </tr>\n  </thead>\n  <tbody>\n    <tr>\n      <th>0</th>\n      <td>M3A</td>\n      <td>North York</td>\n      <td>Parkwoods</td>\n      <td>-12.198334</td>\n      <td>-76.962310</td>\n    </tr>\n    <tr>\n      <th>1</th>\n      <td>M4A</td>\n      <td>North York</td>\n      <td>Victoria Village</td>\n      <td>49.484290</td>\n      <td>8.467000</td>\n    </tr>\n    <tr>\n      <th>2</th>\n      <td>M5A</td>\n      <td>Downtown Toronto</td>\n      <td>Regent Park, Harbourfront</td>\n      <td>45.440588</td>\n      <td>28.018025</td>\n    </tr>\n    <tr>\n      <th>3</th>\n      <td>M6A</td>\n      <td>North York</td>\n      <td>Lawrence Manor, Lawrence Heights</td>\n      <td>53.794164</td>\n      <td>-1.752006</td>\n    </tr>\n    <tr>\n      <th>4</th>\n      <td>M7A</td>\n      <td>Downtown Toronto</td>\n      <td>Queen's Park, Ontario Provincial Government</td>\n      <td>44.428198</td>\n      <td>26.165951</td>\n    </tr>\n  </tbody>\n</table>\n</div>"
     },
     "metadata": {},
     "execution_count": 10
    }
   ],
   "source": [
    "filter_df['Latitude'] = lat\n",
    "filter_df['Longitude'] = long\n",
    "filter_df.head()"
   ]
  },
  {
   "source": [
    "# PART-3 Explore & Cluster Neighbourhoods"
   ],
   "cell_type": "markdown",
   "metadata": {}
  },
  {
   "source": [
    "## PART-3.1 Explore Neighbourhoods in Boroughs ending with 'Toronto'"
   ],
   "cell_type": "markdown",
   "metadata": {}
  },
  {
   "source": [
    "### Import necessary libraries"
   ],
   "cell_type": "markdown",
   "metadata": {}
  },
  {
   "cell_type": "code",
   "execution_count": 11,
   "metadata": {},
   "outputs": [],
   "source": [
    "import re\n",
    "import folium\n",
    "import requests"
   ]
  },
  {
   "source": [
    "### Apply *regex* function to extract Borough names ending with 'Toronto'"
   ],
   "cell_type": "markdown",
   "metadata": {}
  },
  {
   "cell_type": "code",
   "execution_count": 12,
   "metadata": {},
   "outputs": [],
   "source": [
    "string = filter_df['Borough'].values\n",
    "regex = r\"\\w*\\sToronto\"\n",
    "\n",
    "borough = []\n",
    "none_vals = []\n",
    "for row in string:\n",
    "    val = re.findall(regex, row)\n",
    "    if val == []:\n",
    "        none_vals.append(val)\n",
    "    else:\n",
    "        borough.append(val)"
   ]
  },
  {
   "cell_type": "code",
   "execution_count": 13,
   "metadata": {},
   "outputs": [
    {
     "output_type": "stream",
     "name": "stdout",
     "text": [
      "Boroughs chosen for exploring venues:\n ['Central Toronto' 'Downtown Toronto' 'East Toronto' 'West Toronto']\n"
     ]
    }
   ],
   "source": [
    "chosen_boroughs = np.unique(np.array(borough))\n",
    "print('Boroughs chosen for exploring venues:\\n',chosen_boroughs)"
   ]
  },
  {
   "source": [
    "### Subset Dataframe with chosen Boroughs for exploring"
   ],
   "cell_type": "markdown",
   "metadata": {}
  },
  {
   "cell_type": "code",
   "execution_count": 51,
   "metadata": {},
   "outputs": [
    {
     "output_type": "execute_result",
     "data": {
      "text/plain": [
       "  Postal Code           Borough                                 Neighborhood  \\\n",
       "0         M5A  Downtown Toronto                    Regent Park, Harbourfront   \n",
       "1         M7A  Downtown Toronto  Queen's Park, Ontario Provincial Government   \n",
       "2         M5B  Downtown Toronto                     Garden District, Ryerson   \n",
       "3         M5C  Downtown Toronto                               St. James Town   \n",
       "4         M4E      East Toronto                                  The Beaches   \n",
       "\n",
       "    Latitude  Longitude  \n",
       "0  45.440588  28.018025  \n",
       "1  44.428198  26.165951  \n",
       "2  45.440820  28.016137  \n",
       "3  -6.173246  39.207869  \n",
       "4  43.644110 -79.588907  "
      ],
      "text/html": "<div>\n<style scoped>\n    .dataframe tbody tr th:only-of-type {\n        vertical-align: middle;\n    }\n\n    .dataframe tbody tr th {\n        vertical-align: top;\n    }\n\n    .dataframe thead th {\n        text-align: right;\n    }\n</style>\n<table border=\"1\" class=\"dataframe\">\n  <thead>\n    <tr style=\"text-align: right;\">\n      <th></th>\n      <th>Postal Code</th>\n      <th>Borough</th>\n      <th>Neighborhood</th>\n      <th>Latitude</th>\n      <th>Longitude</th>\n    </tr>\n  </thead>\n  <tbody>\n    <tr>\n      <th>0</th>\n      <td>M5A</td>\n      <td>Downtown Toronto</td>\n      <td>Regent Park, Harbourfront</td>\n      <td>45.440588</td>\n      <td>28.018025</td>\n    </tr>\n    <tr>\n      <th>1</th>\n      <td>M7A</td>\n      <td>Downtown Toronto</td>\n      <td>Queen's Park, Ontario Provincial Government</td>\n      <td>44.428198</td>\n      <td>26.165951</td>\n    </tr>\n    <tr>\n      <th>2</th>\n      <td>M5B</td>\n      <td>Downtown Toronto</td>\n      <td>Garden District, Ryerson</td>\n      <td>45.440820</td>\n      <td>28.016137</td>\n    </tr>\n    <tr>\n      <th>3</th>\n      <td>M5C</td>\n      <td>Downtown Toronto</td>\n      <td>St. James Town</td>\n      <td>-6.173246</td>\n      <td>39.207869</td>\n    </tr>\n    <tr>\n      <th>4</th>\n      <td>M4E</td>\n      <td>East Toronto</td>\n      <td>The Beaches</td>\n      <td>43.644110</td>\n      <td>-79.588907</td>\n    </tr>\n  </tbody>\n</table>\n</div>"
     },
     "metadata": {},
     "execution_count": 51
    }
   ],
   "source": [
    "explore_df = filter_df.loc[filter_df['Borough'].isin(chosen_boroughs)].reset_index(drop=True)\n",
    "\n",
    "#change of spelling from 'Neighbourhood' to 'Neighborhood'\n",
    "cols = {'Postal Code':'Postal Code',  'Borough':'Borough', 'Neighbourhood':'Neighborhood', 'Latitude':'Latitude', 'Longitude':'Longitude'}\n",
    "explore_df.rename(columns = cols, inplace=True)\n",
    "explore_df.head()"
   ]
  },
  {
   "cell_type": "code",
   "execution_count": 15,
   "metadata": {},
   "outputs": [
    {
     "output_type": "stream",
     "name": "stdout",
     "text": [
      "Total unique Boroughs: 4\nTotal unique Neighborhoods: 39\n"
     ]
    }
   ],
   "source": [
    "print(f\"Total unique Boroughs: {explore_df.Borough.nunique()}\\nTotal unique Neighborhoods: {explore_df.Neighborhood.nunique()}\")"
   ]
  },
  {
   "source": [
    "### Map chosen Boroughs and their Neighbourhoods in Toronto "
   ],
   "cell_type": "markdown",
   "metadata": {}
  },
  {
   "cell_type": "code",
   "execution_count": 16,
   "metadata": {},
   "outputs": [
    {
     "output_type": "stream",
     "name": "stdout",
     "text": [
      "Coordinates of Toronto are: 43.6534817, -79.3839347\n"
     ]
    }
   ],
   "source": [
    "address = 'Toronto, Ontario, Canada'\n",
    "geolocator = Nominatim(user_agent='Toronto_explorer')\n",
    "location = geolocator.geocode(address)\n",
    "latitude = location.latitude\n",
    "longitude = location.longitude\n",
    "print(f\"Coordinates of Toronto are: {latitude}, {longitude}\")"
   ]
  },
  {
   "cell_type": "code",
   "execution_count": 17,
   "metadata": {},
   "outputs": [
    {
     "output_type": "execute_result",
     "data": {
      "text/plain": [
       "<folium.folium.Map at 0x27690a28160>"
      ],
      "text/html": "<div style=\"width:100%;\"><div style=\"position:relative;width:100%;height:0;padding-bottom:60%;\"><span style=\"color:#565656\">Make this Notebook Trusted to load map: File -> Trust Notebook</span><iframe src=\"about:blank\" style=\"position:absolute;width:100%;height:100%;left:0;top:0;border:none !important;\" data-html=PCFET0NUWVBFIGh0bWw+CjxoZWFkPiAgICAKICAgIDxtZXRhIGh0dHAtZXF1aXY9ImNvbnRlbnQtdHlwZSIgY29udGVudD0idGV4dC9odG1sOyBjaGFyc2V0PVVURi04IiAvPgogICAgPHNjcmlwdD5MX1BSRUZFUl9DQU5WQVMgPSBmYWxzZTsgTF9OT19UT1VDSCA9IGZhbHNlOyBMX0RJU0FCTEVfM0QgPSBmYWxzZTs8L3NjcmlwdD4KICAgIDxzY3JpcHQgc3JjPSJodHRwczovL2Nkbi5qc2RlbGl2ci5uZXQvbnBtL2xlYWZsZXRAMS4yLjAvZGlzdC9sZWFmbGV0LmpzIj48L3NjcmlwdD4KICAgIDxzY3JpcHQgc3JjPSJodHRwczovL2FqYXguZ29vZ2xlYXBpcy5jb20vYWpheC9saWJzL2pxdWVyeS8xLjExLjEvanF1ZXJ5Lm1pbi5qcyI+PC9zY3JpcHQ+CiAgICA8c2NyaXB0IHNyYz0iaHR0cHM6Ly9tYXhjZG4uYm9vdHN0cmFwY2RuLmNvbS9ib290c3RyYXAvMy4yLjAvanMvYm9vdHN0cmFwLm1pbi5qcyI+PC9zY3JpcHQ+CiAgICA8c2NyaXB0IHNyYz0iaHR0cHM6Ly9jZG5qcy5jbG91ZGZsYXJlLmNvbS9hamF4L2xpYnMvTGVhZmxldC5hd2Vzb21lLW1hcmtlcnMvMi4wLjIvbGVhZmxldC5hd2Vzb21lLW1hcmtlcnMuanMiPjwvc2NyaXB0PgogICAgPGxpbmsgcmVsPSJzdHlsZXNoZWV0IiBocmVmPSJodHRwczovL2Nkbi5qc2RlbGl2ci5uZXQvbnBtL2xlYWZsZXRAMS4yLjAvZGlzdC9sZWFmbGV0LmNzcyIvPgogICAgPGxpbmsgcmVsPSJzdHlsZXNoZWV0IiBocmVmPSJodHRwczovL21heGNkbi5ib290c3RyYXBjZG4uY29tL2Jvb3RzdHJhcC8zLjIuMC9jc3MvYm9vdHN0cmFwLm1pbi5jc3MiLz4KICAgIDxsaW5rIHJlbD0ic3R5bGVzaGVldCIgaHJlZj0iaHR0cHM6Ly9tYXhjZG4uYm9vdHN0cmFwY2RuLmNvbS9ib290c3RyYXAvMy4yLjAvY3NzL2Jvb3RzdHJhcC10aGVtZS5taW4uY3NzIi8+CiAgICA8bGluayByZWw9InN0eWxlc2hlZXQiIGhyZWY9Imh0dHBzOi8vbWF4Y2RuLmJvb3RzdHJhcGNkbi5jb20vZm9udC1hd2Vzb21lLzQuNi4zL2Nzcy9mb250LWF3ZXNvbWUubWluLmNzcyIvPgogICAgPGxpbmsgcmVsPSJzdHlsZXNoZWV0IiBocmVmPSJodHRwczovL2NkbmpzLmNsb3VkZmxhcmUuY29tL2FqYXgvbGlicy9MZWFmbGV0LmF3ZXNvbWUtbWFya2Vycy8yLjAuMi9sZWFmbGV0LmF3ZXNvbWUtbWFya2Vycy5jc3MiLz4KICAgIDxsaW5rIHJlbD0ic3R5bGVzaGVldCIgaHJlZj0iaHR0cHM6Ly9yYXdnaXQuY29tL3B5dGhvbi12aXN1YWxpemF0aW9uL2ZvbGl1bS9tYXN0ZXIvZm9saXVtL3RlbXBsYXRlcy9sZWFmbGV0LmF3ZXNvbWUucm90YXRlLmNzcyIvPgogICAgPHN0eWxlPmh0bWwsIGJvZHkge3dpZHRoOiAxMDAlO2hlaWdodDogMTAwJTttYXJnaW46IDA7cGFkZGluZzogMDt9PC9zdHlsZT4KICAgIDxzdHlsZT4jbWFwIHtwb3NpdGlvbjphYnNvbHV0ZTt0b3A6MDtib3R0b206MDtyaWdodDowO2xlZnQ6MDt9PC9zdHlsZT4KICAgIAogICAgICAgICAgICA8c3R5bGU+ICNtYXBfOTVmYWE4YjkxMjViNGRlOTg4NDJkM2IyNjVjOWIzNjQgewogICAgICAgICAgICAgICAgcG9zaXRpb24gOiByZWxhdGl2ZTsKICAgICAgICAgICAgICAgIHdpZHRoIDogMTAwLjAlOwogICAgICAgICAgICAgICAgaGVpZ2h0OiAxMDAuMCU7CiAgICAgICAgICAgICAgICBsZWZ0OiAwLjAlOwogICAgICAgICAgICAgICAgdG9wOiAwLjAlOwogICAgICAgICAgICAgICAgfQogICAgICAgICAgICA8L3N0eWxlPgogICAgICAgIAo8L2hlYWQ+Cjxib2R5PiAgICAKICAgIAogICAgICAgICAgICA8ZGl2IGNsYXNzPSJmb2xpdW0tbWFwIiBpZD0ibWFwXzk1ZmFhOGI5MTI1YjRkZTk4ODQyZDNiMjY1YzliMzY0IiA+PC9kaXY+CiAgICAgICAgCjwvYm9keT4KPHNjcmlwdD4gICAgCiAgICAKCiAgICAgICAgICAgIAogICAgICAgICAgICAgICAgdmFyIGJvdW5kcyA9IG51bGw7CiAgICAgICAgICAgIAoKICAgICAgICAgICAgdmFyIG1hcF85NWZhYThiOTEyNWI0ZGU5ODg0MmQzYjI2NWM5YjM2NCA9IEwubWFwKAogICAgICAgICAgICAgICAgICAgICAgICAgICAgICAgICAgJ21hcF85NWZhYThiOTEyNWI0ZGU5ODg0MmQzYjI2NWM5YjM2NCcsCiAgICAgICAgICAgICAgICAgICAgICAgICAgICAgICAgICB7Y2VudGVyOiBbNDMuNjUzNDgxNywtNzkuMzgzOTM0N10sCiAgICAgICAgICAgICAgICAgICAgICAgICAgICAgICAgICB6b29tOiAxMCwKICAgICAgICAgICAgICAgICAgICAgICAgICAgICAgICAgIG1heEJvdW5kczogYm91bmRzLAogICAgICAgICAgICAgICAgICAgICAgICAgICAgICAgICAgbGF5ZXJzOiBbXSwKICAgICAgICAgICAgICAgICAgICAgICAgICAgICAgICAgIHdvcmxkQ29weUp1bXA6IGZhbHNlLAogICAgICAgICAgICAgICAgICAgICAgICAgICAgICAgICAgY3JzOiBMLkNSUy5FUFNHMzg1NwogICAgICAgICAgICAgICAgICAgICAgICAgICAgICAgICB9KTsKICAgICAgICAgICAgCiAgICAgICAgCiAgICAKICAgICAgICAgICAgdmFyIHRpbGVfbGF5ZXJfZjA3OGU2N2Y0NGRmNDk5NjkxNDk2MzY5ODNhOGNlMWQgPSBMLnRpbGVMYXllcigKICAgICAgICAgICAgICAgICdodHRwczovL3tzfS50aWxlLm9wZW5zdHJlZXRtYXAub3JnL3t6fS97eH0ve3l9LnBuZycsCiAgICAgICAgICAgICAgICB7CiAgImF0dHJpYnV0aW9uIjogbnVsbCwKICAiZGV0ZWN0UmV0aW5hIjogZmFsc2UsCiAgIm1heFpvb20iOiAxOCwKICAibWluWm9vbSI6IDEsCiAgIm5vV3JhcCI6IGZhbHNlLAogICJzdWJkb21haW5zIjogImFiYyIKfQogICAgICAgICAgICAgICAgKS5hZGRUbyhtYXBfOTVmYWE4YjkxMjViNGRlOTg4NDJkM2IyNjVjOWIzNjQpOwogICAgICAgIAogICAgCiAgICAgICAgICAgIHZhciBjaXJjbGVfbWFya2VyX2FhYjIxOTc3Zjk5YzRhYTViODNjNGQ0ODc0NzQ5MDEzID0gTC5jaXJjbGVNYXJrZXIoCiAgICAgICAgICAgICAgICBbNDUuNDQwNTg4NDUsMjguMDE4MDI1MzU2OTM4MTMyXSwKICAgICAgICAgICAgICAgIHsKICAiYnViYmxpbmdNb3VzZUV2ZW50cyI6IHRydWUsCiAgImNvbG9yIjogImN5YW4iLAogICJkYXNoQXJyYXkiOiBudWxsLAogICJkYXNoT2Zmc2V0IjogbnVsbCwKICAiZmlsbCI6IHRydWUsCiAgImZpbGxDb2xvciI6ICJibHVlIiwKICAiZmlsbE9wYWNpdHkiOiAwLjYsCiAgImZpbGxSdWxlIjogImV2ZW5vZGQiLAogICJsaW5lQ2FwIjogInJvdW5kIiwKICAibGluZUpvaW4iOiAicm91bmQiLAogICJvcGFjaXR5IjogMS4wLAogICJyYWRpdXMiOiA0LAogICJzdHJva2UiOiB0cnVlLAogICJ3ZWlnaHQiOiAzCn0KICAgICAgICAgICAgICAgICkuYWRkVG8obWFwXzk1ZmFhOGI5MTI1YjRkZTk4ODQyZDNiMjY1YzliMzY0KTsKICAgICAgICAgICAgCiAgICAKICAgICAgICAgICAgdmFyIHBvcHVwX2MwNDY1Y2Y4OTk4MDRiYWJhN2U1MjMyZmY3MDg1MjgzID0gTC5wb3B1cCh7bWF4V2lkdGg6ICczMDAnfSk7CgogICAgICAgICAgICAKICAgICAgICAgICAgICAgIHZhciBodG1sX2M5MjE1MWI3NjY0MzRiOTY4Y2ExOGJiZmJhM2VkNDQyID0gJCgnPGRpdiBpZD0iaHRtbF9jOTIxNTFiNzY2NDM0Yjk2OGNhMThiYmZiYTNlZDQ0MiIgc3R5bGU9IndpZHRoOiAxMDAuMCU7IGhlaWdodDogMTAwLjAlOyI+RG93bnRvd24gVG9yb250bywgUmVnZW50IFBhcmssIEhhcmJvdXJmcm9udDwvZGl2PicpWzBdOwogICAgICAgICAgICAgICAgcG9wdXBfYzA0NjVjZjg5OTgwNGJhYmE3ZTUyMzJmZjcwODUyODMuc2V0Q29udGVudChodG1sX2M5MjE1MWI3NjY0MzRiOTY4Y2ExOGJiZmJhM2VkNDQyKTsKICAgICAgICAgICAgCgogICAgICAgICAgICBjaXJjbGVfbWFya2VyX2FhYjIxOTc3Zjk5YzRhYTViODNjNGQ0ODc0NzQ5MDEzLmJpbmRQb3B1cChwb3B1cF9jMDQ2NWNmODk5ODA0YmFiYTdlNTIzMmZmNzA4NTI4Myk7CgogICAgICAgICAgICAKICAgICAgICAKICAgIAogICAgICAgICAgICB2YXIgY2lyY2xlX21hcmtlcl84ZjA2YjY5NjQ5OTU0NzZmOGU5Y2M4YTRhNGU1ZmVmMSA9IEwuY2lyY2xlTWFya2VyKAogICAgICAgICAgICAgICAgWzQ0LjQyODE5ODIsMjYuMTY1OTUwOTU2MTczMjY1XSwKICAgICAgICAgICAgICAgIHsKICAiYnViYmxpbmdNb3VzZUV2ZW50cyI6IHRydWUsCiAgImNvbG9yIjogImN5YW4iLAogICJkYXNoQXJyYXkiOiBudWxsLAogICJkYXNoT2Zmc2V0IjogbnVsbCwKICAiZmlsbCI6IHRydWUsCiAgImZpbGxDb2xvciI6ICJibHVlIiwKICAiZmlsbE9wYWNpdHkiOiAwLjYsCiAgImZpbGxSdWxlIjogImV2ZW5vZGQiLAogICJsaW5lQ2FwIjogInJvdW5kIiwKICAibGluZUpvaW4iOiAicm91bmQiLAogICJvcGFjaXR5IjogMS4wLAogICJyYWRpdXMiOiA0LAogICJzdHJva2UiOiB0cnVlLAogICJ3ZWlnaHQiOiAzCn0KICAgICAgICAgICAgICAgICkuYWRkVG8obWFwXzk1ZmFhOGI5MTI1YjRkZTk4ODQyZDNiMjY1YzliMzY0KTsKICAgICAgICAgICAgCiAgICAKICAgICAgICAgICAgdmFyIHBvcHVwXzc5MWZjYzE3Mzc5ODQ5ZDk5MzQ2NjRhNTI5MzcyYTI2ID0gTC5wb3B1cCh7bWF4V2lkdGg6ICczMDAnfSk7CgogICAgICAgICAgICAKICAgICAgICAgICAgICAgIHZhciBodG1sXzc2YmVlZjdmNTllNzQ0M2NhY2E2NWU0NjM4MDZkZTU2ID0gJCgnPGRpdiBpZD0iaHRtbF83NmJlZWY3ZjU5ZTc0NDNjYWNhNjVlNDYzODA2ZGU1NiIgc3R5bGU9IndpZHRoOiAxMDAuMCU7IGhlaWdodDogMTAwLjAlOyI+RG93bnRvd24gVG9yb250bywgUXVlZW4mIzM5O3MgUGFyaywgT250YXJpbyBQcm92aW5jaWFsIEdvdmVybm1lbnQ8L2Rpdj4nKVswXTsKICAgICAgICAgICAgICAgIHBvcHVwXzc5MWZjYzE3Mzc5ODQ5ZDk5MzQ2NjRhNTI5MzcyYTI2LnNldENvbnRlbnQoaHRtbF83NmJlZWY3ZjU5ZTc0NDNjYWNhNjVlNDYzODA2ZGU1Nik7CiAgICAgICAgICAgIAoKICAgICAgICAgICAgY2lyY2xlX21hcmtlcl84ZjA2YjY5NjQ5OTU0NzZmOGU5Y2M4YTRhNGU1ZmVmMS5iaW5kUG9wdXAocG9wdXBfNzkxZmNjMTczNzk4NDlkOTkzNDY2NGE1MjkzNzJhMjYpOwoKICAgICAgICAgICAgCiAgICAgICAgCiAgICAKICAgICAgICAgICAgdmFyIGNpcmNsZV9tYXJrZXJfNjJmMzA4MTI4YTczNDBmMzlkMDZiZjkzMjBmZjBkOTIgPSBMLmNpcmNsZU1hcmtlcigKICAgICAgICAgICAgICAgIFs0NS40NDA4MTk3MDAwMDAwMDYsMjguMDE2MTM2ODY5ODM2NTE1XSwKICAgICAgICAgICAgICAgIHsKICAiYnViYmxpbmdNb3VzZUV2ZW50cyI6IHRydWUsCiAgImNvbG9yIjogImN5YW4iLAogICJkYXNoQXJyYXkiOiBudWxsLAogICJkYXNoT2Zmc2V0IjogbnVsbCwKICAiZmlsbCI6IHRydWUsCiAgImZpbGxDb2xvciI6ICJibHVlIiwKICAiZmlsbE9wYWNpdHkiOiAwLjYsCiAgImZpbGxSdWxlIjogImV2ZW5vZGQiLAogICJsaW5lQ2FwIjogInJvdW5kIiwKICAibGluZUpvaW4iOiAicm91bmQiLAogICJvcGFjaXR5IjogMS4wLAogICJyYWRpdXMiOiA0LAogICJzdHJva2UiOiB0cnVlLAogICJ3ZWlnaHQiOiAzCn0KICAgICAgICAgICAgICAgICkuYWRkVG8obWFwXzk1ZmFhOGI5MTI1YjRkZTk4ODQyZDNiMjY1YzliMzY0KTsKICAgICAgICAgICAgCiAgICAKICAgICAgICAgICAgdmFyIHBvcHVwX2JhZjExYjg5MjI0ZTQ1ZTM5MDcwMmRkZWRmZjI5OWIzID0gTC5wb3B1cCh7bWF4V2lkdGg6ICczMDAnfSk7CgogICAgICAgICAgICAKICAgICAgICAgICAgICAgIHZhciBodG1sX2E1YmExYzQ5M2ZkYzRiODU5MmQwNWYxMzIzODhmMWE1ID0gJCgnPGRpdiBpZD0iaHRtbF9hNWJhMWM0OTNmZGM0Yjg1OTJkMDVmMTMyMzg4ZjFhNSIgc3R5bGU9IndpZHRoOiAxMDAuMCU7IGhlaWdodDogMTAwLjAlOyI+RG93bnRvd24gVG9yb250bywgR2FyZGVuIERpc3RyaWN0LCBSeWVyc29uPC9kaXY+JylbMF07CiAgICAgICAgICAgICAgICBwb3B1cF9iYWYxMWI4OTIyNGU0NWUzOTA3MDJkZGVkZmYyOTliMy5zZXRDb250ZW50KGh0bWxfYTViYTFjNDkzZmRjNGI4NTkyZDA1ZjEzMjM4OGYxYTUpOwogICAgICAgICAgICAKCiAgICAgICAgICAgIGNpcmNsZV9tYXJrZXJfNjJmMzA4MTI4YTczNDBmMzlkMDZiZjkzMjBmZjBkOTIuYmluZFBvcHVwKHBvcHVwX2JhZjExYjg5MjI0ZTQ1ZTM5MDcwMmRkZWRmZjI5OWIzKTsKCiAgICAgICAgICAgIAogICAgICAgIAogICAgCiAgICAgICAgICAgIHZhciBjaXJjbGVfbWFya2VyXzVmMjM5ZTQzMjY0ZTQ0MDdiYTEyOGJmMTI4OGM2YzI3ID0gTC5jaXJjbGVNYXJrZXIoCiAgICAgICAgICAgICAgICBbLTYuMTczMjQ1OCwzOS4yMDc4NjldLAogICAgICAgICAgICAgICAgewogICJidWJibGluZ01vdXNlRXZlbnRzIjogdHJ1ZSwKICAiY29sb3IiOiAiY3lhbiIsCiAgImRhc2hBcnJheSI6IG51bGwsCiAgImRhc2hPZmZzZXQiOiBudWxsLAogICJmaWxsIjogdHJ1ZSwKICAiZmlsbENvbG9yIjogImJsdWUiLAogICJmaWxsT3BhY2l0eSI6IDAuNiwKICAiZmlsbFJ1bGUiOiAiZXZlbm9kZCIsCiAgImxpbmVDYXAiOiAicm91bmQiLAogICJsaW5lSm9pbiI6ICJyb3VuZCIsCiAgIm9wYWNpdHkiOiAxLjAsCiAgInJhZGl1cyI6IDQsCiAgInN0cm9rZSI6IHRydWUsCiAgIndlaWdodCI6IDMKfQogICAgICAgICAgICAgICAgKS5hZGRUbyhtYXBfOTVmYWE4YjkxMjViNGRlOTg4NDJkM2IyNjVjOWIzNjQpOwogICAgICAgICAgICAKICAgIAogICAgICAgICAgICB2YXIgcG9wdXBfYTRmMDZmZDYwMDJlNGJiYzgyZDM1MGM5ZWUwMWIzMGEgPSBMLnBvcHVwKHttYXhXaWR0aDogJzMwMCd9KTsKCiAgICAgICAgICAgIAogICAgICAgICAgICAgICAgdmFyIGh0bWxfNjE1OWZhZGZjN2RhNGZmOThkNTgxZTI5MzA4MmEyYWEgPSAkKCc8ZGl2IGlkPSJodG1sXzYxNTlmYWRmYzdkYTRmZjk4ZDU4MWUyOTMwODJhMmFhIiBzdHlsZT0id2lkdGg6IDEwMC4wJTsgaGVpZ2h0OiAxMDAuMCU7Ij5Eb3dudG93biBUb3JvbnRvLCBTdC4gSmFtZXMgVG93bjwvZGl2PicpWzBdOwogICAgICAgICAgICAgICAgcG9wdXBfYTRmMDZmZDYwMDJlNGJiYzgyZDM1MGM5ZWUwMWIzMGEuc2V0Q29udGVudChodG1sXzYxNTlmYWRmYzdkYTRmZjk4ZDU4MWUyOTMwODJhMmFhKTsKICAgICAgICAgICAgCgogICAgICAgICAgICBjaXJjbGVfbWFya2VyXzVmMjM5ZTQzMjY0ZTQ0MDdiYTEyOGJmMTI4OGM2YzI3LmJpbmRQb3B1cChwb3B1cF9hNGYwNmZkNjAwMmU0YmJjODJkMzUwYzllZTAxYjMwYSk7CgogICAgICAgICAgICAKICAgICAgICAKICAgIAogICAgICAgICAgICB2YXIgY2lyY2xlX21hcmtlcl81ZDUzYTAzM2Q5NjY0OTM3YWJlM2U3M2Y3OTNmN2U3YiA9IEwuY2lyY2xlTWFya2VyKAogICAgICAgICAgICAgICAgWzQzLjY0NDEwOTkzMDY2MDc5LC03OS41ODg5MDY5MjE5NDgyOF0sCiAgICAgICAgICAgICAgICB7CiAgImJ1YmJsaW5nTW91c2VFdmVudHMiOiB0cnVlLAogICJjb2xvciI6ICJjeWFuIiwKICAiZGFzaEFycmF5IjogbnVsbCwKICAiZGFzaE9mZnNldCI6IG51bGwsCiAgImZpbGwiOiB0cnVlLAogICJmaWxsQ29sb3IiOiAiYmx1ZSIsCiAgImZpbGxPcGFjaXR5IjogMC42LAogICJmaWxsUnVsZSI6ICJldmVub2RkIiwKICAibGluZUNhcCI6ICJyb3VuZCIsCiAgImxpbmVKb2luIjogInJvdW5kIiwKICAib3BhY2l0eSI6IDEuMCwKICAicmFkaXVzIjogNCwKICAic3Ryb2tlIjogdHJ1ZSwKICAid2VpZ2h0IjogMwp9CiAgICAgICAgICAgICAgICApLmFkZFRvKG1hcF85NWZhYThiOTEyNWI0ZGU5ODg0MmQzYjI2NWM5YjM2NCk7CiAgICAgICAgICAgIAogICAgCiAgICAgICAgICAgIHZhciBwb3B1cF8zNDVlMzExMGU0YmY0NjNmOWE4ZGNjOTgyYTg5MTQyYSA9IEwucG9wdXAoe21heFdpZHRoOiAnMzAwJ30pOwoKICAgICAgICAgICAgCiAgICAgICAgICAgICAgICB2YXIgaHRtbF8yN2RkNWNiYTI0ZTY0MWU0OWRiNmI5NTkxNzc2MmI2ZSA9ICQoJzxkaXYgaWQ9Imh0bWxfMjdkZDVjYmEyNGU2NDFlNDlkYjZiOTU5MTc3NjJiNmUiIHN0eWxlPSJ3aWR0aDogMTAwLjAlOyBoZWlnaHQ6IDEwMC4wJTsiPkVhc3QgVG9yb250bywgVGhlIEJlYWNoZXM8L2Rpdj4nKVswXTsKICAgICAgICAgICAgICAgIHBvcHVwXzM0NWUzMTEwZTRiZjQ2M2Y5YThkY2M5ODJhODkxNDJhLnNldENvbnRlbnQoaHRtbF8yN2RkNWNiYTI0ZTY0MWU0OWRiNmI5NTkxNzc2MmI2ZSk7CiAgICAgICAgICAgIAoKICAgICAgICAgICAgY2lyY2xlX21hcmtlcl81ZDUzYTAzM2Q5NjY0OTM3YWJlM2U3M2Y3OTNmN2U3Yi5iaW5kUG9wdXAocG9wdXBfMzQ1ZTMxMTBlNGJmNDYzZjlhOGRjYzk4MmE4OTE0MmEpOwoKICAgICAgICAgICAgCiAgICAgICAgCiAgICAKICAgICAgICAgICAgdmFyIGNpcmNsZV9tYXJrZXJfYzQxOTZiOGEwMTFkNDUwYzkzMWIyNzcyOWIyOWNkZWQgPSBMLmNpcmNsZU1hcmtlcigKICAgICAgICAgICAgICAgIFs0My42NDIxMDY0LC03OS4zNzc0NDU1XSwKICAgICAgICAgICAgICAgIHsKICAiYnViYmxpbmdNb3VzZUV2ZW50cyI6IHRydWUsCiAgImNvbG9yIjogImN5YW4iLAogICJkYXNoQXJyYXkiOiBudWxsLAogICJkYXNoT2Zmc2V0IjogbnVsbCwKICAiZmlsbCI6IHRydWUsCiAgImZpbGxDb2xvciI6ICJibHVlIiwKICAiZmlsbE9wYWNpdHkiOiAwLjYsCiAgImZpbGxSdWxlIjogImV2ZW5vZGQiLAogICJsaW5lQ2FwIjogInJvdW5kIiwKICAibGluZUpvaW4iOiAicm91bmQiLAogICJvcGFjaXR5IjogMS4wLAogICJyYWRpdXMiOiA0LAogICJzdHJva2UiOiB0cnVlLAogICJ3ZWlnaHQiOiAzCn0KICAgICAgICAgICAgICAgICkuYWRkVG8obWFwXzk1ZmFhOGI5MTI1YjRkZTk4ODQyZDNiMjY1YzliMzY0KTsKICAgICAgICAgICAgCiAgICAKICAgICAgICAgICAgdmFyIHBvcHVwXzJmZmJjOGRhOWUyMzQxYzc5ZGU1YjBlZDBmOWNhNTlkID0gTC5wb3B1cCh7bWF4V2lkdGg6ICczMDAnfSk7CgogICAgICAgICAgICAKICAgICAgICAgICAgICAgIHZhciBodG1sX2ExOGNhZDI5OTI4ZjQ1NTdhMzkyYjU4OTQyOGY5MmY1ID0gJCgnPGRpdiBpZD0iaHRtbF9hMThjYWQyOTkyOGY0NTU3YTM5MmI1ODk0MjhmOTJmNSIgc3R5bGU9IndpZHRoOiAxMDAuMCU7IGhlaWdodDogMTAwLjAlOyI+RG93bnRvd24gVG9yb250bywgQmVyY3p5IFBhcms8L2Rpdj4nKVswXTsKICAgICAgICAgICAgICAgIHBvcHVwXzJmZmJjOGRhOWUyMzQxYzc5ZGU1YjBlZDBmOWNhNTlkLnNldENvbnRlbnQoaHRtbF9hMThjYWQyOTkyOGY0NTU3YTM5MmI1ODk0MjhmOTJmNSk7CiAgICAgICAgICAgIAoKICAgICAgICAgICAgY2lyY2xlX21hcmtlcl9jNDE5NmI4YTAxMWQ0NTBjOTMxYjI3NzI5YjI5Y2RlZC5iaW5kUG9wdXAocG9wdXBfMmZmYmM4ZGE5ZTIzNDFjNzlkZTViMGVkMGY5Y2E1OWQpOwoKICAgICAgICAgICAgCiAgICAgICAgCiAgICAKICAgICAgICAgICAgdmFyIGNpcmNsZV9tYXJrZXJfOTVlMDZlZDdiZGQ4NDc5ZGJlNDg3ZTcxMTgxYzcyMDYgPSBMLmNpcmNsZU1hcmtlcigKICAgICAgICAgICAgICAgIFszOS43NDk1NjgxLC04Ni4wNDAwODAxXSwKICAgICAgICAgICAgICAgIHsKICAiYnViYmxpbmdNb3VzZUV2ZW50cyI6IHRydWUsCiAgImNvbG9yIjogImN5YW4iLAogICJkYXNoQXJyYXkiOiBudWxsLAogICJkYXNoT2Zmc2V0IjogbnVsbCwKICAiZmlsbCI6IHRydWUsCiAgImZpbGxDb2xvciI6ICJibHVlIiwKICAiZmlsbE9wYWNpdHkiOiAwLjYsCiAgImZpbGxSdWxlIjogImV2ZW5vZGQiLAogICJsaW5lQ2FwIjogInJvdW5kIiwKICAibGluZUpvaW4iOiAicm91bmQiLAogICJvcGFjaXR5IjogMS4wLAogICJyYWRpdXMiOiA0LAogICJzdHJva2UiOiB0cnVlLAogICJ3ZWlnaHQiOiAzCn0KICAgICAgICAgICAgICAgICkuYWRkVG8obWFwXzk1ZmFhOGI5MTI1YjRkZTk4ODQyZDNiMjY1YzliMzY0KTsKICAgICAgICAgICAgCiAgICAKICAgICAgICAgICAgdmFyIHBvcHVwXzliODQwYmU1YmZhMjRlZDY4NThjMDFmMzcxYzZlNGZkID0gTC5wb3B1cCh7bWF4V2lkdGg6ICczMDAnfSk7CgogICAgICAgICAgICAKICAgICAgICAgICAgICAgIHZhciBodG1sXzMzY2Q2ZWE3NTRjNzRiODE5ODM4NzIwMGVmMzMyNGJiID0gJCgnPGRpdiBpZD0iaHRtbF8zM2NkNmVhNzU0Yzc0YjgxOTgzODcyMDBlZjMzMjRiYiIgc3R5bGU9IndpZHRoOiAxMDAuMCU7IGhlaWdodDogMTAwLjAlOyI+RG93bnRvd24gVG9yb250bywgQ2VudHJhbCBCYXkgU3RyZWV0PC9kaXY+JylbMF07CiAgICAgICAgICAgICAgICBwb3B1cF85Yjg0MGJlNWJmYTI0ZWQ2ODU4YzAxZjM3MWM2ZTRmZC5zZXRDb250ZW50KGh0bWxfMzNjZDZlYTc1NGM3NGI4MTk4Mzg3MjAwZWYzMzI0YmIpOwogICAgICAgICAgICAKCiAgICAgICAgICAgIGNpcmNsZV9tYXJrZXJfOTVlMDZlZDdiZGQ4NDc5ZGJlNDg3ZTcxMTgxYzcyMDYuYmluZFBvcHVwKHBvcHVwXzliODQwYmU1YmZhMjRlZDY4NThjMDFmMzcxYzZlNGZkKTsKCiAgICAgICAgICAgIAogICAgICAgIAogICAgCiAgICAgICAgICAgIHZhciBjaXJjbGVfbWFya2VyX2E2MDhjZWMyYWJjYzRiYThhN2ZkMzMxN2QwZGQ3N2E2ID0gTC5jaXJjbGVNYXJrZXIoCiAgICAgICAgICAgICAgICBbMzkuNzQ5NTY4MSwtODYuMDQwMDgwMV0sCiAgICAgICAgICAgICAgICB7CiAgImJ1YmJsaW5nTW91c2VFdmVudHMiOiB0cnVlLAogICJjb2xvciI6ICJjeWFuIiwKICAiZGFzaEFycmF5IjogbnVsbCwKICAiZGFzaE9mZnNldCI6IG51bGwsCiAgImZpbGwiOiB0cnVlLAogICJmaWxsQ29sb3IiOiAiYmx1ZSIsCiAgImZpbGxPcGFjaXR5IjogMC42LAogICJmaWxsUnVsZSI6ICJldmVub2RkIiwKICAibGluZUNhcCI6ICJyb3VuZCIsCiAgImxpbmVKb2luIjogInJvdW5kIiwKICAib3BhY2l0eSI6IDEuMCwKICAicmFkaXVzIjogNCwKICAic3Ryb2tlIjogdHJ1ZSwKICAid2VpZ2h0IjogMwp9CiAgICAgICAgICAgICAgICApLmFkZFRvKG1hcF85NWZhYThiOTEyNWI0ZGU5ODg0MmQzYjI2NWM5YjM2NCk7CiAgICAgICAgICAgIAogICAgCiAgICAgICAgICAgIHZhciBwb3B1cF84NzhmNzVhOTY4NTQ0NTIwYjEwNDk3M2ZiZjFkYTk3OSA9IEwucG9wdXAoe21heFdpZHRoOiAnMzAwJ30pOwoKICAgICAgICAgICAgCiAgICAgICAgICAgICAgICB2YXIgaHRtbF81NTgxNDkyYjYwZTU0NDEwYjc0ZGFiZDgzNTlkYmQ2YiA9ICQoJzxkaXYgaWQ9Imh0bWxfNTU4MTQ5MmI2MGU1NDQxMGI3NGRhYmQ4MzU5ZGJkNmIiIHN0eWxlPSJ3aWR0aDogMTAwLjAlOyBoZWlnaHQ6IDEwMC4wJTsiPkRvd250b3duIFRvcm9udG8sIENocmlzdGllPC9kaXY+JylbMF07CiAgICAgICAgICAgICAgICBwb3B1cF84NzhmNzVhOTY4NTQ0NTIwYjEwNDk3M2ZiZjFkYTk3OS5zZXRDb250ZW50KGh0bWxfNTU4MTQ5MmI2MGU1NDQxMGI3NGRhYmQ4MzU5ZGJkNmIpOwogICAgICAgICAgICAKCiAgICAgICAgICAgIGNpcmNsZV9tYXJrZXJfYTYwOGNlYzJhYmNjNGJhOGE3ZmQzMzE3ZDBkZDc3YTYuYmluZFBvcHVwKHBvcHVwXzg3OGY3NWE5Njg1NDQ1MjBiMTA0OTczZmJmMWRhOTc5KTsKCiAgICAgICAgICAgIAogICAgICAgIAogICAgCiAgICAgICAgICAgIHZhciBjaXJjbGVfbWFya2VyXzUyN2JjMDYyNWM5NjQ2Njk5NDgwYTIzYWYyMjEyNDFlID0gTC5jaXJjbGVNYXJrZXIoCiAgICAgICAgICAgICAgICBbNDMuNjQ5OTAwNzExOTM3MDE1LC03OS4zODM3MTgyOTYzOTYxN10sCiAgICAgICAgICAgICAgICB7CiAgImJ1YmJsaW5nTW91c2VFdmVudHMiOiB0cnVlLAogICJjb2xvciI6ICJjeWFuIiwKICAiZGFzaEFycmF5IjogbnVsbCwKICAiZGFzaE9mZnNldCI6IG51bGwsCiAgImZpbGwiOiB0cnVlLAogICJmaWxsQ29sb3IiOiAiYmx1ZSIsCiAgImZpbGxPcGFjaXR5IjogMC42LAogICJmaWxsUnVsZSI6ICJldmVub2RkIiwKICAibGluZUNhcCI6ICJyb3VuZCIsCiAgImxpbmVKb2luIjogInJvdW5kIiwKICAib3BhY2l0eSI6IDEuMCwKICAicmFkaXVzIjogNCwKICAic3Ryb2tlIjogdHJ1ZSwKICAid2VpZ2h0IjogMwp9CiAgICAgICAgICAgICAgICApLmFkZFRvKG1hcF85NWZhYThiOTEyNWI0ZGU5ODg0MmQzYjI2NWM5YjM2NCk7CiAgICAgICAgICAgIAogICAgCiAgICAgICAgICAgIHZhciBwb3B1cF8wZmNhYzQ5ZjA2MzY0ODMzYWE0NGI0MTQwNjEwNzI5NSA9IEwucG9wdXAoe21heFdpZHRoOiAnMzAwJ30pOwoKICAgICAgICAgICAgCiAgICAgICAgICAgICAgICB2YXIgaHRtbF85MTJmOTk2OTMwNmU0NWI2OWFmYjMzZWE0Yjc2MmQ0ZSA9ICQoJzxkaXYgaWQ9Imh0bWxfOTEyZjk5NjkzMDZlNDViNjlhZmIzM2VhNGI3NjJkNGUiIHN0eWxlPSJ3aWR0aDogMTAwLjAlOyBoZWlnaHQ6IDEwMC4wJTsiPkRvd250b3duIFRvcm9udG8sIFJpY2htb25kLCBBZGVsYWlkZSwgS2luZzwvZGl2PicpWzBdOwogICAgICAgICAgICAgICAgcG9wdXBfMGZjYWM0OWYwNjM2NDgzM2FhNDRiNDE0MDYxMDcyOTUuc2V0Q29udGVudChodG1sXzkxMmY5OTY5MzA2ZTQ1YjY5YWZiMzNlYTRiNzYyZDRlKTsKICAgICAgICAgICAgCgogICAgICAgICAgICBjaXJjbGVfbWFya2VyXzUyN2JjMDYyNWM5NjQ2Njk5NDgwYTIzYWYyMjEyNDFlLmJpbmRQb3B1cChwb3B1cF8wZmNhYzQ5ZjA2MzY0ODMzYWE0NGI0MTQwNjEwNzI5NSk7CgogICAgICAgICAgICAKICAgICAgICAKICAgIAogICAgICAgICAgICB2YXIgY2lyY2xlX21hcmtlcl8yMzM1MjM3MjYwOTE0ZjFmYTE1MmQ2NzFlMGJiNDdkNSA9IEwuY2lyY2xlTWFya2VyKAogICAgICAgICAgICAgICAgWzQzLjY0OTkwMDcxMTkzNzAxNSwtNzkuMzgzNzE4Mjk2Mzk2MTddLAogICAgICAgICAgICAgICAgewogICJidWJibGluZ01vdXNlRXZlbnRzIjogdHJ1ZSwKICAiY29sb3IiOiAiY3lhbiIsCiAgImRhc2hBcnJheSI6IG51bGwsCiAgImRhc2hPZmZzZXQiOiBudWxsLAogICJmaWxsIjogdHJ1ZSwKICAiZmlsbENvbG9yIjogImJsdWUiLAogICJmaWxsT3BhY2l0eSI6IDAuNiwKICAiZmlsbFJ1bGUiOiAiZXZlbm9kZCIsCiAgImxpbmVDYXAiOiAicm91bmQiLAogICJsaW5lSm9pbiI6ICJyb3VuZCIsCiAgIm9wYWNpdHkiOiAxLjAsCiAgInJhZGl1cyI6IDQsCiAgInN0cm9rZSI6IHRydWUsCiAgIndlaWdodCI6IDMKfQogICAgICAgICAgICAgICAgKS5hZGRUbyhtYXBfOTVmYWE4YjkxMjViNGRlOTg4NDJkM2IyNjVjOWIzNjQpOwogICAgICAgICAgICAKICAgIAogICAgICAgICAgICB2YXIgcG9wdXBfMTdmZjA3M2Q2ZjAwNGM3NWFkYmY5ZTMzZGMyMDMyOTUgPSBMLnBvcHVwKHttYXhXaWR0aDogJzMwMCd9KTsKCiAgICAgICAgICAgIAogICAgICAgICAgICAgICAgdmFyIGh0bWxfM2QyMzk1YTNhODhjNGZhZTk3NTY4NDY2ZWE0YWJiOTkgPSAkKCc8ZGl2IGlkPSJodG1sXzNkMjM5NWEzYTg4YzRmYWU5NzU2ODQ2NmVhNGFiYjk5IiBzdHlsZT0id2lkdGg6IDEwMC4wJTsgaGVpZ2h0OiAxMDAuMCU7Ij5XZXN0IFRvcm9udG8sIER1ZmZlcmluLCBEb3ZlcmNvdXJ0IFZpbGxhZ2U8L2Rpdj4nKVswXTsKICAgICAgICAgICAgICAgIHBvcHVwXzE3ZmYwNzNkNmYwMDRjNzVhZGJmOWUzM2RjMjAzMjk1LnNldENvbnRlbnQoaHRtbF8zZDIzOTVhM2E4OGM0ZmFlOTc1Njg0NjZlYTRhYmI5OSk7CiAgICAgICAgICAgIAoKICAgICAgICAgICAgY2lyY2xlX21hcmtlcl8yMzM1MjM3MjYwOTE0ZjFmYTE1MmQ2NzFlMGJiNDdkNS5iaW5kUG9wdXAocG9wdXBfMTdmZjA3M2Q2ZjAwNGM3NWFkYmY5ZTMzZGMyMDMyOTUpOwoKICAgICAgICAgICAgCiAgICAgICAgCiAgICAKICAgICAgICAgICAgdmFyIGNpcmNsZV9tYXJrZXJfNzA1OGFmZWYzYWNiNDM4NDgwZjhiZmQyMmJlNmQ5YmEgPSBMLmNpcmNsZU1hcmtlcigKICAgICAgICAgICAgICAgIFs0My42MzkyNTg1OTk5OTk5OSwtNzkuMzgyODM5OTQ5OTk5OTldLAogICAgICAgICAgICAgICAgewogICJidWJibGluZ01vdXNlRXZlbnRzIjogdHJ1ZSwKICAiY29sb3IiOiAiY3lhbiIsCiAgImRhc2hBcnJheSI6IG51bGwsCiAgImRhc2hPZmZzZXQiOiBudWxsLAogICJmaWxsIjogdHJ1ZSwKICAiZmlsbENvbG9yIjogImJsdWUiLAogICJmaWxsT3BhY2l0eSI6IDAuNiwKICAiZmlsbFJ1bGUiOiAiZXZlbm9kZCIsCiAgImxpbmVDYXAiOiAicm91bmQiLAogICJsaW5lSm9pbiI6ICJyb3VuZCIsCiAgIm9wYWNpdHkiOiAxLjAsCiAgInJhZGl1cyI6IDQsCiAgInN0cm9rZSI6IHRydWUsCiAgIndlaWdodCI6IDMKfQogICAgICAgICAgICAgICAgKS5hZGRUbyhtYXBfOTVmYWE4YjkxMjViNGRlOTg4NDJkM2IyNjVjOWIzNjQpOwogICAgICAgICAgICAKICAgIAogICAgICAgICAgICB2YXIgcG9wdXBfMGNlNjZlOWZhNGVjNDM4N2I0NzBkNWIxODQ4ZTJiMDQgPSBMLnBvcHVwKHttYXhXaWR0aDogJzMwMCd9KTsKCiAgICAgICAgICAgIAogICAgICAgICAgICAgICAgdmFyIGh0bWxfMmQzYzBmMmJhNjM1NGE3Mzg3YzU4YjA0MWM2NjhjMmUgPSAkKCc8ZGl2IGlkPSJodG1sXzJkM2MwZjJiYTYzNTRhNzM4N2M1OGIwNDFjNjY4YzJlIiBzdHlsZT0id2lkdGg6IDEwMC4wJTsgaGVpZ2h0OiAxMDAuMCU7Ij5Eb3dudG93biBUb3JvbnRvLCBIYXJib3VyZnJvbnQgRWFzdCwgVW5pb24gU3RhdGlvbiwgVG9yb250byBJc2xhbmRzPC9kaXY+JylbMF07CiAgICAgICAgICAgICAgICBwb3B1cF8wY2U2NmU5ZmE0ZWM0Mzg3YjQ3MGQ1YjE4NDhlMmIwNC5zZXRDb250ZW50KGh0bWxfMmQzYzBmMmJhNjM1NGE3Mzg3YzU4YjA0MWM2NjhjMmUpOwogICAgICAgICAgICAKCiAgICAgICAgICAgIGNpcmNsZV9tYXJrZXJfNzA1OGFmZWYzYWNiNDM4NDgwZjhiZmQyMmJlNmQ5YmEuYmluZFBvcHVwKHBvcHVwXzBjZTY2ZTlmYTRlYzQzODdiNDcwZDViMTg0OGUyYjA0KTsKCiAgICAgICAgICAgIAogICAgICAgIAogICAgCiAgICAgICAgICAgIHZhciBjaXJjbGVfbWFya2VyX2QyMGQ3MGRmYWI5MjQzZDU4NDlhNzI3ZDllODNhODViID0gTC5jaXJjbGVNYXJrZXIoCiAgICAgICAgICAgICAgICBbMTIuNTExNTE5LC03MC4wMTMyOTkxXSwKICAgICAgICAgICAgICAgIHsKICAiYnViYmxpbmdNb3VzZUV2ZW50cyI6IHRydWUsCiAgImNvbG9yIjogImN5YW4iLAogICJkYXNoQXJyYXkiOiBudWxsLAogICJkYXNoT2Zmc2V0IjogbnVsbCwKICAiZmlsbCI6IHRydWUsCiAgImZpbGxDb2xvciI6ICJibHVlIiwKICAiZmlsbE9wYWNpdHkiOiAwLjYsCiAgImZpbGxSdWxlIjogImV2ZW5vZGQiLAogICJsaW5lQ2FwIjogInJvdW5kIiwKICAibGluZUpvaW4iOiAicm91bmQiLAogICJvcGFjaXR5IjogMS4wLAogICJyYWRpdXMiOiA0LAogICJzdHJva2UiOiB0cnVlLAogICJ3ZWlnaHQiOiAzCn0KICAgICAgICAgICAgICAgICkuYWRkVG8obWFwXzk1ZmFhOGI5MTI1YjRkZTk4ODQyZDNiMjY1YzliMzY0KTsKICAgICAgICAgICAgCiAgICAKICAgICAgICAgICAgdmFyIHBvcHVwX2ExMmQ1YjA4NmFlZTQwM2M5YTBlZjZlZGZiNWM5OTFlID0gTC5wb3B1cCh7bWF4V2lkdGg6ICczMDAnfSk7CgogICAgICAgICAgICAKICAgICAgICAgICAgICAgIHZhciBodG1sXzBhMGMwZTc4NzM5ZjQ3NmU5N2U3OTA5MDc3Yjg0MGUxID0gJCgnPGRpdiBpZD0iaHRtbF8wYTBjMGU3ODczOWY0NzZlOTdlNzkwOTA3N2I4NDBlMSIgc3R5bGU9IndpZHRoOiAxMDAuMCU7IGhlaWdodDogMTAwLjAlOyI+V2VzdCBUb3JvbnRvLCBMaXR0bGUgUG9ydHVnYWwsIFRyaW5pdHk8L2Rpdj4nKVswXTsKICAgICAgICAgICAgICAgIHBvcHVwX2ExMmQ1YjA4NmFlZTQwM2M5YTBlZjZlZGZiNWM5OTFlLnNldENvbnRlbnQoaHRtbF8wYTBjMGU3ODczOWY0NzZlOTdlNzkwOTA3N2I4NDBlMSk7CiAgICAgICAgICAgIAoKICAgICAgICAgICAgY2lyY2xlX21hcmtlcl9kMjBkNzBkZmFiOTI0M2Q1ODQ5YTcyN2Q5ZTgzYTg1Yi5iaW5kUG9wdXAocG9wdXBfYTEyZDViMDg2YWVlNDAzYzlhMGVmNmVkZmI1Yzk5MWUpOwoKICAgICAgICAgICAgCiAgICAgICAgCiAgICAKICAgICAgICAgICAgdmFyIGNpcmNsZV9tYXJrZXJfN2U2Yzc4ODg2NzIzNDlmMDkzYTUzYWM2MGNjZTRlMjMgPSBMLmNpcmNsZU1hcmtlcigKICAgICAgICAgICAgICAgIFs1NC4xMTQzNzgyLDE3Ljk1MDAxMV0sCiAgICAgICAgICAgICAgICB7CiAgImJ1YmJsaW5nTW91c2VFdmVudHMiOiB0cnVlLAogICJjb2xvciI6ICJjeWFuIiwKICAiZGFzaEFycmF5IjogbnVsbCwKICAiZGFzaE9mZnNldCI6IG51bGwsCiAgImZpbGwiOiB0cnVlLAogICJmaWxsQ29sb3IiOiAiYmx1ZSIsCiAgImZpbGxPcGFjaXR5IjogMC42LAogICJmaWxsUnVsZSI6ICJldmVub2RkIiwKICAibGluZUNhcCI6ICJyb3VuZCIsCiAgImxpbmVKb2luIjogInJvdW5kIiwKICAib3BhY2l0eSI6IDEuMCwKICAicmFkaXVzIjogNCwKICAic3Ryb2tlIjogdHJ1ZSwKICAid2VpZ2h0IjogMwp9CiAgICAgICAgICAgICAgICApLmFkZFRvKG1hcF85NWZhYThiOTEyNWI0ZGU5ODg0MmQzYjI2NWM5YjM2NCk7CiAgICAgICAgICAgIAogICAgCiAgICAgICAgICAgIHZhciBwb3B1cF81MGU3OGE4OTllZTc0ZWMzODI5ZGFhN2M1ZTQ4YmVhZSA9IEwucG9wdXAoe21heFdpZHRoOiAnMzAwJ30pOwoKICAgICAgICAgICAgCiAgICAgICAgICAgICAgICB2YXIgaHRtbF84YmVjN2I4NDFhNmQ0ZDVlYTRlMjJlY2YyN2EwYTBkZiA9ICQoJzxkaXYgaWQ9Imh0bWxfOGJlYzdiODQxYTZkNGQ1ZWE0ZTIyZWNmMjdhMGEwZGYiIHN0eWxlPSJ3aWR0aDogMTAwLjAlOyBoZWlnaHQ6IDEwMC4wJTsiPkVhc3QgVG9yb250bywgVGhlIERhbmZvcnRoIFdlc3QsIFJpdmVyZGFsZTwvZGl2PicpWzBdOwogICAgICAgICAgICAgICAgcG9wdXBfNTBlNzhhODk5ZWU3NGVjMzgyOWRhYTdjNWU0OGJlYWUuc2V0Q29udGVudChodG1sXzhiZWM3Yjg0MWE2ZDRkNWVhNGUyMmVjZjI3YTBhMGRmKTsKICAgICAgICAgICAgCgogICAgICAgICAgICBjaXJjbGVfbWFya2VyXzdlNmM3ODg4NjcyMzQ5ZjA5M2E1M2FjNjBjY2U0ZTIzLmJpbmRQb3B1cChwb3B1cF81MGU3OGE4OTllZTc0ZWMzODI5ZGFhN2M1ZTQ4YmVhZSk7CgogICAgICAgICAgICAKICAgICAgICAKICAgIAogICAgICAgICAgICB2YXIgY2lyY2xlX21hcmtlcl82ZDZjYWNhNzljZGQ0MWU1ODI2NDQyNDU4NGVmNTk4ZCA9IEwuY2lyY2xlTWFya2VyKAogICAgICAgICAgICAgICAgWzU0LjExNDM3ODIsMTcuOTUwMDExXSwKICAgICAgICAgICAgICAgIHsKICAiYnViYmxpbmdNb3VzZUV2ZW50cyI6IHRydWUsCiAgImNvbG9yIjogImN5YW4iLAogICJkYXNoQXJyYXkiOiBudWxsLAogICJkYXNoT2Zmc2V0IjogbnVsbCwKICAiZmlsbCI6IHRydWUsCiAgImZpbGxDb2xvciI6ICJibHVlIiwKICAiZmlsbE9wYWNpdHkiOiAwLjYsCiAgImZpbGxSdWxlIjogImV2ZW5vZGQiLAogICJsaW5lQ2FwIjogInJvdW5kIiwKICAibGluZUpvaW4iOiAicm91bmQiLAogICJvcGFjaXR5IjogMS4wLAogICJyYWRpdXMiOiA0LAogICJzdHJva2UiOiB0cnVlLAogICJ3ZWlnaHQiOiAzCn0KICAgICAgICAgICAgICAgICkuYWRkVG8obWFwXzk1ZmFhOGI5MTI1YjRkZTk4ODQyZDNiMjY1YzliMzY0KTsKICAgICAgICAgICAgCiAgICAKICAgICAgICAgICAgdmFyIHBvcHVwX2NkY2Y4YWMxYTVhNjQ2NDg5Y2VkYjZmYmEyZGM4MjcwID0gTC5wb3B1cCh7bWF4V2lkdGg6ICczMDAnfSk7CgogICAgICAgICAgICAKICAgICAgICAgICAgICAgIHZhciBodG1sX2ZmNGE0ZTM3NzQzMzQ2ZTZhZTRmNTc5YTRjMTA3NzY5ID0gJCgnPGRpdiBpZD0iaHRtbF9mZjRhNGUzNzc0MzM0NmU2YWU0ZjU3OWE0YzEwNzc2OSIgc3R5bGU9IndpZHRoOiAxMDAuMCU7IGhlaWdodDogMTAwLjAlOyI+RG93bnRvd24gVG9yb250bywgVG9yb250byBEb21pbmlvbiBDZW50cmUsIERlc2lnbiBFeGNoYW5nZTwvZGl2PicpWzBdOwogICAgICAgICAgICAgICAgcG9wdXBfY2RjZjhhYzFhNWE2NDY0ODljZWRiNmZiYTJkYzgyNzAuc2V0Q29udGVudChodG1sX2ZmNGE0ZTM3NzQzMzQ2ZTZhZTRmNTc5YTRjMTA3NzY5KTsKICAgICAgICAgICAgCgogICAgICAgICAgICBjaXJjbGVfbWFya2VyXzZkNmNhY2E3OWNkZDQxZTU4MjY0NDI0NTg0ZWY1OThkLmJpbmRQb3B1cChwb3B1cF9jZGNmOGFjMWE1YTY0NjQ4OWNlZGI2ZmJhMmRjODI3MCk7CgogICAgICAgICAgICAKICAgICAgICAKICAgIAogICAgICAgICAgICB2YXIgY2lyY2xlX21hcmtlcl81M2UzMjVhZDhkMzc0ODE2YjExNjQyZTQzZDAwYTczYSA9IEwuY2lyY2xlTWFya2VyKAogICAgICAgICAgICAgICAgWzQzLjYzNzA5NjkwOTEzNTAyLC03OS40MzQ5NTg0MzkxMDYxXSwKICAgICAgICAgICAgICAgIHsKICAiYnViYmxpbmdNb3VzZUV2ZW50cyI6IHRydWUsCiAgImNvbG9yIjogImN5YW4iLAogICJkYXNoQXJyYXkiOiBudWxsLAogICJkYXNoT2Zmc2V0IjogbnVsbCwKICAiZmlsbCI6IHRydWUsCiAgImZpbGxDb2xvciI6ICJibHVlIiwKICAiZmlsbE9wYWNpdHkiOiAwLjYsCiAgImZpbGxSdWxlIjogImV2ZW5vZGQiLAogICJsaW5lQ2FwIjogInJvdW5kIiwKICAibGluZUpvaW4iOiAicm91bmQiLAogICJvcGFjaXR5IjogMS4wLAogICJyYWRpdXMiOiA0LAogICJzdHJva2UiOiB0cnVlLAogICJ3ZWlnaHQiOiAzCn0KICAgICAgICAgICAgICAgICkuYWRkVG8obWFwXzk1ZmFhOGI5MTI1YjRkZTk4ODQyZDNiMjY1YzliMzY0KTsKICAgICAgICAgICAgCiAgICAKICAgICAgICAgICAgdmFyIHBvcHVwX2NkZTFjYWE0YzQzNzQwMzliYjQzMDY5MTQ5ZTI1MTc1ID0gTC5wb3B1cCh7bWF4V2lkdGg6ICczMDAnfSk7CgogICAgICAgICAgICAKICAgICAgICAgICAgICAgIHZhciBodG1sX2E4NzA0OWM4YTQ1MDRiYzE4OGRjOWQ4YTdjYWNkMDUzID0gJCgnPGRpdiBpZD0iaHRtbF9hODcwNDljOGE0NTA0YmMxODhkYzlkOGE3Y2FjZDA1MyIgc3R5bGU9IndpZHRoOiAxMDAuMCU7IGhlaWdodDogMTAwLjAlOyI+V2VzdCBUb3JvbnRvLCBCcm9ja3RvbiwgUGFya2RhbGUgVmlsbGFnZSwgRXhoaWJpdGlvbiBQbGFjZTwvZGl2PicpWzBdOwogICAgICAgICAgICAgICAgcG9wdXBfY2RlMWNhYTRjNDM3NDAzOWJiNDMwNjkxNDllMjUxNzUuc2V0Q29udGVudChodG1sX2E4NzA0OWM4YTQ1MDRiYzE4OGRjOWQ4YTdjYWNkMDUzKTsKICAgICAgICAgICAgCgogICAgICAgICAgICBjaXJjbGVfbWFya2VyXzUzZTMyNWFkOGQzNzQ4MTZiMTE2NDJlNDNkMDBhNzNhLmJpbmRQb3B1cChwb3B1cF9jZGUxY2FhNGM0Mzc0MDM5YmI0MzA2OTE0OWUyNTE3NSk7CgogICAgICAgICAgICAKICAgICAgICAKICAgIAogICAgICAgICAgICB2YXIgY2lyY2xlX21hcmtlcl9iZjc5MTk4ODlmMTU0NDliYTg1ZWFkNWViMjljMTVjYyA9IEwuY2lyY2xlTWFya2VyKAogICAgICAgICAgICAgICAgWzQ3LjEwOTUwNDM1LDIuNDAwMDIwMDE1NzQ5ODU0NF0sCiAgICAgICAgICAgICAgICB7CiAgImJ1YmJsaW5nTW91c2VFdmVudHMiOiB0cnVlLAogICJjb2xvciI6ICJjeWFuIiwKICAiZGFzaEFycmF5IjogbnVsbCwKICAiZGFzaE9mZnNldCI6IG51bGwsCiAgImZpbGwiOiB0cnVlLAogICJmaWxsQ29sb3IiOiAiYmx1ZSIsCiAgImZpbGxPcGFjaXR5IjogMC42LAogICJmaWxsUnVsZSI6ICJldmVub2RkIiwKICAibGluZUNhcCI6ICJyb3VuZCIsCiAgImxpbmVKb2luIjogInJvdW5kIiwKICAib3BhY2l0eSI6IDEuMCwKICAicmFkaXVzIjogNCwKICAic3Ryb2tlIjogdHJ1ZSwKICAid2VpZ2h0IjogMwp9CiAgICAgICAgICAgICAgICApLmFkZFRvKG1hcF85NWZhYThiOTEyNWI0ZGU5ODg0MmQzYjI2NWM5YjM2NCk7CiAgICAgICAgICAgIAogICAgCiAgICAgICAgICAgIHZhciBwb3B1cF8yOTE1NGU1ZGI3NjU0MWE5OGQ3NmU0ZmUyNzNiNjAyNiA9IEwucG9wdXAoe21heFdpZHRoOiAnMzAwJ30pOwoKICAgICAgICAgICAgCiAgICAgICAgICAgICAgICB2YXIgaHRtbF9jNmFjZDk0MjFmNjI0MGYyOGE1OGVkN2FhYWQxZDA1NiA9ICQoJzxkaXYgaWQ9Imh0bWxfYzZhY2Q5NDIxZjYyNDBmMjhhNThlZDdhYWFkMWQwNTYiIHN0eWxlPSJ3aWR0aDogMTAwLjAlOyBoZWlnaHQ6IDEwMC4wJTsiPkVhc3QgVG9yb250bywgSW5kaWEgQmF6YWFyLCBUaGUgQmVhY2hlcyBXZXN0PC9kaXY+JylbMF07CiAgICAgICAgICAgICAgICBwb3B1cF8yOTE1NGU1ZGI3NjU0MWE5OGQ3NmU0ZmUyNzNiNjAyNi5zZXRDb250ZW50KGh0bWxfYzZhY2Q5NDIxZjYyNDBmMjhhNThlZDdhYWFkMWQwNTYpOwogICAgICAgICAgICAKCiAgICAgICAgICAgIGNpcmNsZV9tYXJrZXJfYmY3OTE5ODg5ZjE1NDQ5YmE4NWVhZDVlYjI5YzE1Y2MuYmluZFBvcHVwKHBvcHVwXzI5MTU0ZTVkYjc2NTQxYTk4ZDc2ZTRmZTI3M2I2MDI2KTsKCiAgICAgICAgICAgIAogICAgICAgIAogICAgCiAgICAgICAgICAgIHZhciBjaXJjbGVfbWFya2VyXzc0MDc5N2MzNmI5YzRkYTRhNWU5MTliOTUxNWYwYjY5ID0gTC5jaXJjbGVNYXJrZXIoCiAgICAgICAgICAgICAgICBbNDcuMTA5NTA0MzUsMi40MDAwMjAwMTU3NDk4NTQ0XSwKICAgICAgICAgICAgICAgIHsKICAiYnViYmxpbmdNb3VzZUV2ZW50cyI6IHRydWUsCiAgImNvbG9yIjogImN5YW4iLAogICJkYXNoQXJyYXkiOiBudWxsLAogICJkYXNoT2Zmc2V0IjogbnVsbCwKICAiZmlsbCI6IHRydWUsCiAgImZpbGxDb2xvciI6ICJibHVlIiwKICAiZmlsbE9wYWNpdHkiOiAwLjYsCiAgImZpbGxSdWxlIjogImV2ZW5vZGQiLAogICJsaW5lQ2FwIjogInJvdW5kIiwKICAibGluZUpvaW4iOiAicm91bmQiLAogICJvcGFjaXR5IjogMS4wLAogICJyYWRpdXMiOiA0LAogICJzdHJva2UiOiB0cnVlLAogICJ3ZWlnaHQiOiAzCn0KICAgICAgICAgICAgICAgICkuYWRkVG8obWFwXzk1ZmFhOGI5MTI1YjRkZTk4ODQyZDNiMjY1YzliMzY0KTsKICAgICAgICAgICAgCiAgICAKICAgICAgICAgICAgdmFyIHBvcHVwXzU5MGY4ZGM3MWMzNzQ1Mjg5MDkwNjhiNjMxYTkyNTg3ID0gTC5wb3B1cCh7bWF4V2lkdGg6ICczMDAnfSk7CgogICAgICAgICAgICAKICAgICAgICAgICAgICAgIHZhciBodG1sXzY3OTA2MmU2ZWVmMTRkN2M5OGMxMTAzMWMyZDAyNWVjID0gJCgnPGRpdiBpZD0iaHRtbF82NzkwNjJlNmVlZjE0ZDdjOThjMTEwMzFjMmQwMjVlYyIgc3R5bGU9IndpZHRoOiAxMDAuMCU7IGhlaWdodDogMTAwLjAlOyI+RG93bnRvd24gVG9yb250bywgQ29tbWVyY2UgQ291cnQsIFZpY3RvcmlhIEhvdGVsPC9kaXY+JylbMF07CiAgICAgICAgICAgICAgICBwb3B1cF81OTBmOGRjNzFjMzc0NTI4OTA5MDY4YjYzMWE5MjU4Ny5zZXRDb250ZW50KGh0bWxfNjc5MDYyZTZlZWYxNGQ3Yzk4YzExMDMxYzJkMDI1ZWMpOwogICAgICAgICAgICAKCiAgICAgICAgICAgIGNpcmNsZV9tYXJrZXJfNzQwNzk3YzM2YjljNGRhNGE1ZTkxOWI5NTE1ZjBiNjkuYmluZFBvcHVwKHBvcHVwXzU5MGY4ZGM3MWMzNzQ1Mjg5MDkwNjhiNjMxYTkyNTg3KTsKCiAgICAgICAgICAgIAogICAgICAgIAogICAgCiAgICAgICAgICAgIHZhciBjaXJjbGVfbWFya2VyXzFmYTAwYzFmMWUzNDQ1OTdhODllN2I5YWFlMjdmOGNjID0gTC5jaXJjbGVNYXJrZXIoCiAgICAgICAgICAgICAgICBbMTcuMDgwMzk5OCwtOTYuNzE4OTk0NF0sCiAgICAgICAgICAgICAgICB7CiAgImJ1YmJsaW5nTW91c2VFdmVudHMiOiB0cnVlLAogICJjb2xvciI6ICJjeWFuIiwKICAiZGFzaEFycmF5IjogbnVsbCwKICAiZGFzaE9mZnNldCI6IG51bGwsCiAgImZpbGwiOiB0cnVlLAogICJmaWxsQ29sb3IiOiAiYmx1ZSIsCiAgImZpbGxPcGFjaXR5IjogMC42LAogICJmaWxsUnVsZSI6ICJldmVub2RkIiwKICAibGluZUNhcCI6ICJyb3VuZCIsCiAgImxpbmVKb2luIjogInJvdW5kIiwKICAib3BhY2l0eSI6IDEuMCwKICAicmFkaXVzIjogNCwKICAic3Ryb2tlIjogdHJ1ZSwKICAid2VpZ2h0IjogMwp9CiAgICAgICAgICAgICAgICApLmFkZFRvKG1hcF85NWZhYThiOTEyNWI0ZGU5ODg0MmQzYjI2NWM5YjM2NCk7CiAgICAgICAgICAgIAogICAgCiAgICAgICAgICAgIHZhciBwb3B1cF9mYTY0ZWNjNjBmM2I0ZjNlOTNiNDNhZmNjMWNiMjk3YSA9IEwucG9wdXAoe21heFdpZHRoOiAnMzAwJ30pOwoKICAgICAgICAgICAgCiAgICAgICAgICAgICAgICB2YXIgaHRtbF9kNjlmOTEzNjEzYTg0Zjc0OTMxZTRiMDljZGIzZDg1ZCA9ICQoJzxkaXYgaWQ9Imh0bWxfZDY5ZjkxMzYxM2E4NGY3NDkzMWU0YjA5Y2RiM2Q4NWQiIHN0eWxlPSJ3aWR0aDogMTAwLjAlOyBoZWlnaHQ6IDEwMC4wJTsiPkVhc3QgVG9yb250bywgU3R1ZGlvIERpc3RyaWN0PC9kaXY+JylbMF07CiAgICAgICAgICAgICAgICBwb3B1cF9mYTY0ZWNjNjBmM2I0ZjNlOTNiNDNhZmNjMWNiMjk3YS5zZXRDb250ZW50KGh0bWxfZDY5ZjkxMzYxM2E4NGY3NDkzMWU0YjA5Y2RiM2Q4NWQpOwogICAgICAgICAgICAKCiAgICAgICAgICAgIGNpcmNsZV9tYXJrZXJfMWZhMDBjMWYxZTM0NDU5N2E4OWU3YjlhYWUyN2Y4Y2MuYmluZFBvcHVwKHBvcHVwX2ZhNjRlY2M2MGYzYjRmM2U5M2I0M2FmY2MxY2IyOTdhKTsKCiAgICAgICAgICAgIAogICAgICAgIAogICAgCiAgICAgICAgICAgIHZhciBjaXJjbGVfbWFya2VyX2I0NzRjOTg4MzEyZjRkZWFhOGI0Y2YyZGEzMzEwZGY5ID0gTC5jaXJjbGVNYXJrZXIoCiAgICAgICAgICAgICAgICBbNDMuNzc5MjM4NTY3MDY2OSwtNzkuNDE2NTkzMzU0MzMzNzRdLAogICAgICAgICAgICAgICAgewogICJidWJibGluZ01vdXNlRXZlbnRzIjogdHJ1ZSwKICAiY29sb3IiOiAiY3lhbiIsCiAgImRhc2hBcnJheSI6IG51bGwsCiAgImRhc2hPZmZzZXQiOiBudWxsLAogICJmaWxsIjogdHJ1ZSwKICAiZmlsbENvbG9yIjogImJsdWUiLAogICJmaWxsT3BhY2l0eSI6IDAuNiwKICAiZmlsbFJ1bGUiOiAiZXZlbm9kZCIsCiAgImxpbmVDYXAiOiAicm91bmQiLAogICJsaW5lSm9pbiI6ICJyb3VuZCIsCiAgIm9wYWNpdHkiOiAxLjAsCiAgInJhZGl1cyI6IDQsCiAgInN0cm9rZSI6IHRydWUsCiAgIndlaWdodCI6IDMKfQogICAgICAgICAgICAgICAgKS5hZGRUbyhtYXBfOTVmYWE4YjkxMjViNGRlOTg4NDJkM2IyNjVjOWIzNjQpOwogICAgICAgICAgICAKICAgIAogICAgICAgICAgICB2YXIgcG9wdXBfNmM3MDQ1MjU2ZGVjNDdlNjlhZTA1MzYyMDMyMzZmZjYgPSBMLnBvcHVwKHttYXhXaWR0aDogJzMwMCd9KTsKCiAgICAgICAgICAgIAogICAgICAgICAgICAgICAgdmFyIGh0bWxfOWViYThiOGQyNTcyNDBhNjhhOGU2NzVjODAzNDFkZDIgPSAkKCc8ZGl2IGlkPSJodG1sXzllYmE4YjhkMjU3MjQwYTY4YThlNjc1YzgwMzQxZGQyIiBzdHlsZT0id2lkdGg6IDEwMC4wJTsgaGVpZ2h0OiAxMDAuMCU7Ij5DZW50cmFsIFRvcm9udG8sIExhd3JlbmNlIFBhcms8L2Rpdj4nKVswXTsKICAgICAgICAgICAgICAgIHBvcHVwXzZjNzA0NTI1NmRlYzQ3ZTY5YWUwNTM2MjAzMjM2ZmY2LnNldENvbnRlbnQoaHRtbF85ZWJhOGI4ZDI1NzI0MGE2OGE4ZTY3NWM4MDM0MWRkMik7CiAgICAgICAgICAgIAoKICAgICAgICAgICAgY2lyY2xlX21hcmtlcl9iNDc0Yzk4ODMxMmY0ZGVhYThiNGNmMmRhMzMxMGRmOS5iaW5kUG9wdXAocG9wdXBfNmM3MDQ1MjU2ZGVjNDdlNjlhZTA1MzYyMDMyMzZmZjYpOwoKICAgICAgICAgICAgCiAgICAgICAgCiAgICAKICAgICAgICAgICAgdmFyIGNpcmNsZV9tYXJrZXJfNTFlZmI3OWQwOTUwNDk2OTg2YTZkOWQyYjAwZGFjZjkgPSBMLmNpcmNsZU1hcmtlcigKICAgICAgICAgICAgICAgIFs0My43NzkyMzg1NjcwNjY5LC03OS40MTY1OTMzNTQzMzM3NF0sCiAgICAgICAgICAgICAgICB7CiAgImJ1YmJsaW5nTW91c2VFdmVudHMiOiB0cnVlLAogICJjb2xvciI6ICJjeWFuIiwKICAiZGFzaEFycmF5IjogbnVsbCwKICAiZGFzaE9mZnNldCI6IG51bGwsCiAgImZpbGwiOiB0cnVlLAogICJmaWxsQ29sb3IiOiAiYmx1ZSIsCiAgImZpbGxPcGFjaXR5IjogMC42LAogICJmaWxsUnVsZSI6ICJldmVub2RkIiwKICAibGluZUNhcCI6ICJyb3VuZCIsCiAgImxpbmVKb2luIjogInJvdW5kIiwKICAib3BhY2l0eSI6IDEuMCwKICAicmFkaXVzIjogNCwKICAic3Ryb2tlIjogdHJ1ZSwKICAid2VpZ2h0IjogMwp9CiAgICAgICAgICAgICAgICApLmFkZFRvKG1hcF85NWZhYThiOTEyNWI0ZGU5ODg0MmQzYjI2NWM5YjM2NCk7CiAgICAgICAgICAgIAogICAgCiAgICAgICAgICAgIHZhciBwb3B1cF8wM2YzNDI1MDhmNjc0YzFlYjQ1NmE3YzZkNzI1YmQ4YyA9IEwucG9wdXAoe21heFdpZHRoOiAnMzAwJ30pOwoKICAgICAgICAgICAgCiAgICAgICAgICAgICAgICB2YXIgaHRtbF9jNjdkOGUwODhmYWE0ZDNiYjI2ZTQ3ZTljZDgyMGY5NyA9ICQoJzxkaXYgaWQ9Imh0bWxfYzY3ZDhlMDg4ZmFhNGQzYmIyNmU0N2U5Y2Q4MjBmOTciIHN0eWxlPSJ3aWR0aDogMTAwLjAlOyBoZWlnaHQ6IDEwMC4wJTsiPkNlbnRyYWwgVG9yb250bywgUm9zZWxhd248L2Rpdj4nKVswXTsKICAgICAgICAgICAgICAgIHBvcHVwXzAzZjM0MjUwOGY2NzRjMWViNDU2YTdjNmQ3MjViZDhjLnNldENvbnRlbnQoaHRtbF9jNjdkOGUwODhmYWE0ZDNiYjI2ZTQ3ZTljZDgyMGY5Nyk7CiAgICAgICAgICAgIAoKICAgICAgICAgICAgY2lyY2xlX21hcmtlcl81MWVmYjc5ZDA5NTA0OTY5ODZhNmQ5ZDJiMDBkYWNmOS5iaW5kUG9wdXAocG9wdXBfMDNmMzQyNTA4ZjY3NGMxZWI0NTZhN2M2ZDcyNWJkOGMpOwoKICAgICAgICAgICAgCiAgICAgICAgCiAgICAKICAgICAgICAgICAgdmFyIGNpcmNsZV9tYXJrZXJfZGYxMWVlYWEwYmJlNGI5OWE4MGQ4YWJjYTUyMTdhZDkgPSBMLmNpcmNsZU1hcmtlcigKICAgICAgICAgICAgICAgIFs0My42NzQ1NTM0NDc2OTAxNSwtNzkuNDgzMzk3NjcwOTU1NjhdLAogICAgICAgICAgICAgICAgewogICJidWJibGluZ01vdXNlRXZlbnRzIjogdHJ1ZSwKICAiY29sb3IiOiAiY3lhbiIsCiAgImRhc2hBcnJheSI6IG51bGwsCiAgImRhc2hPZmZzZXQiOiBudWxsLAogICJmaWxsIjogdHJ1ZSwKICAiZmlsbENvbG9yIjogImJsdWUiLAogICJmaWxsT3BhY2l0eSI6IDAuNiwKICAiZmlsbFJ1bGUiOiAiZXZlbm9kZCIsCiAgImxpbmVDYXAiOiAicm91bmQiLAogICJsaW5lSm9pbiI6ICJyb3VuZCIsCiAgIm9wYWNpdHkiOiAxLjAsCiAgInJhZGl1cyI6IDQsCiAgInN0cm9rZSI6IHRydWUsCiAgIndlaWdodCI6IDMKfQogICAgICAgICAgICAgICAgKS5hZGRUbyhtYXBfOTVmYWE4YjkxMjViNGRlOTg4NDJkM2IyNjVjOWIzNjQpOwogICAgICAgICAgICAKICAgIAogICAgICAgICAgICB2YXIgcG9wdXBfZmRlMGQyMWY4NjExNDUzNmE0M2U0MDFhNDAxYTM4MDAgPSBMLnBvcHVwKHttYXhXaWR0aDogJzMwMCd9KTsKCiAgICAgICAgICAgIAogICAgICAgICAgICAgICAgdmFyIGh0bWxfYmFkNzJiMjdiYWMxNGJiOThjYzM3MTFmYTQ3NDM2YTYgPSAkKCc8ZGl2IGlkPSJodG1sX2JhZDcyYjI3YmFjMTRiYjk4Y2MzNzExZmE0NzQzNmE2IiBzdHlsZT0id2lkdGg6IDEwMC4wJTsgaGVpZ2h0OiAxMDAuMCU7Ij5DZW50cmFsIFRvcm9udG8sIERhdmlzdmlsbGUgTm9ydGg8L2Rpdj4nKVswXTsKICAgICAgICAgICAgICAgIHBvcHVwX2ZkZTBkMjFmODYxMTQ1MzZhNDNlNDAxYTQwMWEzODAwLnNldENvbnRlbnQoaHRtbF9iYWQ3MmIyN2JhYzE0YmI5OGNjMzcxMWZhNDc0MzZhNik7CiAgICAgICAgICAgIAoKICAgICAgICAgICAgY2lyY2xlX21hcmtlcl9kZjExZWVhYTBiYmU0Yjk5YTgwZDhhYmNhNTIxN2FkOS5iaW5kUG9wdXAocG9wdXBfZmRlMGQyMWY4NjExNDUzNmE0M2U0MDFhNDAxYTM4MDApOwoKICAgICAgICAgICAgCiAgICAgICAgCiAgICAKICAgICAgICAgICAgdmFyIGNpcmNsZV9tYXJrZXJfYzA2NjBlZWZkYmNiNDUwMWFhODE2YzRjNzVkNjM2NWYgPSBMLmNpcmNsZU1hcmtlcigKICAgICAgICAgICAgICAgIFs0My42NzQ1NTM0NDc2OTAxNSwtNzkuNDgzMzk3NjcwOTU1NjhdLAogICAgICAgICAgICAgICAgewogICJidWJibGluZ01vdXNlRXZlbnRzIjogdHJ1ZSwKICAiY29sb3IiOiAiY3lhbiIsCiAgImRhc2hBcnJheSI6IG51bGwsCiAgImRhc2hPZmZzZXQiOiBudWxsLAogICJmaWxsIjogdHJ1ZSwKICAiZmlsbENvbG9yIjogImJsdWUiLAogICJmaWxsT3BhY2l0eSI6IDAuNiwKICAiZmlsbFJ1bGUiOiAiZXZlbm9kZCIsCiAgImxpbmVDYXAiOiAicm91bmQiLAogICJsaW5lSm9pbiI6ICJyb3VuZCIsCiAgIm9wYWNpdHkiOiAxLjAsCiAgInJhZGl1cyI6IDQsCiAgInN0cm9rZSI6IHRydWUsCiAgIndlaWdodCI6IDMKfQogICAgICAgICAgICAgICAgKS5hZGRUbyhtYXBfOTVmYWE4YjkxMjViNGRlOTg4NDJkM2IyNjVjOWIzNjQpOwogICAgICAgICAgICAKICAgIAogICAgICAgICAgICB2YXIgcG9wdXBfNjk5NTE4OGU1OTY4NGZmNWEyMjE1ZjU0OWI0ZWI4YTkgPSBMLnBvcHVwKHttYXhXaWR0aDogJzMwMCd9KTsKCiAgICAgICAgICAgIAogICAgICAgICAgICAgICAgdmFyIGh0bWxfNzRkMTM3ODFlNGY5NDQ3YWIyODBhYTkyNWU2ZWQ3YzYgPSAkKCc8ZGl2IGlkPSJodG1sXzc0ZDEzNzgxZTRmOTQ0N2FiMjgwYWE5MjVlNmVkN2M2IiBzdHlsZT0id2lkdGg6IDEwMC4wJTsgaGVpZ2h0OiAxMDAuMCU7Ij5DZW50cmFsIFRvcm9udG8sIEZvcmVzdCBIaWxsIE5vcnRoICZhbXA7IFdlc3QsIEZvcmVzdCBIaWxsIFJvYWQgUGFyazwvZGl2PicpWzBdOwogICAgICAgICAgICAgICAgcG9wdXBfNjk5NTE4OGU1OTY4NGZmNWEyMjE1ZjU0OWI0ZWI4YTkuc2V0Q29udGVudChodG1sXzc0ZDEzNzgxZTRmOTQ0N2FiMjgwYWE5MjVlNmVkN2M2KTsKICAgICAgICAgICAgCgogICAgICAgICAgICBjaXJjbGVfbWFya2VyX2MwNjYwZWVmZGJjYjQ1MDFhYTgxNmM0Yzc1ZDYzNjVmLmJpbmRQb3B1cChwb3B1cF82OTk1MTg4ZTU5Njg0ZmY1YTIyMTVmNTQ5YjRlYjhhOSk7CgogICAgICAgICAgICAKICAgICAgICAKICAgIAogICAgICAgICAgICB2YXIgY2lyY2xlX21hcmtlcl9iNGMyMDEwMzVlNjM0MjY1ODNmYWRlZDVkZjViNmE1YiA9IEwuY2lyY2xlTWFya2VyKAogICAgICAgICAgICAgICAgWzQzLjY2MDYzMTg0MjU5MzU0NiwtNzkuNDY0NTEwNTc1MDgyNl0sCiAgICAgICAgICAgICAgICB7CiAgImJ1YmJsaW5nTW91c2VFdmVudHMiOiB0cnVlLAogICJjb2xvciI6ICJjeWFuIiwKICAiZGFzaEFycmF5IjogbnVsbCwKICAiZGFzaE9mZnNldCI6IG51bGwsCiAgImZpbGwiOiB0cnVlLAogICJmaWxsQ29sb3IiOiAiYmx1ZSIsCiAgImZpbGxPcGFjaXR5IjogMC42LAogICJmaWxsUnVsZSI6ICJldmVub2RkIiwKICAibGluZUNhcCI6ICJyb3VuZCIsCiAgImxpbmVKb2luIjogInJvdW5kIiwKICAib3BhY2l0eSI6IDEuMCwKICAicmFkaXVzIjogNCwKICAic3Ryb2tlIjogdHJ1ZSwKICAid2VpZ2h0IjogMwp9CiAgICAgICAgICAgICAgICApLmFkZFRvKG1hcF85NWZhYThiOTEyNWI0ZGU5ODg0MmQzYjI2NWM5YjM2NCk7CiAgICAgICAgICAgIAogICAgCiAgICAgICAgICAgIHZhciBwb3B1cF8xMjY0ZDUyYzlmODQ0Nzc1ODRjMmViYWM1YTgxYmI0MiA9IEwucG9wdXAoe21heFdpZHRoOiAnMzAwJ30pOwoKICAgICAgICAgICAgCiAgICAgICAgICAgICAgICB2YXIgaHRtbF9jYjMyZGQwODhhNmY0NWQzYTIxNjRkNjFmNjZjMDAyZCA9ICQoJzxkaXYgaWQ9Imh0bWxfY2IzMmRkMDg4YTZmNDVkM2EyMTY0ZDYxZjY2YzAwMmQiIHN0eWxlPSJ3aWR0aDogMTAwLjAlOyBoZWlnaHQ6IDEwMC4wJTsiPldlc3QgVG9yb250bywgSGlnaCBQYXJrLCBUaGUgSnVuY3Rpb24gU291dGg8L2Rpdj4nKVswXTsKICAgICAgICAgICAgICAgIHBvcHVwXzEyNjRkNTJjOWY4NDQ3NzU4NGMyZWJhYzVhODFiYjQyLnNldENvbnRlbnQoaHRtbF9jYjMyZGQwODhhNmY0NWQzYTIxNjRkNjFmNjZjMDAyZCk7CiAgICAgICAgICAgIAoKICAgICAgICAgICAgY2lyY2xlX21hcmtlcl9iNGMyMDEwMzVlNjM0MjY1ODNmYWRlZDVkZjViNmE1Yi5iaW5kUG9wdXAocG9wdXBfMTI2NGQ1MmM5Zjg0NDc3NTg0YzJlYmFjNWE4MWJiNDIpOwoKICAgICAgICAgICAgCiAgICAgICAgCiAgICAKICAgICAgICAgICAgdmFyIGNpcmNsZV9tYXJrZXJfYmU5YzhlNTc0MmU1NDVmOTg3NGYxYzE2OThlNmFjMzkgPSBMLmNpcmNsZU1hcmtlcigKICAgICAgICAgICAgICAgIFs0Ni4xMjIwNDY4LDMuNDIxOTg5MV0sCiAgICAgICAgICAgICAgICB7CiAgImJ1YmJsaW5nTW91c2VFdmVudHMiOiB0cnVlLAogICJjb2xvciI6ICJjeWFuIiwKICAiZGFzaEFycmF5IjogbnVsbCwKICAiZGFzaE9mZnNldCI6IG51bGwsCiAgImZpbGwiOiB0cnVlLAogICJmaWxsQ29sb3IiOiAiYmx1ZSIsCiAgImZpbGxPcGFjaXR5IjogMC42LAogICJmaWxsUnVsZSI6ICJldmVub2RkIiwKICAibGluZUNhcCI6ICJyb3VuZCIsCiAgImxpbmVKb2luIjogInJvdW5kIiwKICAib3BhY2l0eSI6IDEuMCwKICAicmFkaXVzIjogNCwKICAic3Ryb2tlIjogdHJ1ZSwKICAid2VpZ2h0IjogMwp9CiAgICAgICAgICAgICAgICApLmFkZFRvKG1hcF85NWZhYThiOTEyNWI0ZGU5ODg0MmQzYjI2NWM5YjM2NCk7CiAgICAgICAgICAgIAogICAgCiAgICAgICAgICAgIHZhciBwb3B1cF9mYTA2ZGU5NmFmM2E0YzYwYWZmYmE1MmQ5MmNmMmIxYyA9IEwucG9wdXAoe21heFdpZHRoOiAnMzAwJ30pOwoKICAgICAgICAgICAgCiAgICAgICAgICAgICAgICB2YXIgaHRtbF8wMmExMTI2MzZhOWI0MGE5YjhhZDE0YmM3MmZjMzgxYyA9ICQoJzxkaXYgaWQ9Imh0bWxfMDJhMTEyNjM2YTliNDBhOWI4YWQxNGJjNzJmYzM4MWMiIHN0eWxlPSJ3aWR0aDogMTAwLjAlOyBoZWlnaHQ6IDEwMC4wJTsiPkNlbnRyYWwgVG9yb250bywgTm9ydGggVG9yb250byBXZXN0LCBMYXdyZW5jZSBQYXJrPC9kaXY+JylbMF07CiAgICAgICAgICAgICAgICBwb3B1cF9mYTA2ZGU5NmFmM2E0YzYwYWZmYmE1MmQ5MmNmMmIxYy5zZXRDb250ZW50KGh0bWxfMDJhMTEyNjM2YTliNDBhOWI4YWQxNGJjNzJmYzM4MWMpOwogICAgICAgICAgICAKCiAgICAgICAgICAgIGNpcmNsZV9tYXJrZXJfYmU5YzhlNTc0MmU1NDVmOTg3NGYxYzE2OThlNmFjMzkuYmluZFBvcHVwKHBvcHVwX2ZhMDZkZTk2YWYzYTRjNjBhZmZiYTUyZDkyY2YyYjFjKTsKCiAgICAgICAgICAgIAogICAgICAgIAogICAgCiAgICAgICAgICAgIHZhciBjaXJjbGVfbWFya2VyX2NmZDU3NWE1YWFmMTRjMWE4Y2E4NDJmNjE5MWM0YTgwID0gTC5jaXJjbGVNYXJrZXIoCiAgICAgICAgICAgICAgICBbNDYuMTIyMDQ2OCwzLjQyMTk4OTFdLAogICAgICAgICAgICAgICAgewogICJidWJibGluZ01vdXNlRXZlbnRzIjogdHJ1ZSwKICAiY29sb3IiOiAiY3lhbiIsCiAgImRhc2hBcnJheSI6IG51bGwsCiAgImRhc2hPZmZzZXQiOiBudWxsLAogICJmaWxsIjogdHJ1ZSwKICAiZmlsbENvbG9yIjogImJsdWUiLAogICJmaWxsT3BhY2l0eSI6IDAuNiwKICAiZmlsbFJ1bGUiOiAiZXZlbm9kZCIsCiAgImxpbmVDYXAiOiAicm91bmQiLAogICJsaW5lSm9pbiI6ICJyb3VuZCIsCiAgIm9wYWNpdHkiOiAxLjAsCiAgInJhZGl1cyI6IDQsCiAgInN0cm9rZSI6IHRydWUsCiAgIndlaWdodCI6IDMKfQogICAgICAgICAgICAgICAgKS5hZGRUbyhtYXBfOTVmYWE4YjkxMjViNGRlOTg4NDJkM2IyNjVjOWIzNjQpOwogICAgICAgICAgICAKICAgIAogICAgICAgICAgICB2YXIgcG9wdXBfZjA2MDc2Y2NjMWY3NDI2MGI5MDFhM2ZjZTg2NjBiMmMgPSBMLnBvcHVwKHttYXhXaWR0aDogJzMwMCd9KTsKCiAgICAgICAgICAgIAogICAgICAgICAgICAgICAgdmFyIGh0bWxfNmEyMzBhMDAyM2Y0NDYwYWE5OWFlMzgwZDZjYTU5YjUgPSAkKCc8ZGl2IGlkPSJodG1sXzZhMjMwYTAwMjNmNDQ2MGFhOTlhZTM4MGQ2Y2E1OWI1IiBzdHlsZT0id2lkdGg6IDEwMC4wJTsgaGVpZ2h0OiAxMDAuMCU7Ij5DZW50cmFsIFRvcm9udG8sIFRoZSBBbm5leCwgTm9ydGggTWlkdG93biwgWW9ya3ZpbGxlPC9kaXY+JylbMF07CiAgICAgICAgICAgICAgICBwb3B1cF9mMDYwNzZjY2MxZjc0MjYwYjkwMWEzZmNlODY2MGIyYy5zZXRDb250ZW50KGh0bWxfNmEyMzBhMDAyM2Y0NDYwYWE5OWFlMzgwZDZjYTU5YjUpOwogICAgICAgICAgICAKCiAgICAgICAgICAgIGNpcmNsZV9tYXJrZXJfY2ZkNTc1YTVhYWYxNGMxYThjYTg0MmY2MTkxYzRhODAuYmluZFBvcHVwKHBvcHVwX2YwNjA3NmNjYzFmNzQyNjBiOTAxYTNmY2U4NjYwYjJjKTsKCiAgICAgICAgICAgIAogICAgICAgIAogICAgCiAgICAgICAgICAgIHZhciBjaXJjbGVfbWFya2VyX2RkMWM2ODE4NTdiMzQ1N2NiZGU0YjJhYjI3ZTE4NjYzID0gTC5jaXJjbGVNYXJrZXIoCiAgICAgICAgICAgICAgICBbNDYuMTIyMDQ2OCwzLjQyMTk4OTFdLAogICAgICAgICAgICAgICAgewogICJidWJibGluZ01vdXNlRXZlbnRzIjogdHJ1ZSwKICAiY29sb3IiOiAiY3lhbiIsCiAgImRhc2hBcnJheSI6IG51bGwsCiAgImRhc2hPZmZzZXQiOiBudWxsLAogICJmaWxsIjogdHJ1ZSwKICAiZmlsbENvbG9yIjogImJsdWUiLAogICJmaWxsT3BhY2l0eSI6IDAuNiwKICAiZmlsbFJ1bGUiOiAiZXZlbm9kZCIsCiAgImxpbmVDYXAiOiAicm91bmQiLAogICJsaW5lSm9pbiI6ICJyb3VuZCIsCiAgIm9wYWNpdHkiOiAxLjAsCiAgInJhZGl1cyI6IDQsCiAgInN0cm9rZSI6IHRydWUsCiAgIndlaWdodCI6IDMKfQogICAgICAgICAgICAgICAgKS5hZGRUbyhtYXBfOTVmYWE4YjkxMjViNGRlOTg4NDJkM2IyNjVjOWIzNjQpOwogICAgICAgICAgICAKICAgIAogICAgICAgICAgICB2YXIgcG9wdXBfM2FkN2MwNzdjMWNkNDNhMTliOTMxNmM4M2FmOGZjNDQgPSBMLnBvcHVwKHttYXhXaWR0aDogJzMwMCd9KTsKCiAgICAgICAgICAgIAogICAgICAgICAgICAgICAgdmFyIGh0bWxfNGM0OTE5OGJkODNiNGQ0NmFjMTI0MjVmYTI5ODc0YmYgPSAkKCc8ZGl2IGlkPSJodG1sXzRjNDkxOThiZDgzYjRkNDZhYzEyNDI1ZmEyOTg3NGJmIiBzdHlsZT0id2lkdGg6IDEwMC4wJTsgaGVpZ2h0OiAxMDAuMCU7Ij5XZXN0IFRvcm9udG8sIFBhcmtkYWxlLCBSb25jZXN2YWxsZXM8L2Rpdj4nKVswXTsKICAgICAgICAgICAgICAgIHBvcHVwXzNhZDdjMDc3YzFjZDQzYTE5YjkzMTZjODNhZjhmYzQ0LnNldENvbnRlbnQoaHRtbF80YzQ5MTk4YmQ4M2I0ZDQ2YWMxMjQyNWZhMjk4NzRiZik7CiAgICAgICAgICAgIAoKICAgICAgICAgICAgY2lyY2xlX21hcmtlcl9kZDFjNjgxODU3YjM0NTdjYmRlNGIyYWIyN2UxODY2My5iaW5kUG9wdXAocG9wdXBfM2FkN2MwNzdjMWNkNDNhMTliOTMxNmM4M2FmOGZjNDQpOwoKICAgICAgICAgICAgCiAgICAgICAgCiAgICAKICAgICAgICAgICAgdmFyIGNpcmNsZV9tYXJrZXJfZTY3M2MxMWJkZTJmNDNkODgzM2VlNzY3YzUwNWRmMjQgPSBMLmNpcmNsZU1hcmtlcigKICAgICAgICAgICAgICAgIFs0My42OTUxNjYxODk5MDcwMSwtNzkuNTUwODg5ODU0MjY3NDJdLAogICAgICAgICAgICAgICAgewogICJidWJibGluZ01vdXNlRXZlbnRzIjogdHJ1ZSwKICAiY29sb3IiOiAiY3lhbiIsCiAgImRhc2hBcnJheSI6IG51bGwsCiAgImRhc2hPZmZzZXQiOiBudWxsLAogICJmaWxsIjogdHJ1ZSwKICAiZmlsbENvbG9yIjogImJsdWUiLAogICJmaWxsT3BhY2l0eSI6IDAuNiwKICAiZmlsbFJ1bGUiOiAiZXZlbm9kZCIsCiAgImxpbmVDYXAiOiAicm91bmQiLAogICJsaW5lSm9pbiI6ICJyb3VuZCIsCiAgIm9wYWNpdHkiOiAxLjAsCiAgInJhZGl1cyI6IDQsCiAgInN0cm9rZSI6IHRydWUsCiAgIndlaWdodCI6IDMKfQogICAgICAgICAgICAgICAgKS5hZGRUbyhtYXBfOTVmYWE4YjkxMjViNGRlOTg4NDJkM2IyNjVjOWIzNjQpOwogICAgICAgICAgICAKICAgIAogICAgICAgICAgICB2YXIgcG9wdXBfOTdjOGQ5ZjgwYzRiNGU1Mzg0ZDNiNjkwMDc1ZDg1NWMgPSBMLnBvcHVwKHttYXhXaWR0aDogJzMwMCd9KTsKCiAgICAgICAgICAgIAogICAgICAgICAgICAgICAgdmFyIGh0bWxfZDI5MGMzMzc5ZWI0NGIyOWI1OWM3NjYxODU5YWFlYzggPSAkKCc8ZGl2IGlkPSJodG1sX2QyOTBjMzM3OWViNDRiMjliNTljNzY2MTg1OWFhZWM4IiBzdHlsZT0id2lkdGg6IDEwMC4wJTsgaGVpZ2h0OiAxMDAuMCU7Ij5DZW50cmFsIFRvcm9udG8sIERhdmlzdmlsbGU8L2Rpdj4nKVswXTsKICAgICAgICAgICAgICAgIHBvcHVwXzk3YzhkOWY4MGM0YjRlNTM4NGQzYjY5MDA3NWQ4NTVjLnNldENvbnRlbnQoaHRtbF9kMjkwYzMzNzllYjQ0YjI5YjU5Yzc2NjE4NTlhYWVjOCk7CiAgICAgICAgICAgIAoKICAgICAgICAgICAgY2lyY2xlX21hcmtlcl9lNjczYzExYmRlMmY0M2Q4ODMzZWU3NjdjNTA1ZGYyNC5iaW5kUG9wdXAocG9wdXBfOTdjOGQ5ZjgwYzRiNGU1Mzg0ZDNiNjkwMDc1ZDg1NWMpOwoKICAgICAgICAgICAgCiAgICAgICAgCiAgICAKICAgICAgICAgICAgdmFyIGNpcmNsZV9tYXJrZXJfN2Y2NGExNjVmNzA2NDFiYTk1ZDYwNDFiMzQzOGE1ZTUgPSBMLmNpcmNsZU1hcmtlcigKICAgICAgICAgICAgICAgIFs0MS43ODgyMjgsMTIuNjY4MDI3M10sCiAgICAgICAgICAgICAgICB7CiAgImJ1YmJsaW5nTW91c2VFdmVudHMiOiB0cnVlLAogICJjb2xvciI6ICJjeWFuIiwKICAiZGFzaEFycmF5IjogbnVsbCwKICAiZGFzaE9mZnNldCI6IG51bGwsCiAgImZpbGwiOiB0cnVlLAogICJmaWxsQ29sb3IiOiAiYmx1ZSIsCiAgImZpbGxPcGFjaXR5IjogMC42LAogICJmaWxsUnVsZSI6ICJldmVub2RkIiwKICAibGluZUNhcCI6ICJyb3VuZCIsCiAgImxpbmVKb2luIjogInJvdW5kIiwKICAib3BhY2l0eSI6IDEuMCwKICAicmFkaXVzIjogNCwKICAic3Ryb2tlIjogdHJ1ZSwKICAid2VpZ2h0IjogMwp9CiAgICAgICAgICAgICAgICApLmFkZFRvKG1hcF85NWZhYThiOTEyNWI0ZGU5ODg0MmQzYjI2NWM5YjM2NCk7CiAgICAgICAgICAgIAogICAgCiAgICAgICAgICAgIHZhciBwb3B1cF9lYjE2YjY1NDgzZjI0NjNiYjI5MTFlZWE0MDdmYzIwNyA9IEwucG9wdXAoe21heFdpZHRoOiAnMzAwJ30pOwoKICAgICAgICAgICAgCiAgICAgICAgICAgICAgICB2YXIgaHRtbF85ZjU1NzBhOGIyMTk0OTVkYThmMzlkYzFjNDg3OTRiNSA9ICQoJzxkaXYgaWQ9Imh0bWxfOWY1NTcwYThiMjE5NDk1ZGE4ZjM5ZGMxYzQ4Nzk0YjUiIHN0eWxlPSJ3aWR0aDogMTAwLjAlOyBoZWlnaHQ6IDEwMC4wJTsiPkRvd250b3duIFRvcm9udG8sIFVuaXZlcnNpdHkgb2YgVG9yb250bywgSGFyYm9yZDwvZGl2PicpWzBdOwogICAgICAgICAgICAgICAgcG9wdXBfZWIxNmI2NTQ4M2YyNDYzYmIyOTExZWVhNDA3ZmMyMDcuc2V0Q29udGVudChodG1sXzlmNTU3MGE4YjIxOTQ5NWRhOGYzOWRjMWM0ODc5NGI1KTsKICAgICAgICAgICAgCgogICAgICAgICAgICBjaXJjbGVfbWFya2VyXzdmNjRhMTY1ZjcwNjQxYmE5NWQ2MDQxYjM0MzhhNWU1LmJpbmRQb3B1cChwb3B1cF9lYjE2YjY1NDgzZjI0NjNiYjI5MTFlZWE0MDdmYzIwNyk7CgogICAgICAgICAgICAKICAgICAgICAKICAgIAogICAgICAgICAgICB2YXIgY2lyY2xlX21hcmtlcl9hMTBiYmRiNDkwNDg0NjIxYWRmYWQ0YmM2MmNmZGFlZCA9IEwuY2lyY2xlTWFya2VyKAogICAgICAgICAgICAgICAgWzQzLjY0OTg2OTc4MjIwNTU2LC03OS40Nzk3NTc3NjQyMjMxNF0sCiAgICAgICAgICAgICAgICB7CiAgImJ1YmJsaW5nTW91c2VFdmVudHMiOiB0cnVlLAogICJjb2xvciI6ICJjeWFuIiwKICAiZGFzaEFycmF5IjogbnVsbCwKICAiZGFzaE9mZnNldCI6IG51bGwsCiAgImZpbGwiOiB0cnVlLAogICJmaWxsQ29sb3IiOiAiYmx1ZSIsCiAgImZpbGxPcGFjaXR5IjogMC42LAogICJmaWxsUnVsZSI6ICJldmVub2RkIiwKICAibGluZUNhcCI6ICJyb3VuZCIsCiAgImxpbmVKb2luIjogInJvdW5kIiwKICAib3BhY2l0eSI6IDEuMCwKICAicmFkaXVzIjogNCwKICAic3Ryb2tlIjogdHJ1ZSwKICAid2VpZ2h0IjogMwp9CiAgICAgICAgICAgICAgICApLmFkZFRvKG1hcF85NWZhYThiOTEyNWI0ZGU5ODg0MmQzYjI2NWM5YjM2NCk7CiAgICAgICAgICAgIAogICAgCiAgICAgICAgICAgIHZhciBwb3B1cF9iODcxMjY0OTY4YjY0NWI5YjM3MDYwN2E5Zjk4ZTYyMCA9IEwucG9wdXAoe21heFdpZHRoOiAnMzAwJ30pOwoKICAgICAgICAgICAgCiAgICAgICAgICAgICAgICB2YXIgaHRtbF9kZGIyZGJlZTJkMDM0NjI1YTJkYWE2M2VmZWM5OWVjZSA9ICQoJzxkaXYgaWQ9Imh0bWxfZGRiMmRiZWUyZDAzNDYyNWEyZGFhNjNlZmVjOTllY2UiIHN0eWxlPSJ3aWR0aDogMTAwLjAlOyBoZWlnaHQ6IDEwMC4wJTsiPldlc3QgVG9yb250bywgUnVubnltZWRlLCBTd2Fuc2VhPC9kaXY+JylbMF07CiAgICAgICAgICAgICAgICBwb3B1cF9iODcxMjY0OTY4YjY0NWI5YjM3MDYwN2E5Zjk4ZTYyMC5zZXRDb250ZW50KGh0bWxfZGRiMmRiZWUyZDAzNDYyNWEyZGFhNjNlZmVjOTllY2UpOwogICAgICAgICAgICAKCiAgICAgICAgICAgIGNpcmNsZV9tYXJrZXJfYTEwYmJkYjQ5MDQ4NDYyMWFkZmFkNGJjNjJjZmRhZWQuYmluZFBvcHVwKHBvcHVwX2I4NzEyNjQ5NjhiNjQ1YjliMzcwNjA3YTlmOThlNjIwKTsKCiAgICAgICAgICAgIAogICAgICAgIAogICAgCiAgICAgICAgICAgIHZhciBjaXJjbGVfbWFya2VyXzQ4ZjJmNDA2NTM4MDRlOTc5OTY1ZjkwODVhNzk2NzlkID0gTC5jaXJjbGVNYXJrZXIoCiAgICAgICAgICAgICAgICBbNDMuNjQ5ODY5NzgyMjA1NTYsLTc5LjQ3OTc1Nzc2NDIyMzE0XSwKICAgICAgICAgICAgICAgIHsKICAiYnViYmxpbmdNb3VzZUV2ZW50cyI6IHRydWUsCiAgImNvbG9yIjogImN5YW4iLAogICJkYXNoQXJyYXkiOiBudWxsLAogICJkYXNoT2Zmc2V0IjogbnVsbCwKICAiZmlsbCI6IHRydWUsCiAgImZpbGxDb2xvciI6ICJibHVlIiwKICAiZmlsbE9wYWNpdHkiOiAwLjYsCiAgImZpbGxSdWxlIjogImV2ZW5vZGQiLAogICJsaW5lQ2FwIjogInJvdW5kIiwKICAibGluZUpvaW4iOiAicm91bmQiLAogICJvcGFjaXR5IjogMS4wLAogICJyYWRpdXMiOiA0LAogICJzdHJva2UiOiB0cnVlLAogICJ3ZWlnaHQiOiAzCn0KICAgICAgICAgICAgICAgICkuYWRkVG8obWFwXzk1ZmFhOGI5MTI1YjRkZTk4ODQyZDNiMjY1YzliMzY0KTsKICAgICAgICAgICAgCiAgICAKICAgICAgICAgICAgdmFyIHBvcHVwX2NjNTA0OTc5NmYwYzRlOTFiMzIwMmZmNGM1MjJkNzUwID0gTC5wb3B1cCh7bWF4V2lkdGg6ICczMDAnfSk7CgogICAgICAgICAgICAKICAgICAgICAgICAgICAgIHZhciBodG1sX2Q1ZDlmNjAyOGYxNDQ0MTBiOGZlNDAxMTM3YjUxMWUwID0gJCgnPGRpdiBpZD0iaHRtbF9kNWQ5ZjYwMjhmMTQ0NDEwYjhmZTQwMTEzN2I1MTFlMCIgc3R5bGU9IndpZHRoOiAxMDAuMCU7IGhlaWdodDogMTAwLjAlOyI+Q2VudHJhbCBUb3JvbnRvLCBNb29yZSBQYXJrLCBTdW1tZXJoaWxsIEVhc3Q8L2Rpdj4nKVswXTsKICAgICAgICAgICAgICAgIHBvcHVwX2NjNTA0OTc5NmYwYzRlOTFiMzIwMmZmNGM1MjJkNzUwLnNldENvbnRlbnQoaHRtbF9kNWQ5ZjYwMjhmMTQ0NDEwYjhmZTQwMTEzN2I1MTFlMCk7CiAgICAgICAgICAgIAoKICAgICAgICAgICAgY2lyY2xlX21hcmtlcl80OGYyZjQwNjUzODA0ZTk3OTk2NWY5MDg1YTc5Njc5ZC5iaW5kUG9wdXAocG9wdXBfY2M1MDQ5Nzk2ZjBjNGU5MWIzMjAyZmY0YzUyMmQ3NTApOwoKICAgICAgICAgICAgCiAgICAgICAgCiAgICAKICAgICAgICAgICAgdmFyIGNpcmNsZV9tYXJrZXJfOTM3NTMzMWYzZjZjNDJlMmFjZTM1OGVhMDRjOTFlZjEgPSBMLmNpcmNsZU1hcmtlcigKICAgICAgICAgICAgICAgIFs0My42NDk4Njk3ODIyMDU1NiwtNzkuNDc5NzU3NzY0MjIzMTRdLAogICAgICAgICAgICAgICAgewogICJidWJibGluZ01vdXNlRXZlbnRzIjogdHJ1ZSwKICAiY29sb3IiOiAiY3lhbiIsCiAgImRhc2hBcnJheSI6IG51bGwsCiAgImRhc2hPZmZzZXQiOiBudWxsLAogICJmaWxsIjogdHJ1ZSwKICAiZmlsbENvbG9yIjogImJsdWUiLAogICJmaWxsT3BhY2l0eSI6IDAuNiwKICAiZmlsbFJ1bGUiOiAiZXZlbm9kZCIsCiAgImxpbmVDYXAiOiAicm91bmQiLAogICJsaW5lSm9pbiI6ICJyb3VuZCIsCiAgIm9wYWNpdHkiOiAxLjAsCiAgInJhZGl1cyI6IDQsCiAgInN0cm9rZSI6IHRydWUsCiAgIndlaWdodCI6IDMKfQogICAgICAgICAgICAgICAgKS5hZGRUbyhtYXBfOTVmYWE4YjkxMjViNGRlOTg4NDJkM2IyNjVjOWIzNjQpOwogICAgICAgICAgICAKICAgIAogICAgICAgICAgICB2YXIgcG9wdXBfYjQyMWUxY2Y2YWIxNGYwMmIxNmI4OTk0ZTZlNmQwYzggPSBMLnBvcHVwKHttYXhXaWR0aDogJzMwMCd9KTsKCiAgICAgICAgICAgIAogICAgICAgICAgICAgICAgdmFyIGh0bWxfMjkxZTczODJiODM2NGYyNGE0MzI3MmRkZTMyYWI4MjkgPSAkKCc8ZGl2IGlkPSJodG1sXzI5MWU3MzgyYjgzNjRmMjRhNDMyNzJkZGUzMmFiODI5IiBzdHlsZT0id2lkdGg6IDEwMC4wJTsgaGVpZ2h0OiAxMDAuMCU7Ij5Eb3dudG93biBUb3JvbnRvLCBLZW5zaW5ndG9uIE1hcmtldCwgQ2hpbmF0b3duLCBHcmFuZ2UgUGFyazwvZGl2PicpWzBdOwogICAgICAgICAgICAgICAgcG9wdXBfYjQyMWUxY2Y2YWIxNGYwMmIxNmI4OTk0ZTZlNmQwYzguc2V0Q29udGVudChodG1sXzI5MWU3MzgyYjgzNjRmMjRhNDMyNzJkZGUzMmFiODI5KTsKICAgICAgICAgICAgCgogICAgICAgICAgICBjaXJjbGVfbWFya2VyXzkzNzUzMzFmM2Y2YzQyZTJhY2UzNThlYTA0YzkxZWYxLmJpbmRQb3B1cChwb3B1cF9iNDIxZTFjZjZhYjE0ZjAyYjE2Yjg5OTRlNmU2ZDBjOCk7CgogICAgICAgICAgICAKICAgICAgICAKICAgIAogICAgICAgICAgICB2YXIgY2lyY2xlX21hcmtlcl83NmM0OWM2NDA1ZjI0NTAzYWU4YmE3Zjg2YWE5Zjg2YSA9IEwuY2lyY2xlTWFya2VyKAogICAgICAgICAgICAgICAgWzQzLjY0OTg2OTc4MjIwNTU2LC03OS40Nzk3NTc3NjQyMjMxNF0sCiAgICAgICAgICAgICAgICB7CiAgImJ1YmJsaW5nTW91c2VFdmVudHMiOiB0cnVlLAogICJjb2xvciI6ICJjeWFuIiwKICAiZGFzaEFycmF5IjogbnVsbCwKICAiZGFzaE9mZnNldCI6IG51bGwsCiAgImZpbGwiOiB0cnVlLAogICJmaWxsQ29sb3IiOiAiYmx1ZSIsCiAgImZpbGxPcGFjaXR5IjogMC42LAogICJmaWxsUnVsZSI6ICJldmVub2RkIiwKICAibGluZUNhcCI6ICJyb3VuZCIsCiAgImxpbmVKb2luIjogInJvdW5kIiwKICAib3BhY2l0eSI6IDEuMCwKICAicmFkaXVzIjogNCwKICAic3Ryb2tlIjogdHJ1ZSwKICAid2VpZ2h0IjogMwp9CiAgICAgICAgICAgICAgICApLmFkZFRvKG1hcF85NWZhYThiOTEyNWI0ZGU5ODg0MmQzYjI2NWM5YjM2NCk7CiAgICAgICAgICAgIAogICAgCiAgICAgICAgICAgIHZhciBwb3B1cF83Nzk4ZTdlM2UzMjc0YThlYjVmNjNkMzNmYjJjOTY4ZCA9IEwucG9wdXAoe21heFdpZHRoOiAnMzAwJ30pOwoKICAgICAgICAgICAgCiAgICAgICAgICAgICAgICB2YXIgaHRtbF82OTk5OTBhZWIxZGY0ODRjOTk1N2ZjMDgxYTJhNzUyYyA9ICQoJzxkaXYgaWQ9Imh0bWxfNjk5OTkwYWViMWRmNDg0Yzk5NTdmYzA4MWEyYTc1MmMiIHN0eWxlPSJ3aWR0aDogMTAwLjAlOyBoZWlnaHQ6IDEwMC4wJTsiPkNlbnRyYWwgVG9yb250bywgU3VtbWVyaGlsbCBXZXN0LCBSYXRobmVsbHksIFNvdXRoIEhpbGwsIEZvcmVzdCBIaWxsIFNFLCBEZWVyIFBhcms8L2Rpdj4nKVswXTsKICAgICAgICAgICAgICAgIHBvcHVwXzc3OThlN2UzZTMyNzRhOGViNWY2M2QzM2ZiMmM5NjhkLnNldENvbnRlbnQoaHRtbF82OTk5OTBhZWIxZGY0ODRjOTk1N2ZjMDgxYTJhNzUyYyk7CiAgICAgICAgICAgIAoKICAgICAgICAgICAgY2lyY2xlX21hcmtlcl83NmM0OWM2NDA1ZjI0NTAzYWU4YmE3Zjg2YWE5Zjg2YS5iaW5kUG9wdXAocG9wdXBfNzc5OGU3ZTNlMzI3NGE4ZWI1ZjYzZDMzZmIyYzk2OGQpOwoKICAgICAgICAgICAgCiAgICAgICAgCiAgICAKICAgICAgICAgICAgdmFyIGNpcmNsZV9tYXJrZXJfMGQ1MzA5OTYxOWU5NGU4NTg0Yjc0YmMwN2JmNDIxZWUgPSBMLmNpcmNsZU1hcmtlcigKICAgICAgICAgICAgICAgIFs0My42NDU2MzM2LC03OS4zOTI5ODc0NDY5MjE4Nl0sCiAgICAgICAgICAgICAgICB7CiAgImJ1YmJsaW5nTW91c2VFdmVudHMiOiB0cnVlLAogICJjb2xvciI6ICJjeWFuIiwKICAiZGFzaEFycmF5IjogbnVsbCwKICAiZGFzaE9mZnNldCI6IG51bGwsCiAgImZpbGwiOiB0cnVlLAogICJmaWxsQ29sb3IiOiAiYmx1ZSIsCiAgImZpbGxPcGFjaXR5IjogMC42LAogICJmaWxsUnVsZSI6ICJldmVub2RkIiwKICAibGluZUNhcCI6ICJyb3VuZCIsCiAgImxpbmVKb2luIjogInJvdW5kIiwKICAib3BhY2l0eSI6IDEuMCwKICAicmFkaXVzIjogNCwKICAic3Ryb2tlIjogdHJ1ZSwKICAid2VpZ2h0IjogMwp9CiAgICAgICAgICAgICAgICApLmFkZFRvKG1hcF85NWZhYThiOTEyNWI0ZGU5ODg0MmQzYjI2NWM5YjM2NCk7CiAgICAgICAgICAgIAogICAgCiAgICAgICAgICAgIHZhciBwb3B1cF9iYjFiNWRmZTI4Yjg0NjkzOTQ0MDJhM2M2ZTZjNmZlOCA9IEwucG9wdXAoe21heFdpZHRoOiAnMzAwJ30pOwoKICAgICAgICAgICAgCiAgICAgICAgICAgICAgICB2YXIgaHRtbF8yMzliOGY5ZWJlZDA0MzBiOWQ1YmUzNTVlMDZhYzNhMyA9ICQoJzxkaXYgaWQ9Imh0bWxfMjM5YjhmOWViZWQwNDMwYjlkNWJlMzU1ZTA2YWMzYTMiIHN0eWxlPSJ3aWR0aDogMTAwLjAlOyBoZWlnaHQ6IDEwMC4wJTsiPkRvd250b3duIFRvcm9udG8sIENOIFRvd2VyLCBLaW5nIGFuZCBTcGFkaW5hLCBSYWlsd2F5IExhbmRzLCBIYXJib3VyZnJvbnQgV2VzdCwgQmF0aHVyc3QgUXVheSwgU291dGggTmlhZ2FyYSwgSXNsYW5kIGFpcnBvcnQ8L2Rpdj4nKVswXTsKICAgICAgICAgICAgICAgIHBvcHVwX2JiMWI1ZGZlMjhiODQ2OTM5NDQwMmEzYzZlNmM2ZmU4LnNldENvbnRlbnQoaHRtbF8yMzliOGY5ZWJlZDA0MzBiOWQ1YmUzNTVlMDZhYzNhMyk7CiAgICAgICAgICAgIAoKICAgICAgICAgICAgY2lyY2xlX21hcmtlcl8wZDUzMDk5NjE5ZTk0ZTg1ODRiNzRiYzA3YmY0MjFlZS5iaW5kUG9wdXAocG9wdXBfYmIxYjVkZmUyOGI4NDY5Mzk0NDAyYTNjNmU2YzZmZTgpOwoKICAgICAgICAgICAgCiAgICAgICAgCiAgICAKICAgICAgICAgICAgdmFyIGNpcmNsZV9tYXJrZXJfYzk2ODg3MmNhNWQ0NDRhZDliNjdiNTA2M2E0YTY2ZTQgPSBMLmNpcmNsZU1hcmtlcigKICAgICAgICAgICAgICAgIFs0My44MTU0NTQ2NjU5NDIwOSwtNzkuMzI3NzIxMDM2ODc2NDFdLAogICAgICAgICAgICAgICAgewogICJidWJibGluZ01vdXNlRXZlbnRzIjogdHJ1ZSwKICAiY29sb3IiOiAiY3lhbiIsCiAgImRhc2hBcnJheSI6IG51bGwsCiAgImRhc2hPZmZzZXQiOiBudWxsLAogICJmaWxsIjogdHJ1ZSwKICAiZmlsbENvbG9yIjogImJsdWUiLAogICJmaWxsT3BhY2l0eSI6IDAuNiwKICAiZmlsbFJ1bGUiOiAiZXZlbm9kZCIsCiAgImxpbmVDYXAiOiAicm91bmQiLAogICJsaW5lSm9pbiI6ICJyb3VuZCIsCiAgIm9wYWNpdHkiOiAxLjAsCiAgInJhZGl1cyI6IDQsCiAgInN0cm9rZSI6IHRydWUsCiAgIndlaWdodCI6IDMKfQogICAgICAgICAgICAgICAgKS5hZGRUbyhtYXBfOTVmYWE4YjkxMjViNGRlOTg4NDJkM2IyNjVjOWIzNjQpOwogICAgICAgICAgICAKICAgIAogICAgICAgICAgICB2YXIgcG9wdXBfNTQ2YmRhOWY1Y2QyNDljNjk3NjJjODE2ZDQwNzk3NTUgPSBMLnBvcHVwKHttYXhXaWR0aDogJzMwMCd9KTsKCiAgICAgICAgICAgIAogICAgICAgICAgICAgICAgdmFyIGh0bWxfYmYxNzkxMmVjN2RmNDczNmIwYjhjMTYzN2YyYzYyNGQgPSAkKCc8ZGl2IGlkPSJodG1sX2JmMTc5MTJlYzdkZjQ3MzZiMGI4YzE2MzdmMmM2MjRkIiBzdHlsZT0id2lkdGg6IDEwMC4wJTsgaGVpZ2h0OiAxMDAuMCU7Ij5Eb3dudG93biBUb3JvbnRvLCBSb3NlZGFsZTwvZGl2PicpWzBdOwogICAgICAgICAgICAgICAgcG9wdXBfNTQ2YmRhOWY1Y2QyNDljNjk3NjJjODE2ZDQwNzk3NTUuc2V0Q29udGVudChodG1sX2JmMTc5MTJlYzdkZjQ3MzZiMGI4YzE2MzdmMmM2MjRkKTsKICAgICAgICAgICAgCgogICAgICAgICAgICBjaXJjbGVfbWFya2VyX2M5Njg4NzJjYTVkNDQ0YWQ5YjY3YjUwNjNhNGE2NmU0LmJpbmRQb3B1cChwb3B1cF81NDZiZGE5ZjVjZDI0OWM2OTc2MmM4MTZkNDA3OTc1NSk7CgogICAgICAgICAgICAKICAgICAgICAKICAgIAogICAgICAgICAgICB2YXIgY2lyY2xlX21hcmtlcl82Yjk1ZTdlMmU4MzA0MTJiOTYwYmI5MTljMTBiMDljZSA9IEwuY2lyY2xlTWFya2VyKAogICAgICAgICAgICAgICAgWzQzLjgxNTQ1NDY2NTk0MjA5LC03OS4zMjc3MjEwMzY4NzY0MV0sCiAgICAgICAgICAgICAgICB7CiAgImJ1YmJsaW5nTW91c2VFdmVudHMiOiB0cnVlLAogICJjb2xvciI6ICJjeWFuIiwKICAiZGFzaEFycmF5IjogbnVsbCwKICAiZGFzaE9mZnNldCI6IG51bGwsCiAgImZpbGwiOiB0cnVlLAogICJmaWxsQ29sb3IiOiAiYmx1ZSIsCiAgImZpbGxPcGFjaXR5IjogMC42LAogICJmaWxsUnVsZSI6ICJldmVub2RkIiwKICAibGluZUNhcCI6ICJyb3VuZCIsCiAgImxpbmVKb2luIjogInJvdW5kIiwKICAib3BhY2l0eSI6IDEuMCwKICAicmFkaXVzIjogNCwKICAic3Ryb2tlIjogdHJ1ZSwKICAid2VpZ2h0IjogMwp9CiAgICAgICAgICAgICAgICApLmFkZFRvKG1hcF85NWZhYThiOTEyNWI0ZGU5ODg0MmQzYjI2NWM5YjM2NCk7CiAgICAgICAgICAgIAogICAgCiAgICAgICAgICAgIHZhciBwb3B1cF9mYjA5ODA2NDM5MzQ0Yzk3YTllMDhlNzA0YjhlYjgyZCA9IEwucG9wdXAoe21heFdpZHRoOiAnMzAwJ30pOwoKICAgICAgICAgICAgCiAgICAgICAgICAgICAgICB2YXIgaHRtbF81ZTdjMWZmZmMyM2I0ZDZhOThkMmNkMmZhMTY3ZjNmOCA9ICQoJzxkaXYgaWQ9Imh0bWxfNWU3YzFmZmZjMjNiNGQ2YTk4ZDJjZDJmYTE2N2YzZjgiIHN0eWxlPSJ3aWR0aDogMTAwLjAlOyBoZWlnaHQ6IDEwMC4wJTsiPkRvd250b3duIFRvcm9udG8sIFN0biBBIFBPIEJveGVzPC9kaXY+JylbMF07CiAgICAgICAgICAgICAgICBwb3B1cF9mYjA5ODA2NDM5MzQ0Yzk3YTllMDhlNzA0YjhlYjgyZC5zZXRDb250ZW50KGh0bWxfNWU3YzFmZmZjMjNiNGQ2YTk4ZDJjZDJmYTE2N2YzZjgpOwogICAgICAgICAgICAKCiAgICAgICAgICAgIGNpcmNsZV9tYXJrZXJfNmI5NWU3ZTJlODMwNDEyYjk2MGJiOTE5YzEwYjA5Y2UuYmluZFBvcHVwKHBvcHVwX2ZiMDk4MDY0MzkzNDRjOTdhOWUwOGU3MDRiOGViODJkKTsKCiAgICAgICAgICAgIAogICAgICAgIAogICAgCiAgICAgICAgICAgIHZhciBjaXJjbGVfbWFya2VyXzIwZDdiMTNiMmYxZjQ0YjQ5YWM2OWE2NzM2OTQ4MmNiID0gTC5jaXJjbGVNYXJrZXIoCiAgICAgICAgICAgICAgICBbNDMuNjY4MDI2NiwtNzkuMzY5MjgxNl0sCiAgICAgICAgICAgICAgICB7CiAgImJ1YmJsaW5nTW91c2VFdmVudHMiOiB0cnVlLAogICJjb2xvciI6ICJjeWFuIiwKICAiZGFzaEFycmF5IjogbnVsbCwKICAiZGFzaE9mZnNldCI6IG51bGwsCiAgImZpbGwiOiB0cnVlLAogICJmaWxsQ29sb3IiOiAiYmx1ZSIsCiAgImZpbGxPcGFjaXR5IjogMC42LAogICJmaWxsUnVsZSI6ICJldmVub2RkIiwKICAibGluZUNhcCI6ICJyb3VuZCIsCiAgImxpbmVKb2luIjogInJvdW5kIiwKICAib3BhY2l0eSI6IDEuMCwKICAicmFkaXVzIjogNCwKICAic3Ryb2tlIjogdHJ1ZSwKICAid2VpZ2h0IjogMwp9CiAgICAgICAgICAgICAgICApLmFkZFRvKG1hcF85NWZhYThiOTEyNWI0ZGU5ODg0MmQzYjI2NWM5YjM2NCk7CiAgICAgICAgICAgIAogICAgCiAgICAgICAgICAgIHZhciBwb3B1cF9jMDc3NzA5ZGQ2ODY0OWI1YTkyMTRhMjQ5ZjlhYTA4OSA9IEwucG9wdXAoe21heFdpZHRoOiAnMzAwJ30pOwoKICAgICAgICAgICAgCiAgICAgICAgICAgICAgICB2YXIgaHRtbF82Mzk3YzBmOWY0NzI0M2U0YTBlMGEzYWQ5OGU5ZjU2NSA9ICQoJzxkaXYgaWQ9Imh0bWxfNjM5N2MwZjlmNDcyNDNlNGEwZTBhM2FkOThlOWY1NjUiIHN0eWxlPSJ3aWR0aDogMTAwLjAlOyBoZWlnaHQ6IDEwMC4wJTsiPkRvd250b3duIFRvcm9udG8sIFN0LiBKYW1lcyBUb3duLCBDYWJiYWdldG93bjwvZGl2PicpWzBdOwogICAgICAgICAgICAgICAgcG9wdXBfYzA3NzcwOWRkNjg2NDliNWE5MjE0YTI0OWY5YWEwODkuc2V0Q29udGVudChodG1sXzYzOTdjMGY5ZjQ3MjQzZTRhMGUwYTNhZDk4ZTlmNTY1KTsKICAgICAgICAgICAgCgogICAgICAgICAgICBjaXJjbGVfbWFya2VyXzIwZDdiMTNiMmYxZjQ0YjQ5YWM2OWE2NzM2OTQ4MmNiLmJpbmRQb3B1cChwb3B1cF9jMDc3NzA5ZGQ2ODY0OWI1YTkyMTRhMjQ5ZjlhYTA4OSk7CgogICAgICAgICAgICAKICAgICAgICAKICAgIAogICAgICAgICAgICB2YXIgY2lyY2xlX21hcmtlcl8xM2Q5MTJmZWMwYzM0MzFjODY5ZDBkMzI3OWMyMGM4MCA9IEwuY2lyY2xlTWFya2VyKAogICAgICAgICAgICAgICAgWzQzLjY2ODAyNjYsLTc5LjM2OTI4MTZdLAogICAgICAgICAgICAgICAgewogICJidWJibGluZ01vdXNlRXZlbnRzIjogdHJ1ZSwKICAiY29sb3IiOiAiY3lhbiIsCiAgImRhc2hBcnJheSI6IG51bGwsCiAgImRhc2hPZmZzZXQiOiBudWxsLAogICJmaWxsIjogdHJ1ZSwKICAiZmlsbENvbG9yIjogImJsdWUiLAogICJmaWxsT3BhY2l0eSI6IDAuNiwKICAiZmlsbFJ1bGUiOiAiZXZlbm9kZCIsCiAgImxpbmVDYXAiOiAicm91bmQiLAogICJsaW5lSm9pbiI6ICJyb3VuZCIsCiAgIm9wYWNpdHkiOiAxLjAsCiAgInJhZGl1cyI6IDQsCiAgInN0cm9rZSI6IHRydWUsCiAgIndlaWdodCI6IDMKfQogICAgICAgICAgICAgICAgKS5hZGRUbyhtYXBfOTVmYWE4YjkxMjViNGRlOTg4NDJkM2IyNjVjOWIzNjQpOwogICAgICAgICAgICAKICAgIAogICAgICAgICAgICB2YXIgcG9wdXBfYjllNjNlYzA0NjNiNDU2YWJlM2RhMGE4MzYwMGRhOWQgPSBMLnBvcHVwKHttYXhXaWR0aDogJzMwMCd9KTsKCiAgICAgICAgICAgIAogICAgICAgICAgICAgICAgdmFyIGh0bWxfMDYxZTJmNWIzYzZiNDJmNjljMzlmMDUxNmJiZjczZWEgPSAkKCc8ZGl2IGlkPSJodG1sXzA2MWUyZjViM2M2YjQyZjY5YzM5ZjA1MTZiYmY3M2VhIiBzdHlsZT0id2lkdGg6IDEwMC4wJTsgaGVpZ2h0OiAxMDAuMCU7Ij5Eb3dudG93biBUb3JvbnRvLCBGaXJzdCBDYW5hZGlhbiBQbGFjZSwgVW5kZXJncm91bmQgY2l0eTwvZGl2PicpWzBdOwogICAgICAgICAgICAgICAgcG9wdXBfYjllNjNlYzA0NjNiNDU2YWJlM2RhMGE4MzYwMGRhOWQuc2V0Q29udGVudChodG1sXzA2MWUyZjViM2M2YjQyZjY5YzM5ZjA1MTZiYmY3M2VhKTsKICAgICAgICAgICAgCgogICAgICAgICAgICBjaXJjbGVfbWFya2VyXzEzZDkxMmZlYzBjMzQzMWM4NjlkMGQzMjc5YzIwYzgwLmJpbmRQb3B1cChwb3B1cF9iOWU2M2VjMDQ2M2I0NTZhYmUzZGEwYTgzNjAwZGE5ZCk7CgogICAgICAgICAgICAKICAgICAgICAKICAgIAogICAgICAgICAgICB2YXIgY2lyY2xlX21hcmtlcl82ZmZkMmU2MzJlMWM0Y2Q0OWUwNjUxZTNkMzM5YzRkNyA9IEwuY2lyY2xlTWFya2VyKAogICAgICAgICAgICAgICAgWzQzLjY2ODAyNjYsLTc5LjM2OTI4MTZdLAogICAgICAgICAgICAgICAgewogICJidWJibGluZ01vdXNlRXZlbnRzIjogdHJ1ZSwKICAiY29sb3IiOiAiY3lhbiIsCiAgImRhc2hBcnJheSI6IG51bGwsCiAgImRhc2hPZmZzZXQiOiBudWxsLAogICJmaWxsIjogdHJ1ZSwKICAiZmlsbENvbG9yIjogImJsdWUiLAogICJmaWxsT3BhY2l0eSI6IDAuNiwKICAiZmlsbFJ1bGUiOiAiZXZlbm9kZCIsCiAgImxpbmVDYXAiOiAicm91bmQiLAogICJsaW5lSm9pbiI6ICJyb3VuZCIsCiAgIm9wYWNpdHkiOiAxLjAsCiAgInJhZGl1cyI6IDQsCiAgInN0cm9rZSI6IHRydWUsCiAgIndlaWdodCI6IDMKfQogICAgICAgICAgICAgICAgKS5hZGRUbyhtYXBfOTVmYWE4YjkxMjViNGRlOTg4NDJkM2IyNjVjOWIzNjQpOwogICAgICAgICAgICAKICAgIAogICAgICAgICAgICB2YXIgcG9wdXBfYzlhYTIzNTVlOWMzNDQ2Njg4YjI2ZTZmNmZiNzFkNDcgPSBMLnBvcHVwKHttYXhXaWR0aDogJzMwMCd9KTsKCiAgICAgICAgICAgIAogICAgICAgICAgICAgICAgdmFyIGh0bWxfMjU1M2E4YTBkYzg4NDgxZjg0MTA1NjllYTllNTMyMmIgPSAkKCc8ZGl2IGlkPSJodG1sXzI1NTNhOGEwZGM4ODQ4MWY4NDEwNTY5ZWE5ZTUzMjJiIiBzdHlsZT0id2lkdGg6IDEwMC4wJTsgaGVpZ2h0OiAxMDAuMCU7Ij5Eb3dudG93biBUb3JvbnRvLCBDaHVyY2ggYW5kIFdlbGxlc2xleTwvZGl2PicpWzBdOwogICAgICAgICAgICAgICAgcG9wdXBfYzlhYTIzNTVlOWMzNDQ2Njg4YjI2ZTZmNmZiNzFkNDcuc2V0Q29udGVudChodG1sXzI1NTNhOGEwZGM4ODQ4MWY4NDEwNTY5ZWE5ZTUzMjJiKTsKICAgICAgICAgICAgCgogICAgICAgICAgICBjaXJjbGVfbWFya2VyXzZmZmQyZTYzMmUxYzRjZDQ5ZTA2NTFlM2QzMzljNGQ3LmJpbmRQb3B1cChwb3B1cF9jOWFhMjM1NWU5YzM0NDY2ODhiMjZlNmY2ZmI3MWQ0Nyk7CgogICAgICAgICAgICAKICAgICAgICAKICAgIAogICAgICAgICAgICB2YXIgY2lyY2xlX21hcmtlcl8xYjcxNThlYjIwODk0NTQ2YTg5MzRiMGY3MDUwMjE4NyA9IEwuY2lyY2xlTWFya2VyKAogICAgICAgICAgICAgICAgWzQzLjY2ODAyNjYsLTc5LjM2OTI4MTZdLAogICAgICAgICAgICAgICAgewogICJidWJibGluZ01vdXNlRXZlbnRzIjogdHJ1ZSwKICAiY29sb3IiOiAiY3lhbiIsCiAgImRhc2hBcnJheSI6IG51bGwsCiAgImRhc2hPZmZzZXQiOiBudWxsLAogICJmaWxsIjogdHJ1ZSwKICAiZmlsbENvbG9yIjogImJsdWUiLAogICJmaWxsT3BhY2l0eSI6IDAuNiwKICAiZmlsbFJ1bGUiOiAiZXZlbm9kZCIsCiAgImxpbmVDYXAiOiAicm91bmQiLAogICJsaW5lSm9pbiI6ICJyb3VuZCIsCiAgIm9wYWNpdHkiOiAxLjAsCiAgInJhZGl1cyI6IDQsCiAgInN0cm9rZSI6IHRydWUsCiAgIndlaWdodCI6IDMKfQogICAgICAgICAgICAgICAgKS5hZGRUbyhtYXBfOTVmYWE4YjkxMjViNGRlOTg4NDJkM2IyNjVjOWIzNjQpOwogICAgICAgICAgICAKICAgIAogICAgICAgICAgICB2YXIgcG9wdXBfNGJmMTIwMjljNjQyNDNkNmE2ZGU3YjBhYjdlZTk2ZDEgPSBMLnBvcHVwKHttYXhXaWR0aDogJzMwMCd9KTsKCiAgICAgICAgICAgIAogICAgICAgICAgICAgICAgdmFyIGh0bWxfMGE5YjQwYTE4ZWY0NGE4N2ExOTMyZmNjMWRlMzc0YTUgPSAkKCc8ZGl2IGlkPSJodG1sXzBhOWI0MGExOGVmNDRhODdhMTkzMmZjYzFkZTM3NGE1IiBzdHlsZT0id2lkdGg6IDEwMC4wJTsgaGVpZ2h0OiAxMDAuMCU7Ij5FYXN0IFRvcm9udG8sIEJ1c2luZXNzIHJlcGx5IG1haWwgUHJvY2Vzc2luZyBDZW50cmUsIFNvdXRoIENlbnRyYWwgTGV0dGVyIFByb2Nlc3NpbmcgUGxhbnQgVG9yb250bzwvZGl2PicpWzBdOwogICAgICAgICAgICAgICAgcG9wdXBfNGJmMTIwMjljNjQyNDNkNmE2ZGU3YjBhYjdlZTk2ZDEuc2V0Q29udGVudChodG1sXzBhOWI0MGExOGVmNDRhODdhMTkzMmZjYzFkZTM3NGE1KTsKICAgICAgICAgICAgCgogICAgICAgICAgICBjaXJjbGVfbWFya2VyXzFiNzE1OGViMjA4OTQ1NDZhODkzNGIwZjcwNTAyMTg3LmJpbmRQb3B1cChwb3B1cF80YmYxMjAyOWM2NDI0M2Q2YTZkZTdiMGFiN2VlOTZkMSk7CgogICAgICAgICAgICAKICAgICAgICAKPC9zY3JpcHQ+ onload=\"this.contentDocument.open();this.contentDocument.write(atob(this.getAttribute('data-html')));this.contentDocument.close();\" allowfullscreen webkitallowfullscreen mozallowfullscreen></iframe></div></div>"
     },
     "metadata": {},
     "execution_count": 17
    }
   ],
   "source": [
    "toronto_map = folium.Map(location= [latitude, longitude], zoom_start=10)\n",
    "\n",
    "#add Neighborhood markers on toronto_map\n",
    "for lat, long, bor, hood in zip(explore_df['Latitude'], explore_df['Longitude'],explore_df['Borough'],explore_df['Neighborhood']):\n",
    "    label = folium.Popup('{}, {}'.format(bor, hood), parse_html=True)\n",
    "    folium.CircleMarker([lat, long],\n",
    "        radius=4,\n",
    "        popup=label,\n",
    "        color='cyan',\n",
    "        fill=True,\n",
    "        fill_color='blue',\n",
    "        fill_opacity=0.6,\n",
    "        parse_html=False).add_to(toronto_map)\n",
    "\n",
    "toronto_map"
   ]
  },
  {
   "source": [
    "---------\n",
    "---------\n",
    "# API details in file - *secret.py*\n",
    "# Function (getNearbyVenues) definition in file - *nearbyVenues.py*\n",
    "# Extract Venues, Encode & Group in file - *hoodVenues.py*\n",
    "# Export *toronto_grouped* dataframe as pickle file - *venueCat_grouped.pkl*\n",
    "----------\n",
    "----------"
   ],
   "cell_type": "markdown",
   "metadata": {}
  },
  {
   "source": [
    "## PART-3.2 Build & Analyze nearby venues in Neighbourhoods"
   ],
   "cell_type": "markdown",
   "metadata": {}
  },
  {
   "source": [
    "### Build nearby venues dataframe"
   ],
   "cell_type": "markdown",
   "metadata": {}
  },
  {
   "cell_type": "code",
   "execution_count": 1,
   "metadata": {},
   "outputs": [
    {
     "output_type": "error",
     "ename": "SyntaxError",
     "evalue": "invalid syntax (<ipython-input-1-649fb978b4b6>, line 3)",
     "traceback": [
      "\u001b[1;36m  File \u001b[1;32m\"<ipython-input-1-649fb978b4b6>\"\u001b[1;36m, line \u001b[1;32m3\u001b[0m\n\u001b[1;33m    CLIENT_ID = 'CXC1D1CNWMCS54XHC3M0VLPRLBCPQQMID0OZC04Z0VYTMSAU'\u001b[0m\n\u001b[1;37m    ^\u001b[0m\n\u001b[1;31mSyntaxError\u001b[0m\u001b[1;31m:\u001b[0m invalid syntax\n"
     ]
    }
   ],
   "source": [
    "#Credentials\n",
    "CLIENT_ID = 'CXC1D1CNWMCS54XHC3M0VLPRLBCPQQMID0OZC04Z0VYTMSAU' \n",
    "CLIENT_SECRET = 'OQRFM1BNLVMREJ3N3VJBAWGKU2ERVDEBC3Q1M2UXHBVNDBN3' \n",
    "VERSION = '20201201' \n",
    "LIMIT = 100"
   ]
  },
  {
   "source": [
    "### Using defined-function from *Neighborhoods-New-York* Lab for exploring Neighborhoods in chosen Boroughs\n",
    "#### * increased radius from 500 to 1000 of function getNearbyVenues, hence the number of Venues could be more"
   ],
   "cell_type": "markdown",
   "metadata": {}
  },
  {
   "cell_type": "code",
   "execution_count": 19,
   "metadata": {},
   "outputs": [],
   "source": [
    "def getNearbyVenues(names, latitudes, longitudes, radius=1000):\n",
    "    \n",
    "    venues_list=[]\n",
    "    for name, lat, long in zip(names, latitudes, longitudes):\n",
    "        print(name)\n",
    "            \n",
    "        # create the API request URL\n",
    "        url = 'https://api.foursquare.com/v2/venues/explore?&client_id={}&client_secret={}&v={}&ll={},{}&radius={}&limit={}'.format(\n",
    "            CLIENT_ID, \n",
    "            CLIENT_SECRET, \n",
    "            VERSION, \n",
    "            lat, \n",
    "            long, \n",
    "            radius, \n",
    "            LIMIT)\n",
    "            \n",
    "        # make the GET request\n",
    "        results = requests.get(url).json()[\"response\"]['groups'][0]['items']\n",
    "        \n",
    "        # return only relevant information for each nearby venue\n",
    "        venues_list.append([(\n",
    "            name, \n",
    "            lat, \n",
    "            long, \n",
    "            v['venue']['name'], \n",
    "            v['venue']['location']['lat'], \n",
    "            v['venue']['location']['lng'],  \n",
    "            v['venue']['categories'][0]['name']) for v in results])\n",
    "\n",
    "    nearby_venues = pd.DataFrame([item for venue_list in venues_list for item in venue_list])\n",
    "    nearby_venues.columns = ['Neighborhood', \n",
    "                  'Neighborhood Latitude', \n",
    "                  'Neighborhood Longitude', \n",
    "                  'Venue', \n",
    "                  'Venue Latitude', \n",
    "                  'Venue Longitude', \n",
    "                  'Venue Category']\n",
    "    \n",
    "    return(nearby_venues)"
   ]
  },
  {
   "cell_type": "code",
   "execution_count": 20,
   "metadata": {},
   "outputs": [
    {
     "output_type": "stream",
     "name": "stdout",
     "text": [
      "Regent Park, Harbourfront\n",
      "Queen's Park, Ontario Provincial Government\n",
      "Garden District, Ryerson\n",
      "St. James Town\n",
      "The Beaches\n",
      "Berczy Park\n",
      "Central Bay Street\n",
      "Christie\n",
      "Richmond, Adelaide, King\n",
      "Dufferin, Dovercourt Village\n",
      "Harbourfront East, Union Station, Toronto Islands\n",
      "Little Portugal, Trinity\n",
      "The Danforth West, Riverdale\n",
      "Toronto Dominion Centre, Design Exchange\n",
      "Brockton, Parkdale Village, Exhibition Place\n",
      "India Bazaar, The Beaches West\n",
      "Commerce Court, Victoria Hotel\n",
      "Studio District\n",
      "Lawrence Park\n",
      "Roselawn\n",
      "Davisville North\n",
      "Forest Hill North & West, Forest Hill Road Park\n",
      "High Park, The Junction South\n",
      "North Toronto West, Lawrence Park\n",
      "The Annex, North Midtown, Yorkville\n",
      "Parkdale, Roncesvalles\n",
      "Davisville\n",
      "University of Toronto, Harbord\n",
      "Runnymede, Swansea\n",
      "Moore Park, Summerhill East\n",
      "Kensington Market, Chinatown, Grange Park\n",
      "Summerhill West, Rathnelly, South Hill, Forest Hill SE, Deer Park\n",
      "CN Tower, King and Spadina, Railway Lands, Harbourfront West, Bathurst Quay, South Niagara, Island airport\n",
      "Rosedale\n",
      "Stn A PO Boxes\n",
      "St. James Town, Cabbagetown\n",
      "First Canadian Place, Underground city\n",
      "Church and Wellesley\n",
      "Business reply mail Processing Centre, South Central Letter Processing Plant Toronto\n"
     ]
    }
   ],
   "source": [
    "toronto_venues = getNearbyVenues(explore_df.Neighborhood, explore_df.Latitude, explore_df.Longitude)"
   ]
  },
  {
   "cell_type": "code",
   "execution_count": 21,
   "metadata": {},
   "outputs": [
    {
     "output_type": "stream",
     "name": "stdout",
     "text": [
      "Total Rows:1875, Total Columns:7\n"
     ]
    },
    {
     "output_type": "execute_result",
     "data": {
      "text/plain": [
       "                                  Neighborhood  Neighborhood Latitude  \\\n",
       "0                    Regent Park, Harbourfront              45.440588   \n",
       "1                    Regent Park, Harbourfront              45.440588   \n",
       "2                    Regent Park, Harbourfront              45.440588   \n",
       "3                    Regent Park, Harbourfront              45.440588   \n",
       "4  Queen's Park, Ontario Provincial Government              44.428198   \n",
       "\n",
       "   Neighborhood Longitude              Venue  Venue Latitude  Venue Longitude  \\\n",
       "0               28.018025               LIDL       45.439468        28.029159   \n",
       "1               28.018025             Centru       45.442525        28.017562   \n",
       "2               28.018025  Restaurant HAZARD       45.440675        28.028740   \n",
       "3               28.018025     Golden Chicken       45.433389        28.025602   \n",
       "4               26.165951         Mega Image       44.425392        26.165526   \n",
       "\n",
       "             Venue Category  \n",
       "0               Supermarket  \n",
       "1                     Plaza  \n",
       "2  Mediterranean Restaurant  \n",
       "3      Fast Food Restaurant  \n",
       "4               Supermarket  "
      ],
      "text/html": "<div>\n<style scoped>\n    .dataframe tbody tr th:only-of-type {\n        vertical-align: middle;\n    }\n\n    .dataframe tbody tr th {\n        vertical-align: top;\n    }\n\n    .dataframe thead th {\n        text-align: right;\n    }\n</style>\n<table border=\"1\" class=\"dataframe\">\n  <thead>\n    <tr style=\"text-align: right;\">\n      <th></th>\n      <th>Neighborhood</th>\n      <th>Neighborhood Latitude</th>\n      <th>Neighborhood Longitude</th>\n      <th>Venue</th>\n      <th>Venue Latitude</th>\n      <th>Venue Longitude</th>\n      <th>Venue Category</th>\n    </tr>\n  </thead>\n  <tbody>\n    <tr>\n      <th>0</th>\n      <td>Regent Park, Harbourfront</td>\n      <td>45.440588</td>\n      <td>28.018025</td>\n      <td>LIDL</td>\n      <td>45.439468</td>\n      <td>28.029159</td>\n      <td>Supermarket</td>\n    </tr>\n    <tr>\n      <th>1</th>\n      <td>Regent Park, Harbourfront</td>\n      <td>45.440588</td>\n      <td>28.018025</td>\n      <td>Centru</td>\n      <td>45.442525</td>\n      <td>28.017562</td>\n      <td>Plaza</td>\n    </tr>\n    <tr>\n      <th>2</th>\n      <td>Regent Park, Harbourfront</td>\n      <td>45.440588</td>\n      <td>28.018025</td>\n      <td>Restaurant HAZARD</td>\n      <td>45.440675</td>\n      <td>28.028740</td>\n      <td>Mediterranean Restaurant</td>\n    </tr>\n    <tr>\n      <th>3</th>\n      <td>Regent Park, Harbourfront</td>\n      <td>45.440588</td>\n      <td>28.018025</td>\n      <td>Golden Chicken</td>\n      <td>45.433389</td>\n      <td>28.025602</td>\n      <td>Fast Food Restaurant</td>\n    </tr>\n    <tr>\n      <th>4</th>\n      <td>Queen's Park, Ontario Provincial Government</td>\n      <td>44.428198</td>\n      <td>26.165951</td>\n      <td>Mega Image</td>\n      <td>44.425392</td>\n      <td>26.165526</td>\n      <td>Supermarket</td>\n    </tr>\n  </tbody>\n</table>\n</div>"
     },
     "metadata": {},
     "execution_count": 21
    }
   ],
   "source": [
    "print(f\"Total Rows:{toronto_venues.shape[0]}, Total Columns:{toronto_venues.shape[1]}\")\n",
    "toronto_venues.head()"
   ]
  },
  {
   "cell_type": "code",
   "execution_count": 22,
   "metadata": {},
   "outputs": [
    {
     "output_type": "stream",
     "name": "stdout",
     "text": [
      "Total unique Venue categories: 231\n"
     ]
    }
   ],
   "source": [
    "print(f\"Total unique Venue categories: {toronto_venues['Venue Category'].nunique()}\")"
   ]
  },
  {
   "source": [
    "#### Important Assumption for Analysis:\n",
    "\n",
    "* Based on .nunique method, there are _'N'_ unique venue categories\n",
    "* BUT, one of the Venue Category is _'Neighborhood'_. \n",
    "* THIS makes .groupby('Neighborhood') after onehot-encoding error-prone ---> _(ValueError: Grouper for 'Neighborhood' not 1-dimensional)_\n",
    "* Hence, excluding _'Neighborhood'_ from Venue categories\n",
    "* ASSUMED Total unique Venue categories = _'N-1'_"
   ],
   "cell_type": "markdown",
   "metadata": {}
  },
  {
   "cell_type": "code",
   "execution_count": 23,
   "metadata": {},
   "outputs": [
    {
     "output_type": "stream",
     "name": "stdout",
     "text": [
      "Venues with 'Neighborhood' Venue Category:\n\n"
     ]
    },
    {
     "output_type": "execute_result",
     "data": {
      "text/plain": [
       "                                          Neighborhood  Neighborhood Latitude  \\\n",
       "61                            Garden District, Ryerson              45.440820   \n",
       "88                                         Berczy Park              43.642106   \n",
       "219                           Richmond, Adelaide, King              43.649901   \n",
       "319                       Dufferin, Dovercourt Village              43.649901   \n",
       "409  Harbourfront East, Union Station, Toronto Islands              43.639259   \n",
       "\n",
       "     Neighborhood Longitude                     Venue  Venue Latitude  \\\n",
       "61                28.016137  Piața Energiei - General       45.440053   \n",
       "88               -79.377445              Harbourfront       43.639526   \n",
       "219              -79.383718          Downtown Toronto       43.653232   \n",
       "319              -79.383718          Downtown Toronto       43.653232   \n",
       "409              -79.382840              Harbourfront       43.639526   \n",
       "\n",
       "     Venue Longitude Venue Category  \n",
       "61         28.021103   Neighborhood  \n",
       "88        -79.380688   Neighborhood  \n",
       "219       -79.385296   Neighborhood  \n",
       "319       -79.385296   Neighborhood  \n",
       "409       -79.380688   Neighborhood  "
      ],
      "text/html": "<div>\n<style scoped>\n    .dataframe tbody tr th:only-of-type {\n        vertical-align: middle;\n    }\n\n    .dataframe tbody tr th {\n        vertical-align: top;\n    }\n\n    .dataframe thead th {\n        text-align: right;\n    }\n</style>\n<table border=\"1\" class=\"dataframe\">\n  <thead>\n    <tr style=\"text-align: right;\">\n      <th></th>\n      <th>Neighborhood</th>\n      <th>Neighborhood Latitude</th>\n      <th>Neighborhood Longitude</th>\n      <th>Venue</th>\n      <th>Venue Latitude</th>\n      <th>Venue Longitude</th>\n      <th>Venue Category</th>\n    </tr>\n  </thead>\n  <tbody>\n    <tr>\n      <th>61</th>\n      <td>Garden District, Ryerson</td>\n      <td>45.440820</td>\n      <td>28.016137</td>\n      <td>Piața Energiei - General</td>\n      <td>45.440053</td>\n      <td>28.021103</td>\n      <td>Neighborhood</td>\n    </tr>\n    <tr>\n      <th>88</th>\n      <td>Berczy Park</td>\n      <td>43.642106</td>\n      <td>-79.377445</td>\n      <td>Harbourfront</td>\n      <td>43.639526</td>\n      <td>-79.380688</td>\n      <td>Neighborhood</td>\n    </tr>\n    <tr>\n      <th>219</th>\n      <td>Richmond, Adelaide, King</td>\n      <td>43.649901</td>\n      <td>-79.383718</td>\n      <td>Downtown Toronto</td>\n      <td>43.653232</td>\n      <td>-79.385296</td>\n      <td>Neighborhood</td>\n    </tr>\n    <tr>\n      <th>319</th>\n      <td>Dufferin, Dovercourt Village</td>\n      <td>43.649901</td>\n      <td>-79.383718</td>\n      <td>Downtown Toronto</td>\n      <td>43.653232</td>\n      <td>-79.385296</td>\n      <td>Neighborhood</td>\n    </tr>\n    <tr>\n      <th>409</th>\n      <td>Harbourfront East, Union Station, Toronto Islands</td>\n      <td>43.639259</td>\n      <td>-79.382840</td>\n      <td>Harbourfront</td>\n      <td>43.639526</td>\n      <td>-79.380688</td>\n      <td>Neighborhood</td>\n    </tr>\n  </tbody>\n</table>\n</div>"
     },
     "metadata": {},
     "execution_count": 23
    }
   ],
   "source": [
    "print(\"Venues with 'Neighborhood' Venue Category:\\n\")\n",
    "toronto_venues.loc[toronto_venues['Venue Category'] == 'Neighborhood']\n"
   ]
  },
  {
   "source": [
    "### Analyze nearby venues dataframe"
   ],
   "cell_type": "markdown",
   "metadata": {}
  },
  {
   "source": [
    "#### one-hot encode Venue Category for statistics by Neighbourhood"
   ],
   "cell_type": "markdown",
   "metadata": {}
  },
  {
   "cell_type": "code",
   "execution_count": 24,
   "metadata": {},
   "outputs": [
    {
     "output_type": "execute_result",
     "data": {
      "text/plain": [
       "   Airport  Airport Food Court  Airport Lounge  American Restaurant  \\\n",
       "0        0                   0               0                    0   \n",
       "1        0                   0               0                    0   \n",
       "2        0                   0               0                    0   \n",
       "3        0                   0               0                    0   \n",
       "4        0                   0               0                    0   \n",
       "\n",
       "   Antique Shop  Aquarium  Argentinian Restaurant  Art Gallery  Art Museum  \\\n",
       "0             0         0                       0            0           0   \n",
       "1             0         0                       0            0           0   \n",
       "2             0         0                       0            0           0   \n",
       "3             0         0                       0            0           0   \n",
       "4             0         0                       0            0           0   \n",
       "\n",
       "   Arts & Crafts Store  ...  University  Vegetarian / Vegan Restaurant  \\\n",
       "0                    0  ...           0                              0   \n",
       "1                    0  ...           0                              0   \n",
       "2                    0  ...           0                              0   \n",
       "3                    0  ...           0                              0   \n",
       "4                    0  ...           0                              0   \n",
       "\n",
       "   Venezuelan Restaurant  Veterinarian  Video Store  Vietnamese Restaurant  \\\n",
       "0                      0             0            0                      0   \n",
       "1                      0             0            0                      0   \n",
       "2                      0             0            0                      0   \n",
       "3                      0             0            0                      0   \n",
       "4                      0             0            0                      0   \n",
       "\n",
       "   Wine Shop  Wings Joint  Xinjiang Restaurant  Yoga Studio  \n",
       "0          0            0                    0            0  \n",
       "1          0            0                    0            0  \n",
       "2          0            0                    0            0  \n",
       "3          0            0                    0            0  \n",
       "4          0            0                    0            0  \n",
       "\n",
       "[5 rows x 231 columns]"
      ],
      "text/html": "<div>\n<style scoped>\n    .dataframe tbody tr th:only-of-type {\n        vertical-align: middle;\n    }\n\n    .dataframe tbody tr th {\n        vertical-align: top;\n    }\n\n    .dataframe thead th {\n        text-align: right;\n    }\n</style>\n<table border=\"1\" class=\"dataframe\">\n  <thead>\n    <tr style=\"text-align: right;\">\n      <th></th>\n      <th>Airport</th>\n      <th>Airport Food Court</th>\n      <th>Airport Lounge</th>\n      <th>American Restaurant</th>\n      <th>Antique Shop</th>\n      <th>Aquarium</th>\n      <th>Argentinian Restaurant</th>\n      <th>Art Gallery</th>\n      <th>Art Museum</th>\n      <th>Arts &amp; Crafts Store</th>\n      <th>...</th>\n      <th>University</th>\n      <th>Vegetarian / Vegan Restaurant</th>\n      <th>Venezuelan Restaurant</th>\n      <th>Veterinarian</th>\n      <th>Video Store</th>\n      <th>Vietnamese Restaurant</th>\n      <th>Wine Shop</th>\n      <th>Wings Joint</th>\n      <th>Xinjiang Restaurant</th>\n      <th>Yoga Studio</th>\n    </tr>\n  </thead>\n  <tbody>\n    <tr>\n      <th>0</th>\n      <td>0</td>\n      <td>0</td>\n      <td>0</td>\n      <td>0</td>\n      <td>0</td>\n      <td>0</td>\n      <td>0</td>\n      <td>0</td>\n      <td>0</td>\n      <td>0</td>\n      <td>...</td>\n      <td>0</td>\n      <td>0</td>\n      <td>0</td>\n      <td>0</td>\n      <td>0</td>\n      <td>0</td>\n      <td>0</td>\n      <td>0</td>\n      <td>0</td>\n      <td>0</td>\n    </tr>\n    <tr>\n      <th>1</th>\n      <td>0</td>\n      <td>0</td>\n      <td>0</td>\n      <td>0</td>\n      <td>0</td>\n      <td>0</td>\n      <td>0</td>\n      <td>0</td>\n      <td>0</td>\n      <td>0</td>\n      <td>...</td>\n      <td>0</td>\n      <td>0</td>\n      <td>0</td>\n      <td>0</td>\n      <td>0</td>\n      <td>0</td>\n      <td>0</td>\n      <td>0</td>\n      <td>0</td>\n      <td>0</td>\n    </tr>\n    <tr>\n      <th>2</th>\n      <td>0</td>\n      <td>0</td>\n      <td>0</td>\n      <td>0</td>\n      <td>0</td>\n      <td>0</td>\n      <td>0</td>\n      <td>0</td>\n      <td>0</td>\n      <td>0</td>\n      <td>...</td>\n      <td>0</td>\n      <td>0</td>\n      <td>0</td>\n      <td>0</td>\n      <td>0</td>\n      <td>0</td>\n      <td>0</td>\n      <td>0</td>\n      <td>0</td>\n      <td>0</td>\n    </tr>\n    <tr>\n      <th>3</th>\n      <td>0</td>\n      <td>0</td>\n      <td>0</td>\n      <td>0</td>\n      <td>0</td>\n      <td>0</td>\n      <td>0</td>\n      <td>0</td>\n      <td>0</td>\n      <td>0</td>\n      <td>...</td>\n      <td>0</td>\n      <td>0</td>\n      <td>0</td>\n      <td>0</td>\n      <td>0</td>\n      <td>0</td>\n      <td>0</td>\n      <td>0</td>\n      <td>0</td>\n      <td>0</td>\n    </tr>\n    <tr>\n      <th>4</th>\n      <td>0</td>\n      <td>0</td>\n      <td>0</td>\n      <td>0</td>\n      <td>0</td>\n      <td>0</td>\n      <td>0</td>\n      <td>0</td>\n      <td>0</td>\n      <td>0</td>\n      <td>...</td>\n      <td>0</td>\n      <td>0</td>\n      <td>0</td>\n      <td>0</td>\n      <td>0</td>\n      <td>0</td>\n      <td>0</td>\n      <td>0</td>\n      <td>0</td>\n      <td>0</td>\n    </tr>\n  </tbody>\n</table>\n<p>5 rows × 231 columns</p>\n</div>"
     },
     "metadata": {},
     "execution_count": 24
    }
   ],
   "source": [
    "encode_df = pd.get_dummies(toronto_venues[['Venue Category']], prefix='', prefix_sep='')\n",
    "encode_df.head()"
   ]
  },
  {
   "cell_type": "code",
   "execution_count": 25,
   "metadata": {},
   "outputs": [],
   "source": [
    "# drop the Venue category 'Neighborhood'\n",
    "encode_df.drop('Neighborhood', axis=1, inplace=True)"
   ]
  },
  {
   "cell_type": "code",
   "execution_count": 26,
   "metadata": {},
   "outputs": [
    {
     "output_type": "execute_result",
     "data": {
      "text/plain": [
       "                                  Neighborhood  Airport  Airport Food Court  \\\n",
       "0                    Regent Park, Harbourfront        0                   0   \n",
       "1                    Regent Park, Harbourfront        0                   0   \n",
       "2                    Regent Park, Harbourfront        0                   0   \n",
       "3                    Regent Park, Harbourfront        0                   0   \n",
       "4  Queen's Park, Ontario Provincial Government        0                   0   \n",
       "\n",
       "   Airport Lounge  American Restaurant  Antique Shop  Aquarium  \\\n",
       "0               0                    0             0         0   \n",
       "1               0                    0             0         0   \n",
       "2               0                    0             0         0   \n",
       "3               0                    0             0         0   \n",
       "4               0                    0             0         0   \n",
       "\n",
       "   Argentinian Restaurant  Art Gallery  Art Museum  ...  University  \\\n",
       "0                       0            0           0  ...           0   \n",
       "1                       0            0           0  ...           0   \n",
       "2                       0            0           0  ...           0   \n",
       "3                       0            0           0  ...           0   \n",
       "4                       0            0           0  ...           0   \n",
       "\n",
       "   Vegetarian / Vegan Restaurant  Venezuelan Restaurant  Veterinarian  \\\n",
       "0                              0                      0             0   \n",
       "1                              0                      0             0   \n",
       "2                              0                      0             0   \n",
       "3                              0                      0             0   \n",
       "4                              0                      0             0   \n",
       "\n",
       "   Video Store  Vietnamese Restaurant  Wine Shop  Wings Joint  \\\n",
       "0            0                      0          0            0   \n",
       "1            0                      0          0            0   \n",
       "2            0                      0          0            0   \n",
       "3            0                      0          0            0   \n",
       "4            0                      0          0            0   \n",
       "\n",
       "   Xinjiang Restaurant  Yoga Studio  \n",
       "0                    0            0  \n",
       "1                    0            0  \n",
       "2                    0            0  \n",
       "3                    0            0  \n",
       "4                    0            0  \n",
       "\n",
       "[5 rows x 231 columns]"
      ],
      "text/html": "<div>\n<style scoped>\n    .dataframe tbody tr th:only-of-type {\n        vertical-align: middle;\n    }\n\n    .dataframe tbody tr th {\n        vertical-align: top;\n    }\n\n    .dataframe thead th {\n        text-align: right;\n    }\n</style>\n<table border=\"1\" class=\"dataframe\">\n  <thead>\n    <tr style=\"text-align: right;\">\n      <th></th>\n      <th>Neighborhood</th>\n      <th>Airport</th>\n      <th>Airport Food Court</th>\n      <th>Airport Lounge</th>\n      <th>American Restaurant</th>\n      <th>Antique Shop</th>\n      <th>Aquarium</th>\n      <th>Argentinian Restaurant</th>\n      <th>Art Gallery</th>\n      <th>Art Museum</th>\n      <th>...</th>\n      <th>University</th>\n      <th>Vegetarian / Vegan Restaurant</th>\n      <th>Venezuelan Restaurant</th>\n      <th>Veterinarian</th>\n      <th>Video Store</th>\n      <th>Vietnamese Restaurant</th>\n      <th>Wine Shop</th>\n      <th>Wings Joint</th>\n      <th>Xinjiang Restaurant</th>\n      <th>Yoga Studio</th>\n    </tr>\n  </thead>\n  <tbody>\n    <tr>\n      <th>0</th>\n      <td>Regent Park, Harbourfront</td>\n      <td>0</td>\n      <td>0</td>\n      <td>0</td>\n      <td>0</td>\n      <td>0</td>\n      <td>0</td>\n      <td>0</td>\n      <td>0</td>\n      <td>0</td>\n      <td>...</td>\n      <td>0</td>\n      <td>0</td>\n      <td>0</td>\n      <td>0</td>\n      <td>0</td>\n      <td>0</td>\n      <td>0</td>\n      <td>0</td>\n      <td>0</td>\n      <td>0</td>\n    </tr>\n    <tr>\n      <th>1</th>\n      <td>Regent Park, Harbourfront</td>\n      <td>0</td>\n      <td>0</td>\n      <td>0</td>\n      <td>0</td>\n      <td>0</td>\n      <td>0</td>\n      <td>0</td>\n      <td>0</td>\n      <td>0</td>\n      <td>...</td>\n      <td>0</td>\n      <td>0</td>\n      <td>0</td>\n      <td>0</td>\n      <td>0</td>\n      <td>0</td>\n      <td>0</td>\n      <td>0</td>\n      <td>0</td>\n      <td>0</td>\n    </tr>\n    <tr>\n      <th>2</th>\n      <td>Regent Park, Harbourfront</td>\n      <td>0</td>\n      <td>0</td>\n      <td>0</td>\n      <td>0</td>\n      <td>0</td>\n      <td>0</td>\n      <td>0</td>\n      <td>0</td>\n      <td>0</td>\n      <td>...</td>\n      <td>0</td>\n      <td>0</td>\n      <td>0</td>\n      <td>0</td>\n      <td>0</td>\n      <td>0</td>\n      <td>0</td>\n      <td>0</td>\n      <td>0</td>\n      <td>0</td>\n    </tr>\n    <tr>\n      <th>3</th>\n      <td>Regent Park, Harbourfront</td>\n      <td>0</td>\n      <td>0</td>\n      <td>0</td>\n      <td>0</td>\n      <td>0</td>\n      <td>0</td>\n      <td>0</td>\n      <td>0</td>\n      <td>0</td>\n      <td>...</td>\n      <td>0</td>\n      <td>0</td>\n      <td>0</td>\n      <td>0</td>\n      <td>0</td>\n      <td>0</td>\n      <td>0</td>\n      <td>0</td>\n      <td>0</td>\n      <td>0</td>\n    </tr>\n    <tr>\n      <th>4</th>\n      <td>Queen's Park, Ontario Provincial Government</td>\n      <td>0</td>\n      <td>0</td>\n      <td>0</td>\n      <td>0</td>\n      <td>0</td>\n      <td>0</td>\n      <td>0</td>\n      <td>0</td>\n      <td>0</td>\n      <td>...</td>\n      <td>0</td>\n      <td>0</td>\n      <td>0</td>\n      <td>0</td>\n      <td>0</td>\n      <td>0</td>\n      <td>0</td>\n      <td>0</td>\n      <td>0</td>\n      <td>0</td>\n    </tr>\n  </tbody>\n</table>\n<p>5 rows × 231 columns</p>\n</div>"
     },
     "metadata": {},
     "execution_count": 26
    }
   ],
   "source": [
    "# add 'Neighborhood' columns with Neighborhood names \n",
    "encode_df['Neighborhood'] = toronto_venues[['Neighborhood']]\n",
    "\n",
    "# move Neighborhood column to the '0' position\n",
    "fixed_columns = ['Neighborhood'] + list(encode_df.columns[encode_df.columns!='Neighborhood'])\n",
    "encode_df = encode_df[fixed_columns]\n",
    "encode_df.head()"
   ]
  },
  {
   "cell_type": "code",
   "execution_count": 27,
   "metadata": {},
   "outputs": [
    {
     "output_type": "execute_result",
     "data": {
      "text/plain": [
       "(1875, 231)"
      ]
     },
     "metadata": {},
     "execution_count": 27
    }
   ],
   "source": [
    "encode_df.shape"
   ]
  },
  {
   "cell_type": "code",
   "execution_count": 28,
   "metadata": {},
   "outputs": [
    {
     "output_type": "execute_result",
     "data": {
      "text/plain": [
       "                                         Neighborhood   Airport  \\\n",
       "0                                         Berczy Park  0.000000   \n",
       "1        Brockton, Parkdale Village, Exhibition Place  0.000000   \n",
       "2   Business reply mail Processing Centre, South C...  0.000000   \n",
       "3   CN Tower, King and Spadina, Railway Lands, Har...  0.000000   \n",
       "4                                  Central Bay Street  0.000000   \n",
       "5                                            Christie  0.000000   \n",
       "6                                Church and Wellesley  0.000000   \n",
       "7                      Commerce Court, Victoria Hotel  0.000000   \n",
       "8                                          Davisville  0.000000   \n",
       "9                                    Davisville North  0.000000   \n",
       "10                       Dufferin, Dovercourt Village  0.000000   \n",
       "11             First Canadian Place, Underground city  0.000000   \n",
       "12    Forest Hill North & West, Forest Hill Road Park  0.000000   \n",
       "13                           Garden District, Ryerson  0.000000   \n",
       "14  Harbourfront East, Union Station, Toronto Islands  0.000000   \n",
       "15                      High Park, The Junction South  0.000000   \n",
       "16                     India Bazaar, The Beaches West  0.000000   \n",
       "17          Kensington Market, Chinatown, Grange Park  0.000000   \n",
       "18                                      Lawrence Park  0.000000   \n",
       "19                           Little Portugal, Trinity  0.045455   \n",
       "20                        Moore Park, Summerhill East  0.000000   \n",
       "21                  North Toronto West, Lawrence Park  0.000000   \n",
       "22                             Parkdale, Roncesvalles  0.000000   \n",
       "23        Queen's Park, Ontario Provincial Government  0.000000   \n",
       "24                          Regent Park, Harbourfront  0.000000   \n",
       "25                           Richmond, Adelaide, King  0.000000   \n",
       "26                                           Rosedale  0.000000   \n",
       "27                                           Roselawn  0.000000   \n",
       "28                                 Runnymede, Swansea  0.000000   \n",
       "29                                     St. James Town  0.000000   \n",
       "30                        St. James Town, Cabbagetown  0.000000   \n",
       "31                                     Stn A PO Boxes  0.000000   \n",
       "32                                    Studio District  0.000000   \n",
       "33  Summerhill West, Rathnelly, South Hill, Forest...  0.000000   \n",
       "34                The Annex, North Midtown, Yorkville  0.000000   \n",
       "35                                        The Beaches  0.000000   \n",
       "36                       The Danforth West, Riverdale  0.000000   \n",
       "37           Toronto Dominion Centre, Design Exchange  0.000000   \n",
       "38                     University of Toronto, Harbord  0.000000   \n",
       "\n",
       "    Airport Food Court  Airport Lounge  American Restaurant  Antique Shop  \\\n",
       "0             0.000000        0.000000             0.010000      0.000000   \n",
       "1             0.000000        0.000000             0.017241      0.000000   \n",
       "2             0.000000        0.000000             0.017544      0.000000   \n",
       "3             0.000000        0.000000             0.000000      0.000000   \n",
       "4             0.000000        0.000000             0.000000      0.000000   \n",
       "5             0.000000        0.000000             0.000000      0.000000   \n",
       "6             0.000000        0.000000             0.017544      0.000000   \n",
       "7             0.000000        0.000000             0.000000      0.000000   \n",
       "8             0.000000        0.000000             0.000000      0.000000   \n",
       "9             0.000000        0.000000             0.000000      0.000000   \n",
       "10            0.000000        0.000000             0.020000      0.000000   \n",
       "11            0.000000        0.000000             0.017544      0.000000   \n",
       "12            0.000000        0.000000             0.000000      0.000000   \n",
       "13            0.000000        0.000000             0.000000      0.000000   \n",
       "14            0.000000        0.000000             0.000000      0.000000   \n",
       "15            0.000000        0.000000             0.000000      0.020619   \n",
       "16            0.000000        0.000000             0.000000      0.000000   \n",
       "17            0.000000        0.000000             0.000000      0.000000   \n",
       "18            0.000000        0.000000             0.000000      0.000000   \n",
       "19            0.045455        0.045455             0.000000      0.000000   \n",
       "20            0.000000        0.000000             0.000000      0.000000   \n",
       "21            0.000000        0.000000             0.000000      0.000000   \n",
       "22            0.000000        0.000000             0.000000      0.000000   \n",
       "23            0.000000        0.000000             0.000000      0.000000   \n",
       "24            0.000000        0.000000             0.000000      0.000000   \n",
       "25            0.000000        0.000000             0.020000      0.000000   \n",
       "26            0.000000        0.000000             0.000000      0.000000   \n",
       "27            0.000000        0.000000             0.000000      0.000000   \n",
       "28            0.000000        0.000000             0.000000      0.000000   \n",
       "29            0.000000        0.000000             0.000000      0.000000   \n",
       "30            0.000000        0.000000             0.017544      0.000000   \n",
       "31            0.000000        0.000000             0.000000      0.000000   \n",
       "32            0.000000        0.000000             0.000000      0.000000   \n",
       "33            0.000000        0.000000             0.000000      0.000000   \n",
       "34            0.000000        0.000000             0.000000      0.000000   \n",
       "35            0.000000        0.000000             0.000000      0.000000   \n",
       "36            0.000000        0.000000             0.000000      0.000000   \n",
       "37            0.000000        0.000000             0.000000      0.000000   \n",
       "38            0.000000        0.000000             0.000000      0.000000   \n",
       "\n",
       "    Aquarium  Argentinian Restaurant  Art Gallery  Art Museum  ...  \\\n",
       "0       0.02                    0.00     0.020000        0.00  ...   \n",
       "1       0.00                    0.00     0.017241        0.00  ...   \n",
       "2       0.00                    0.00     0.000000        0.00  ...   \n",
       "3       0.02                    0.00     0.010000        0.00  ...   \n",
       "4       0.00                    0.00     0.000000        0.00  ...   \n",
       "5       0.00                    0.00     0.000000        0.00  ...   \n",
       "6       0.00                    0.00     0.000000        0.00  ...   \n",
       "7       0.00                    0.00     0.000000        0.00  ...   \n",
       "8       0.00                    0.00     0.000000        0.00  ...   \n",
       "9       0.00                    0.00     0.000000        0.00  ...   \n",
       "10      0.00                    0.00     0.010000        0.01  ...   \n",
       "11      0.00                    0.00     0.000000        0.00  ...   \n",
       "12      0.00                    0.00     0.000000        0.00  ...   \n",
       "13      0.00                    0.00     0.000000        0.00  ...   \n",
       "14      0.02                    0.00     0.020000        0.00  ...   \n",
       "15      0.00                    0.00     0.010309        0.00  ...   \n",
       "16      0.00                    0.00     0.000000        0.00  ...   \n",
       "17      0.00                    0.00     0.000000        0.00  ...   \n",
       "18      0.00                    0.00     0.000000        0.00  ...   \n",
       "19      0.00                    0.00     0.000000        0.00  ...   \n",
       "20      0.00                    0.00     0.000000        0.00  ...   \n",
       "21      0.00                    0.00     0.000000        0.00  ...   \n",
       "22      0.00                    0.00     0.000000        0.00  ...   \n",
       "23      0.00                    0.00     0.000000        0.00  ...   \n",
       "24      0.00                    0.00     0.000000        0.00  ...   \n",
       "25      0.00                    0.00     0.010000        0.01  ...   \n",
       "26      0.00                    0.00     0.000000        0.00  ...   \n",
       "27      0.00                    0.00     0.000000        0.00  ...   \n",
       "28      0.00                    0.00     0.000000        0.00  ...   \n",
       "29      0.00                    0.00     0.000000        0.00  ...   \n",
       "30      0.00                    0.00     0.000000        0.00  ...   \n",
       "31      0.00                    0.00     0.000000        0.00  ...   \n",
       "32      0.00                    0.02     0.000000        0.00  ...   \n",
       "33      0.00                    0.00     0.000000        0.00  ...   \n",
       "34      0.00                    0.00     0.000000        0.00  ...   \n",
       "35      0.00                    0.00     0.000000        0.00  ...   \n",
       "36      0.00                    0.00     0.000000        0.00  ...   \n",
       "37      0.00                    0.00     0.000000        0.00  ...   \n",
       "38      0.00                    0.00     0.000000        0.00  ...   \n",
       "\n",
       "    University  Vegetarian / Vegan Restaurant  Venezuelan Restaurant  \\\n",
       "0         0.00                       0.020000               0.000000   \n",
       "1         0.00                       0.000000               0.000000   \n",
       "2         0.00                       0.000000               0.000000   \n",
       "3         0.00                       0.010000               0.000000   \n",
       "4         0.00                       0.000000               0.000000   \n",
       "5         0.00                       0.000000               0.000000   \n",
       "6         0.00                       0.000000               0.000000   \n",
       "7         0.00                       0.000000               0.000000   \n",
       "8         0.00                       0.000000               0.000000   \n",
       "9         0.00                       0.000000               0.000000   \n",
       "10        0.01                       0.010000               0.000000   \n",
       "11        0.00                       0.000000               0.000000   \n",
       "12        0.00                       0.000000               0.000000   \n",
       "13        0.00                       0.000000               0.000000   \n",
       "14        0.00                       0.010000               0.000000   \n",
       "15        0.00                       0.000000               0.000000   \n",
       "16        0.00                       0.000000               0.000000   \n",
       "17        0.00                       0.014493               0.000000   \n",
       "18        0.00                       0.000000               0.000000   \n",
       "19        0.00                       0.000000               0.045455   \n",
       "20        0.00                       0.014493               0.000000   \n",
       "21        0.00                       0.000000               0.000000   \n",
       "22        0.00                       0.000000               0.000000   \n",
       "23        0.00                       0.000000               0.000000   \n",
       "24        0.00                       0.000000               0.000000   \n",
       "25        0.01                       0.010000               0.000000   \n",
       "26        0.00                       0.000000               0.000000   \n",
       "27        0.00                       0.000000               0.000000   \n",
       "28        0.00                       0.014493               0.000000   \n",
       "29        0.00                       0.000000               0.000000   \n",
       "30        0.00                       0.000000               0.000000   \n",
       "31        0.00                       0.000000               0.000000   \n",
       "32        0.00                       0.000000               0.000000   \n",
       "33        0.00                       0.014493               0.000000   \n",
       "34        0.00                       0.000000               0.000000   \n",
       "35        0.00                       0.000000               0.000000   \n",
       "36        0.00                       0.000000               0.000000   \n",
       "37        0.00                       0.000000               0.000000   \n",
       "38        0.00                       0.041667               0.000000   \n",
       "\n",
       "    Veterinarian  Video Store  Vietnamese Restaurant  Wine Shop  Wings Joint  \\\n",
       "0           0.00     0.000000               0.000000       0.00     0.000000   \n",
       "1           0.00     0.000000               0.000000       0.00     0.000000   \n",
       "2           0.00     0.000000               0.017544       0.00     0.000000   \n",
       "3           0.00     0.000000               0.000000       0.00     0.000000   \n",
       "4           0.00     0.071429               0.000000       0.00     0.000000   \n",
       "5           0.00     0.071429               0.000000       0.00     0.000000   \n",
       "6           0.00     0.000000               0.017544       0.00     0.000000   \n",
       "7           0.00     0.000000               0.000000       0.00     0.000000   \n",
       "8           0.00     0.000000               0.000000       0.00     0.000000   \n",
       "9           0.00     0.000000               0.000000       0.00     0.000000   \n",
       "10          0.00     0.000000               0.000000       0.00     0.000000   \n",
       "11          0.00     0.000000               0.017544       0.00     0.000000   \n",
       "12          0.00     0.000000               0.000000       0.00     0.000000   \n",
       "13          0.00     0.000000               0.000000       0.00     0.000000   \n",
       "14          0.00     0.000000               0.000000       0.00     0.000000   \n",
       "15          0.00     0.000000               0.010309       0.00     0.000000   \n",
       "16          0.00     0.000000               0.000000       0.00     0.000000   \n",
       "17          0.00     0.000000               0.000000       0.00     0.000000   \n",
       "18          0.00     0.000000               0.022472       0.00     0.011236   \n",
       "19          0.00     0.000000               0.000000       0.00     0.000000   \n",
       "20          0.00     0.000000               0.000000       0.00     0.000000   \n",
       "21          0.00     0.000000               0.000000       0.00     0.000000   \n",
       "22          0.00     0.000000               0.000000       0.00     0.000000   \n",
       "23          0.00     0.000000               0.000000       0.00     0.000000   \n",
       "24          0.00     0.000000               0.000000       0.00     0.000000   \n",
       "25          0.00     0.000000               0.000000       0.00     0.000000   \n",
       "26          0.00     0.000000               0.022222       0.00     0.000000   \n",
       "27          0.00     0.000000               0.022472       0.00     0.011236   \n",
       "28          0.00     0.000000               0.000000       0.00     0.000000   \n",
       "29          0.00     0.000000               0.000000       0.00     0.000000   \n",
       "30          0.00     0.000000               0.017544       0.00     0.000000   \n",
       "31          0.00     0.000000               0.022222       0.00     0.000000   \n",
       "32          0.01     0.000000               0.000000       0.01     0.000000   \n",
       "33          0.00     0.000000               0.000000       0.00     0.000000   \n",
       "34          0.00     0.000000               0.000000       0.00     0.000000   \n",
       "35          0.00     0.000000               0.000000       0.00     0.000000   \n",
       "36          0.00     0.000000               0.000000       0.00     0.000000   \n",
       "37          0.00     0.000000               0.000000       0.00     0.000000   \n",
       "38          0.00     0.000000               0.000000       0.00     0.000000   \n",
       "\n",
       "    Xinjiang Restaurant  Yoga Studio  \n",
       "0              0.000000     0.000000  \n",
       "1              0.000000     0.000000  \n",
       "2              0.000000     0.000000  \n",
       "3              0.000000     0.030000  \n",
       "4              0.000000     0.000000  \n",
       "5              0.000000     0.000000  \n",
       "6              0.000000     0.000000  \n",
       "7              0.000000     0.000000  \n",
       "8              0.000000     0.000000  \n",
       "9              0.000000     0.000000  \n",
       "10             0.000000     0.010000  \n",
       "11             0.000000     0.000000  \n",
       "12             0.000000     0.000000  \n",
       "13             0.000000     0.000000  \n",
       "14             0.000000     0.010000  \n",
       "15             0.000000     0.010309  \n",
       "16             0.000000     0.000000  \n",
       "17             0.000000     0.000000  \n",
       "18             0.000000     0.000000  \n",
       "19             0.000000     0.000000  \n",
       "20             0.000000     0.000000  \n",
       "21             0.000000     0.000000  \n",
       "22             0.000000     0.000000  \n",
       "23             0.000000     0.000000  \n",
       "24             0.000000     0.000000  \n",
       "25             0.000000     0.010000  \n",
       "26             0.022222     0.000000  \n",
       "27             0.000000     0.000000  \n",
       "28             0.000000     0.000000  \n",
       "29             0.000000     0.000000  \n",
       "30             0.000000     0.000000  \n",
       "31             0.022222     0.000000  \n",
       "32             0.000000     0.000000  \n",
       "33             0.000000     0.000000  \n",
       "34             0.000000     0.000000  \n",
       "35             0.000000     0.000000  \n",
       "36             0.000000     0.000000  \n",
       "37             0.000000     0.000000  \n",
       "38             0.000000     0.000000  \n",
       "\n",
       "[39 rows x 231 columns]"
      ],
      "text/html": "<div>\n<style scoped>\n    .dataframe tbody tr th:only-of-type {\n        vertical-align: middle;\n    }\n\n    .dataframe tbody tr th {\n        vertical-align: top;\n    }\n\n    .dataframe thead th {\n        text-align: right;\n    }\n</style>\n<table border=\"1\" class=\"dataframe\">\n  <thead>\n    <tr style=\"text-align: right;\">\n      <th></th>\n      <th>Neighborhood</th>\n      <th>Airport</th>\n      <th>Airport Food Court</th>\n      <th>Airport Lounge</th>\n      <th>American Restaurant</th>\n      <th>Antique Shop</th>\n      <th>Aquarium</th>\n      <th>Argentinian Restaurant</th>\n      <th>Art Gallery</th>\n      <th>Art Museum</th>\n      <th>...</th>\n      <th>University</th>\n      <th>Vegetarian / Vegan Restaurant</th>\n      <th>Venezuelan Restaurant</th>\n      <th>Veterinarian</th>\n      <th>Video Store</th>\n      <th>Vietnamese Restaurant</th>\n      <th>Wine Shop</th>\n      <th>Wings Joint</th>\n      <th>Xinjiang Restaurant</th>\n      <th>Yoga Studio</th>\n    </tr>\n  </thead>\n  <tbody>\n    <tr>\n      <th>0</th>\n      <td>Berczy Park</td>\n      <td>0.000000</td>\n      <td>0.000000</td>\n      <td>0.000000</td>\n      <td>0.010000</td>\n      <td>0.000000</td>\n      <td>0.02</td>\n      <td>0.00</td>\n      <td>0.020000</td>\n      <td>0.00</td>\n      <td>...</td>\n      <td>0.00</td>\n      <td>0.020000</td>\n      <td>0.000000</td>\n      <td>0.00</td>\n      <td>0.000000</td>\n      <td>0.000000</td>\n      <td>0.00</td>\n      <td>0.000000</td>\n      <td>0.000000</td>\n      <td>0.000000</td>\n    </tr>\n    <tr>\n      <th>1</th>\n      <td>Brockton, Parkdale Village, Exhibition Place</td>\n      <td>0.000000</td>\n      <td>0.000000</td>\n      <td>0.000000</td>\n      <td>0.017241</td>\n      <td>0.000000</td>\n      <td>0.00</td>\n      <td>0.00</td>\n      <td>0.017241</td>\n      <td>0.00</td>\n      <td>...</td>\n      <td>0.00</td>\n      <td>0.000000</td>\n      <td>0.000000</td>\n      <td>0.00</td>\n      <td>0.000000</td>\n      <td>0.000000</td>\n      <td>0.00</td>\n      <td>0.000000</td>\n      <td>0.000000</td>\n      <td>0.000000</td>\n    </tr>\n    <tr>\n      <th>2</th>\n      <td>Business reply mail Processing Centre, South C...</td>\n      <td>0.000000</td>\n      <td>0.000000</td>\n      <td>0.000000</td>\n      <td>0.017544</td>\n      <td>0.000000</td>\n      <td>0.00</td>\n      <td>0.00</td>\n      <td>0.000000</td>\n      <td>0.00</td>\n      <td>...</td>\n      <td>0.00</td>\n      <td>0.000000</td>\n      <td>0.000000</td>\n      <td>0.00</td>\n      <td>0.000000</td>\n      <td>0.017544</td>\n      <td>0.00</td>\n      <td>0.000000</td>\n      <td>0.000000</td>\n      <td>0.000000</td>\n    </tr>\n    <tr>\n      <th>3</th>\n      <td>CN Tower, King and Spadina, Railway Lands, Har...</td>\n      <td>0.000000</td>\n      <td>0.000000</td>\n      <td>0.000000</td>\n      <td>0.000000</td>\n      <td>0.000000</td>\n      <td>0.02</td>\n      <td>0.00</td>\n      <td>0.010000</td>\n      <td>0.00</td>\n      <td>...</td>\n      <td>0.00</td>\n      <td>0.010000</td>\n      <td>0.000000</td>\n      <td>0.00</td>\n      <td>0.000000</td>\n      <td>0.000000</td>\n      <td>0.00</td>\n      <td>0.000000</td>\n      <td>0.000000</td>\n      <td>0.030000</td>\n    </tr>\n    <tr>\n      <th>4</th>\n      <td>Central Bay Street</td>\n      <td>0.000000</td>\n      <td>0.000000</td>\n      <td>0.000000</td>\n      <td>0.000000</td>\n      <td>0.000000</td>\n      <td>0.00</td>\n      <td>0.00</td>\n      <td>0.000000</td>\n      <td>0.00</td>\n      <td>...</td>\n      <td>0.00</td>\n      <td>0.000000</td>\n      <td>0.000000</td>\n      <td>0.00</td>\n      <td>0.071429</td>\n      <td>0.000000</td>\n      <td>0.00</td>\n      <td>0.000000</td>\n      <td>0.000000</td>\n      <td>0.000000</td>\n    </tr>\n    <tr>\n      <th>5</th>\n      <td>Christie</td>\n      <td>0.000000</td>\n      <td>0.000000</td>\n      <td>0.000000</td>\n      <td>0.000000</td>\n      <td>0.000000</td>\n      <td>0.00</td>\n      <td>0.00</td>\n      <td>0.000000</td>\n      <td>0.00</td>\n      <td>...</td>\n      <td>0.00</td>\n      <td>0.000000</td>\n      <td>0.000000</td>\n      <td>0.00</td>\n      <td>0.071429</td>\n      <td>0.000000</td>\n      <td>0.00</td>\n      <td>0.000000</td>\n      <td>0.000000</td>\n      <td>0.000000</td>\n    </tr>\n    <tr>\n      <th>6</th>\n      <td>Church and Wellesley</td>\n      <td>0.000000</td>\n      <td>0.000000</td>\n      <td>0.000000</td>\n      <td>0.017544</td>\n      <td>0.000000</td>\n      <td>0.00</td>\n      <td>0.00</td>\n      <td>0.000000</td>\n      <td>0.00</td>\n      <td>...</td>\n      <td>0.00</td>\n      <td>0.000000</td>\n      <td>0.000000</td>\n      <td>0.00</td>\n      <td>0.000000</td>\n      <td>0.017544</td>\n      <td>0.00</td>\n      <td>0.000000</td>\n      <td>0.000000</td>\n      <td>0.000000</td>\n    </tr>\n    <tr>\n      <th>7</th>\n      <td>Commerce Court, Victoria Hotel</td>\n      <td>0.000000</td>\n      <td>0.000000</td>\n      <td>0.000000</td>\n      <td>0.000000</td>\n      <td>0.000000</td>\n      <td>0.00</td>\n      <td>0.00</td>\n      <td>0.000000</td>\n      <td>0.00</td>\n      <td>...</td>\n      <td>0.00</td>\n      <td>0.000000</td>\n      <td>0.000000</td>\n      <td>0.00</td>\n      <td>0.000000</td>\n      <td>0.000000</td>\n      <td>0.00</td>\n      <td>0.000000</td>\n      <td>0.000000</td>\n      <td>0.000000</td>\n    </tr>\n    <tr>\n      <th>8</th>\n      <td>Davisville</td>\n      <td>0.000000</td>\n      <td>0.000000</td>\n      <td>0.000000</td>\n      <td>0.000000</td>\n      <td>0.000000</td>\n      <td>0.00</td>\n      <td>0.00</td>\n      <td>0.000000</td>\n      <td>0.00</td>\n      <td>...</td>\n      <td>0.00</td>\n      <td>0.000000</td>\n      <td>0.000000</td>\n      <td>0.00</td>\n      <td>0.000000</td>\n      <td>0.000000</td>\n      <td>0.00</td>\n      <td>0.000000</td>\n      <td>0.000000</td>\n      <td>0.000000</td>\n    </tr>\n    <tr>\n      <th>9</th>\n      <td>Davisville North</td>\n      <td>0.000000</td>\n      <td>0.000000</td>\n      <td>0.000000</td>\n      <td>0.000000</td>\n      <td>0.000000</td>\n      <td>0.00</td>\n      <td>0.00</td>\n      <td>0.000000</td>\n      <td>0.00</td>\n      <td>...</td>\n      <td>0.00</td>\n      <td>0.000000</td>\n      <td>0.000000</td>\n      <td>0.00</td>\n      <td>0.000000</td>\n      <td>0.000000</td>\n      <td>0.00</td>\n      <td>0.000000</td>\n      <td>0.000000</td>\n      <td>0.000000</td>\n    </tr>\n    <tr>\n      <th>10</th>\n      <td>Dufferin, Dovercourt Village</td>\n      <td>0.000000</td>\n      <td>0.000000</td>\n      <td>0.000000</td>\n      <td>0.020000</td>\n      <td>0.000000</td>\n      <td>0.00</td>\n      <td>0.00</td>\n      <td>0.010000</td>\n      <td>0.01</td>\n      <td>...</td>\n      <td>0.01</td>\n      <td>0.010000</td>\n      <td>0.000000</td>\n      <td>0.00</td>\n      <td>0.000000</td>\n      <td>0.000000</td>\n      <td>0.00</td>\n      <td>0.000000</td>\n      <td>0.000000</td>\n      <td>0.010000</td>\n    </tr>\n    <tr>\n      <th>11</th>\n      <td>First Canadian Place, Underground city</td>\n      <td>0.000000</td>\n      <td>0.000000</td>\n      <td>0.000000</td>\n      <td>0.017544</td>\n      <td>0.000000</td>\n      <td>0.00</td>\n      <td>0.00</td>\n      <td>0.000000</td>\n      <td>0.00</td>\n      <td>...</td>\n      <td>0.00</td>\n      <td>0.000000</td>\n      <td>0.000000</td>\n      <td>0.00</td>\n      <td>0.000000</td>\n      <td>0.017544</td>\n      <td>0.00</td>\n      <td>0.000000</td>\n      <td>0.000000</td>\n      <td>0.000000</td>\n    </tr>\n    <tr>\n      <th>12</th>\n      <td>Forest Hill North &amp; West, Forest Hill Road Park</td>\n      <td>0.000000</td>\n      <td>0.000000</td>\n      <td>0.000000</td>\n      <td>0.000000</td>\n      <td>0.000000</td>\n      <td>0.00</td>\n      <td>0.00</td>\n      <td>0.000000</td>\n      <td>0.00</td>\n      <td>...</td>\n      <td>0.00</td>\n      <td>0.000000</td>\n      <td>0.000000</td>\n      <td>0.00</td>\n      <td>0.000000</td>\n      <td>0.000000</td>\n      <td>0.00</td>\n      <td>0.000000</td>\n      <td>0.000000</td>\n      <td>0.000000</td>\n    </tr>\n    <tr>\n      <th>13</th>\n      <td>Garden District, Ryerson</td>\n      <td>0.000000</td>\n      <td>0.000000</td>\n      <td>0.000000</td>\n      <td>0.000000</td>\n      <td>0.000000</td>\n      <td>0.00</td>\n      <td>0.00</td>\n      <td>0.000000</td>\n      <td>0.00</td>\n      <td>...</td>\n      <td>0.00</td>\n      <td>0.000000</td>\n      <td>0.000000</td>\n      <td>0.00</td>\n      <td>0.000000</td>\n      <td>0.000000</td>\n      <td>0.00</td>\n      <td>0.000000</td>\n      <td>0.000000</td>\n      <td>0.000000</td>\n    </tr>\n    <tr>\n      <th>14</th>\n      <td>Harbourfront East, Union Station, Toronto Islands</td>\n      <td>0.000000</td>\n      <td>0.000000</td>\n      <td>0.000000</td>\n      <td>0.000000</td>\n      <td>0.000000</td>\n      <td>0.02</td>\n      <td>0.00</td>\n      <td>0.020000</td>\n      <td>0.00</td>\n      <td>...</td>\n      <td>0.00</td>\n      <td>0.010000</td>\n      <td>0.000000</td>\n      <td>0.00</td>\n      <td>0.000000</td>\n      <td>0.000000</td>\n      <td>0.00</td>\n      <td>0.000000</td>\n      <td>0.000000</td>\n      <td>0.010000</td>\n    </tr>\n    <tr>\n      <th>15</th>\n      <td>High Park, The Junction South</td>\n      <td>0.000000</td>\n      <td>0.000000</td>\n      <td>0.000000</td>\n      <td>0.000000</td>\n      <td>0.020619</td>\n      <td>0.00</td>\n      <td>0.00</td>\n      <td>0.010309</td>\n      <td>0.00</td>\n      <td>...</td>\n      <td>0.00</td>\n      <td>0.000000</td>\n      <td>0.000000</td>\n      <td>0.00</td>\n      <td>0.000000</td>\n      <td>0.010309</td>\n      <td>0.00</td>\n      <td>0.000000</td>\n      <td>0.000000</td>\n      <td>0.010309</td>\n    </tr>\n    <tr>\n      <th>16</th>\n      <td>India Bazaar, The Beaches West</td>\n      <td>0.000000</td>\n      <td>0.000000</td>\n      <td>0.000000</td>\n      <td>0.000000</td>\n      <td>0.000000</td>\n      <td>0.00</td>\n      <td>0.00</td>\n      <td>0.000000</td>\n      <td>0.00</td>\n      <td>...</td>\n      <td>0.00</td>\n      <td>0.000000</td>\n      <td>0.000000</td>\n      <td>0.00</td>\n      <td>0.000000</td>\n      <td>0.000000</td>\n      <td>0.00</td>\n      <td>0.000000</td>\n      <td>0.000000</td>\n      <td>0.000000</td>\n    </tr>\n    <tr>\n      <th>17</th>\n      <td>Kensington Market, Chinatown, Grange Park</td>\n      <td>0.000000</td>\n      <td>0.000000</td>\n      <td>0.000000</td>\n      <td>0.000000</td>\n      <td>0.000000</td>\n      <td>0.00</td>\n      <td>0.00</td>\n      <td>0.000000</td>\n      <td>0.00</td>\n      <td>...</td>\n      <td>0.00</td>\n      <td>0.014493</td>\n      <td>0.000000</td>\n      <td>0.00</td>\n      <td>0.000000</td>\n      <td>0.000000</td>\n      <td>0.00</td>\n      <td>0.000000</td>\n      <td>0.000000</td>\n      <td>0.000000</td>\n    </tr>\n    <tr>\n      <th>18</th>\n      <td>Lawrence Park</td>\n      <td>0.000000</td>\n      <td>0.000000</td>\n      <td>0.000000</td>\n      <td>0.000000</td>\n      <td>0.000000</td>\n      <td>0.00</td>\n      <td>0.00</td>\n      <td>0.000000</td>\n      <td>0.00</td>\n      <td>...</td>\n      <td>0.00</td>\n      <td>0.000000</td>\n      <td>0.000000</td>\n      <td>0.00</td>\n      <td>0.000000</td>\n      <td>0.022472</td>\n      <td>0.00</td>\n      <td>0.011236</td>\n      <td>0.000000</td>\n      <td>0.000000</td>\n    </tr>\n    <tr>\n      <th>19</th>\n      <td>Little Portugal, Trinity</td>\n      <td>0.045455</td>\n      <td>0.045455</td>\n      <td>0.045455</td>\n      <td>0.000000</td>\n      <td>0.000000</td>\n      <td>0.00</td>\n      <td>0.00</td>\n      <td>0.000000</td>\n      <td>0.00</td>\n      <td>...</td>\n      <td>0.00</td>\n      <td>0.000000</td>\n      <td>0.045455</td>\n      <td>0.00</td>\n      <td>0.000000</td>\n      <td>0.000000</td>\n      <td>0.00</td>\n      <td>0.000000</td>\n      <td>0.000000</td>\n      <td>0.000000</td>\n    </tr>\n    <tr>\n      <th>20</th>\n      <td>Moore Park, Summerhill East</td>\n      <td>0.000000</td>\n      <td>0.000000</td>\n      <td>0.000000</td>\n      <td>0.000000</td>\n      <td>0.000000</td>\n      <td>0.00</td>\n      <td>0.00</td>\n      <td>0.000000</td>\n      <td>0.00</td>\n      <td>...</td>\n      <td>0.00</td>\n      <td>0.014493</td>\n      <td>0.000000</td>\n      <td>0.00</td>\n      <td>0.000000</td>\n      <td>0.000000</td>\n      <td>0.00</td>\n      <td>0.000000</td>\n      <td>0.000000</td>\n      <td>0.000000</td>\n    </tr>\n    <tr>\n      <th>21</th>\n      <td>North Toronto West, Lawrence Park</td>\n      <td>0.000000</td>\n      <td>0.000000</td>\n      <td>0.000000</td>\n      <td>0.000000</td>\n      <td>0.000000</td>\n      <td>0.00</td>\n      <td>0.00</td>\n      <td>0.000000</td>\n      <td>0.00</td>\n      <td>...</td>\n      <td>0.00</td>\n      <td>0.000000</td>\n      <td>0.000000</td>\n      <td>0.00</td>\n      <td>0.000000</td>\n      <td>0.000000</td>\n      <td>0.00</td>\n      <td>0.000000</td>\n      <td>0.000000</td>\n      <td>0.000000</td>\n    </tr>\n    <tr>\n      <th>22</th>\n      <td>Parkdale, Roncesvalles</td>\n      <td>0.000000</td>\n      <td>0.000000</td>\n      <td>0.000000</td>\n      <td>0.000000</td>\n      <td>0.000000</td>\n      <td>0.00</td>\n      <td>0.00</td>\n      <td>0.000000</td>\n      <td>0.00</td>\n      <td>...</td>\n      <td>0.00</td>\n      <td>0.000000</td>\n      <td>0.000000</td>\n      <td>0.00</td>\n      <td>0.000000</td>\n      <td>0.000000</td>\n      <td>0.00</td>\n      <td>0.000000</td>\n      <td>0.000000</td>\n      <td>0.000000</td>\n    </tr>\n    <tr>\n      <th>23</th>\n      <td>Queen's Park, Ontario Provincial Government</td>\n      <td>0.000000</td>\n      <td>0.000000</td>\n      <td>0.000000</td>\n      <td>0.000000</td>\n      <td>0.000000</td>\n      <td>0.00</td>\n      <td>0.00</td>\n      <td>0.000000</td>\n      <td>0.00</td>\n      <td>...</td>\n      <td>0.00</td>\n      <td>0.000000</td>\n      <td>0.000000</td>\n      <td>0.00</td>\n      <td>0.000000</td>\n      <td>0.000000</td>\n      <td>0.00</td>\n      <td>0.000000</td>\n      <td>0.000000</td>\n      <td>0.000000</td>\n    </tr>\n    <tr>\n      <th>24</th>\n      <td>Regent Park, Harbourfront</td>\n      <td>0.000000</td>\n      <td>0.000000</td>\n      <td>0.000000</td>\n      <td>0.000000</td>\n      <td>0.000000</td>\n      <td>0.00</td>\n      <td>0.00</td>\n      <td>0.000000</td>\n      <td>0.00</td>\n      <td>...</td>\n      <td>0.00</td>\n      <td>0.000000</td>\n      <td>0.000000</td>\n      <td>0.00</td>\n      <td>0.000000</td>\n      <td>0.000000</td>\n      <td>0.00</td>\n      <td>0.000000</td>\n      <td>0.000000</td>\n      <td>0.000000</td>\n    </tr>\n    <tr>\n      <th>25</th>\n      <td>Richmond, Adelaide, King</td>\n      <td>0.000000</td>\n      <td>0.000000</td>\n      <td>0.000000</td>\n      <td>0.020000</td>\n      <td>0.000000</td>\n      <td>0.00</td>\n      <td>0.00</td>\n      <td>0.010000</td>\n      <td>0.01</td>\n      <td>...</td>\n      <td>0.01</td>\n      <td>0.010000</td>\n      <td>0.000000</td>\n      <td>0.00</td>\n      <td>0.000000</td>\n      <td>0.000000</td>\n      <td>0.00</td>\n      <td>0.000000</td>\n      <td>0.000000</td>\n      <td>0.010000</td>\n    </tr>\n    <tr>\n      <th>26</th>\n      <td>Rosedale</td>\n      <td>0.000000</td>\n      <td>0.000000</td>\n      <td>0.000000</td>\n      <td>0.000000</td>\n      <td>0.000000</td>\n      <td>0.00</td>\n      <td>0.00</td>\n      <td>0.000000</td>\n      <td>0.00</td>\n      <td>...</td>\n      <td>0.00</td>\n      <td>0.000000</td>\n      <td>0.000000</td>\n      <td>0.00</td>\n      <td>0.000000</td>\n      <td>0.022222</td>\n      <td>0.00</td>\n      <td>0.000000</td>\n      <td>0.022222</td>\n      <td>0.000000</td>\n    </tr>\n    <tr>\n      <th>27</th>\n      <td>Roselawn</td>\n      <td>0.000000</td>\n      <td>0.000000</td>\n      <td>0.000000</td>\n      <td>0.000000</td>\n      <td>0.000000</td>\n      <td>0.00</td>\n      <td>0.00</td>\n      <td>0.000000</td>\n      <td>0.00</td>\n      <td>...</td>\n      <td>0.00</td>\n      <td>0.000000</td>\n      <td>0.000000</td>\n      <td>0.00</td>\n      <td>0.000000</td>\n      <td>0.022472</td>\n      <td>0.00</td>\n      <td>0.011236</td>\n      <td>0.000000</td>\n      <td>0.000000</td>\n    </tr>\n    <tr>\n      <th>28</th>\n      <td>Runnymede, Swansea</td>\n      <td>0.000000</td>\n      <td>0.000000</td>\n      <td>0.000000</td>\n      <td>0.000000</td>\n      <td>0.000000</td>\n      <td>0.00</td>\n      <td>0.00</td>\n      <td>0.000000</td>\n      <td>0.00</td>\n      <td>...</td>\n      <td>0.00</td>\n      <td>0.014493</td>\n      <td>0.000000</td>\n      <td>0.00</td>\n      <td>0.000000</td>\n      <td>0.000000</td>\n      <td>0.00</td>\n      <td>0.000000</td>\n      <td>0.000000</td>\n      <td>0.000000</td>\n    </tr>\n    <tr>\n      <th>29</th>\n      <td>St. James Town</td>\n      <td>0.000000</td>\n      <td>0.000000</td>\n      <td>0.000000</td>\n      <td>0.000000</td>\n      <td>0.000000</td>\n      <td>0.00</td>\n      <td>0.00</td>\n      <td>0.000000</td>\n      <td>0.00</td>\n      <td>...</td>\n      <td>0.00</td>\n      <td>0.000000</td>\n      <td>0.000000</td>\n      <td>0.00</td>\n      <td>0.000000</td>\n      <td>0.000000</td>\n      <td>0.00</td>\n      <td>0.000000</td>\n      <td>0.000000</td>\n      <td>0.000000</td>\n    </tr>\n    <tr>\n      <th>30</th>\n      <td>St. James Town, Cabbagetown</td>\n      <td>0.000000</td>\n      <td>0.000000</td>\n      <td>0.000000</td>\n      <td>0.017544</td>\n      <td>0.000000</td>\n      <td>0.00</td>\n      <td>0.00</td>\n      <td>0.000000</td>\n      <td>0.00</td>\n      <td>...</td>\n      <td>0.00</td>\n      <td>0.000000</td>\n      <td>0.000000</td>\n      <td>0.00</td>\n      <td>0.000000</td>\n      <td>0.017544</td>\n      <td>0.00</td>\n      <td>0.000000</td>\n      <td>0.000000</td>\n      <td>0.000000</td>\n    </tr>\n    <tr>\n      <th>31</th>\n      <td>Stn A PO Boxes</td>\n      <td>0.000000</td>\n      <td>0.000000</td>\n      <td>0.000000</td>\n      <td>0.000000</td>\n      <td>0.000000</td>\n      <td>0.00</td>\n      <td>0.00</td>\n      <td>0.000000</td>\n      <td>0.00</td>\n      <td>...</td>\n      <td>0.00</td>\n      <td>0.000000</td>\n      <td>0.000000</td>\n      <td>0.00</td>\n      <td>0.000000</td>\n      <td>0.022222</td>\n      <td>0.00</td>\n      <td>0.000000</td>\n      <td>0.022222</td>\n      <td>0.000000</td>\n    </tr>\n    <tr>\n      <th>32</th>\n      <td>Studio District</td>\n      <td>0.000000</td>\n      <td>0.000000</td>\n      <td>0.000000</td>\n      <td>0.000000</td>\n      <td>0.000000</td>\n      <td>0.00</td>\n      <td>0.02</td>\n      <td>0.000000</td>\n      <td>0.00</td>\n      <td>...</td>\n      <td>0.00</td>\n      <td>0.000000</td>\n      <td>0.000000</td>\n      <td>0.01</td>\n      <td>0.000000</td>\n      <td>0.000000</td>\n      <td>0.01</td>\n      <td>0.000000</td>\n      <td>0.000000</td>\n      <td>0.000000</td>\n    </tr>\n    <tr>\n      <th>33</th>\n      <td>Summerhill West, Rathnelly, South Hill, Forest...</td>\n      <td>0.000000</td>\n      <td>0.000000</td>\n      <td>0.000000</td>\n      <td>0.000000</td>\n      <td>0.000000</td>\n      <td>0.00</td>\n      <td>0.00</td>\n      <td>0.000000</td>\n      <td>0.00</td>\n      <td>...</td>\n      <td>0.00</td>\n      <td>0.014493</td>\n      <td>0.000000</td>\n      <td>0.00</td>\n      <td>0.000000</td>\n      <td>0.000000</td>\n      <td>0.00</td>\n      <td>0.000000</td>\n      <td>0.000000</td>\n      <td>0.000000</td>\n    </tr>\n    <tr>\n      <th>34</th>\n      <td>The Annex, North Midtown, Yorkville</td>\n      <td>0.000000</td>\n      <td>0.000000</td>\n      <td>0.000000</td>\n      <td>0.000000</td>\n      <td>0.000000</td>\n      <td>0.00</td>\n      <td>0.00</td>\n      <td>0.000000</td>\n      <td>0.00</td>\n      <td>...</td>\n      <td>0.00</td>\n      <td>0.000000</td>\n      <td>0.000000</td>\n      <td>0.00</td>\n      <td>0.000000</td>\n      <td>0.000000</td>\n      <td>0.00</td>\n      <td>0.000000</td>\n      <td>0.000000</td>\n      <td>0.000000</td>\n    </tr>\n    <tr>\n      <th>35</th>\n      <td>The Beaches</td>\n      <td>0.000000</td>\n      <td>0.000000</td>\n      <td>0.000000</td>\n      <td>0.000000</td>\n      <td>0.000000</td>\n      <td>0.00</td>\n      <td>0.00</td>\n      <td>0.000000</td>\n      <td>0.00</td>\n      <td>...</td>\n      <td>0.00</td>\n      <td>0.000000</td>\n      <td>0.000000</td>\n      <td>0.00</td>\n      <td>0.000000</td>\n      <td>0.000000</td>\n      <td>0.00</td>\n      <td>0.000000</td>\n      <td>0.000000</td>\n      <td>0.000000</td>\n    </tr>\n    <tr>\n      <th>36</th>\n      <td>The Danforth West, Riverdale</td>\n      <td>0.000000</td>\n      <td>0.000000</td>\n      <td>0.000000</td>\n      <td>0.000000</td>\n      <td>0.000000</td>\n      <td>0.00</td>\n      <td>0.00</td>\n      <td>0.000000</td>\n      <td>0.00</td>\n      <td>...</td>\n      <td>0.00</td>\n      <td>0.000000</td>\n      <td>0.000000</td>\n      <td>0.00</td>\n      <td>0.000000</td>\n      <td>0.000000</td>\n      <td>0.00</td>\n      <td>0.000000</td>\n      <td>0.000000</td>\n      <td>0.000000</td>\n    </tr>\n    <tr>\n      <th>37</th>\n      <td>Toronto Dominion Centre, Design Exchange</td>\n      <td>0.000000</td>\n      <td>0.000000</td>\n      <td>0.000000</td>\n      <td>0.000000</td>\n      <td>0.000000</td>\n      <td>0.00</td>\n      <td>0.00</td>\n      <td>0.000000</td>\n      <td>0.00</td>\n      <td>...</td>\n      <td>0.00</td>\n      <td>0.000000</td>\n      <td>0.000000</td>\n      <td>0.00</td>\n      <td>0.000000</td>\n      <td>0.000000</td>\n      <td>0.00</td>\n      <td>0.000000</td>\n      <td>0.000000</td>\n      <td>0.000000</td>\n    </tr>\n    <tr>\n      <th>38</th>\n      <td>University of Toronto, Harbord</td>\n      <td>0.000000</td>\n      <td>0.000000</td>\n      <td>0.000000</td>\n      <td>0.000000</td>\n      <td>0.000000</td>\n      <td>0.00</td>\n      <td>0.00</td>\n      <td>0.000000</td>\n      <td>0.00</td>\n      <td>...</td>\n      <td>0.00</td>\n      <td>0.041667</td>\n      <td>0.000000</td>\n      <td>0.00</td>\n      <td>0.000000</td>\n      <td>0.000000</td>\n      <td>0.00</td>\n      <td>0.000000</td>\n      <td>0.000000</td>\n      <td>0.000000</td>\n    </tr>\n  </tbody>\n</table>\n<p>39 rows × 231 columns</p>\n</div>"
     },
     "metadata": {},
     "execution_count": 28
    }
   ],
   "source": [
    "toronto_grouped = encode_df.groupby('Neighborhood').mean().reset_index()\n",
    "toronto_grouped"
   ]
  },
  {
   "source": [
    "---------\n",
    "---------\n",
    "## *Import venueCat_grouped.pkl file - venueCat_grouped dataframe*\n",
    "## *Automate and define Function for commonly visited venues in file - popularVenues.py*\n",
    "---------\n",
    "---------"
   ],
   "cell_type": "markdown",
   "metadata": {}
  },
  {
   "source": [
    "### Extract Top 10 venues from each Neighborhood (_using code from Neighborhoods-New-York Lab_)"
   ],
   "cell_type": "markdown",
   "metadata": {}
  },
  {
   "cell_type": "code",
   "execution_count": 29,
   "metadata": {},
   "outputs": [],
   "source": [
    "def return_most_common_venues(row, num_top_venues):\n",
    "    row_categories = row.iloc[1:]\n",
    "    row_categories_sorted = row_categories.sort_values(ascending=False)\n",
    "    \n",
    "    return row_categories_sorted.index.values[0:num_top_venues]"
   ]
  },
  {
   "cell_type": "code",
   "execution_count": 31,
   "metadata": {},
   "outputs": [
    {
     "output_type": "execute_result",
     "data": {
      "text/plain": [
       "                                        Neighborhood 1st Most Common Venue  \\\n",
       "0                                        Berczy Park           Coffee Shop   \n",
       "1       Brockton, Parkdale Village, Exhibition Place                Bakery   \n",
       "2  Business reply mail Processing Centre, South C...               Gay Bar   \n",
       "3  CN Tower, King and Spadina, Railway Lands, Har...           Coffee Shop   \n",
       "4                                 Central Bay Street  Fast Food Restaurant   \n",
       "\n",
       "  2nd Most Common Venue 3rd Most Common Venue 4th Most Common Venue  \\\n",
       "0                  Café                 Hotel                  Park   \n",
       "1        Breakfast Spot     Indian Restaurant           Coffee Shop   \n",
       "2                  Park                 Diner           Coffee Shop   \n",
       "3    Italian Restaurant                 Hotel           Yoga Studio   \n",
       "4        Sandwich Place                 Hotel          Home Service   \n",
       "\n",
       "  5th Most Common Venue 6th Most Common Venue       7th Most Common Venue  \\\n",
       "0              Beer Bar            Restaurant         Japanese Restaurant   \n",
       "1    Athletics & Sports                  Café                        Park   \n",
       "2                   Pub                  Café             Thai Restaurant   \n",
       "3              Beer Bar                  Café                  Restaurant   \n",
       "4         Moving Target           Video Store  Construction & Landscaping   \n",
       "\n",
       "  8th Most Common Venue 9th Most Common Venue 10th Most Common Venue  \n",
       "0          Concert Hall           Art Gallery               Aquarium  \n",
       "1             Nightclub    Tibetan Restaurant     Italian Restaurant  \n",
       "2             Gastropub            Restaurant    Japanese Restaurant  \n",
       "3     French Restaurant              Aquarium            Pizza Place  \n",
       "4                   Bar          Liquor Store           Intersection  "
      ],
      "text/html": "<div>\n<style scoped>\n    .dataframe tbody tr th:only-of-type {\n        vertical-align: middle;\n    }\n\n    .dataframe tbody tr th {\n        vertical-align: top;\n    }\n\n    .dataframe thead th {\n        text-align: right;\n    }\n</style>\n<table border=\"1\" class=\"dataframe\">\n  <thead>\n    <tr style=\"text-align: right;\">\n      <th></th>\n      <th>Neighborhood</th>\n      <th>1st Most Common Venue</th>\n      <th>2nd Most Common Venue</th>\n      <th>3rd Most Common Venue</th>\n      <th>4th Most Common Venue</th>\n      <th>5th Most Common Venue</th>\n      <th>6th Most Common Venue</th>\n      <th>7th Most Common Venue</th>\n      <th>8th Most Common Venue</th>\n      <th>9th Most Common Venue</th>\n      <th>10th Most Common Venue</th>\n    </tr>\n  </thead>\n  <tbody>\n    <tr>\n      <th>0</th>\n      <td>Berczy Park</td>\n      <td>Coffee Shop</td>\n      <td>Café</td>\n      <td>Hotel</td>\n      <td>Park</td>\n      <td>Beer Bar</td>\n      <td>Restaurant</td>\n      <td>Japanese Restaurant</td>\n      <td>Concert Hall</td>\n      <td>Art Gallery</td>\n      <td>Aquarium</td>\n    </tr>\n    <tr>\n      <th>1</th>\n      <td>Brockton, Parkdale Village, Exhibition Place</td>\n      <td>Bakery</td>\n      <td>Breakfast Spot</td>\n      <td>Indian Restaurant</td>\n      <td>Coffee Shop</td>\n      <td>Athletics &amp; Sports</td>\n      <td>Café</td>\n      <td>Park</td>\n      <td>Nightclub</td>\n      <td>Tibetan Restaurant</td>\n      <td>Italian Restaurant</td>\n    </tr>\n    <tr>\n      <th>2</th>\n      <td>Business reply mail Processing Centre, South C...</td>\n      <td>Gay Bar</td>\n      <td>Park</td>\n      <td>Diner</td>\n      <td>Coffee Shop</td>\n      <td>Pub</td>\n      <td>Café</td>\n      <td>Thai Restaurant</td>\n      <td>Gastropub</td>\n      <td>Restaurant</td>\n      <td>Japanese Restaurant</td>\n    </tr>\n    <tr>\n      <th>3</th>\n      <td>CN Tower, King and Spadina, Railway Lands, Har...</td>\n      <td>Coffee Shop</td>\n      <td>Italian Restaurant</td>\n      <td>Hotel</td>\n      <td>Yoga Studio</td>\n      <td>Beer Bar</td>\n      <td>Café</td>\n      <td>Restaurant</td>\n      <td>French Restaurant</td>\n      <td>Aquarium</td>\n      <td>Pizza Place</td>\n    </tr>\n    <tr>\n      <th>4</th>\n      <td>Central Bay Street</td>\n      <td>Fast Food Restaurant</td>\n      <td>Sandwich Place</td>\n      <td>Hotel</td>\n      <td>Home Service</td>\n      <td>Moving Target</td>\n      <td>Video Store</td>\n      <td>Construction &amp; Landscaping</td>\n      <td>Bar</td>\n      <td>Liquor Store</td>\n      <td>Intersection</td>\n    </tr>\n  </tbody>\n</table>\n</div>"
     },
     "metadata": {},
     "execution_count": 31
    }
   ],
   "source": [
    "num_top_venues = 10\n",
    "\n",
    "indicators = ['st', 'nd', 'rd']\n",
    "\n",
    "# create columns according to number of top venues\n",
    "columns = ['Neighborhood']\n",
    "for ind in np.arange(num_top_venues):\n",
    "    try:\n",
    "        columns.append('{}{} Most Common Venue'.format(ind+1, indicators[ind]))\n",
    "    except:\n",
    "        columns.append('{}th Most Common Venue'.format(ind+1))\n",
    "\n",
    "# create a new dataframe\n",
    "neighborhoods_top_venues = pd.DataFrame(columns=columns)\n",
    "neighborhoods_top_venues['Neighborhood'] = toronto_grouped['Neighborhood']\n",
    "\n",
    "for ind in np.arange(toronto_grouped.shape[0]):\n",
    "    neighborhoods_top_venues.iloc[ind, 1:] = return_most_common_venues(toronto_grouped.iloc[ind, :], num_top_venues)\n",
    "\n",
    "neighborhoods_top_venues.head()"
   ]
  },
  {
   "source": [
    "----------\n",
    "----------\n",
    "## Import *popularVenues.py* & collect *topVenues dataframe*\n",
    "## Cluster & Map *topVenues*\n",
    "----------\n",
    "----------"
   ],
   "cell_type": "markdown",
   "metadata": {}
  },
  {
   "source": [
    "## PART-3.3 Clustering Neighborhoods by neighborhoods_top_venues dataframe "
   ],
   "cell_type": "markdown",
   "metadata": {}
  },
  {
   "source": [
    "### Import necessary libraries"
   ],
   "cell_type": "markdown",
   "metadata": {}
  },
  {
   "cell_type": "code",
   "execution_count": 62,
   "metadata": {},
   "outputs": [],
   "source": [
    "from sklearn.cluster import KMeans\n",
    "import matplotlib.cm as cm\n",
    "import matplotlib.colors as colors"
   ]
  },
  {
   "source": [
    "### Clustering _toronto_grouped_ dataframe"
   ],
   "cell_type": "markdown",
   "metadata": {}
  },
  {
   "cell_type": "code",
   "execution_count": 117,
   "metadata": {},
   "outputs": [
    {
     "output_type": "stream",
     "name": "stdout",
     "text": [
      "Cluster labels of toronto_grouped dataframe:\n[0 0 0 0 0 0 0 2 0 0 0 0 0 0 0 0 2 0 0 0 0 0 0 0 0 0 0 0 0 3 0 0 0 0 0 0 1\n 1 0]\n"
     ]
    }
   ],
   "source": [
    "k = 4\n",
    "\n",
    "#Drop 'Neighborhood' column for clustering\n",
    "toronto_cluster = toronto_grouped.drop('Neighborhood', axis=1)\n",
    "\n",
    "#KMeans clustering\n",
    "km_cluster = KMeans(n_clusters=k, random_state=90)\n",
    "km_cluster.fit(toronto_cluster)\n",
    "labels = km_cluster.labels_\n",
    "print(f\"Cluster labels of toronto_grouped dataframe:\\n{labels}\")\n"
   ]
  },
  {
   "source": [
    "### Mapping clusters of _toronto_venues_cluster_"
   ],
   "cell_type": "markdown",
   "metadata": {}
  },
  {
   "cell_type": "code",
   "execution_count": 119,
   "metadata": {},
   "outputs": [
    {
     "output_type": "execute_result",
     "data": {
      "text/plain": [
       "  Postal Code           Borough                                 Neighborhood  \\\n",
       "0         M5A  Downtown Toronto                    Regent Park, Harbourfront   \n",
       "1         M7A  Downtown Toronto  Queen's Park, Ontario Provincial Government   \n",
       "2         M5B  Downtown Toronto                     Garden District, Ryerson   \n",
       "3         M5C  Downtown Toronto                               St. James Town   \n",
       "4         M4E      East Toronto                                  The Beaches   \n",
       "\n",
       "    Latitude  Longitude  Cluster Label 1st Most Common Venue  \\\n",
       "0  45.440588  28.018025              0           Supermarket   \n",
       "1  44.428198  26.165951              0            Restaurant   \n",
       "2  45.440820  28.016137              0                   Bar   \n",
       "3  -6.173246  39.207869              3         Grocery Store   \n",
       "4  43.644110 -79.588907              0        Baseball Field   \n",
       "\n",
       "  2nd Most Common Venue 3rd Most Common Venue     4th Most Common Venue  \\\n",
       "0                 Plaza  Fast Food Restaurant  Mediterranean Restaurant   \n",
       "1           Supermarket           Bus Station                      Park   \n",
       "2         Bowling Alley           Bridal Shop                     Plaza   \n",
       "3              Heliport           Yoga Studio         Food & Drink Shop   \n",
       "4           Golf Course             Racetrack               Flower Shop   \n",
       "\n",
       "  5th Most Common Venue     6th Most Common Venue 7th Most Common Venue  \\\n",
       "0           Yoga Studio      Ethiopian Restaurant     Food & Drink Shop   \n",
       "1           Pizza Place                  Pharmacy  Gym / Fitness Center   \n",
       "2                  Food  Mediterranean Restaurant       Auto Dealership   \n",
       "3                  Food               Flower Shop           Flea Market   \n",
       "4    College Rec Center                    Garden           Gas Station   \n",
       "\n",
       "  8th Most Common Venue 9th Most Common Venue 10th Most Common Venue  \n",
       "0                  Food           Flower Shop            Flea Market  \n",
       "1         Metro Station     Electronics Store                 Lounge  \n",
       "2    Falafel Restaurant            Food Court      Food & Drink Shop  \n",
       "3     Fish & Chips Shop  Fast Food Restaurant         Farmers Market  \n",
       "4                  Park           Yoga Studio            Flea Market  "
      ],
      "text/html": "<div>\n<style scoped>\n    .dataframe tbody tr th:only-of-type {\n        vertical-align: middle;\n    }\n\n    .dataframe tbody tr th {\n        vertical-align: top;\n    }\n\n    .dataframe thead th {\n        text-align: right;\n    }\n</style>\n<table border=\"1\" class=\"dataframe\">\n  <thead>\n    <tr style=\"text-align: right;\">\n      <th></th>\n      <th>Postal Code</th>\n      <th>Borough</th>\n      <th>Neighborhood</th>\n      <th>Latitude</th>\n      <th>Longitude</th>\n      <th>Cluster Label</th>\n      <th>1st Most Common Venue</th>\n      <th>2nd Most Common Venue</th>\n      <th>3rd Most Common Venue</th>\n      <th>4th Most Common Venue</th>\n      <th>5th Most Common Venue</th>\n      <th>6th Most Common Venue</th>\n      <th>7th Most Common Venue</th>\n      <th>8th Most Common Venue</th>\n      <th>9th Most Common Venue</th>\n      <th>10th Most Common Venue</th>\n    </tr>\n  </thead>\n  <tbody>\n    <tr>\n      <th>0</th>\n      <td>M5A</td>\n      <td>Downtown Toronto</td>\n      <td>Regent Park, Harbourfront</td>\n      <td>45.440588</td>\n      <td>28.018025</td>\n      <td>0</td>\n      <td>Supermarket</td>\n      <td>Plaza</td>\n      <td>Fast Food Restaurant</td>\n      <td>Mediterranean Restaurant</td>\n      <td>Yoga Studio</td>\n      <td>Ethiopian Restaurant</td>\n      <td>Food &amp; Drink Shop</td>\n      <td>Food</td>\n      <td>Flower Shop</td>\n      <td>Flea Market</td>\n    </tr>\n    <tr>\n      <th>1</th>\n      <td>M7A</td>\n      <td>Downtown Toronto</td>\n      <td>Queen's Park, Ontario Provincial Government</td>\n      <td>44.428198</td>\n      <td>26.165951</td>\n      <td>0</td>\n      <td>Restaurant</td>\n      <td>Supermarket</td>\n      <td>Bus Station</td>\n      <td>Park</td>\n      <td>Pizza Place</td>\n      <td>Pharmacy</td>\n      <td>Gym / Fitness Center</td>\n      <td>Metro Station</td>\n      <td>Electronics Store</td>\n      <td>Lounge</td>\n    </tr>\n    <tr>\n      <th>2</th>\n      <td>M5B</td>\n      <td>Downtown Toronto</td>\n      <td>Garden District, Ryerson</td>\n      <td>45.440820</td>\n      <td>28.016137</td>\n      <td>0</td>\n      <td>Bar</td>\n      <td>Bowling Alley</td>\n      <td>Bridal Shop</td>\n      <td>Plaza</td>\n      <td>Food</td>\n      <td>Mediterranean Restaurant</td>\n      <td>Auto Dealership</td>\n      <td>Falafel Restaurant</td>\n      <td>Food Court</td>\n      <td>Food &amp; Drink Shop</td>\n    </tr>\n    <tr>\n      <th>3</th>\n      <td>M5C</td>\n      <td>Downtown Toronto</td>\n      <td>St. James Town</td>\n      <td>-6.173246</td>\n      <td>39.207869</td>\n      <td>3</td>\n      <td>Grocery Store</td>\n      <td>Heliport</td>\n      <td>Yoga Studio</td>\n      <td>Food &amp; Drink Shop</td>\n      <td>Food</td>\n      <td>Flower Shop</td>\n      <td>Flea Market</td>\n      <td>Fish &amp; Chips Shop</td>\n      <td>Fast Food Restaurant</td>\n      <td>Farmers Market</td>\n    </tr>\n    <tr>\n      <th>4</th>\n      <td>M4E</td>\n      <td>East Toronto</td>\n      <td>The Beaches</td>\n      <td>43.644110</td>\n      <td>-79.588907</td>\n      <td>0</td>\n      <td>Baseball Field</td>\n      <td>Golf Course</td>\n      <td>Racetrack</td>\n      <td>Flower Shop</td>\n      <td>College Rec Center</td>\n      <td>Garden</td>\n      <td>Gas Station</td>\n      <td>Park</td>\n      <td>Yoga Studio</td>\n      <td>Flea Market</td>\n    </tr>\n  </tbody>\n</table>\n</div>"
     },
     "metadata": {},
     "execution_count": 119
    }
   ],
   "source": [
    "#inserting Cluster labels\n",
    "neighborhoods_top_venues.insert(0, 'Cluster Label', labels)\n",
    "\n",
    "#joining cluster data with origin data\n",
    "toronto_venues_cluster = explore_df.join(neighborhoods_top_venues.set_index('Neighborhood'), on='Neighborhood')\n",
    "toronto_venues_cluster.head()"
   ]
  },
  {
   "cell_type": "code",
   "execution_count": 122,
   "metadata": {},
   "outputs": [
    {
     "output_type": "stream",
     "name": "stdout",
     "text": [
      "Neighborhoods per Cluster:\nCluster Label\n0    34\n1     2\n2     2\n3     1\nName: Neighborhood, dtype: int64\n"
     ]
    }
   ],
   "source": [
    "print(f\"Neighborhoods per Cluster:\\n{toronto_venues_cluster.groupby('Cluster Label')['Neighborhood'].count()}\")"
   ]
  },
  {
   "cell_type": "code",
   "execution_count": 121,
   "metadata": {},
   "outputs": [
    {
     "output_type": "execute_result",
     "data": {
      "text/plain": [
       "<folium.folium.Map at 0x276a9b87d60>"
      ],
      "text/html": "<div style=\"width:100%;\"><div style=\"position:relative;width:100%;height:0;padding-bottom:60%;\"><span style=\"color:#565656\">Make this Notebook Trusted to load map: File -> Trust Notebook</span><iframe src=\"about:blank\" style=\"position:absolute;width:100%;height:100%;left:0;top:0;border:none !important;\" data-html=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 onload=\"this.contentDocument.open();this.contentDocument.write(atob(this.getAttribute('data-html')));this.contentDocument.close();\" allowfullscreen webkitallowfullscreen mozallowfullscreen></iframe></div></div>"
     },
     "metadata": {},
     "execution_count": 121
    }
   ],
   "source": [
    "toronto_cluster_map = folium.Map(location= [latitude, longitude], zoom_start=10)\n",
    "\n",
    "# set color scheme for the clusters\n",
    "x = np.arange(k)\n",
    "ys = [i + x + (i*x)**2 for i in range(k)]\n",
    "colors_array = cm.rainbow(np.linspace(0, 1, len(ys)))\n",
    "rainbow = [colors.rgb2hex(i) for i in colors_array]\n",
    "\n",
    "#add Neighborhood markers on toronto_map\n",
    "for lat, long, hood, cluster in zip(toronto_venues_cluster['Latitude'], toronto_venues_cluster['Longitude'],toronto_venues_cluster['Neighborhood'], toronto_venues_cluster['Cluster Label'] ):\n",
    "    label = folium.Popup(f\"{str(hood)} + Cluster:{str(cluster)}\", parse_html=True)\n",
    "    folium.CircleMarker([lat, long],\n",
    "        radius=5,\n",
    "        popup=label,\n",
    "        color=rainbow[cluster],\n",
    "        fill=True,\n",
    "        fill_color=rainbow[cluster],\n",
    "        fill_opacity=0.9,\n",
    "        parse_html=False).add_to(toronto_cluster_map)\n",
    "\n",
    "toronto_cluster_map"
   ]
  },
  {
   "cell_type": "code",
   "execution_count": null,
   "metadata": {},
   "outputs": [],
   "source": []
  }
 ]
}