{
 "metadata": {
  "language_info": {
   "codemirror_mode": {
    "name": "ipython",
    "version": 3
   },
   "file_extension": ".py",
   "mimetype": "text/x-python",
   "name": "python",
   "nbconvert_exporter": "python",
   "pygments_lexer": "ipython3",
   "version": "3.8.5-final"
  },
  "orig_nbformat": 2,
  "kernelspec": {
   "name": "python3",
   "display_name": "Python 3",
   "language": "python"
  }
 },
 "nbformat": 4,
 "nbformat_minor": 2,
 "cells": [
  {
   "source": [
    "# **Capstone Project - Compatible Neighborhoods for Indian Restaurants**\n",
    "## **Prakirth Govardhanam**\n",
    "## **Applied Data Science Capstone by IBM/Coursera**"
   ],
   "cell_type": "markdown",
   "metadata": {}
  },
  {
   "source": [
    "## Introduction/Business-Problem\n",
    "In this project, I try to find possible-beneficial locations within the Neighborhoods of Helsinki, Finland for establishing a chain of Indian Restaurants. The conditions to fulfill in order are:\n",
    "\n",
    "* CONDITION 1 - Distance from Popularity Centre (Assumption) in the Neighborhood - for popularity\n",
    "* CONDITION 2 - Absence of other Indian restaurants in the Neighborhood - to limit competition\n"
   ],
   "cell_type": "markdown",
   "metadata": {}
  },
  {
   "source": [
    "## Data\n",
    "Data sources used to determine the Neighborhoods within the city of Helsinki are provided by:\n",
    "\n",
    "* Wikipedia_(https://en.wikipedia.org/wiki/Names_of_places_in_Finland_in_Finnish_and_in_Swedish#Municipalities)_ - for listing the Neighborhoods of Helsinki\n",
    "* The City of Helsinki(https://kartta.hel.fi/avoindata) - for geospatial Data\n",
    "* Foursquare API - for popular venues, restaurants and their respective geospatial data"
   ],
   "cell_type": "markdown",
   "metadata": {}
  },
  {
   "source": [
    "## Project Assumption\n",
    "**_Popularity Centre_** = the centroid of the top-10 venues (filtered by ratings) in each Neighborhood will be considered as the \"popularity centre\" within every Neighborhood"
   ],
   "cell_type": "markdown",
   "metadata": {}
  },
  {
   "source": [
    "# PART 1 - Data Preparation"
   ],
   "cell_type": "markdown",
   "metadata": {}
  },
  {
   "source": [
    "## Part 1.1 - Data Extraction"
   ],
   "cell_type": "markdown",
   "metadata": {}
  },
  {
   "source": [
    "### Import necessary libraries"
   ],
   "cell_type": "markdown",
   "metadata": {}
  },
  {
   "cell_type": "code",
   "execution_count": 2,
   "metadata": {},
   "outputs": [],
   "source": [
    "import numpy as np\n",
    "import pandas as pd\n",
    "import requests\n",
    "from bs4 import BeautifulSoup\n",
    "import re\n",
    "import geocoder\n",
    "from geopy.geocoders import Nominatim"
   ]
  },
  {
   "source": [
    "### Clarification:\n",
    "* Names of anything in Finland has its name in 2 languages, Finnish & Swedish\n",
    "* Hence, names of Neighbourhoods & Districts are also in same pattern: Postal-Code Finnish-name (Swedish-name)\n",
    "### Assumption #1\n",
    "* In the current extracted labels data, Finnish-names are Available for every place where as Swedish-names are not.\n",
    "* Hence, we will extract and work only with Finnish-names of the Neighbourhoods & Districts\n"
   ],
   "cell_type": "markdown",
   "metadata": {}
  },
  {
   "cell_type": "code",
   "execution_count": 28,
   "metadata": {},
   "outputs": [
    {
     "output_type": "stream",
     "name": "stdout",
     "text": [
      "Total Districts listed: 110\n"
     ]
    }
   ],
   "source": [
    "#url with Helsinki District names\n",
    "url = 'https://en.wikipedia.org/wiki/Names_of_places_in_Finland_in_Finnish_and_in_Swedish#Municipalities'\n",
    "\n",
    "#parsing the webpage for html content\n",
    "html = requests.get(url).text\n",
    "soup = BeautifulSoup(html, features='html.parser')\n",
    "\n",
    "#extract <a href> tags\n",
    "atags = soup.select('a[href]')\n",
    "\n",
    "#extract titles of <a href> tags\n",
    "titles = []\n",
    "for atag in atags:\n",
    "    titles.append(atag.get('title'))\n",
    "\n",
    "#slice the labels of Helsinki Districts\n",
    "districts = titles[titles.index('Ala-Malmi'): titles.index('Ylä-Malmi')+1]\n",
    "print(f\"Total Districts listed: {len(districts)}\")"
   ]
  },
  {
   "cell_type": "code",
   "execution_count": 29,
   "metadata": {},
   "outputs": [],
   "source": [
    "#extract coordinates from District/Neighborhood names using geopy.geocoders.Nominatim\n",
    "geolocator = Nominatim(user_agent='Helsinki_districts')\n",
    "\n",
    "#empty lists for latitude & longitude values and None values, if any\n",
    "lats = []\n",
    "longs = []\n",
    "\n",
    "#looping through district names for coordinates\n",
    "for name in districts:\n",
    "    location = geolocator.geocode(name)\n",
    "    try:\n",
    "        lats.append(location.latitude)\n",
    "        longs.append(location.longitude)\n",
    "    except AttributeError:\n",
    "        pass"
   ]
  },
  {
   "cell_type": "code",
   "execution_count": 30,
   "metadata": {},
   "outputs": [
    {
     "output_type": "stream",
     "name": "stdout",
     "text": [
      "Total values identified \n(Latitude, Longitude): (109, 109)\n"
     ]
    }
   ],
   "source": [
    "print(f\"Total values identified \\n(Latitude, Longitude): {len(lats), len(longs)}\")"
   ]
  },
  {
   "source": [
    "### Investigating NoneType & improper coordinates"
   ],
   "cell_type": "markdown",
   "metadata": {}
  },
  {
   "cell_type": "code",
   "execution_count": 31,
   "metadata": {},
   "outputs": [
    {
     "output_type": "stream",
     "name": "stdout",
     "text": [
      "None value detected!\n"
     ]
    },
    {
     "output_type": "error",
     "ename": "AttributeError",
     "evalue": "'NoneType' object has no attribute 'latitude'",
     "traceback": [
      "\u001b[1;31m---------------------------------------------------------------------------\u001b[0m",
      "\u001b[1;31mAttributeError\u001b[0m                            Traceback (most recent call last)",
      "\u001b[1;32m<ipython-input-31-d1516b9b06ca>\u001b[0m in \u001b[0;36m<module>\u001b[1;34m\u001b[0m\n\u001b[0;32m      4\u001b[0m     \u001b[0mlocation\u001b[0m \u001b[1;33m=\u001b[0m \u001b[0mgeolocator\u001b[0m\u001b[1;33m.\u001b[0m\u001b[0mgeocode\u001b[0m\u001b[1;33m(\u001b[0m\u001b[0mname\u001b[0m\u001b[1;33m)\u001b[0m\u001b[1;33m\u001b[0m\u001b[1;33m\u001b[0m\u001b[0m\n\u001b[0;32m      5\u001b[0m     \u001b[1;32mtry\u001b[0m\u001b[1;33m:\u001b[0m\u001b[1;33m\u001b[0m\u001b[1;33m\u001b[0m\u001b[0m\n\u001b[1;32m----> 6\u001b[1;33m         \u001b[0mtrial\u001b[0m\u001b[1;33m.\u001b[0m\u001b[0mappend\u001b[0m\u001b[1;33m(\u001b[0m\u001b[0mlocation\u001b[0m\u001b[1;33m.\u001b[0m\u001b[0mlatitude\u001b[0m\u001b[1;33m)\u001b[0m\u001b[1;33m\u001b[0m\u001b[1;33m\u001b[0m\u001b[0m\n\u001b[0m\u001b[0;32m      7\u001b[0m     \u001b[1;32mexcept\u001b[0m \u001b[0mAttributeError\u001b[0m \u001b[1;32mas\u001b[0m \u001b[0merr\u001b[0m\u001b[1;33m:\u001b[0m\u001b[1;33m\u001b[0m\u001b[1;33m\u001b[0m\u001b[0m\n\u001b[0;32m      8\u001b[0m         \u001b[0mprint\u001b[0m\u001b[1;33m(\u001b[0m\u001b[1;34m'None value detected!'\u001b[0m\u001b[1;33m)\u001b[0m\u001b[1;33m\u001b[0m\u001b[1;33m\u001b[0m\u001b[0m\n",
      "\u001b[1;31mAttributeError\u001b[0m: 'NoneType' object has no attribute 'latitude'"
     ]
    }
   ],
   "source": [
    "# Investigating None value in districts list, if Any\n",
    "trial = []\n",
    "for name in districts:\n",
    "    location = geolocator.geocode(name)\n",
    "    try:\n",
    "        trial.append(location.latitude)\n",
    "    except AttributeError as err:\n",
    "        print('None value detected!')\n",
    "        raise"
   ]
  },
  {
   "cell_type": "code",
   "execution_count": 32,
   "metadata": {},
   "outputs": [
    {
     "output_type": "stream",
     "name": "stdout",
     "text": [
      "District with NoneType coordinate:\nKampinmalmi\n"
     ]
    }
   ],
   "source": [
    "#Identify District with NoneType coordinate\n",
    "print(f\"District with NoneType coordinate:\\n{districts[len(trial)]}\")"
   ]
  },
  {
   "cell_type": "code",
   "execution_count": 33,
   "metadata": {},
   "outputs": [
    {
     "output_type": "error",
     "ename": "AttributeError",
     "evalue": "'NoneType' object has no attribute 'latitude'",
     "traceback": [
      "\u001b[1;31m---------------------------------------------------------------------------\u001b[0m",
      "\u001b[1;31mAttributeError\u001b[0m                            Traceback (most recent call last)",
      "\u001b[1;32m<ipython-input-33-9f459672db4c>\u001b[0m in \u001b[0;36m<module>\u001b[1;34m\u001b[0m\n\u001b[0;32m      1\u001b[0m \u001b[1;31m#Direct verification\u001b[0m\u001b[1;33m\u001b[0m\u001b[1;33m\u001b[0m\u001b[1;33m\u001b[0m\u001b[0m\n\u001b[1;32m----> 2\u001b[1;33m \u001b[0mgeolocator\u001b[0m\u001b[1;33m.\u001b[0m\u001b[0mgeocode\u001b[0m\u001b[1;33m(\u001b[0m\u001b[1;34m'Kampinmalmi'\u001b[0m\u001b[1;33m)\u001b[0m\u001b[1;33m.\u001b[0m\u001b[0mlatitude\u001b[0m\u001b[1;33m\u001b[0m\u001b[1;33m\u001b[0m\u001b[0m\n\u001b[0m",
      "\u001b[1;31mAttributeError\u001b[0m: 'NoneType' object has no attribute 'latitude'"
     ]
    }
   ],
   "source": [
    "#Direct verification \n",
    "geolocator.geocode('Kampinmalmi').latitude"
   ]
  },
  {
   "cell_type": "code",
   "execution_count": 34,
   "metadata": {},
   "outputs": [
    {
     "output_type": "stream",
     "name": "stdout",
     "text": [
      "District with improper coordinate:\n('Pasila', 'Töölö')\n"
     ]
    }
   ],
   "source": [
    "#Identify Districts with improper coordinates (range of latitude coordinates are within 60 - 63)\n",
    "print(f\"District with improper coordinate:\\n{districts[lats.index(-10.3333333)+1], districts[lats.index(13.744717)+1]}\")"
   ]
  },
  {
   "cell_type": "code",
   "execution_count": 35,
   "metadata": {},
   "outputs": [
    {
     "output_type": "stream",
     "name": "stdout",
     "text": [
      "Locations as identified by geopy.geocoders API:\n(Location(Brasil, (-10.3333333, -53.2, 0.0)), Location(Toolo, Loroum, Nord, Burkina Faso, (13.744717, -1.9645989, 0.0)))\n"
     ]
    }
   ],
   "source": [
    "# Direct verification of locations with improper coordinates' Districts\n",
    "print(f\"Locations as identified by geopy.geocoders API:\\n{geolocator.geocode('Pasila'), geolocator.geocode('Töölö')}\")"
   ]
  },
  {
   "cell_type": "code",
   "execution_count": 36,
   "metadata": {},
   "outputs": [
    {
     "output_type": "stream",
     "name": "stdout",
     "text": [
      "BEFORE Cleaning:\nTotal Districts:110\nTotal Latitude values:109\nTotal Longitude values:109\n\nAFTER Cleaning:\nTotal Districts:107\nTotal Latitude values:107\nTotal Longitude values:107\n"
     ]
    }
   ],
   "source": [
    "#Districts, Latitudes & Longitudes with NoneType & Improper coordinates - to be removed from Lists\n",
    "\n",
    "print(f\"BEFORE Cleaning:\\nTotal Districts:{len(districts)}\\nTotal Latitude values:{len(lats)}\\nTotal Longitude values:{len(longs)}\")\n",
    "\n",
    "loc_to_pop = ['Kampinmalmi','Pasila', 'Töölö']\n",
    "lat_to_pop = [-10.3333333, 13.744717]\n",
    "long_to_pop = [-53.2, -1.9645989]\n",
    "\n",
    "#Remove districts without coordinates and with improper coordinates\n",
    "for loc in loc_to_pop:\n",
    "    districts.remove(loc)\n",
    "\n",
    "#Remove improper coordinates    \n",
    "for lat, long in zip(lat_to_pop, long_to_pop):\n",
    "    lats.remove(lats[lats.index(lat)])\n",
    "    longs.remove(longs[longs.index(long)])\n",
    "    \n",
    "print(f\"\\nAFTER Cleaning:\\nTotal Districts:{len(districts)}\\nTotal Latitude values:{len(lats)}\\nTotal Longitude values:{len(longs)}\")"
   ]
  },
  {
   "cell_type": "code",
   "execution_count": 41,
   "metadata": {},
   "outputs": [
    {
     "output_type": "execute_result",
     "data": {
      "text/plain": [
       "       District   Latitude  Longitude\n",
       "0     Ala-Malmi  60.249474  25.014539\n",
       "1    Alppiharju  60.189728  24.944120\n",
       "2  Aurinkolahti  60.201507  25.155669\n",
       "3          Eira  60.156191  24.938375\n",
       "4   Etelä-Haaga  60.211615  24.891092"
      ],
      "text/html": "<div>\n<style scoped>\n    .dataframe tbody tr th:only-of-type {\n        vertical-align: middle;\n    }\n\n    .dataframe tbody tr th {\n        vertical-align: top;\n    }\n\n    .dataframe thead th {\n        text-align: right;\n    }\n</style>\n<table border=\"1\" class=\"dataframe\">\n  <thead>\n    <tr style=\"text-align: right;\">\n      <th></th>\n      <th>District</th>\n      <th>Latitude</th>\n      <th>Longitude</th>\n    </tr>\n  </thead>\n  <tbody>\n    <tr>\n      <th>0</th>\n      <td>Ala-Malmi</td>\n      <td>60.249474</td>\n      <td>25.014539</td>\n    </tr>\n    <tr>\n      <th>1</th>\n      <td>Alppiharju</td>\n      <td>60.189728</td>\n      <td>24.944120</td>\n    </tr>\n    <tr>\n      <th>2</th>\n      <td>Aurinkolahti</td>\n      <td>60.201507</td>\n      <td>25.155669</td>\n    </tr>\n    <tr>\n      <th>3</th>\n      <td>Eira</td>\n      <td>60.156191</td>\n      <td>24.938375</td>\n    </tr>\n    <tr>\n      <th>4</th>\n      <td>Etelä-Haaga</td>\n      <td>60.211615</td>\n      <td>24.891092</td>\n    </tr>\n  </tbody>\n</table>\n</div>"
     },
     "metadata": {},
     "execution_count": 41
    }
   ],
   "source": [
    "#Frame all extracted values in a Dataframe\n",
    "districts_df = pd.DataFrame(data= zip(districts, lats, longs), columns=['District', 'Latitude', 'Longitude'])\n",
    "districts_df.head()"
   ]
  },
  {
   "cell_type": "code",
   "execution_count": 43,
   "metadata": {},
   "outputs": [
    {
     "output_type": "stream",
     "name": "stdout",
     "text": [
      "<class 'pandas.core.frame.DataFrame'>\nRangeIndex: 107 entries, 0 to 106\nData columns (total 3 columns):\n #   Column     Non-Null Count  Dtype  \n---  ------     --------------  -----  \n 0   District   107 non-null    object \n 1   Latitude   107 non-null    float64\n 2   Longitude  107 non-null    float64\ndtypes: float64(2), object(1)\nmemory usage: 2.6+ KB\n"
     ]
    }
   ],
   "source": [
    "districts_df.info()"
   ]
  },
  {
   "cell_type": "code",
   "execution_count": null,
   "metadata": {},
   "outputs": [],
   "source": []
  }
 ]
}