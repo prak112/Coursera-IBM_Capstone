{
 "metadata": {
  "language_info": {
   "codemirror_mode": {
    "name": "ipython",
    "version": 3
   },
   "file_extension": ".py",
   "mimetype": "text/x-python",
   "name": "python",
   "nbconvert_exporter": "python",
   "pygments_lexer": "ipython3",
   "version": "3.8.5-final"
  },
  "orig_nbformat": 2,
  "kernelspec": {
   "name": "python3",
   "display_name": "Python 3",
   "language": "python"
  }
 },
 "nbformat": 4,
 "nbformat_minor": 2,
 "cells": [
  {
   "source": [
    "# Capstone Project - Compatible Neighborhoods for Indian Restaurants\n",
    "### Prakirth Govardhanam\n",
    "### Applied Data Science Capstone by IBM/Coursera"
   ],
   "cell_type": "markdown",
   "metadata": {}
  },
  {
   "source": [
    "## Introduction/Business-Problem"
   ],
   "cell_type": "markdown",
   "metadata": {}
  },
  {
   "source": [
    "In this project, I try to find possible-beneficial locations within the Neighborhoods of Helsinki, Finland for establishing a chain of **Indian Restaurants**. The conditions to fulfill in order are:\n",
    "* CONDITION 1 - Distance from **_Popularity Centre (Assumption)_** in the Neighborhood - for popularity\n",
    "* CONDITION 2 - Absence of other **Indian restaurants** in the Neighborhood - to limit competition "
   ],
   "cell_type": "markdown",
   "metadata": {}
  },
  {
   "source": [
    "## Data"
   ],
   "cell_type": "markdown",
   "metadata": {}
  },
  {
   "source": [
    "Data sources used to determine the Neighborhoods within the city of Helsinki are provided by:\n",
    "* **Wikipedia_(https://en.wikipedia.org/wiki/Subdivisions_of_Helsinki)_** - for listing the Neighborhoods of Helsinki\n",
    "* **The City of Helsinki_(https://kartta.hel.fi/avoindata)_** - for districts' labels and geospatial Data\n",
    "* **Foursquare API** - for popular venues, restaurants and their respective geospatial data\n"
   ],
   "cell_type": "markdown",
   "metadata": {}
  },
  {
   "source": [
    "### _Project Assumption_"
   ],
   "cell_type": "markdown",
   "metadata": {}
  },
  {
   "source": [
    "* **_Popularity Centre_** = the centroid of the top-10 venues (filtered by ratings) in each Neighborhood will be considered as the \"popularity centre\" within every Neighborhood"
   ],
   "cell_type": "markdown",
   "metadata": {}
  },
  {
   "source": [
    "# PART 1 - Data Preparation"
   ],
   "cell_type": "markdown",
   "metadata": {}
  },
  {
   "source": [
    "## Part 1.1 - Data Extraction"
   ],
   "cell_type": "markdown",
   "metadata": {}
  },
  {
   "source": [
    "### Import necessary libraries"
   ],
   "cell_type": "markdown",
   "metadata": {}
  },
  {
   "cell_type": "code",
<<<<<<< HEAD
   "execution_count": 1,
=======
   "execution_count": 6,
>>>>>>> 233825d333411af171d5cb4cba698343bd467995
   "metadata": {},
   "outputs": [],
   "source": [
    "import numpy as np\n",
    "import pandas as pd\n",
    "import requests\n",
    "from bs4 import BeautifulSoup\n",
    "import re\n",
    "import geocoder\n",
    "from geopy.geocoders import Nominatim"
   ]
  },
  {
   "source": [
    "### Clarification:\n",
    "* Names of anything in Finland has its name in 2 languages, **_Finnish & Swedish_**\n",
    "* Hence, names of Neighbourhoods & Districts are also in same pattern: **_Postal-Code Finnish-name (Swedish-name)_**"
   ],
   "cell_type": "markdown",
   "metadata": {}
  },
  {
   "source": [
    "### _Assumption_ #1\n",
    "* In the current extracted labels data, _Finnish-names_ are **Available for every place** where as _Swedish-names_ are **not**.\n",
    "* Hence, we will extract and work only with _Finnish-names_ of the Neighbourhoods & Districts"
   ],
   "cell_type": "markdown",
   "metadata": {}
  },
  {
<<<<<<< HEAD
   "cell_type": "code",
   "execution_count": 187,
=======
   "source": [
    "### _Straigh forward approach for Finnish District/Neighborhood names_"
   ],
   "cell_type": "markdown",
   "metadata": {}
  },
  {
   "cell_type": "code",
   "execution_count": 30,
   "metadata": {},
   "outputs": [],
   "source": [
    "url = 'https://en.wikipedia.org/wiki/Names_of_places_in_Finland_in_Finnish_and_in_Swedish#Municipalities'\n",
    "\n",
    "html = requests.get(url).text\n",
    "soup = BeautifulSoup(html, features='html.parser')\n",
    "\n",
    "# Select Helsinki Districts div/span-tag\n",
    "# Extract a-href tag titles --> only gives Finnish names"
   ]
  },
  {
   "source": [
    "### _Round About and Complex Approach_"
   ],
   "cell_type": "markdown",
   "metadata": {}
  },
  {
   "cell_type": "code",
   "execution_count": 7,
>>>>>>> 233825d333411af171d5cb4cba698343bd467995
   "metadata": {},
   "outputs": [
    {
     "output_type": "stream",
     "name": "stdout",
     "text": [
      "Total Districts listed: 110\n"
     ]
    }
   ],
   "source": [
    "#url with Helsinki District names\n",
    "url = 'https://en.wikipedia.org/wiki/Names_of_places_in_Finland_in_Finnish_and_in_Swedish#Municipalities'\n",
    "\n",
    "#parsing the webpage for html content\n",
    "html = requests.get(url).text\n",
    "soup = BeautifulSoup(html, features='html.parser')\n",
    "\n",
    "#extract <a href> tags\n",
    "atags = soup.select('a[href]')\n",
    "\n",
    "#extract titles of <a href> tags\n",
    "titles = []\n",
    "for atag in atags:\n",
    "    titles.append(atag.get('title'))\n",
    "\n",
    "#slice the labels of Helsinki Districts\n",
    "districts = titles[titles.index('Ala-Malmi'): titles.index('Ylä-Malmi')+1]\n",
    "print(f\"Total Districts listed: {len(districts)}\")"
   ]
  },
  {
   "cell_type": "code",
<<<<<<< HEAD
   "execution_count": 206,
   "metadata": {
    "tags": []
   },
=======
   "execution_count": 16,
   "metadata": {},
>>>>>>> 233825d333411af171d5cb4cba698343bd467995
   "outputs": [],
   "source": [
    "#extract coordinates from District/Neighborhood names using geopy.geocoders.Nominatim\n",
    "geolocator = Nominatim(user_agent='Helsinki_districts')\n",
    "\n",
    "#empty lists for latitude & longitude values and None values, if any\n",
    "lats = []\n",
    "longs = []\n",
    "\n",
    "#looping through district names for coordinates\n",
    "for name in districts:\n",
    "    location = geolocator.geocode(name)\n",
    "    try:\n",
    "        lats.append(location.latitude)\n",
    "        longs.append(location.longitude)\n",
    "    except AttributeError:\n",
    "        pass"
   ]
  },
  {
   "cell_type": "code",
<<<<<<< HEAD
   "execution_count": 207,
=======
   "execution_count": 9,
>>>>>>> 233825d333411af171d5cb4cba698343bd467995
   "metadata": {},
   "outputs": [
    {
     "output_type": "stream",
     "name": "stdout",
     "text": [
<<<<<<< HEAD
      "Total values identified \n(Latitude, Longitude): (109, 109)\n"
=======
      "List of Neighborhoods:\n['01', 'Kruununhaka', '(Kronohagen)', '02', 'Kluuvi', '(Gloet)', '03', 'Kaartinkaupunki', '(Gardestaden)']\nList of Districts:\n['1', 'Helsinki southern major district', '101', 'Vironniemi', '(', 'Estnäs', ')', '102', 'Ullanlinna', '(', 'Ulrikasborg', ')']\n"
>>>>>>> 233825d333411af171d5cb4cba698343bd467995
     ]
    }
   ],
   "source": [
<<<<<<< HEAD
    "print(f\"Total values identified \\n(Latitude, Longitude): {len(lats), len(longs)}\")"
   ]
  },
  {
   "source": [
    "### Investigating NoneType & improper coordinates"
   ],
   "cell_type": "markdown",
   "metadata": {}
  },
  {
   "cell_type": "code",
   "execution_count": 192,
   "metadata": {},
   "outputs": [
    {
     "output_type": "stream",
     "name": "stdout",
     "text": [
      "None value detected!\n"
     ]
    },
    {
     "output_type": "error",
     "ename": "AttributeError",
     "evalue": "'NoneType' object has no attribute 'latitude'",
     "traceback": [
      "\u001b[1;31m---------------------------------------------------------------------------\u001b[0m",
      "\u001b[1;31mAttributeError\u001b[0m                            Traceback (most recent call last)",
      "\u001b[1;32m<ipython-input-192-d1516b9b06ca>\u001b[0m in \u001b[0;36m<module>\u001b[1;34m\u001b[0m\n\u001b[0;32m      4\u001b[0m     \u001b[0mlocation\u001b[0m \u001b[1;33m=\u001b[0m \u001b[0mgeolocator\u001b[0m\u001b[1;33m.\u001b[0m\u001b[0mgeocode\u001b[0m\u001b[1;33m(\u001b[0m\u001b[0mname\u001b[0m\u001b[1;33m)\u001b[0m\u001b[1;33m\u001b[0m\u001b[1;33m\u001b[0m\u001b[0m\n\u001b[0;32m      5\u001b[0m     \u001b[1;32mtry\u001b[0m\u001b[1;33m:\u001b[0m\u001b[1;33m\u001b[0m\u001b[1;33m\u001b[0m\u001b[0m\n\u001b[1;32m----> 6\u001b[1;33m         \u001b[0mtrial\u001b[0m\u001b[1;33m.\u001b[0m\u001b[0mappend\u001b[0m\u001b[1;33m(\u001b[0m\u001b[0mlocation\u001b[0m\u001b[1;33m.\u001b[0m\u001b[0mlatitude\u001b[0m\u001b[1;33m)\u001b[0m\u001b[1;33m\u001b[0m\u001b[1;33m\u001b[0m\u001b[0m\n\u001b[0m\u001b[0;32m      7\u001b[0m     \u001b[1;32mexcept\u001b[0m \u001b[0mAttributeError\u001b[0m \u001b[1;32mas\u001b[0m \u001b[0merr\u001b[0m\u001b[1;33m:\u001b[0m\u001b[1;33m\u001b[0m\u001b[1;33m\u001b[0m\u001b[0m\n\u001b[0;32m      8\u001b[0m         \u001b[0mprint\u001b[0m\u001b[1;33m(\u001b[0m\u001b[1;34m'None value detected!'\u001b[0m\u001b[1;33m)\u001b[0m\u001b[1;33m\u001b[0m\u001b[1;33m\u001b[0m\u001b[0m\n",
      "\u001b[1;31mAttributeError\u001b[0m: 'NoneType' object has no attribute 'latitude'"
     ]
    }
   ],
   "source": [
    "# Investigating None value in districts list, if Any\n",
    "trial = []\n",
    "for name in districts:\n",
    "    location = geolocator.geocode(name)\n",
    "    try:\n",
    "        trial.append(location.latitude)\n",
    "    except AttributeError as err:\n",
    "        print('None value detected!')\n",
    "        raise"
   ]
  },
  {
   "cell_type": "code",
   "execution_count": 193,
   "metadata": {},
   "outputs": [
    {
     "output_type": "stream",
     "name": "stdout",
     "text": [
      "District with NoneType coordinate:\nKampinmalmi\n"
     ]
    }
   ],
   "source": [
    "#Identify District with NoneType coordinate\n",
    "print(f\"District with NoneType coordinate:\\n{districts[len(trial)]}\")"
   ]
  },
  {
   "cell_type": "code",
   "execution_count": 194,
   "metadata": {},
   "outputs": [
    {
     "output_type": "error",
     "ename": "AttributeError",
     "evalue": "'NoneType' object has no attribute 'latitude'",
     "traceback": [
      "\u001b[1;31m---------------------------------------------------------------------------\u001b[0m",
      "\u001b[1;31mAttributeError\u001b[0m                            Traceback (most recent call last)",
      "\u001b[1;32m<ipython-input-194-9f459672db4c>\u001b[0m in \u001b[0;36m<module>\u001b[1;34m\u001b[0m\n\u001b[0;32m      1\u001b[0m \u001b[1;31m#Direct verification\u001b[0m\u001b[1;33m\u001b[0m\u001b[1;33m\u001b[0m\u001b[1;33m\u001b[0m\u001b[0m\n\u001b[1;32m----> 2\u001b[1;33m \u001b[0mgeolocator\u001b[0m\u001b[1;33m.\u001b[0m\u001b[0mgeocode\u001b[0m\u001b[1;33m(\u001b[0m\u001b[1;34m'Kampinmalmi'\u001b[0m\u001b[1;33m)\u001b[0m\u001b[1;33m.\u001b[0m\u001b[0mlatitude\u001b[0m\u001b[1;33m\u001b[0m\u001b[1;33m\u001b[0m\u001b[0m\n\u001b[0m",
      "\u001b[1;31mAttributeError\u001b[0m: 'NoneType' object has no attribute 'latitude'"
     ]
    }
   ],
   "source": [
    "#Direct verification \n",
    "geolocator.geocode('Kampinmalmi').latitude"
=======
    "print(f\"List of Neighborhoods:\\n{hoods[0:9]}\\nList of Districts:\\n{dists[0:12]}\")"
   ]
  },
  {
   "cell_type": "code",
   "execution_count": 10,
   "metadata": {},
   "outputs": [
    {
     "output_type": "stream",
     "name": "stdout",
     "text": [
      "['01', 'Kruununhaka', '(Kronohagen)', '02', 'Kluuvi', '(Gloet)', '03', 'Kaartinkaupunki', '(Gardestaden)', '04']\n"
     ]
    }
   ],
   "source": [
    "print(hoods[0:10])"
>>>>>>> 233825d333411af171d5cb4cba698343bd467995
   ]
  },
  {
   "cell_type": "code",
<<<<<<< HEAD
   "execution_count": 195,
=======
   "execution_count": 11,
>>>>>>> 233825d333411af171d5cb4cba698343bd467995
   "metadata": {},
   "outputs": [
    {
     "output_type": "stream",
     "name": "stdout",
     "text": [
      "District with improper coordinate:\n('Pasila', 'Töölö')\n"
     ]
    }
   ],
   "source": [
<<<<<<< HEAD
    "#Identify Districts with improper coordinates (range of latitude coordinates are within 60 - 63)\n",
    "print(f\"District with improper coordinate:\\n{districts[lats.index(-10.3333333)+1], districts[lats.index(13.744717)+1]}\")"
=======
    "#extracting codes\n",
    "scraped_codes = []\n",
    "for num in hoods:\n",
    "    scraped_codes.append(re.findall(r\"(\\d+)\", num))\n",
    "codes = [code for scraped_code in scraped_codes for code in scraped_code if code != '']\n",
    "print(codes)\n",
    "# CODES - NOT NEEDED !!!!\n",
    "\n",
    "  \n",
    "#extracting Finnish-names\n",
    "\n",
    "#splitting each neighborhood into an array -> np.array_split(hoods, len(hoods)/3, axis=0)"
>>>>>>> 233825d333411af171d5cb4cba698343bd467995
   ]
  },
  {
   "cell_type": "code",
<<<<<<< HEAD
   "execution_count": 196,
=======
   "execution_count": 12,
>>>>>>> 233825d333411af171d5cb4cba698343bd467995
   "metadata": {},
   "outputs": [
    {
     "output_type": "stream",
     "name": "stdout",
     "text": [
<<<<<<< HEAD
      "Locations as identified by geopy.geocoders API:\n(Location(Brasil, (-10.3333333, -53.2, 0.0)), Location(Toolo, Loroum, Nord, Burkina Faso, (13.744717, -1.9645989, 0.0)))\n"
=======
      "[[], ['Kruununhaka'], ['Kronohagen'], [], ['Kluuvi'], ['Gloet'], [], ['Kaartinkaupunki'], ['Gardestaden'], []]\n['Kruununhaka', 'Kronohagen', 'Kluuvi', 'Gloet', 'Kaartinkaupunki', 'Gardestaden', 'Kamppi', 'Kampen', 'Punavuori', 'Rödbergen']\n"
>>>>>>> 233825d333411af171d5cb4cba698343bd467995
     ]
    }
   ],
   "source": [
<<<<<<< HEAD
    "# Direct verification of locations with improper coordinates' Districts\n",
    "print(f\"Locations as identified by geopy.geocoders API:\\n{geolocator.geocode('Pasila'), geolocator.geocode('Töölö')}\")"
=======
    "scraped_names = []\n",
    "for name in hoods:\n",
    "    scraped_names.append(re.findall(r\"[a-zA-ZÄäÖöÅå\\s-]+\", name))\n",
    "print(scraped_names[:10])\n",
    "names = [name for scraped_name in scraped_names for name in scraped_name if name != []]\n",
    "print(names[:10])"
>>>>>>> 233825d333411af171d5cb4cba698343bd467995
   ]
  },
  {
   "cell_type": "code",
<<<<<<< HEAD
   "execution_count": 212,
   "metadata": {},
=======
   "execution_count": 14,
   "metadata": {
    "tags": []
   },
>>>>>>> 233825d333411af171d5cb4cba698343bd467995
   "outputs": [
    {
     "output_type": "stream",
     "name": "stdout",
     "text": [
<<<<<<< HEAD
      "BEFORE Cleaning:\nTotal Districts:109\nTotal Latitude values:109\nTotal Longitude values:109\n"
=======
      "60.1728702\n",
      "60.1728702\n",
      "60.1707783\n",
      "60.1707783\n",
      "60.1652138\n"
>>>>>>> 233825d333411af171d5cb4cba698343bd467995
     ]
    },
    {
     "output_type": "error",
<<<<<<< HEAD
     "ename": "ValueError",
     "evalue": "list.remove(x): x not in list",
     "traceback": [
      "\u001b[1;31m---------------------------------------------------------------------------\u001b[0m",
      "\u001b[1;31mValueError\u001b[0m                                Traceback (most recent call last)",
      "\u001b[1;32m<ipython-input-212-390f27bf6ded>\u001b[0m in \u001b[0;36m<module>\u001b[1;34m\u001b[0m\n\u001b[0;32m      7\u001b[0m \u001b[1;33m\u001b[0m\u001b[0m\n\u001b[0;32m      8\u001b[0m \u001b[1;32mfor\u001b[0m \u001b[0mloc\u001b[0m\u001b[1;33m,\u001b[0m \u001b[0mlat\u001b[0m\u001b[1;33m,\u001b[0m \u001b[0mlong\u001b[0m \u001b[1;32min\u001b[0m \u001b[0mzip\u001b[0m\u001b[1;33m(\u001b[0m\u001b[0mloc_to_pop\u001b[0m\u001b[1;33m,\u001b[0m \u001b[0mlat_to_pop\u001b[0m\u001b[1;33m,\u001b[0m \u001b[0mlong_to_pop\u001b[0m\u001b[1;33m)\u001b[0m\u001b[1;33m:\u001b[0m\u001b[1;33m\u001b[0m\u001b[1;33m\u001b[0m\u001b[0m\n\u001b[1;32m----> 9\u001b[1;33m     \u001b[0mdistricts\u001b[0m\u001b[1;33m.\u001b[0m\u001b[0mremove\u001b[0m\u001b[1;33m(\u001b[0m\u001b[0mloc\u001b[0m\u001b[1;33m)\u001b[0m\u001b[1;33m\u001b[0m\u001b[1;33m\u001b[0m\u001b[0m\n\u001b[0m\u001b[0;32m     10\u001b[0m     \u001b[0mlats\u001b[0m\u001b[1;33m.\u001b[0m\u001b[0mremove\u001b[0m\u001b[1;33m(\u001b[0m\u001b[0mlats\u001b[0m\u001b[1;33m[\u001b[0m\u001b[0mlats\u001b[0m\u001b[1;33m.\u001b[0m\u001b[0mindex\u001b[0m\u001b[1;33m(\u001b[0m\u001b[0mlat\u001b[0m\u001b[1;33m)\u001b[0m\u001b[1;33m]\u001b[0m\u001b[1;33m)\u001b[0m\u001b[1;33m\u001b[0m\u001b[1;33m\u001b[0m\u001b[0m\n\u001b[0;32m     11\u001b[0m     \u001b[0mlongs\u001b[0m\u001b[1;33m.\u001b[0m\u001b[0mremove\u001b[0m\u001b[1;33m(\u001b[0m\u001b[0mlongs\u001b[0m\u001b[1;33m[\u001b[0m\u001b[0mlongs\u001b[0m\u001b[1;33m.\u001b[0m\u001b[0mindex\u001b[0m\u001b[1;33m(\u001b[0m\u001b[0mlong\u001b[0m\u001b[1;33m)\u001b[0m\u001b[1;33m]\u001b[0m\u001b[1;33m)\u001b[0m\u001b[1;33m\u001b[0m\u001b[1;33m\u001b[0m\u001b[0m\n",
      "\u001b[1;31mValueError\u001b[0m: list.remove(x): x not in list"
=======
     "ename": "AttributeError",
     "evalue": "'NoneType' object has no attribute 'latitude'",
     "traceback": [
      "\u001b[1;31m---------------------------------------------------------------------------\u001b[0m",
      "\u001b[1;31mAttributeError\u001b[0m                            Traceback (most recent call last)",
      "\u001b[1;32m<ipython-input-14-297a53a808f2>\u001b[0m in \u001b[0;36m<module>\u001b[1;34m\u001b[0m\n\u001b[0;32m      4\u001b[0m \u001b[0mgeolocator\u001b[0m \u001b[1;33m=\u001b[0m \u001b[0mNominatim\u001b[0m\u001b[1;33m(\u001b[0m\u001b[0muser_agent\u001b[0m\u001b[1;33m=\u001b[0m\u001b[1;34m'Helsinki_zipcodes'\u001b[0m\u001b[1;33m)\u001b[0m\u001b[1;33m\u001b[0m\u001b[1;33m\u001b[0m\u001b[0m\n\u001b[0;32m      5\u001b[0m \u001b[1;32mfor\u001b[0m \u001b[0mname\u001b[0m \u001b[1;32min\u001b[0m \u001b[0mnames\u001b[0m\u001b[1;33m[\u001b[0m\u001b[1;33m:\u001b[0m\u001b[1;36m10\u001b[0m\u001b[1;33m]\u001b[0m\u001b[1;33m:\u001b[0m\u001b[1;33m\u001b[0m\u001b[1;33m\u001b[0m\u001b[0m\n\u001b[1;32m----> 6\u001b[1;33m     \u001b[0mprint\u001b[0m\u001b[1;33m(\u001b[0m\u001b[0mgeolocator\u001b[0m\u001b[1;33m.\u001b[0m\u001b[0mgeocode\u001b[0m\u001b[1;33m(\u001b[0m\u001b[0mname\u001b[0m\u001b[1;33m)\u001b[0m\u001b[1;33m.\u001b[0m\u001b[0mlatitude\u001b[0m\u001b[1;33m)\u001b[0m\u001b[1;33m\u001b[0m\u001b[1;33m\u001b[0m\u001b[0m\n\u001b[0m",
      "\u001b[1;31mAttributeError\u001b[0m: 'NoneType' object has no attribute 'latitude'"
>>>>>>> 233825d333411af171d5cb4cba698343bd467995
     ]
    }
   ],
   "source": [
<<<<<<< HEAD
    "#Districts, Latitudes & Longitudes with NoneType & Improper coordinates - to be removed from Lists\n",
    "print(f\"BEFORE Cleaning:\\nTotal Districts:{len(districts)}\\nTotal Latitude values:{len(lats)}\\nTotal Longitude values:{len(longs)}\")\n",
    "\n",
    "loc_to_pop = ['Kampinmalmi','Pasila', 'Töölö']\n",
    "lat_to_pop = [-10.3333333, 13.744717]\n",
    "long_to_pop = [-53.2, -1.9645989]\n",
    "\n",
    "for loc, lat, long in zip(loc_to_pop, lat_to_pop, long_to_pop):\n",
    "    districts.remove(loc)\n",
    "    lats.remove(lats[lats.index(lat)])\n",
    "    longs.remove(longs[longs.index(long)])\n",
    "    \n",
    "print(f\"AFTER Cleaning:\\nTotal Districts:{len(districts)}\\nTotal Latitude values:{len(lat)}\\nTotal Longitude values:{len(long)}\")"
=======
    "#TEST Run to extract coordinates from District/Neighborhood names\n",
    "\n",
    "import geocoder\n",
    "from geopy.geocoders import Nominatim\n",
    "\n",
    "geolocator = Nominatim(user_agent='Helsinki_zipcodes')\n",
    "for name in names[:10]:\n",
    "    print(geolocator.geocode(name).latitude)"
>>>>>>> 233825d333411af171d5cb4cba698343bd467995
   ]
  },
  {
   "cell_type": "code",
   "execution_count": 213,
   "metadata": {},
<<<<<<< HEAD
   "outputs": [
    {
     "output_type": "execute_result",
     "data": {
      "text/plain": [
       "-53.2"
      ]
     },
     "metadata": {},
     "execution_count": 213
    }
   ],
   "source": [
    "longs[longs.index(long)]"
=======
   "outputs": [],
   "source": [
    "#https://gis.stackexchange.com/questions/342855/reading-geopackage-geometries-in-python\n",
    "import geopandas as gpd\n",
    "data = gpd.read_file(\"path.mygeopackage.gpkg\")\n",
    "data.head() \n",
    "\n",
    "#UNINSTALL VS CODE INSTALLER!!!!!"
>>>>>>> 233825d333411af171d5cb4cba698343bd467995
   ]
  }
 ]
}