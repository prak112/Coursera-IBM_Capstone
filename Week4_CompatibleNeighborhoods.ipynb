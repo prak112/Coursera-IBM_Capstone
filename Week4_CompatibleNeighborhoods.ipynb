{
 "metadata": {
  "language_info": {
   "codemirror_mode": {
    "name": "ipython",
    "version": 3
   },
   "file_extension": ".py",
   "mimetype": "text/x-python",
   "name": "python",
   "nbconvert_exporter": "python",
   "pygments_lexer": "ipython3",
   "version": 3
  },
  "orig_nbformat": 2
 },
 "nbformat": 4,
 "nbformat_minor": 2,
 "cells": [
  {
   "source": [
    "# Capstone Project - Compatible Neighborhoods for Indian Restaurants\n",
    "### Prakirth Govardhanam\n",
    "### Applied Data Science Capstone by IBM/Coursera"
   ],
   "cell_type": "markdown",
   "metadata": {}
  },
  {
   "source": [
    "## Introduction/Business-Problem"
   ],
   "cell_type": "markdown",
   "metadata": {}
  },
  {
   "source": [
    "In this project, I try to find possible-beneficial locations within the neighborhoods of Helsinki, Finland for establishing a chain of **Indian Restaurants**. The conditions to fulfill in order are:\n",
    "* CONDITION 1 - Distance from **_Popularity Centre (Assumption)_** in the Neighborhood - for popularity\n",
    "* CONDITION 2 - Absence of other **Indian restaurants** in the Neighborhood - to limit competition "
   ],
   "cell_type": "markdown",
   "metadata": {}
  },
  {
   "source": [
    "## Data"
   ],
   "cell_type": "markdown",
   "metadata": {}
  },
  {
   "source": [
    "Data sources used to determine the neighborhoods within the city of Helsinki are provided by:\n",
    "* **Wikipedia_(https://en.wikipedia.org/wiki/Subdivisions_of_Helsinki)_** - for an \"eternal resource of knowledge\"\n",
    "* **The City of Helsinki_(https://kartta.hel.fi/avoindata)_** - for districts' labels and geospatial Data\n",
    "* **Foursquare API** - for popular venues, restaurants and their respective geospatial data"
   ],
   "cell_type": "markdown",
   "metadata": {}
  },
  {
   "source": [
    "### _Assumption_"
   ],
   "cell_type": "markdown",
   "metadata": {}
  },
  {
   "source": [
    "* **_Popularity Centre_** = the centroid of the top-10 venues (filtered by ratings) in each Neighborhood will be considered as the \"popularity centre\" within every Neighborhood"
   ],
   "cell_type": "markdown",
   "metadata": {}
  }
 ]
}