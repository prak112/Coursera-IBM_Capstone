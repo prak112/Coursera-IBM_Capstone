{
 "metadata": {
  "language_info": {
   "codemirror_mode": {
    "name": "ipython",
    "version": 3
   },
   "file_extension": ".py",
   "mimetype": "text/x-python",
   "name": "python",
   "nbconvert_exporter": "python",
   "pygments_lexer": "ipython3",
   "version": "3.8.5-final"
  },
  "orig_nbformat": 2,
  "kernelspec": {
   "name": "python3",
   "display_name": "Python 3",
   "language": "python"
  }
 },
 "nbformat": 4,
 "nbformat_minor": 2,
 "cells": [
  {
   "source": [
    "# Capstone Project - Compatible Neighborhoods for Indian Restaurants\n",
    "### Prakirth Govardhanam\n",
    "### Applied Data Science Capstone by IBM/Coursera"
   ],
   "cell_type": "markdown",
   "metadata": {}
  },
  {
   "source": [
    "## Introduction/Business-Problem"
   ],
   "cell_type": "markdown",
   "metadata": {}
  },
  {
   "source": [
    "In this project, I try to find possible-beneficial locations within the neighborhoods of Helsinki, Finland for establishing a chain of **Indian Restaurants**. The conditions to fulfill in order are:\n",
    "* CONDITION 1 - Distance from **_Popularity Centre (Assumption)_** in the Neighborhood - for popularity\n",
    "* CONDITION 2 - Absence of other **Indian restaurants** in the Neighborhood - to limit competition "
   ],
   "cell_type": "markdown",
   "metadata": {}
  },
  {
   "source": [
    "## Data"
   ],
   "cell_type": "markdown",
   "metadata": {}
  },
  {
   "source": [
    "Data sources used to determine the neighborhoods within the city of Helsinki are provided by:\n",
    "* **Wikipedia_(https://en.wikipedia.org/wiki/Subdivisions_of_Helsinki)_** - for listing the Neighborhoods of Helsinki\n",
    "* **The City of Helsinki_(https://kartta.hel.fi/avoindata)_** - for districts' labels and geospatial Data\n",
    "* **Foursquare API** - for popular venues, restaurants and their respective geospatial data\n"
   ],
   "cell_type": "markdown",
   "metadata": {}
  },
  {
   "source": [
    "### _Project Assumption_"
   ],
   "cell_type": "markdown",
   "metadata": {}
  },
  {
   "source": [
    "* **_Popularity Centre_** = the centroid of the top-10 venues (filtered by ratings) in each Neighborhood will be considered as the \"popularity centre\" within every Neighborhood"
   ],
   "cell_type": "markdown",
   "metadata": {}
  },
  {
   "source": [
    "# PART 1 - Data Preparation"
   ],
   "cell_type": "markdown",
   "metadata": {}
  },
  {
   "source": [
    "## Part 1.1 - Data Extraction"
   ],
   "cell_type": "markdown",
   "metadata": {}
  },
  {
   "source": [
    "### Import necessary libraries"
   ],
   "cell_type": "markdown",
   "metadata": {}
  },
  {
   "cell_type": "code",
   "execution_count": 55,
   "metadata": {},
   "outputs": [],
   "source": [
    "import numpy as np\n",
    "import pandas as pd\n",
    "import requests\n",
    "from bs4 import BeautifulSoup\n",
    "import re"
   ]
  },
  {
   "cell_type": "code",
   "execution_count": 44,
   "metadata": {},
   "outputs": [],
   "source": [
    "# url for Labels of Helsinki neighborhoods from Wikipedia page\n",
    "url = 'https://en.wikipedia.org/wiki/Subdivisions_of_Helsinki'\n",
    "\n",
    "#scraping html data using requests and BeautifulSoup\n",
    "html = requests.get(url).text\n",
    "soup = BeautifulSoup(html, features='html.parser')\n",
    "\n",
    "#extracting labels without html-tags and separating with ','\n",
    "labels = [label.get_text(\",\", strip=True) for label in soup.find_all(class_ = 'div-col columns column-width')]"
   ]
  },
  {
   "cell_type": "code",
   "execution_count": 58,
   "metadata": {},
   "outputs": [],
   "source": [
    "#splitting neighborhood and district labels using stripping pattern:(,)\n",
    "hoods = re.split(r\",\", labels[0])\n",
    "dists = re.split(r\",\", labels[1])"
   ]
  },
  {
   "cell_type": "code",
   "execution_count": 250,
   "metadata": {},
   "outputs": [
    {
     "output_type": "stream",
     "name": "stdout",
     "text": [
      "List of Neighborhoods:\n['01', 'Kruununhaka', '(Kronohagen)', '02', 'Kluuvi', '(Gloet)']\nList of Districts:\n['1', 'Helsinki southern major district', '101', 'Vironniemi', '(', 'Estnäs', ')', '102', 'Ullanlinna', '(']\n"
     ]
    }
   ],
   "source": [
    "print(f\"List of Neighborhoods:\\n{hoods[0:6]}\\nList of Districts:\\n{dists[0:10]}\")"
   ]
  },
  {
   "source": [
    "### Clarification:\n",
    "* Names of anything in Finland has its name in 2 languages, **_Finnish & Swedish_**\n",
    "* Hence, names of Neighbourhoods & Districts are also in same pattern: **_Postal-Code Finnish-name (Swedish-name)_**"
   ],
   "cell_type": "markdown",
   "metadata": {}
  },
  {
   "source": [
    "### _Assumption_ #1\n",
    "* In the current extracted labels data, _Finnish-names_ are **Available for every place** where as _Swedish-names_ are **not**.\n",
    "* Hence, we will extract and work only with _Finnish-names_ of the Neighbourhoods & Districts"
   ],
   "cell_type": "markdown",
   "metadata": {}
  },
  {
   "cell_type": "code",
   "execution_count": 153,
   "metadata": {},
   "outputs": [
    {
     "output_type": "stream",
     "name": "stdout",
     "text": [
      "['01', '02', '03', '04', '05', '06', '07', '08', '09', '10', '102', '11', '111', '112', '113', '12', '121', '122', '13', '14', '15', '16', '161', '1', '17', '171', '172', '173', '174', '18', '19', '20', '201', '202', '203', '204', '21', '22', '23', '231', '232', '24', '25', '26', '27', '28', '281', '282', '283', '284', '285', '286', '287', '29', '291', '292', '293', '294', '30', '301', '302', '303', '304', '305', '306', '31', '32', '33', '331', '332', '333', '334', '335', '34', '341', '342', '35', '351', '352', '353', '354', '36', '361', '362', '363', '364', '37', '38', '381', '382', '383', '384', '385', '386', '39', '391', '392', '40', '401', '402', '403', '41', '411', '412', '413', '414', '42', '43', '431', '432', '433', '434', '44', '45', '451', '452', '453', '454', '455', '456', '457', '46', '461', '462', '463', '464', '465', '47', '471', '472', '473', '474', '475', '48', '49', '491', '492', '493', '494', '495', '50', '51', '52', '53', '531', '532', '533', '54', '541', '542', '543', '544', '545', '546', '547', '548', '549', '55', '56', '57', '58', '59', '591', '592']\n"
     ]
    }
   ],
   "source": [
    "#extracting codes\n",
    "scraped_codes = []\n",
    "for num in hoods:\n",
    "    scraped_codes.append(re.findall(r\"(\\d+)\", num))\n",
    "codes = [code for scraped_code in scraped_codes for code in scraped_code if code != '']\n",
    "print(codes)\n",
    "\n",
    "#extracting Finnish-names\n",
    "\n",
    "#splitting each neighborhood into an array -> np.array_split(hoods, len(hoods)/3, axis=0)"
   ]
  },
  {
   "cell_type": "code",
   "execution_count": 252,
   "metadata": {},
   "outputs": [
    {
     "output_type": "stream",
     "name": "stdout",
     "text": [
      "[[], ['Kruununhaka'], ['Kronohagen'], [], ['Kluuvi'], ['Gloet'], [], ['Kaartinkaupunki'], ['Gardestaden'], [], ['Kamppi'], ['Kampen'], [], ['Punavuori'], ['Rödbergen'], [], ['Eira'], [], ['Ullanlinna'], ['Ulrikasborg'], [], ['Katajanokka'], ['Skatudden'], [], ['Kaivopuisto'], ['Brunnsparken'], [], ['Sörnäinen'], ['Sörnäs'], [], ['Kalasatama'], ['Fiskehamnen'], [], ['Kallio'], ['Berghäll'], [], ['Siltasaari'], ['Broholmen'], [], ['Linjat'], ['Linjerna'], [], ['Torkkelinmäki'], ['Torkelsbacken'], [], ['Alppiharju'], ['Åshöjden'], [], ['Harju'], ['Ås'], [], ['Alppila'], ['Alphyddan'], [], ['Etu-Töölö'], ['Främre Tölö'], [], ['Taka-Töölö'], ['Bortre Tölö'], [], ['Meilahti'], ['Mejlans'], [], ['Ruskeasuo'], ['Brunakärr'], [], ['Pikku Huopalahti'], ['Lillhoplax'], [], [], ['Pasila'], ['Böle'], [], ['Länsi-Pasila'], ['Västra Böle'], [], ['Pohjois-Pasila'], ['Norra Böle'], [], ['Itä-Pasila'], ['Östra Böle'], [], ['Keski-Pasila'], ['Mellersta Böle'], [], ['Laakso'], ['Dal'], [], ['Mustikkamaa-Korkeasaari'], ['Blåbärslandet-Högholmen'], [], ['Länsisatama'], ['Västra hamnen'], [], ['Ruoholahti'], ['Gräsviken'], [], ['Lapinlahti'], ['Lappviken'], [], ['Jätkäsaari'], ['Busholmen'], [], ['Hernesaari'], ['Ärtholmen'], [], ['Hermanni'], ['Hermanstaden'], [], ['Vallila'], ['Vallgård'], [], ['Toukola'], ['Majstad'], [], ['Toukola'], ['Majstad'], [], ['Arabianranta'], ['Arabiastranden'], [], ['Kumpula'], ['Gumtäkt'], [], ['Käpylä'], ['Kottby'], [], ['Koskela'], ['Forsby'], [], ['Vanhakaupunki'], ['Gammelstaden'], [], ['Oulunkylä'], ['Åggelby'], [], ['Pirkkola'], ['Britas'], [], ['Maunula'], ['Månsas'], [], ['Metsälä'], ['Krämertskog'], [], ['Patola'], ['Dammen'], [], ['Veräjämäki'], ['Grindbacka'], [], ['Maunulanpuisto'], ['Månsasparken'], [], ['Veräjälaakso'], ['Grinddal'], [], ['Haaga'], ['Haga'], [], ['Etelä-Haaga'], ['Södra Haga'], [], ['Kivihaka'], ['Stenhagen'], [], ['Pohjois-Haaga'], ['Norra Haga'], [], ['Lassila'], ['Lassas'], [], ['Munkkiniemi'], ['Munksnäs'], [], ['Vanha Munkkiniemi'], ['Gamla Munksnäs'], [], ['Kuusisaari'], ['Granö'], [], ['Lehtisaari'], ['Lövö'], [], ['Munkkivuori'], ['Munkshöjden'], [], ['Niemenmäki'], ['Näshöjden'], [], ['Talinranta'], ['Talistranden'], [], ['Lauttasaari'], ['Drumsö'], [], ['Konala'], ['Kånala'], [], ['Kaarela'], ['Kårböle'], [], ['Kannelmäki'], ['Gamlas'], [], ['Maununneva'], ['Magnuskärr'], [], ['Malminkartano'], ['Malmgård'], [], ['Hakuninmaa'], ['Håkansåker'], [], ['Kuninkaantammi'], ['Kungseken'], [], ['Pakila'], ['Baggböle'], [], ['Länsi-Pakila'], ['Västra Baggböle'], [], ['Itä-Pakila'], ['Östra Baggböle'], [], ['Tuomarinkylä'], ['Domarby'], [], ['Paloheinä'], ['Svedängen'], [], ['Torpparinmäki'], ['Torparbacken'], [], ['Tuomarinkartano'], ['Domargård'], [], ['Haltiala'], ['Tomtbacka'], [], ['Viikki'], ['Vik'], [], ['Viikinranta'], ['Viksstranden'], [], ['Latokartano'], ['Ladugården'], [], ['Viikin tiedepuisto'], ['Viks forskarpark'], [], ['Viikinmäki'], ['Viksbacka'], [], ['Pukinmäki'], ['Bocksbacka'], [], ['Malmi'], ['Malm'], [], ['Ylä-Malmi'], ['Övre Malm'], [], ['Ala-Malmi'], ['Nedre Malm'], [], ['Pihlajamäki'], ['Rönnbacka'], [], ['Tattariharju'], ['Tattaråsen'], [], ['Malmin lentokenttä'], ['Malm flygfält'], [], ['Pihlajisto'], ['Rönninge'], [], ['Tapaninkylä'], ['Staffansby'], [], ['Tapaninvainio'], ['Staffansslätten'], [], ['Tapanila'], ['Mosabacka'], [], ['Suutarila'], ['Skomakarböle'], [], ['Siltamäki'], ['Brobacka'], [], ['Tapulikaupunki'], ['Stapelstaden'], [], ['Töyrynummi'], ['Lidamalmen'], [], ['Suurmetsä'], ['Storskog'], [], ['Puistola'], ['Parkstad'], [], ['Heikinlaakso'], ['Henriksdal'], [], ['Tattarisuo'], ['Tattarmossen'], [], ['Jakomäki'], ['Jakobacka'], [], ['Kulosaari'], ['Brändö'], [], ['Herttoniemi'], ['Hertonäs'], [], ['Länsi-Herttoniemi'], ['Västra Hertonäs'], [], ['Roihuvuori'], ['Kasberget'], [], ['Herttoniemen teollisuusalue'], ['Hertonäs industriområde'], [], ['Herttoniemenranta'], ['Hertonäs strand'], [], ['Tammisalo'], ['Tammelund'], [], ['Vartiokylä'], ['Botby'], [], ['Vartioharju'], ['Botbyåsen'], [], ['Puotila'], ['Botby gård'], [], ['Puotinharju'], ['Botbyhöjden'], [], ['Myllypuro'], ['Kvarnbäcken'], [], ['Marjaniemi'], ['Marudd'], [], ['Roihupellon teollisuusalue'], ['Kasåkers industriområde'], [], ['Itäkeskus'], ['Östra centrum'], [], ['Pitäjänmäki'], ['Sockenbacka'], [], ['Pajamäki'], ['Smedjebacka'], [], ['Tali'], [], ['Reimarla'], ['Reimars'], [], ['Marttila'], ['Martas'], [], ['Pitäjänmäen teollisuusalue'], ['Sockenbacka industriområde'], [], ['Mellunkylä'], ['Mellungsby'], [], ['Kontula'], ['Gårdsbacka'], [], ['Vesala'], ['Ärvings'], [], ['Mellunmäki'], ['Mellungsbacka'], [], ['Kivikko'], ['Stensböle'], [], ['Kurkimäki'], ['Tranbacka'], [], ['Vartiosaari'], ['Vårdö'], [], ['Laajasalo'], ['Degerö'], [], ['Yliskylä'], ['Uppby'], [], ['Jollas'], [], ['Tullisaari'], ['Turholm'], [], ['Tahvonlahti'], ['Stansvik'], [], ['Hevossalmi'], ['Hästnässund'], [], ['Villinki'], ['Villinge'], [], ['Santahamina'], ['Sandhamn'], [], ['Suomenlinna'], ['Sveaborg'], [], ['Ulkosaaret'], ['Utöarna'], [], ['Länsisaaret'], ['Västra holmarna'], [], ['Itäsaaret'], ['Östra holmarna'], [], ['Aluemeri'], ['Territorialhavet'], [], ['Vuosaari'], ['Nordsjö'], [], ['Keski-Vuosaari'], ['Mellersta Nordsjö'], [], ['Nordsjön kartano'], ['Nordsjö gård'], [], ['Uutela'], ['Nybondas'], [], ['Meri-Rastila'], ['Havsrastböle'], [], ['Kallahti'], ['Kallvik'], [], ['Aurinkolahti'], ['Solvik'], [], ['Rastila'], ['Rastböle'], [], ['Niinisaari'], ['Bastö'], [], ['Mustavuori'], ['Svarta backen'], [], ['Östersundom'], [], ['Salmenkallio'], ['Sundberg'], [], ['Talosaari'], ['Husö'], [], ['Karhusaari'], ['Björnsö'], [], ['Ultuna'], [], ['Landbo'], [], ['Puroniitty'], ['Bäckängen'], ['unnumbered'], ['Aluemeri']]\n"
     ]
    }
   ],
   "source": [
    "scraped_names = []\n",
    "for name in hoods:\n",
    "    scraped_names.append(re.findall(r\"[a-zA-ZÄäÖöÅå\\s-]+\", name))\n",
    "print(scraped_names)\n",
    "#names = [name for name in scraped_names if name != []]\n",
    "#print(names)"
   ]
  },
  {
   "cell_type": "code",
   "execution_count": 240,
   "metadata": {},
   "outputs": [
    {
     "output_type": "error",
     "ename": "ValueError",
     "evalue": "Shape of passed values is (486, 1), indices imply (486, 3)",
     "traceback": [
      "\u001b[1;31m---------------------------------------------------------------------------\u001b[0m",
      "\u001b[1;31mValueError\u001b[0m                                Traceback (most recent call last)",
      "\u001b[1;32m~\\anaconda3\\envs\\py3x-tf2x\\lib\\site-packages\\pandas\\core\\internals\\managers.py\u001b[0m in \u001b[0;36mcreate_block_manager_from_blocks\u001b[1;34m(blocks, axes)\u001b[0m\n\u001b[0;32m   1661\u001b[0m                 blocks = [\n\u001b[1;32m-> 1662\u001b[1;33m                     \u001b[0mmake_block\u001b[0m\u001b[1;33m(\u001b[0m\u001b[0mvalues\u001b[0m\u001b[1;33m=\u001b[0m\u001b[0mblocks\u001b[0m\u001b[1;33m[\u001b[0m\u001b[1;36m0\u001b[0m\u001b[1;33m]\u001b[0m\u001b[1;33m,\u001b[0m \u001b[0mplacement\u001b[0m\u001b[1;33m=\u001b[0m\u001b[0mslice\u001b[0m\u001b[1;33m(\u001b[0m\u001b[1;36m0\u001b[0m\u001b[1;33m,\u001b[0m \u001b[0mlen\u001b[0m\u001b[1;33m(\u001b[0m\u001b[0maxes\u001b[0m\u001b[1;33m[\u001b[0m\u001b[1;36m0\u001b[0m\u001b[1;33m]\u001b[0m\u001b[1;33m)\u001b[0m\u001b[1;33m)\u001b[0m\u001b[1;33m)\u001b[0m\u001b[1;33m\u001b[0m\u001b[1;33m\u001b[0m\u001b[0m\n\u001b[0m\u001b[0;32m   1663\u001b[0m                 ]\n",
      "\u001b[1;32m~\\anaconda3\\envs\\py3x-tf2x\\lib\\site-packages\\pandas\\core\\internals\\blocks.py\u001b[0m in \u001b[0;36mmake_block\u001b[1;34m(values, placement, klass, ndim, dtype)\u001b[0m\n\u001b[0;32m   2713\u001b[0m \u001b[1;33m\u001b[0m\u001b[0m\n\u001b[1;32m-> 2714\u001b[1;33m     \u001b[1;32mreturn\u001b[0m \u001b[0mklass\u001b[0m\u001b[1;33m(\u001b[0m\u001b[0mvalues\u001b[0m\u001b[1;33m,\u001b[0m \u001b[0mndim\u001b[0m\u001b[1;33m=\u001b[0m\u001b[0mndim\u001b[0m\u001b[1;33m,\u001b[0m \u001b[0mplacement\u001b[0m\u001b[1;33m=\u001b[0m\u001b[0mplacement\u001b[0m\u001b[1;33m)\u001b[0m\u001b[1;33m\u001b[0m\u001b[1;33m\u001b[0m\u001b[0m\n\u001b[0m\u001b[0;32m   2715\u001b[0m \u001b[1;33m\u001b[0m\u001b[0m\n",
      "\u001b[1;32m~\\anaconda3\\envs\\py3x-tf2x\\lib\\site-packages\\pandas\\core\\internals\\blocks.py\u001b[0m in \u001b[0;36m__init__\u001b[1;34m(self, values, placement, ndim)\u001b[0m\n\u001b[0;32m   2369\u001b[0m \u001b[1;33m\u001b[0m\u001b[0m\n\u001b[1;32m-> 2370\u001b[1;33m         \u001b[0msuper\u001b[0m\u001b[1;33m(\u001b[0m\u001b[1;33m)\u001b[0m\u001b[1;33m.\u001b[0m\u001b[0m__init__\u001b[0m\u001b[1;33m(\u001b[0m\u001b[0mvalues\u001b[0m\u001b[1;33m,\u001b[0m \u001b[0mndim\u001b[0m\u001b[1;33m=\u001b[0m\u001b[0mndim\u001b[0m\u001b[1;33m,\u001b[0m \u001b[0mplacement\u001b[0m\u001b[1;33m=\u001b[0m\u001b[0mplacement\u001b[0m\u001b[1;33m)\u001b[0m\u001b[1;33m\u001b[0m\u001b[1;33m\u001b[0m\u001b[0m\n\u001b[0m\u001b[0;32m   2371\u001b[0m \u001b[1;33m\u001b[0m\u001b[0m\n",
      "\u001b[1;32m~\\anaconda3\\envs\\py3x-tf2x\\lib\\site-packages\\pandas\\core\\internals\\blocks.py\u001b[0m in \u001b[0;36m__init__\u001b[1;34m(self, values, placement, ndim)\u001b[0m\n\u001b[0;32m    128\u001b[0m         \u001b[1;32mif\u001b[0m \u001b[0mself\u001b[0m\u001b[1;33m.\u001b[0m\u001b[0m_validate_ndim\u001b[0m \u001b[1;32mand\u001b[0m \u001b[0mself\u001b[0m\u001b[1;33m.\u001b[0m\u001b[0mndim\u001b[0m \u001b[1;32mand\u001b[0m \u001b[0mlen\u001b[0m\u001b[1;33m(\u001b[0m\u001b[0mself\u001b[0m\u001b[1;33m.\u001b[0m\u001b[0mmgr_locs\u001b[0m\u001b[1;33m)\u001b[0m \u001b[1;33m!=\u001b[0m \u001b[0mlen\u001b[0m\u001b[1;33m(\u001b[0m\u001b[0mself\u001b[0m\u001b[1;33m.\u001b[0m\u001b[0mvalues\u001b[0m\u001b[1;33m)\u001b[0m\u001b[1;33m:\u001b[0m\u001b[1;33m\u001b[0m\u001b[1;33m\u001b[0m\u001b[0m\n\u001b[1;32m--> 129\u001b[1;33m             raise ValueError(\n\u001b[0m\u001b[0;32m    130\u001b[0m                 \u001b[1;34mf\"Wrong number of items passed {len(self.values)}, \"\u001b[0m\u001b[1;33m\u001b[0m\u001b[1;33m\u001b[0m\u001b[0m\n",
      "\u001b[1;31mValueError\u001b[0m: Wrong number of items passed 1, placement implies 3",
      "\nDuring handling of the above exception, another exception occurred:\n",
      "\u001b[1;31mValueError\u001b[0m                                Traceback (most recent call last)",
      "\u001b[1;32m<ipython-input-240-8a1dc75468f4>\u001b[0m in \u001b[0;36m<module>\u001b[1;34m\u001b[0m\n\u001b[1;32m----> 1\u001b[1;33m \u001b[0mhoods_df\u001b[0m \u001b[1;33m=\u001b[0m \u001b[0mpd\u001b[0m\u001b[1;33m.\u001b[0m\u001b[0mDataFrame\u001b[0m\u001b[1;33m(\u001b[0m\u001b[0mhoods\u001b[0m\u001b[1;33m,\u001b[0m \u001b[0mcolumns\u001b[0m\u001b[1;33m=\u001b[0m\u001b[1;33m[\u001b[0m\u001b[1;34m'Postal Code'\u001b[0m\u001b[1;33m,\u001b[0m\u001b[1;34m'Finnish-name'\u001b[0m\u001b[1;33m,\u001b[0m\u001b[1;34m'Swedish-name'\u001b[0m\u001b[1;33m]\u001b[0m\u001b[1;33m)\u001b[0m\u001b[1;33m\u001b[0m\u001b[1;33m\u001b[0m\u001b[0m\n\u001b[0m\u001b[0;32m      2\u001b[0m \u001b[0mhoods_df\u001b[0m\u001b[1;33m.\u001b[0m\u001b[0mhead\u001b[0m\u001b[1;33m(\u001b[0m\u001b[1;33m)\u001b[0m\u001b[1;33m\u001b[0m\u001b[1;33m\u001b[0m\u001b[0m\n",
      "\u001b[1;32m~\\anaconda3\\envs\\py3x-tf2x\\lib\\site-packages\\pandas\\core\\frame.py\u001b[0m in \u001b[0;36m__init__\u001b[1;34m(self, data, index, columns, dtype, copy)\u001b[0m\n\u001b[0;32m    521\u001b[0m                     \u001b[0mmgr\u001b[0m \u001b[1;33m=\u001b[0m \u001b[0marrays_to_mgr\u001b[0m\u001b[1;33m(\u001b[0m\u001b[0marrays\u001b[0m\u001b[1;33m,\u001b[0m \u001b[0mcolumns\u001b[0m\u001b[1;33m,\u001b[0m \u001b[0mindex\u001b[0m\u001b[1;33m,\u001b[0m \u001b[0mcolumns\u001b[0m\u001b[1;33m,\u001b[0m \u001b[0mdtype\u001b[0m\u001b[1;33m=\u001b[0m\u001b[0mdtype\u001b[0m\u001b[1;33m)\u001b[0m\u001b[1;33m\u001b[0m\u001b[1;33m\u001b[0m\u001b[0m\n\u001b[0;32m    522\u001b[0m                 \u001b[1;32melse\u001b[0m\u001b[1;33m:\u001b[0m\u001b[1;33m\u001b[0m\u001b[1;33m\u001b[0m\u001b[0m\n\u001b[1;32m--> 523\u001b[1;33m                     \u001b[0mmgr\u001b[0m \u001b[1;33m=\u001b[0m \u001b[0minit_ndarray\u001b[0m\u001b[1;33m(\u001b[0m\u001b[0mdata\u001b[0m\u001b[1;33m,\u001b[0m \u001b[0mindex\u001b[0m\u001b[1;33m,\u001b[0m \u001b[0mcolumns\u001b[0m\u001b[1;33m,\u001b[0m \u001b[0mdtype\u001b[0m\u001b[1;33m=\u001b[0m\u001b[0mdtype\u001b[0m\u001b[1;33m,\u001b[0m \u001b[0mcopy\u001b[0m\u001b[1;33m=\u001b[0m\u001b[0mcopy\u001b[0m\u001b[1;33m)\u001b[0m\u001b[1;33m\u001b[0m\u001b[1;33m\u001b[0m\u001b[0m\n\u001b[0m\u001b[0;32m    524\u001b[0m             \u001b[1;32melse\u001b[0m\u001b[1;33m:\u001b[0m\u001b[1;33m\u001b[0m\u001b[1;33m\u001b[0m\u001b[0m\n\u001b[0;32m    525\u001b[0m                 \u001b[0mmgr\u001b[0m \u001b[1;33m=\u001b[0m \u001b[0minit_dict\u001b[0m\u001b[1;33m(\u001b[0m\u001b[1;33m{\u001b[0m\u001b[1;33m}\u001b[0m\u001b[1;33m,\u001b[0m \u001b[0mindex\u001b[0m\u001b[1;33m,\u001b[0m \u001b[0mcolumns\u001b[0m\u001b[1;33m,\u001b[0m \u001b[0mdtype\u001b[0m\u001b[1;33m=\u001b[0m\u001b[0mdtype\u001b[0m\u001b[1;33m)\u001b[0m\u001b[1;33m\u001b[0m\u001b[1;33m\u001b[0m\u001b[0m\n",
      "\u001b[1;32m~\\anaconda3\\envs\\py3x-tf2x\\lib\\site-packages\\pandas\\core\\internals\\construction.py\u001b[0m in \u001b[0;36minit_ndarray\u001b[1;34m(values, index, columns, dtype, copy)\u001b[0m\n\u001b[0;32m    232\u001b[0m         \u001b[0mblock_values\u001b[0m \u001b[1;33m=\u001b[0m \u001b[1;33m[\u001b[0m\u001b[0mvalues\u001b[0m\u001b[1;33m]\u001b[0m\u001b[1;33m\u001b[0m\u001b[1;33m\u001b[0m\u001b[0m\n\u001b[0;32m    233\u001b[0m \u001b[1;33m\u001b[0m\u001b[0m\n\u001b[1;32m--> 234\u001b[1;33m     \u001b[1;32mreturn\u001b[0m \u001b[0mcreate_block_manager_from_blocks\u001b[0m\u001b[1;33m(\u001b[0m\u001b[0mblock_values\u001b[0m\u001b[1;33m,\u001b[0m \u001b[1;33m[\u001b[0m\u001b[0mcolumns\u001b[0m\u001b[1;33m,\u001b[0m \u001b[0mindex\u001b[0m\u001b[1;33m]\u001b[0m\u001b[1;33m)\u001b[0m\u001b[1;33m\u001b[0m\u001b[1;33m\u001b[0m\u001b[0m\n\u001b[0m\u001b[0;32m    235\u001b[0m \u001b[1;33m\u001b[0m\u001b[0m\n\u001b[0;32m    236\u001b[0m \u001b[1;33m\u001b[0m\u001b[0m\n",
      "\u001b[1;32m~\\anaconda3\\envs\\py3x-tf2x\\lib\\site-packages\\pandas\\core\\internals\\managers.py\u001b[0m in \u001b[0;36mcreate_block_manager_from_blocks\u001b[1;34m(blocks, axes)\u001b[0m\n\u001b[0;32m   1670\u001b[0m         \u001b[0mblocks\u001b[0m \u001b[1;33m=\u001b[0m \u001b[1;33m[\u001b[0m\u001b[0mgetattr\u001b[0m\u001b[1;33m(\u001b[0m\u001b[0mb\u001b[0m\u001b[1;33m,\u001b[0m \u001b[1;34m\"values\"\u001b[0m\u001b[1;33m,\u001b[0m \u001b[0mb\u001b[0m\u001b[1;33m)\u001b[0m \u001b[1;32mfor\u001b[0m \u001b[0mb\u001b[0m \u001b[1;32min\u001b[0m \u001b[0mblocks\u001b[0m\u001b[1;33m]\u001b[0m\u001b[1;33m\u001b[0m\u001b[1;33m\u001b[0m\u001b[0m\n\u001b[0;32m   1671\u001b[0m         \u001b[0mtot_items\u001b[0m \u001b[1;33m=\u001b[0m \u001b[0msum\u001b[0m\u001b[1;33m(\u001b[0m\u001b[0mb\u001b[0m\u001b[1;33m.\u001b[0m\u001b[0mshape\u001b[0m\u001b[1;33m[\u001b[0m\u001b[1;36m0\u001b[0m\u001b[1;33m]\u001b[0m \u001b[1;32mfor\u001b[0m \u001b[0mb\u001b[0m \u001b[1;32min\u001b[0m \u001b[0mblocks\u001b[0m\u001b[1;33m)\u001b[0m\u001b[1;33m\u001b[0m\u001b[1;33m\u001b[0m\u001b[0m\n\u001b[1;32m-> 1672\u001b[1;33m         \u001b[1;32mraise\u001b[0m \u001b[0mconstruction_error\u001b[0m\u001b[1;33m(\u001b[0m\u001b[0mtot_items\u001b[0m\u001b[1;33m,\u001b[0m \u001b[0mblocks\u001b[0m\u001b[1;33m[\u001b[0m\u001b[1;36m0\u001b[0m\u001b[1;33m]\u001b[0m\u001b[1;33m.\u001b[0m\u001b[0mshape\u001b[0m\u001b[1;33m[\u001b[0m\u001b[1;36m1\u001b[0m\u001b[1;33m:\u001b[0m\u001b[1;33m]\u001b[0m\u001b[1;33m,\u001b[0m \u001b[0maxes\u001b[0m\u001b[1;33m,\u001b[0m \u001b[0me\u001b[0m\u001b[1;33m)\u001b[0m\u001b[1;33m\u001b[0m\u001b[1;33m\u001b[0m\u001b[0m\n\u001b[0m\u001b[0;32m   1673\u001b[0m \u001b[1;33m\u001b[0m\u001b[0m\n\u001b[0;32m   1674\u001b[0m \u001b[1;33m\u001b[0m\u001b[0m\n",
      "\u001b[1;31mValueError\u001b[0m: Shape of passed values is (486, 1), indices imply (486, 3)"
     ]
    }
   ],
   "source": [
    "hoods_df = pd.DataFrame(hoods, columns=['Postal Code','Finnish-name','Swedish-name'])\n",
    "hoods_df.head()"
   ]
  },
  {
   "cell_type": "code",
   "execution_count": null,
   "metadata": {},
   "outputs": [],
   "source": []
  }
 ]
}