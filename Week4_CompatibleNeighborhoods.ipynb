{
 "metadata": {
  "language_info": {
   "codemirror_mode": {
    "name": "ipython",
    "version": 3
   },
   "file_extension": ".py",
   "mimetype": "text/x-python",
   "name": "python",
   "nbconvert_exporter": "python",
   "pygments_lexer": "ipython3",
   "version": "3.8.5-final"
  },
  "orig_nbformat": 2,
  "kernelspec": {
   "name": "python3",
   "display_name": "Python 3",
   "language": "python"
  }
 },
 "nbformat": 4,
 "nbformat_minor": 2,
 "cells": [
  {
   "source": [
    "# Capstone Project - Compatible Neighborhoods for Indian Restaurants\n",
    "### Prakirth Govardhanam\n",
    "### Applied Data Science Capstone by IBM/Coursera"
   ],
   "cell_type": "markdown",
   "metadata": {}
  },
  {
   "source": [
    "## Introduction/Business-Problem"
   ],
   "cell_type": "markdown",
   "metadata": {}
  },
  {
   "source": [
    "In this project, I try to find possible-beneficial locations within the Neighborhoods of Helsinki, Finland for establishing a chain of **Indian Restaurants**. The conditions to fulfill in order are:\n",
    "* CONDITION 1 - Distance from **_Popularity Centre (Assumption)_** in the Neighborhood - for popularity\n",
    "* CONDITION 2 - Absence of other **Indian restaurants** in the Neighborhood - to limit competition "
   ],
   "cell_type": "markdown",
   "metadata": {}
  },
  {
   "source": [
    "## Data"
   ],
   "cell_type": "markdown",
   "metadata": {}
  },
  {
   "source": [
    "Data sources used to determine the Neighborhoods within the city of Helsinki are provided by:\n",
    "* **Wikipedia_(https://en.wikipedia.org/wiki/Subdivisions_of_Helsinki)_** - for listing the Neighborhoods of Helsinki\n",
    "* **The City of Helsinki_(https://kartta.hel.fi/avoindata)_** - for districts' labels and geospatial Data\n",
    "* **Foursquare API** - for popular venues, restaurants and their respective geospatial data\n"
   ],
   "cell_type": "markdown",
   "metadata": {}
  },
  {
   "source": [
    "### _Project Assumption_"
   ],
   "cell_type": "markdown",
   "metadata": {}
  },
  {
   "source": [
    "* **_Popularity Centre_** = the centroid of the top-10 venues (filtered by ratings) in each Neighborhood will be considered as the \"popularity centre\" within every Neighborhood"
   ],
   "cell_type": "markdown",
   "metadata": {}
  },
  {
   "source": [
    "# PART 1 - Data Preparation"
   ],
   "cell_type": "markdown",
   "metadata": {}
  },
  {
   "source": [
    "## Part 1.1 - Data Extraction"
   ],
   "cell_type": "markdown",
   "metadata": {}
  },
  {
   "source": [
    "### Import necessary libraries"
   ],
   "cell_type": "markdown",
   "metadata": {}
  },
  {
   "cell_type": "code",
   "execution_count": 6,
   "metadata": {},
   "outputs": [],
   "source": [
    "import numpy as np\n",
    "import pandas as pd\n",
    "import requests\n",
    "from bs4 import BeautifulSoup\n",
    "import re"
   ]
  },
  {
   "source": [
    "### Clarification:\n",
    "* Names of anything in Finland has its name in 2 languages, **_Finnish & Swedish_**\n",
    "* Hence, names of Neighbourhoods & Districts are also in same pattern: **_Postal-Code Finnish-name (Swedish-name)_**"
   ],
   "cell_type": "markdown",
   "metadata": {}
  },
  {
   "source": [
    "### _Assumption_ #1\n",
    "* In the current extracted labels data, _Finnish-names_ are **Available for every place** where as _Swedish-names_ are **not**.\n",
    "* Hence, we will extract and work only with _Finnish-names_ of the Neighbourhoods & Districts"
   ],
   "cell_type": "markdown",
   "metadata": {}
  },
  {
   "source": [
    "### _Straigh forward approach for Finnish District/Neighborhood names_"
   ],
   "cell_type": "markdown",
   "metadata": {}
  },
  {
   "cell_type": "code",
   "execution_count": 30,
   "metadata": {},
   "outputs": [],
   "source": [
    "url = 'https://en.wikipedia.org/wiki/Names_of_places_in_Finland_in_Finnish_and_in_Swedish#Municipalities'\n",
    "\n",
    "html = requests.get(url).text\n",
    "soup = BeautifulSoup(html, features='html.parser')\n",
    "\n",
    "# Select Helsinki Districts div/span-tag\n",
    "# Extract a-href tag titles --> only gives Finnish names"
   ]
  },
  {
   "source": [
    "### _Round About and Complex Approach_"
   ],
   "cell_type": "markdown",
   "metadata": {}
  },
  {
   "cell_type": "code",
   "execution_count": 7,
   "metadata": {},
   "outputs": [],
   "source": [
    "# url for Labels of Helsinki neighborhoods from Wikipedia page\n",
    "url = 'https://en.wikipedia.org/wiki/Subdivisions_of_Helsinki'\n",
    "\n",
    "#scraping html data using requests and BeautifulSoup\n",
    "html = requests.get(url).text\n",
    "soup = BeautifulSoup(html, features='html.parser')\n",
    "\n",
    "#extracting labels without html-tags and separating with ','\n",
    "labels = [label.get_text(\",\", strip=True) for label in soup.find_all(class_ = 'div-col columns column-width')]"
   ]
  },
  {
   "cell_type": "code",
   "execution_count": 16,
   "metadata": {},
   "outputs": [],
   "source": [
    "#splitting neighborhood and district labels using stripping pattern:(,)\n",
    "hoods = re.split(r\",\", labels[0])\n",
    "dists = re.split(r\",\", labels[1])"
   ]
  },
  {
   "cell_type": "code",
   "execution_count": 9,
   "metadata": {},
   "outputs": [
    {
     "output_type": "stream",
     "name": "stdout",
     "text": [
      "List of Neighborhoods:\n['01', 'Kruununhaka', '(Kronohagen)', '02', 'Kluuvi', '(Gloet)', '03', 'Kaartinkaupunki', '(Gardestaden)']\nList of Districts:\n['1', 'Helsinki southern major district', '101', 'Vironniemi', '(', 'Estnäs', ')', '102', 'Ullanlinna', '(', 'Ulrikasborg', ')']\n"
     ]
    }
   ],
   "source": [
    "print(f\"List of Neighborhoods:\\n{hoods[0:9]}\\nList of Districts:\\n{dists[0:12]}\")"
   ]
  },
  {
   "cell_type": "code",
   "execution_count": 10,
   "metadata": {},
   "outputs": [
    {
     "output_type": "stream",
     "name": "stdout",
     "text": [
      "['01', 'Kruununhaka', '(Kronohagen)', '02', 'Kluuvi', '(Gloet)', '03', 'Kaartinkaupunki', '(Gardestaden)', '04']\n"
     ]
    }
   ],
   "source": [
    "print(hoods[0:10])"
   ]
  },
  {
   "cell_type": "code",
   "execution_count": 11,
   "metadata": {},
   "outputs": [
    {
     "output_type": "stream",
     "name": "stdout",
     "text": [
      "['01', '02', '03', '04', '05', '06', '07', '08', '09', '10', '102', '11', '111', '112', '113', '12', '121', '122', '13', '14', '15', '16', '161', '1', '17', '171', '172', '173', '174', '18', '19', '20', '201', '202', '203', '204', '21', '22', '23', '231', '232', '24', '25', '26', '27', '28', '281', '282', '283', '284', '285', '286', '287', '29', '291', '292', '293', '294', '30', '301', '302', '303', '304', '305', '306', '31', '32', '33', '331', '332', '333', '334', '335', '34', '341', '342', '35', '351', '352', '353', '354', '36', '361', '362', '363', '364', '37', '38', '381', '382', '383', '384', '385', '386', '39', '391', '392', '40', '401', '402', '403', '41', '411', '412', '413', '414', '42', '43', '431', '432', '433', '434', '44', '45', '451', '452', '453', '454', '455', '456', '457', '46', '461', '462', '463', '464', '465', '47', '471', '472', '473', '474', '475', '48', '49', '491', '492', '493', '494', '495', '50', '51', '52', '53', '531', '532', '533', '54', '541', '542', '543', '544', '545', '546', '547', '548', '549', '55', '56', '57', '58', '59', '591', '592']\n"
     ]
    }
   ],
   "source": [
    "#extracting codes\n",
    "scraped_codes = []\n",
    "for num in hoods:\n",
    "    scraped_codes.append(re.findall(r\"(\\d+)\", num))\n",
    "codes = [code for scraped_code in scraped_codes for code in scraped_code if code != '']\n",
    "print(codes)\n",
    "# CODES - NOT NEEDED !!!!\n",
    "\n",
    "  \n",
    "#extracting Finnish-names\n",
    "\n",
    "#splitting each neighborhood into an array -> np.array_split(hoods, len(hoods)/3, axis=0)"
   ]
  },
  {
   "cell_type": "code",
   "execution_count": 12,
   "metadata": {},
   "outputs": [
    {
     "output_type": "stream",
     "name": "stdout",
     "text": [
      "[[], ['Kruununhaka'], ['Kronohagen'], [], ['Kluuvi'], ['Gloet'], [], ['Kaartinkaupunki'], ['Gardestaden'], []]\n['Kruununhaka', 'Kronohagen', 'Kluuvi', 'Gloet', 'Kaartinkaupunki', 'Gardestaden', 'Kamppi', 'Kampen', 'Punavuori', 'Rödbergen']\n"
     ]
    }
   ],
   "source": [
    "scraped_names = []\n",
    "for name in hoods:\n",
    "    scraped_names.append(re.findall(r\"[a-zA-ZÄäÖöÅå\\s-]+\", name))\n",
    "print(scraped_names[:10])\n",
    "names = [name for scraped_name in scraped_names for name in scraped_name if name != []]\n",
    "print(names[:10])"
   ]
  },
  {
   "cell_type": "code",
   "execution_count": 14,
   "metadata": {
    "tags": []
   },
   "outputs": [
    {
     "output_type": "stream",
     "name": "stdout",
     "text": [
      "60.1728702\n",
      "60.1728702\n",
      "60.1707783\n",
      "60.1707783\n",
      "60.1652138\n"
     ]
    },
    {
     "output_type": "error",
     "ename": "AttributeError",
     "evalue": "'NoneType' object has no attribute 'latitude'",
     "traceback": [
      "\u001b[1;31m---------------------------------------------------------------------------\u001b[0m",
      "\u001b[1;31mAttributeError\u001b[0m                            Traceback (most recent call last)",
      "\u001b[1;32m<ipython-input-14-297a53a808f2>\u001b[0m in \u001b[0;36m<module>\u001b[1;34m\u001b[0m\n\u001b[0;32m      4\u001b[0m \u001b[0mgeolocator\u001b[0m \u001b[1;33m=\u001b[0m \u001b[0mNominatim\u001b[0m\u001b[1;33m(\u001b[0m\u001b[0muser_agent\u001b[0m\u001b[1;33m=\u001b[0m\u001b[1;34m'Helsinki_zipcodes'\u001b[0m\u001b[1;33m)\u001b[0m\u001b[1;33m\u001b[0m\u001b[1;33m\u001b[0m\u001b[0m\n\u001b[0;32m      5\u001b[0m \u001b[1;32mfor\u001b[0m \u001b[0mname\u001b[0m \u001b[1;32min\u001b[0m \u001b[0mnames\u001b[0m\u001b[1;33m[\u001b[0m\u001b[1;33m:\u001b[0m\u001b[1;36m10\u001b[0m\u001b[1;33m]\u001b[0m\u001b[1;33m:\u001b[0m\u001b[1;33m\u001b[0m\u001b[1;33m\u001b[0m\u001b[0m\n\u001b[1;32m----> 6\u001b[1;33m     \u001b[0mprint\u001b[0m\u001b[1;33m(\u001b[0m\u001b[0mgeolocator\u001b[0m\u001b[1;33m.\u001b[0m\u001b[0mgeocode\u001b[0m\u001b[1;33m(\u001b[0m\u001b[0mname\u001b[0m\u001b[1;33m)\u001b[0m\u001b[1;33m.\u001b[0m\u001b[0mlatitude\u001b[0m\u001b[1;33m)\u001b[0m\u001b[1;33m\u001b[0m\u001b[1;33m\u001b[0m\u001b[0m\n\u001b[0m",
      "\u001b[1;31mAttributeError\u001b[0m: 'NoneType' object has no attribute 'latitude'"
     ]
    }
   ],
   "source": [
    "#TEST Run to extract coordinates from District/Neighborhood names\n",
    "\n",
    "import geocoder\n",
    "from geopy.geocoders import Nominatim\n",
    "\n",
    "geolocator = Nominatim(user_agent='Helsinki_zipcodes')\n",
    "for name in names[:10]:\n",
    "    print(geolocator.geocode(name).latitude)"
   ]
  },
  {
   "cell_type": "code",
   "execution_count": null,
   "metadata": {},
   "outputs": [],
   "source": [
    "#https://gis.stackexchange.com/questions/342855/reading-geopackage-geometries-in-python\n",
    "import geopandas as gpd\n",
    "data = gpd.read_file(\"path.mygeopackage.gpkg\")\n",
    "data.head() \n",
    "\n",
    "#UNINSTALL VS CODE INSTALLER!!!!!"
   ]
  }
 ]
}